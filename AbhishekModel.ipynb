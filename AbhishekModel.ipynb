{
 "cells": [
  {
   "cell_type": "code",
   "execution_count": 44,
   "id": "54b7679a",
   "metadata": {
    "scrolled": true
   },
   "outputs": [
    {
     "name": "stdout",
     "output_type": "stream",
     "text": [
      "Requirement already satisfied: keras in c:\\users\\abhi\\anaconda3\\lib\\site-packages (2.4.3)\n",
      "Requirement already satisfied: h5py in c:\\users\\abhi\\anaconda3\\lib\\site-packages (from keras) (3.1.0)\n",
      "Requirement already satisfied: numpy>=1.9.1 in c:\\users\\abhi\\anaconda3\\lib\\site-packages (from keras) (1.22.3)\n",
      "Requirement already satisfied: scipy>=0.14 in c:\\users\\abhi\\anaconda3\\lib\\site-packages (from keras) (1.6.2)\n",
      "Requirement already satisfied: pyyaml in c:\\users\\abhi\\anaconda3\\lib\\site-packages (from keras) (5.4.1)\n",
      "Note: you may need to restart the kernel to use updated packages.\n"
     ]
    }
   ],
   "source": [
    "pip install keras"
   ]
  },
  {
   "cell_type": "code",
   "execution_count": 1,
   "id": "d0d17618",
   "metadata": {},
   "outputs": [],
   "source": [
    "%matplotlib inline\n",
    "import matplotlib.pyplot as plt\n",
    "\n",
    "import argparse\n",
    "import sys\n",
    "import copy\n",
    "import os\n",
    "import glob\n",
    "import scipy as sp\n",
    "import numpy as np\n",
    "import pandas as pd\n",
    "import tensorflow as tf\n",
    "from tensorflow.keras.callbacks import ModelCheckpoint\n",
    "from tensorflow.keras.models import Sequential\n",
    "from tensorflow.keras.layers import Dense, Activation, Flatten\n",
    "from scipy.stats import chisquare\n",
    "import matplotlib.pyplot as plt\n",
    "import matplotlib.patches as mpatches\n",
    "from datetime import datetime\n",
    "import pickle\n",
    "import time\n",
    "#from util import *\n",
    "#from ops import *\n",
    "import multiprocessing\n",
    "from multiprocessing import Pool\n",
    "#from model import DCGAN\n",
    "os.environ['TF_CPP_MIN_LOG_LEVEL'] = '3' \n",
    "#np.set_printoptions(threshold='nan')"
   ]
  },
  {
   "cell_type": "code",
   "execution_count": 2,
   "id": "c0d64cda",
   "metadata": {},
   "outputs": [],
   "source": [
    "from sklearn.preprocessing import StandardScaler"
   ]
  },
  {
   "cell_type": "code",
   "execution_count": 3,
   "id": "4256fcd8",
   "metadata": {},
   "outputs": [
    {
     "name": "stdout",
     "output_type": "stream",
     "text": [
      "[[3.27030e-24 3.07616e-24 5.22539e-24 ... 1.32958e-21 1.33228e-21\n",
      "  1.35562e-21]\n",
      " [1.30267e-20 1.30677e-20 1.31157e-20 ... 3.81686e-20 3.81212e-20\n",
      "  3.80739e-20]\n",
      " [6.26322e-21 6.28294e-21 6.30602e-21 ... 1.83835e-20 1.83606e-20\n",
      "  1.83378e-20]\n",
      " ...\n",
      " [2.18046e-21 2.18672e-21 2.19415e-21 ... 4.09628e-21 4.09113e-21\n",
      "  4.08599e-21]\n",
      " [8.45625e-21 8.48075e-21 8.50976e-21 ... 1.65705e-20 1.65496e-20\n",
      "  1.65289e-20]\n",
      " [9.18122e-27 9.43401e-27 1.16085e-26 ... 4.02891e-22 4.05835e-22\n",
      "  4.14389e-22]]\n"
     ]
    }
   ],
   "source": [
    "#Setting up the dataset for ML\n",
    "# Text file data converted to integer data type\n",
    "x_data = np.loadtxt(\"dataset/x_dataTrain.txt\", dtype=float)\n",
    "print(x_data)"
   ]
  },
  {
   "cell_type": "code",
   "execution_count": 4,
   "id": "5cb0361b",
   "metadata": {},
   "outputs": [
    {
     "name": "stdout",
     "output_type": "stream",
     "text": [
      "[[5.44779525e-02 3.63563344e-01 3.93226327e-01 ... 3.84039400e-03\n",
      "  1.04632279e-03 8.05759487e-06]\n",
      " [4.16023007e-02 1.98831946e-01 3.19697149e-01 ... 1.58676888e-04\n",
      "  2.70865681e-04 6.98852685e-06]\n",
      " [3.25809662e-02 3.30184164e-01 2.25277622e-01 ... 3.64259914e-04\n",
      "  1.77938880e-05 5.15590766e-06]\n",
      " ...\n",
      " [6.00137545e-03 2.25446819e-01 2.36290974e-01 ... 3.41272939e-03\n",
      "  1.68012889e-04 8.55777941e-06]\n",
      " [9.61424398e-03 2.41019755e-01 4.74460251e-01 ... 2.28148605e-03\n",
      "  1.53862644e-04 3.59720563e-06]\n",
      " [1.48247666e-02 4.65782909e-01 3.00848722e-01 ... 5.70894991e-03\n",
      "  1.74632155e-04 1.76412088e-06]]\n"
     ]
    }
   ],
   "source": [
    "#Setting up the dataset for ML\n",
    "# Text file data converted to integer data type\n",
    "y_data = np.loadtxt(\"dataset/y_dataTrain.txt\", dtype=float)\n",
    "print(y_data)"
   ]
  },
  {
   "cell_type": "code",
   "execution_count": 5,
   "id": "102d7cf2",
   "metadata": {},
   "outputs": [],
   "source": [
    "feature_dict = {\n",
    "    0 : 'H2O',\n",
    "    1 : 'CO2',\n",
    "    2 : 'O2',\n",
    "    3 : 'N2',\n",
    "    4 : 'CH4',\n",
    "    5 : 'N2O',\n",
    "    6 : 'CO',\n",
    "    7 : 'O3',\n",
    "    8 : 'SO2',\n",
    "    9 : 'NH3',\n",
    "    10 : 'C2H6',\n",
    "    11 : 'NO2'\n",
    "}"
   ]
  },
  {
   "cell_type": "code",
   "execution_count": 6,
   "id": "76ad84d7",
   "metadata": {},
   "outputs": [],
   "source": [
    "features = pd.DataFrame(x_data)\n",
    "labels = pd.DataFrame(y_data)"
   ]
  },
  {
   "cell_type": "code",
   "execution_count": 7,
   "id": "15c9c2f2",
   "metadata": {},
   "outputs": [],
   "source": [
    "labels.rename(columns=feature_dict,\n",
    "          inplace=True)"
   ]
  },
  {
   "cell_type": "code",
   "execution_count": 338,
   "id": "8793dcaf",
   "metadata": {},
   "outputs": [
    {
     "data": {
      "text/plain": [
       "array([[<AxesSubplot:title={'center':'N2'}>]], dtype=object)"
      ]
     },
     "execution_count": 338,
     "metadata": {},
     "output_type": "execute_result"
    },
    {
     "data": {
      "image/png": "[encoded data removed]",
      "text/plain": [
       "<Figure size 432x288 with 1 Axes>"
      ]
     },
     "metadata": {
      "needs_background": "light"
     },
     "output_type": "display_data"
    }
   ],
   "source": [
    "labelsSum = labels[['H2O','CO2', 'O2', 'N2', 'CH4']]\n",
    "labelsSum.hist(column='N2')"
   ]
  },
  {
   "cell_type": "code",
   "execution_count": 431,
   "id": "50c670e8",
   "metadata": {},
   "outputs": [
    {
     "data": {
      "image/png": "[encoded data removed]",
      "text/plain": [
       "<Figure size 432x288 with 1 Axes>"
      ]
     },
     "metadata": {
      "needs_background": "light"
     },
     "output_type": "display_data"
    },
    {
     "name": "stdout",
     "output_type": "stream",
     "text": [
      "Surface Temperature:  1.90195e-23\n"
     ]
    }
   ],
   "source": [
    "plt.plot(features.iloc[89,:])\n",
    "plt.show()\n",
    "print('Surface Temperature: ', features.iloc[62,12])"
   ]
  },
  {
   "cell_type": "code",
   "execution_count": 339,
   "id": "395bc866",
   "metadata": {},
   "outputs": [],
   "source": [
    "#Splitting dataset into training and testing\n",
    "from sklearn.model_selection import train_test_split\n",
    "X_train, X_test, y_train, y_test = train_test_split(features, labelsSum, test_size=0.33, random_state=42)"
   ]
  },
  {
   "cell_type": "code",
   "execution_count": 290,
   "id": "09ffd78d",
   "metadata": {},
   "outputs": [],
   "source": [
    "scaler = StandardScaler()\n",
    "X_scaledTrain = scaler.fit_transform(X_train)\n",
    "X_scaledTest = scaler.fit_transform(X_test)"
   ]
  },
  {
   "cell_type": "code",
   "execution_count": 340,
   "id": "59e684a6",
   "metadata": {},
   "outputs": [],
   "source": [
    "y_scaler = StandardScaler()\n",
    "y_scaledTrain = scaler.fit_transform(y_train)\n",
    "y_scaledTest = scaler.fit_transform(y_test)"
   ]
  },
  {
   "cell_type": "code",
   "execution_count": 429,
   "id": "d4dcc20d",
   "metadata": {},
   "outputs": [],
   "source": [
    "#Applying PCA for random forest regression\n",
    "from sklearn.decomposition import PCA\n",
    "pca = PCA()\n",
    "principalComponents = pca.fit_transform(X_scaledTrain)\n",
    "principalDf = pd.DataFrame(data = principalComponents)"
   ]
  },
  {
   "cell_type": "code",
   "execution_count": 432,
   "id": "cad9bd28",
   "metadata": {},
   "outputs": [
    {
     "data": {
      "image/png": "[encoded data removed]",
      "text/plain": [
       "<Figure size 432x288 with 1 Axes>"
      ]
     },
     "metadata": {
      "needs_background": "light"
     },
     "output_type": "display_data"
    }
   ],
   "source": [
    "#Graphing scree plot\n",
    "PC_values = np.arange(pca.n_components_) + 1\n",
    "plt.plot(PC_values, pca.explained_variance_ratio_, 'o-', linewidth=2, color='blue')\n",
    "plt.title('Scree Plot')\n",
    "plt.xlabel('Principal Component')\n",
    "plt.ylabel('Variance Explained')\n",
    "plt.show()"
   ]
  },
  {
   "cell_type": "code",
   "execution_count": 398,
   "id": "46c5104a",
   "metadata": {},
   "outputs": [],
   "source": [
    "pca_features = pca.explained_variance_ratio_[:10]"
   ]
  },
  {
   "cell_type": "markdown",
   "id": "472b5769",
   "metadata": {},
   "source": [
    "# Testing Neural Network Regression Model"
   ]
  },
  {
   "cell_type": "code",
   "execution_count": 446,
   "id": "11497844",
   "metadata": {},
   "outputs": [
    {
     "name": "stdout",
     "output_type": "stream",
     "text": [
      "Model: \"sequential_91\"\n",
      "_________________________________________________________________\n",
      "Layer (type)                 Output Shape              Param #   \n",
      "=================================================================\n",
      "dense_197 (Dense)            (None, 128)               560512    \n",
      "_________________________________________________________________\n",
      "batch_normalization_47 (Batc (None, 128)               512       \n",
      "_________________________________________________________________\n",
      "dense_198 (Dense)            (None, 256)               33024     \n",
      "_________________________________________________________________\n",
      "batch_normalization_48 (Batc (None, 256)               1024      \n",
      "_________________________________________________________________\n",
      "dropout_70 (Dropout)         (None, 256)               0         \n",
      "_________________________________________________________________\n",
      "dense_199 (Dense)            (None, 512)               131584    \n",
      "_________________________________________________________________\n",
      "batch_normalization_49 (Batc (None, 512)               2048      \n",
      "_________________________________________________________________\n",
      "dropout_71 (Dropout)         (None, 512)               0         \n",
      "_________________________________________________________________\n",
      "dense_200 (Dense)            (None, 256)               131328    \n",
      "_________________________________________________________________\n",
      "batch_normalization_50 (Batc (None, 256)               1024      \n",
      "_________________________________________________________________\n",
      "dropout_72 (Dropout)         (None, 256)               0         \n",
      "_________________________________________________________________\n",
      "dense_201 (Dense)            (None, 128)               32896     \n",
      "_________________________________________________________________\n",
      "batch_normalization_51 (Batc (None, 128)               512       \n",
      "_________________________________________________________________\n",
      "dense_202 (Dense)            (None, 5)                 645       \n",
      "=================================================================\n",
      "Total params: 895,109\n",
      "Trainable params: 892,549\n",
      "Non-trainable params: 2,560\n",
      "_________________________________________________________________\n"
     ]
    }
   ],
   "source": [
    "#Creating Neural Network model\n",
    "exoAtmos = Sequential()\n",
    "\n",
    "exoAtmos.add(Dense(128, kernel_initializer='he_uniform',input_dim = X_scaledTest.shape[1], activation='relu'))\n",
    "exoAtmos.add(BatchNormalization())\n",
    "\n",
    "\n",
    "# The Hidden Layers :\n",
    "exoAtmos.add(Dense(256, kernel_initializer='he_uniform',activation='relu'))\n",
    "exoAtmos.add(BatchNormalization())\n",
    "exoAtmos.add(Dropout(0.10))\n",
    "\n",
    "exoAtmos.add(Dense(512, kernel_initializer='he_uniform',activation='relu'))\n",
    "exoAtmos.add(BatchNormalization())\n",
    "exoAtmos.add(Dropout(0.10))\n",
    "\n",
    "exoAtmos.add(Dense(256, kernel_initializer='he_uniform',activation='relu'))\n",
    "exoAtmos.add(BatchNormalization())\n",
    "exoAtmos.add(Dropout(0.10))\n",
    "\n",
    "exoAtmos.add(Dense(128, kernel_initializer='he_uniform',activation='relu'))\n",
    "exoAtmos.add(BatchNormalization())\n",
    "\n",
    "# The Output Layer :\n",
    "exoAtmos.add(Dense(5))\n",
    "\n",
    "opt = tf.keras.optimizers.SGD(learning_rate=0.01)\n",
    "# Compile the network :\n",
    "exoAtmos.compile(loss='mae', optimizer=opt)\n",
    "exoAtmos.summary()"
   ]
  },
  {
   "cell_type": "code",
   "execution_count": 447,
   "id": "19085d11",
   "metadata": {
    "scrolled": true
   },
   "outputs": [
    {
     "name": "stdout",
     "output_type": "stream",
     "text": [
      "Epoch 1/100\n",
      "83/83 [==============================] - 2s 13ms/step - loss: 1.1556 - accuracy: 0.2019 - val_loss: 0.9128 - val_accuracy: 0.2617\n",
      "Epoch 2/100\n",
      "83/83 [==============================] - 1s 10ms/step - loss: 1.0161 - accuracy: 0.1951 - val_loss: 0.8700 - val_accuracy: 0.2163\n",
      "Epoch 3/100\n",
      "83/83 [==============================] - 1s 10ms/step - loss: 0.9515 - accuracy: 0.2091 - val_loss: 0.8431 - val_accuracy: 0.1967\n",
      "Epoch 4/100\n",
      "83/83 [==============================] - 1s 10ms/step - loss: 0.9131 - accuracy: 0.2011 - val_loss: 0.8592 - val_accuracy: 0.2315\n",
      "Epoch 5/100\n",
      "83/83 [==============================] - 1s 9ms/step - loss: 0.8787 - accuracy: 0.2152 - val_loss: 0.8339 - val_accuracy: 0.2254\n",
      "Epoch 6/100\n",
      "83/83 [==============================] - 1s 9ms/step - loss: 0.8678 - accuracy: 0.2057 - val_loss: 0.8425 - val_accuracy: 0.1483\n",
      "Epoch 7/100\n",
      "83/83 [==============================] - 1s 9ms/step - loss: 0.8552 - accuracy: 0.2178 - val_loss: 0.8221 - val_accuracy: 0.2269\n",
      "Epoch 8/100\n",
      "83/83 [==============================] - 1s 9ms/step - loss: 0.8429 - accuracy: 0.2269 - val_loss: 0.8142 - val_accuracy: 0.2617\n",
      "Epoch 9/100\n",
      "83/83 [==============================] - 1s 10ms/step - loss: 0.8319 - accuracy: 0.2269 - val_loss: 0.8286 - val_accuracy: 0.2254\n",
      "Epoch 10/100\n",
      "83/83 [==============================] - 1s 10ms/step - loss: 0.8315 - accuracy: 0.2227 - val_loss: 0.8101 - val_accuracy: 0.2557\n",
      "Epoch 11/100\n",
      "83/83 [==============================] - 1s 9ms/step - loss: 0.8240 - accuracy: 0.2280 - val_loss: 0.8113 - val_accuracy: 0.2421\n",
      "Epoch 12/100\n",
      "83/83 [==============================] - 1s 9ms/step - loss: 0.8214 - accuracy: 0.2277 - val_loss: 0.8173 - val_accuracy: 0.2693\n",
      "Epoch 13/100\n",
      "83/83 [==============================] - 1s 10ms/step - loss: 0.8174 - accuracy: 0.2439 - val_loss: 0.8114 - val_accuracy: 0.2708\n",
      "Epoch 14/100\n",
      "83/83 [==============================] - 1s 10ms/step - loss: 0.8184 - accuracy: 0.2405 - val_loss: 0.8051 - val_accuracy: 0.2617\n",
      "Epoch 15/100\n",
      "83/83 [==============================] - 1s 8ms/step - loss: 0.8059 - accuracy: 0.2341 - val_loss: 0.8075 - val_accuracy: 0.2466\n",
      "Epoch 16/100\n",
      "83/83 [==============================] - 1s 10ms/step - loss: 0.8124 - accuracy: 0.2367 - val_loss: 0.8110 - val_accuracy: 0.2784\n",
      "Epoch 17/100\n",
      "83/83 [==============================] - 1s 9ms/step - loss: 0.8077 - accuracy: 0.2348 - val_loss: 0.8076 - val_accuracy: 0.2920\n",
      "Epoch 18/100\n",
      "83/83 [==============================] - 1s 9ms/step - loss: 0.8051 - accuracy: 0.2447 - val_loss: 0.8078 - val_accuracy: 0.2890\n",
      "Epoch 19/100\n",
      "83/83 [==============================] - 1s 8ms/step - loss: 0.8001 - accuracy: 0.2580 - val_loss: 0.8077 - val_accuracy: 0.2890\n",
      "Epoch 20/100\n",
      "83/83 [==============================] - 1s 9ms/step - loss: 0.8070 - accuracy: 0.2311 - val_loss: 0.8060 - val_accuracy: 0.3071\n",
      "Epoch 21/100\n",
      "83/83 [==============================] - 1s 12ms/step - loss: 0.8029 - accuracy: 0.2394 - val_loss: 0.8059 - val_accuracy: 0.2799\n",
      "Epoch 22/100\n",
      "83/83 [==============================] - 1s 11ms/step - loss: 0.8025 - accuracy: 0.2508 - val_loss: 0.8053 - val_accuracy: 0.2799\n",
      "Epoch 23/100\n",
      "83/83 [==============================] - 1s 11ms/step - loss: 0.7990 - accuracy: 0.2489 - val_loss: 0.8040 - val_accuracy: 0.2950\n",
      "Epoch 24/100\n",
      "83/83 [==============================] - 1s 11ms/step - loss: 0.7944 - accuracy: 0.2606 - val_loss: 0.8061 - val_accuracy: 0.2511\n",
      "Epoch 25/100\n",
      "83/83 [==============================] - 1s 10ms/step - loss: 0.7973 - accuracy: 0.2443 - val_loss: 0.8042 - val_accuracy: 0.2708\n",
      "Epoch 26/100\n",
      "83/83 [==============================] - 1s 10ms/step - loss: 0.7990 - accuracy: 0.2538 - val_loss: 0.8056 - val_accuracy: 0.2814\n",
      "Epoch 27/100\n",
      "83/83 [==============================] - 1s 10ms/step - loss: 0.7962 - accuracy: 0.2614 - val_loss: 0.8035 - val_accuracy: 0.2769\n",
      "Epoch 28/100\n",
      "83/83 [==============================] - 1s 10ms/step - loss: 0.7960 - accuracy: 0.2492 - val_loss: 0.8081 - val_accuracy: 0.3071\n",
      "Epoch 29/100\n",
      "83/83 [==============================] - 1s 10ms/step - loss: 0.7917 - accuracy: 0.2633 - val_loss: 0.8025 - val_accuracy: 0.2920\n",
      "Epoch 30/100\n",
      "83/83 [==============================] - 1s 10ms/step - loss: 0.7943 - accuracy: 0.2530 - val_loss: 0.8068 - val_accuracy: 0.2753\n",
      "Epoch 31/100\n",
      "83/83 [==============================] - 1s 9ms/step - loss: 0.7940 - accuracy: 0.2682 - val_loss: 0.8070 - val_accuracy: 0.2799\n",
      "Epoch 32/100\n",
      "83/83 [==============================] - 1s 8ms/step - loss: 0.7922 - accuracy: 0.2644 - val_loss: 0.8048 - val_accuracy: 0.2693\n",
      "Epoch 33/100\n",
      "83/83 [==============================] - 1s 8ms/step - loss: 0.7921 - accuracy: 0.2625 - val_loss: 0.8071 - val_accuracy: 0.2784\n",
      "Epoch 34/100\n",
      "83/83 [==============================] - 1s 8ms/step - loss: 0.7917 - accuracy: 0.2447 - val_loss: 0.8051 - val_accuracy: 0.2784\n",
      "Epoch 35/100\n",
      "83/83 [==============================] - 1s 8ms/step - loss: 0.7927 - accuracy: 0.2583 - val_loss: 0.8052 - val_accuracy: 0.2723\n",
      "Epoch 36/100\n",
      "83/83 [==============================] - 1s 9ms/step - loss: 0.7936 - accuracy: 0.2511 - val_loss: 0.8075 - val_accuracy: 0.2814\n",
      "Epoch 37/100\n",
      "83/83 [==============================] - 1s 8ms/step - loss: 0.7885 - accuracy: 0.2652 - val_loss: 0.8046 - val_accuracy: 0.2708\n",
      "Epoch 38/100\n",
      "83/83 [==============================] - 1s 8ms/step - loss: 0.7899 - accuracy: 0.2530 - val_loss: 0.8013 - val_accuracy: 0.2753\n",
      "Epoch 39/100\n",
      "83/83 [==============================] - 1s 9ms/step - loss: 0.7913 - accuracy: 0.2598 - val_loss: 0.8019 - val_accuracy: 0.2935\n",
      "Epoch 40/100\n",
      "83/83 [==============================] - 1s 9ms/step - loss: 0.7888 - accuracy: 0.2564 - val_loss: 0.8053 - val_accuracy: 0.2723\n",
      "Epoch 41/100\n",
      "83/83 [==============================] - 1s 8ms/step - loss: 0.7907 - accuracy: 0.2481 - val_loss: 0.8025 - val_accuracy: 0.3026\n",
      "Epoch 42/100\n",
      "83/83 [==============================] - 1s 9ms/step - loss: 0.7876 - accuracy: 0.2496 - val_loss: 0.8022 - val_accuracy: 0.3071\n",
      "Epoch 43/100\n",
      "83/83 [==============================] - 1s 8ms/step - loss: 0.7865 - accuracy: 0.2735 - val_loss: 0.8017 - val_accuracy: 0.2890\n",
      "Epoch 44/100\n",
      "83/83 [==============================] - 1s 9ms/step - loss: 0.7882 - accuracy: 0.2723 - val_loss: 0.8006 - val_accuracy: 0.2753\n",
      "Epoch 45/100\n",
      "83/83 [==============================] - 1s 9ms/step - loss: 0.7870 - accuracy: 0.2689 - val_loss: 0.8025 - val_accuracy: 0.2738\n",
      "Epoch 46/100\n",
      "83/83 [==============================] - 1s 9ms/step - loss: 0.7870 - accuracy: 0.2595 - val_loss: 0.8022 - val_accuracy: 0.2799\n",
      "Epoch 47/100\n",
      "83/83 [==============================] - 1s 9ms/step - loss: 0.7860 - accuracy: 0.2625 - val_loss: 0.8038 - val_accuracy: 0.2708\n",
      "Epoch 48/100\n",
      "83/83 [==============================] - 1s 11ms/step - loss: 0.7872 - accuracy: 0.2667 - val_loss: 0.8044 - val_accuracy: 0.2753\n",
      "Epoch 49/100\n",
      "83/83 [==============================] - 1s 11ms/step - loss: 0.7837 - accuracy: 0.2758 - val_loss: 0.8020 - val_accuracy: 0.2829\n",
      "Epoch 50/100\n",
      "83/83 [==============================] - 1s 9ms/step - loss: 0.7848 - accuracy: 0.2773 - val_loss: 0.8002 - val_accuracy: 0.2753\n",
      "Epoch 51/100\n",
      "83/83 [==============================] - 1s 9ms/step - loss: 0.7851 - accuracy: 0.2837 - val_loss: 0.7992 - val_accuracy: 0.3011\n",
      "Epoch 52/100\n",
      "83/83 [==============================] - 1s 10ms/step - loss: 0.7855 - accuracy: 0.2697 - val_loss: 0.8035 - val_accuracy: 0.3116\n",
      "Epoch 53/100\n",
      "83/83 [==============================] - 1s 10ms/step - loss: 0.7823 - accuracy: 0.2909 - val_loss: 0.8032 - val_accuracy: 0.2708\n",
      "Epoch 54/100\n",
      "83/83 [==============================] - 1s 9ms/step - loss: 0.7868 - accuracy: 0.2693 - val_loss: 0.8027 - val_accuracy: 0.2874\n",
      "Epoch 55/100\n",
      "83/83 [==============================] - 1s 9ms/step - loss: 0.7831 - accuracy: 0.2758 - val_loss: 0.8025 - val_accuracy: 0.2844\n",
      "Epoch 56/100\n",
      "83/83 [==============================] - 1s 9ms/step - loss: 0.7852 - accuracy: 0.2833 - val_loss: 0.8055 - val_accuracy: 0.2844\n",
      "Epoch 57/100\n",
      "83/83 [==============================] - 1s 10ms/step - loss: 0.7831 - accuracy: 0.2750 - val_loss: 0.8024 - val_accuracy: 0.2965\n",
      "Epoch 58/100\n"
     ]
    },
    {
     "name": "stdout",
     "output_type": "stream",
     "text": [
      "83/83 [==============================] - 1s 9ms/step - loss: 0.7846 - accuracy: 0.2769 - val_loss: 0.8018 - val_accuracy: 0.2905\n",
      "Epoch 59/100\n",
      "83/83 [==============================] - 1s 9ms/step - loss: 0.7830 - accuracy: 0.2655 - val_loss: 0.8013 - val_accuracy: 0.2844\n",
      "Epoch 60/100\n",
      "83/83 [==============================] - 1s 8ms/step - loss: 0.7824 - accuracy: 0.2864 - val_loss: 0.8014 - val_accuracy: 0.2799\n",
      "Epoch 61/100\n",
      "83/83 [==============================] - 1s 8ms/step - loss: 0.7829 - accuracy: 0.2773 - val_loss: 0.8026 - val_accuracy: 0.2769\n",
      "Epoch 62/100\n",
      "83/83 [==============================] - 1s 9ms/step - loss: 0.7829 - accuracy: 0.2788 - val_loss: 0.8038 - val_accuracy: 0.2769\n",
      "Epoch 63/100\n",
      "83/83 [==============================] - 1s 9ms/step - loss: 0.7824 - accuracy: 0.2814 - val_loss: 0.8005 - val_accuracy: 0.3071\n",
      "Epoch 64/100\n",
      "83/83 [==============================] - 1s 9ms/step - loss: 0.7849 - accuracy: 0.2705 - val_loss: 0.8009 - val_accuracy: 0.2965\n",
      "Epoch 65/100\n",
      "83/83 [==============================] - 1s 8ms/step - loss: 0.7842 - accuracy: 0.2712 - val_loss: 0.8001 - val_accuracy: 0.2995\n",
      "Epoch 66/100\n",
      "83/83 [==============================] - 1s 8ms/step - loss: 0.7794 - accuracy: 0.2784 - val_loss: 0.8047 - val_accuracy: 0.2753\n",
      "Epoch 67/100\n",
      "83/83 [==============================] - 1s 9ms/step - loss: 0.7833 - accuracy: 0.2856 - val_loss: 0.8020 - val_accuracy: 0.2738\n",
      "Epoch 68/100\n",
      "83/83 [==============================] - 1s 11ms/step - loss: 0.7833 - accuracy: 0.2799 - val_loss: 0.8023 - val_accuracy: 0.2874\n",
      "Epoch 69/100\n",
      "83/83 [==============================] - 1s 9ms/step - loss: 0.7821 - accuracy: 0.2875 - val_loss: 0.8030 - val_accuracy: 0.2890\n",
      "Epoch 70/100\n",
      "83/83 [==============================] - 1s 10ms/step - loss: 0.7828 - accuracy: 0.2705 - val_loss: 0.8012 - val_accuracy: 0.2965\n",
      "Epoch 71/100\n",
      "83/83 [==============================] - 1s 9ms/step - loss: 0.7817 - accuracy: 0.2883 - val_loss: 0.8032 - val_accuracy: 0.2965\n",
      "Epoch 72/100\n",
      "83/83 [==============================] - 1s 10ms/step - loss: 0.7832 - accuracy: 0.2701 - val_loss: 0.8048 - val_accuracy: 0.2905\n",
      "Epoch 73/100\n",
      "83/83 [==============================] - 1s 9ms/step - loss: 0.7817 - accuracy: 0.2780 - val_loss: 0.8054 - val_accuracy: 0.2708\n",
      "Epoch 74/100\n",
      "83/83 [==============================] - 1s 9ms/step - loss: 0.7821 - accuracy: 0.2735 - val_loss: 0.8028 - val_accuracy: 0.2935\n",
      "Epoch 75/100\n",
      "83/83 [==============================] - 1s 9ms/step - loss: 0.7814 - accuracy: 0.2970 - val_loss: 0.8040 - val_accuracy: 0.2844\n",
      "Epoch 76/100\n",
      "83/83 [==============================] - 1s 11ms/step - loss: 0.7827 - accuracy: 0.2814 - val_loss: 0.8052 - val_accuracy: 0.2920\n",
      "Epoch 77/100\n",
      "83/83 [==============================] - 1s 9ms/step - loss: 0.7819 - accuracy: 0.2648 - val_loss: 0.8036 - val_accuracy: 0.2799\n",
      "Epoch 78/100\n",
      "83/83 [==============================] - 1s 9ms/step - loss: 0.7796 - accuracy: 0.2833 - val_loss: 0.8035 - val_accuracy: 0.2935\n",
      "Epoch 79/100\n",
      "83/83 [==============================] - 1s 9ms/step - loss: 0.7790 - accuracy: 0.2648 - val_loss: 0.8047 - val_accuracy: 0.2920\n",
      "Epoch 80/100\n",
      "83/83 [==============================] - 1s 8ms/step - loss: 0.7791 - accuracy: 0.2917 - val_loss: 0.8004 - val_accuracy: 0.2905\n",
      "Epoch 81/100\n",
      "83/83 [==============================] - 1s 9ms/step - loss: 0.7818 - accuracy: 0.2803 - val_loss: 0.8054 - val_accuracy: 0.2859\n",
      "Epoch 82/100\n",
      "83/83 [==============================] - 1s 9ms/step - loss: 0.7823 - accuracy: 0.2705 - val_loss: 0.8040 - val_accuracy: 0.2814\n",
      "Epoch 83/100\n",
      "83/83 [==============================] - 1s 10ms/step - loss: 0.7826 - accuracy: 0.2799 - val_loss: 0.8027 - val_accuracy: 0.2693\n",
      "Epoch 84/100\n",
      "83/83 [==============================] - 1s 10ms/step - loss: 0.7815 - accuracy: 0.2663 - val_loss: 0.8022 - val_accuracy: 0.2965\n",
      "Epoch 85/100\n",
      "83/83 [==============================] - 1s 9ms/step - loss: 0.7808 - accuracy: 0.2818 - val_loss: 0.8019 - val_accuracy: 0.2844\n",
      "Epoch 86/100\n",
      "83/83 [==============================] - 1s 9ms/step - loss: 0.7813 - accuracy: 0.2716 - val_loss: 0.8013 - val_accuracy: 0.2890\n",
      "Epoch 87/100\n",
      "83/83 [==============================] - 1s 9ms/step - loss: 0.7801 - accuracy: 0.2841 - val_loss: 0.8021 - val_accuracy: 0.2965\n",
      "Epoch 88/100\n",
      "83/83 [==============================] - 1s 9ms/step - loss: 0.7829 - accuracy: 0.2788 - val_loss: 0.8046 - val_accuracy: 0.2678\n",
      "Epoch 89/100\n",
      "83/83 [==============================] - 1s 9ms/step - loss: 0.7802 - accuracy: 0.2750 - val_loss: 0.8017 - val_accuracy: 0.2980\n",
      "Epoch 90/100\n",
      "83/83 [==============================] - 1s 8ms/step - loss: 0.7822 - accuracy: 0.2765 - val_loss: 0.8017 - val_accuracy: 0.2905\n",
      "Epoch 91/100\n",
      "83/83 [==============================] - 1s 8ms/step - loss: 0.7795 - accuracy: 0.2765 - val_loss: 0.8017 - val_accuracy: 0.2859\n",
      "Epoch 92/100\n",
      "83/83 [==============================] - 1s 8ms/step - loss: 0.7820 - accuracy: 0.2731 - val_loss: 0.8005 - val_accuracy: 0.3056\n",
      "Epoch 93/100\n",
      "83/83 [==============================] - 1s 8ms/step - loss: 0.7789 - accuracy: 0.2875 - val_loss: 0.8039 - val_accuracy: 0.2708\n",
      "Epoch 94/100\n",
      "83/83 [==============================] - 1s 9ms/step - loss: 0.7801 - accuracy: 0.2712 - val_loss: 0.7993 - val_accuracy: 0.2995\n",
      "Epoch 95/100\n",
      "83/83 [==============================] - 1s 8ms/step - loss: 0.7794 - accuracy: 0.2848 - val_loss: 0.8043 - val_accuracy: 0.2829\n",
      "Epoch 96/100\n",
      "83/83 [==============================] - 1s 9ms/step - loss: 0.7790 - accuracy: 0.2826 - val_loss: 0.8009 - val_accuracy: 0.2799\n",
      "Epoch 97/100\n",
      "83/83 [==============================] - 1s 8ms/step - loss: 0.7805 - accuracy: 0.2947 - val_loss: 0.8033 - val_accuracy: 0.2753\n",
      "Epoch 98/100\n",
      "83/83 [==============================] - 1s 9ms/step - loss: 0.7800 - accuracy: 0.3000 - val_loss: 0.7989 - val_accuracy: 0.2769\n",
      "Epoch 99/100\n",
      "83/83 [==============================] - 1s 9ms/step - loss: 0.7787 - accuracy: 0.2852 - val_loss: 0.8048 - val_accuracy: 0.2874\n",
      "Epoch 100/100\n",
      "83/83 [==============================] - 1s 8ms/step - loss: 0.7795 - accuracy: 0.2917 - val_loss: 0.8037 - val_accuracy: 0.2784\n"
     ]
    }
   ],
   "source": [
    "#Training the model\n",
    "history = exoAtmos.fit(X_scaledTest, y_scaledTrain, epochs=100, batch_size=32, validation_split = 0.2)"
   ]
  },
  {
   "cell_type": "code",
   "execution_count": 448,
   "id": "ad6a17d9",
   "metadata": {},
   "outputs": [],
   "source": [
    "#Evaluating the model\n",
    "mae = exoAtmos.evaluate(X_scaledTest, y_scaledTest, verbose=0)"
   ]
  },
  {
   "cell_type": "code",
   "execution_count": 449,
   "id": "77d73eaf",
   "metadata": {},
   "outputs": [
    {
     "name": "stdout",
     "output_type": "stream",
     "text": [
      ">0.791\n"
     ]
    }
   ],
   "source": [
    "print('>%.3f' % mae[0])"
   ]
  },
  {
   "cell_type": "code",
   "execution_count": 450,
   "id": "7acf3bf8",
   "metadata": {},
   "outputs": [
    {
     "name": "stdout",
     "output_type": "stream",
     "text": [
      "dict_keys(['loss', 'accuracy', 'val_loss', 'val_accuracy'])\n"
     ]
    },
    {
     "data": {
      "image/png": "[encoded data removed]",
      "text/plain": [
       "<Figure size 432x288 with 1 Axes>"
      ]
     },
     "metadata": {
      "needs_background": "light"
     },
     "output_type": "display_data"
    }
   ],
   "source": [
    "print(history.history.keys())\n",
    "# \"Loss\"\n",
    "plt.plot(history.history['loss'])\n",
    "plt.plot(history.history['val_loss'])\n",
    "plt.title('model loss')\n",
    "plt.ylabel('loss')\n",
    "plt.xlabel('epoch')\n",
    "plt.legend(['train', 'validation'], loc='upper left')\n",
    "plt.show()"
   ]
  },
  {
   "cell_type": "code",
   "execution_count": 428,
   "id": "658a45cb",
   "metadata": {},
   "outputs": [
    {
     "name": "stdout",
     "output_type": "stream",
     "text": [
      "y1 MSE:1.0429\n",
      "y2 MSE:1.0124\n",
      "y3 MSE:1.0382\n",
      "y4 MSE:1.0167\n",
      "y5 MSE:1.0288\n"
     ]
    }
   ],
   "source": [
    "from sklearn.metrics import mean_squared_error\n",
    "ypred = exoAtmos.predict(X_scaledTest)\n",
    "print(\"y1 MSE:%.4f\" % mean_squared_error(y_scaledTest[:,0], ypred[:,0])) \n",
    "print(\"y2 MSE:%.4f\" % mean_squared_error(y_scaledTest[:,1], ypred[:,1]))\n",
    "print(\"y3 MSE:%.4f\" % mean_squared_error(y_scaledTest[:,2], ypred[:,2]))\n",
    "print(\"y4 MSE:%.4f\" % mean_squared_error(y_scaledTest[:,3], ypred[:,3]))\n",
    "print(\"y5 MSE:%.4f\" % mean_squared_error(y_scaledTest[:,4], ypred[:,4]))"
   ]
  },
  {
   "cell_type": "markdown",
   "id": "a67c2dfd",
   "metadata": {},
   "source": [
    "# 1D CNN with Keras"
   ]
  },
  {
   "cell_type": "code",
   "execution_count": 352,
   "id": "51b48c85",
   "metadata": {},
   "outputs": [],
   "source": [
    "import tensorflow.keras\n",
    "from tensorflow.keras.models import Sequential\n",
    "from tensorflow.keras.layers import Dense\n",
    "from tensorflow.keras.layers import Flatten\n",
    "from tensorflow.keras.layers import Dropout\n",
    "from tensorflow.keras.layers import Conv1D\n",
    "from tensorflow.keras.layers import Input\n",
    "from tensorflow.keras.layers import BatchNormalization\n",
    "from tensorflow.keras.utils import to_categorical"
   ]
  },
  {
   "cell_type": "code",
   "execution_count": 353,
   "id": "a8de71f6",
   "metadata": {},
   "outputs": [
    {
     "name": "stdout",
     "output_type": "stream",
     "text": [
      "(6702, 4378)\n",
      "(4378,)\n",
      "4378\n"
     ]
    }
   ],
   "source": [
    "print(X_scaledTrain.shape)\n",
    "print(X_scaledTrain[0].shape)\n",
    "print(len(X_scaledTrain[0]))"
   ]
  },
  {
   "cell_type": "code",
   "execution_count": 354,
   "id": "b8b269d2",
   "metadata": {},
   "outputs": [
    {
     "name": "stdout",
     "output_type": "stream",
     "text": [
      "(6702, 4378, 1)\n",
      "(4378, 1)\n",
      "[[ 0.64027712]\n",
      " [ 0.63970607]\n",
      " [ 0.63816855]\n",
      " ...\n",
      " [-0.15958483]\n",
      " [-0.15980762]\n",
      " [-0.16226966]]\n"
     ]
    }
   ],
   "source": [
    "#Convert features into timesteps\n",
    "sample_size = X_scaledTrain.shape[0]\n",
    "time_steps = X_scaledTrain.shape[1]\n",
    "input_dimension = 1\n",
    "\n",
    "X_reTrain = X_scaledTrain.reshape(sample_size, time_steps, input_dimension)\n",
    "X_reTest = X_scaledTest.reshape(X_scaledTest.shape[0], X_scaledTest.shape[1], input_dimension)\n",
    "\n",
    "print(X_reTrain.shape)\n",
    "print(X_reTrain[0].shape)\n",
    "print((X_reTrain[0]))"
   ]
  },
  {
   "cell_type": "code",
   "execution_count": 415,
   "id": "4b4015e6",
   "metadata": {},
   "outputs": [],
   "source": [
    "#def convModel():\n",
    "n_timesteps = X_reTrain.shape[1]\n",
    "n_features = X_reTrain.shape[2]\n",
    "model = Sequential()\n",
    "model.add(tf.keras.layers.InputLayer(input_shape=(n_timesteps, n_features)))\n",
    "model.add(Conv1D(filters=64, kernel_size=7, activation='relu'))\n",
    "model.add(Dropout(0.35))\n",
    "    \n",
    "model.add(Conv1D(filters=128, kernel_size=3, activation='relu'))\n",
    "model.add(Conv1D(filters=128, kernel_size=2, activation='relu'))\n",
    "model.add(MaxPooling1D(pool_size=2))\n",
    "model.add(Flatten())\n",
    "    \n",
    "model.add(Dense(32, activation='relu'))\n",
    "model.add(Dense(5))\n",
    "    \n",
    "opt = tf.keras.optimizers.RMSprop(0.001)\n",
    "    \n",
    "model.compile(loss='mse', optimizer=opt, metrics=['mae','accuracy'])"
   ]
  },
  {
   "cell_type": "code",
   "execution_count": 416,
   "id": "97d447c2",
   "metadata": {},
   "outputs": [
    {
     "name": "stdout",
     "output_type": "stream",
     "text": [
      "Epoch 1/50\n",
      "168/168 [==============================] - 113s 670ms/step - loss: 2.2777 - mae: 0.8445 - accuracy: 0.2056 - val_loss: 0.9993 - val_mae: 0.7815 - val_accuracy: 0.0984\n",
      "Epoch 2/50\n",
      "168/168 [==============================] - 109s 651ms/step - loss: 1.0158 - mae: 0.7867 - accuracy: 0.2179 - val_loss: 0.9997 - val_mae: 0.7812 - val_accuracy: 0.2558\n",
      "Epoch 3/50\n",
      "168/168 [==============================] - 114s 680ms/step - loss: 1.0003 - mae: 0.7835 - accuracy: 0.2667 - val_loss: 0.9998 - val_mae: 0.7811 - val_accuracy: 0.2610\n",
      "Epoch 4/50\n",
      "168/168 [==============================] - 116s 689ms/step - loss: 1.0003 - mae: 0.7834 - accuracy: 0.2574 - val_loss: 0.9997 - val_mae: 0.7812 - val_accuracy: 0.2610\n",
      "Epoch 5/50\n",
      "168/168 [==============================] - 125s 742ms/step - loss: 1.0003 - mae: 0.7835 - accuracy: 0.2666 - val_loss: 0.9997 - val_mae: 0.7811 - val_accuracy: 0.2610\n",
      "Epoch 6/50\n",
      "168/168 [==============================] - 126s 750ms/step - loss: 1.0002 - mae: 0.7834 - accuracy: 0.2764 - val_loss: 0.9998 - val_mae: 0.7812 - val_accuracy: 0.2603\n",
      "Epoch 7/50\n",
      "168/168 [==============================] - 117s 695ms/step - loss: 1.0003 - mae: 0.7835 - accuracy: 0.2710 - val_loss: 0.9997 - val_mae: 0.7811 - val_accuracy: 0.2603\n",
      "Epoch 8/50\n",
      "168/168 [==============================] - 121s 721ms/step - loss: 1.0003 - mae: 0.7834 - accuracy: 0.2580 - val_loss: 0.9997 - val_mae: 0.7812 - val_accuracy: 0.2603\n",
      "Epoch 9/50\n",
      "168/168 [==============================] - 113s 674ms/step - loss: 1.0003 - mae: 0.7835 - accuracy: 0.2703 - val_loss: 0.9997 - val_mae: 0.7811 - val_accuracy: 0.2610\n",
      "Epoch 10/50\n",
      "168/168 [==============================] - 110s 653ms/step - loss: 1.0003 - mae: 0.7834 - accuracy: 0.2694 - val_loss: 0.9997 - val_mae: 0.7812 - val_accuracy: 0.2558\n",
      "Epoch 11/50\n",
      "168/168 [==============================] - 110s 655ms/step - loss: 1.0003 - mae: 0.7835 - accuracy: 0.2690 - val_loss: 0.9998 - val_mae: 0.7811 - val_accuracy: 0.2558\n",
      "Epoch 12/50\n",
      "168/168 [==============================] - 114s 677ms/step - loss: 1.0002 - mae: 0.7833 - accuracy: 0.2694 - val_loss: 0.9996 - val_mae: 0.7814 - val_accuracy: 0.2558\n",
      "Epoch 13/50\n",
      "168/168 [==============================] - 127s 756ms/step - loss: 1.0003 - mae: 0.7839 - accuracy: 0.2367 - val_loss: 0.9997 - val_mae: 0.7811 - val_accuracy: 0.2558\n",
      "Epoch 14/50\n",
      "168/168 [==============================] - 131s 780ms/step - loss: 1.0003 - mae: 0.7836 - accuracy: 0.2714 - val_loss: 0.9996 - val_mae: 0.7812 - val_accuracy: 0.2558\n",
      "Epoch 15/50\n",
      "168/168 [==============================] - 125s 741ms/step - loss: 1.0003 - mae: 0.7836 - accuracy: 0.2677 - val_loss: 0.9997 - val_mae: 0.7811 - val_accuracy: 0.2558\n",
      "Epoch 16/50\n",
      "168/168 [==============================] - 120s 716ms/step - loss: 1.0003 - mae: 0.7836 - accuracy: 0.2619 - val_loss: 1.0000 - val_mae: 0.7811 - val_accuracy: 0.2558\n",
      "Epoch 17/50\n",
      "168/168 [==============================] - 118s 701ms/step - loss: 1.0003 - mae: 0.7833 - accuracy: 0.2647 - val_loss: 0.9998 - val_mae: 0.7812 - val_accuracy: 0.2558\n",
      "Epoch 18/50\n",
      "168/168 [==============================] - 119s 710ms/step - loss: 1.0003 - mae: 0.7835 - accuracy: 0.2643 - val_loss: 0.9997 - val_mae: 0.7812 - val_accuracy: 0.2558\n",
      "Epoch 19/50\n",
      "168/168 [==============================] - 123s 733ms/step - loss: 1.0003 - mae: 0.7834 - accuracy: 0.2714 - val_loss: 0.9997 - val_mae: 0.7812 - val_accuracy: 0.2610\n",
      "Epoch 20/50\n",
      "168/168 [==============================] - 118s 703ms/step - loss: 1.0003 - mae: 0.7835 - accuracy: 0.2619 - val_loss: 0.9998 - val_mae: 0.7812 - val_accuracy: 0.2558\n",
      "Epoch 21/50\n",
      "168/168 [==============================] - 139s 826ms/step - loss: 1.0003 - mae: 0.7834 - accuracy: 0.2742 - val_loss: 0.9996 - val_mae: 0.7813 - val_accuracy: 0.2558\n",
      "Epoch 22/50\n",
      "168/168 [==============================] - 113s 672ms/step - loss: 1.0003 - mae: 0.7836 - accuracy: 0.2738 - val_loss: 0.9996 - val_mae: 0.7812 - val_accuracy: 0.2610\n",
      "Epoch 23/50\n",
      "168/168 [==============================] - 118s 705ms/step - loss: 1.0003 - mae: 0.7834 - accuracy: 0.2632 - val_loss: 0.9997 - val_mae: 0.7813 - val_accuracy: 0.2565\n",
      "Epoch 24/50\n",
      "168/168 [==============================] - 121s 722ms/step - loss: 1.0003 - mae: 0.7836 - accuracy: 0.2462 - val_loss: 0.9998 - val_mae: 0.7812 - val_accuracy: 0.2558\n",
      "Epoch 25/50\n",
      "168/168 [==============================] - 117s 697ms/step - loss: 1.0003 - mae: 0.7833 - accuracy: 0.2712 - val_loss: 0.9997 - val_mae: 0.7814 - val_accuracy: 0.2610\n",
      "Epoch 26/50\n",
      "168/168 [==============================] - 236s 1s/step - loss: 1.0002 - mae: 0.7836 - accuracy: 0.2617 - val_loss: 0.9998 - val_mae: 0.7812 - val_accuracy: 0.2595\n",
      "Epoch 27/50\n",
      "168/168 [==============================] - 124s 740ms/step - loss: 1.0003 - mae: 0.7835 - accuracy: 0.2580 - val_loss: 0.9999 - val_mae: 0.7811 - val_accuracy: 0.2610\n",
      "Epoch 28/50\n",
      "168/168 [==============================] - 131s 783ms/step - loss: 1.0003 - mae: 0.7833 - accuracy: 0.2703 - val_loss: 0.9997 - val_mae: 0.7812 - val_accuracy: 0.2558\n",
      "Epoch 29/50\n",
      " 11/168 [>.............................] - ETA: 1:50 - loss: 1.0332 - mae: 0.7828 - accuracy: 0.3068"
     ]
    },
    {
     "ename": "KeyboardInterrupt",
     "evalue": "",
     "output_type": "error",
     "traceback": [
      "\u001b[1;31m---------------------------------------------------------------------------\u001b[0m",
      "\u001b[1;31mKeyboardInterrupt\u001b[0m                         Traceback (most recent call last)",
      "\u001b[1;32m<ipython-input-416-ba0cebbce7c4>\u001b[0m in \u001b[0;36m<module>\u001b[1;34m\u001b[0m\n\u001b[1;32m----> 1\u001b[1;33m hist=model.fit(X_reTrain, y_scaledTrain, epochs=50,\n\u001b[0m\u001b[0;32m      2\u001b[0m                     validation_split=0.2)\n",
      "\u001b[1;32m~\\anaconda3\\lib\\site-packages\\tensorflow\\python\\keras\\engine\\training.py\u001b[0m in \u001b[0;36mfit\u001b[1;34m(self, x, y, batch_size, epochs, verbose, callbacks, validation_split, validation_data, shuffle, class_weight, sample_weight, initial_epoch, steps_per_epoch, validation_steps, validation_batch_size, validation_freq, max_queue_size, workers, use_multiprocessing)\u001b[0m\n\u001b[0;32m   1181\u001b[0m                 _r=1):\n\u001b[0;32m   1182\u001b[0m               \u001b[0mcallbacks\u001b[0m\u001b[1;33m.\u001b[0m\u001b[0mon_train_batch_begin\u001b[0m\u001b[1;33m(\u001b[0m\u001b[0mstep\u001b[0m\u001b[1;33m)\u001b[0m\u001b[1;33m\u001b[0m\u001b[1;33m\u001b[0m\u001b[0m\n\u001b[1;32m-> 1183\u001b[1;33m               \u001b[0mtmp_logs\u001b[0m \u001b[1;33m=\u001b[0m \u001b[0mself\u001b[0m\u001b[1;33m.\u001b[0m\u001b[0mtrain_function\u001b[0m\u001b[1;33m(\u001b[0m\u001b[0miterator\u001b[0m\u001b[1;33m)\u001b[0m\u001b[1;33m\u001b[0m\u001b[1;33m\u001b[0m\u001b[0m\n\u001b[0m\u001b[0;32m   1184\u001b[0m               \u001b[1;32mif\u001b[0m \u001b[0mdata_handler\u001b[0m\u001b[1;33m.\u001b[0m\u001b[0mshould_sync\u001b[0m\u001b[1;33m:\u001b[0m\u001b[1;33m\u001b[0m\u001b[1;33m\u001b[0m\u001b[0m\n\u001b[0;32m   1185\u001b[0m                 \u001b[0mcontext\u001b[0m\u001b[1;33m.\u001b[0m\u001b[0masync_wait\u001b[0m\u001b[1;33m(\u001b[0m\u001b[1;33m)\u001b[0m\u001b[1;33m\u001b[0m\u001b[1;33m\u001b[0m\u001b[0m\n",
      "\u001b[1;32m~\\anaconda3\\lib\\site-packages\\tensorflow\\python\\eager\\def_function.py\u001b[0m in \u001b[0;36m__call__\u001b[1;34m(self, *args, **kwds)\u001b[0m\n\u001b[0;32m    887\u001b[0m \u001b[1;33m\u001b[0m\u001b[0m\n\u001b[0;32m    888\u001b[0m       \u001b[1;32mwith\u001b[0m \u001b[0mOptionalXlaContext\u001b[0m\u001b[1;33m(\u001b[0m\u001b[0mself\u001b[0m\u001b[1;33m.\u001b[0m\u001b[0m_jit_compile\u001b[0m\u001b[1;33m)\u001b[0m\u001b[1;33m:\u001b[0m\u001b[1;33m\u001b[0m\u001b[1;33m\u001b[0m\u001b[0m\n\u001b[1;32m--> 889\u001b[1;33m         \u001b[0mresult\u001b[0m \u001b[1;33m=\u001b[0m \u001b[0mself\u001b[0m\u001b[1;33m.\u001b[0m\u001b[0m_call\u001b[0m\u001b[1;33m(\u001b[0m\u001b[1;33m*\u001b[0m\u001b[0margs\u001b[0m\u001b[1;33m,\u001b[0m \u001b[1;33m**\u001b[0m\u001b[0mkwds\u001b[0m\u001b[1;33m)\u001b[0m\u001b[1;33m\u001b[0m\u001b[1;33m\u001b[0m\u001b[0m\n\u001b[0m\u001b[0;32m    890\u001b[0m \u001b[1;33m\u001b[0m\u001b[0m\n\u001b[0;32m    891\u001b[0m       \u001b[0mnew_tracing_count\u001b[0m \u001b[1;33m=\u001b[0m \u001b[0mself\u001b[0m\u001b[1;33m.\u001b[0m\u001b[0mexperimental_get_tracing_count\u001b[0m\u001b[1;33m(\u001b[0m\u001b[1;33m)\u001b[0m\u001b[1;33m\u001b[0m\u001b[1;33m\u001b[0m\u001b[0m\n",
      "\u001b[1;32m~\\anaconda3\\lib\\site-packages\\tensorflow\\python\\eager\\def_function.py\u001b[0m in \u001b[0;36m_call\u001b[1;34m(self, *args, **kwds)\u001b[0m\n\u001b[0;32m    915\u001b[0m       \u001b[1;31m# In this case we have created variables on the first call, so we run the\u001b[0m\u001b[1;33m\u001b[0m\u001b[1;33m\u001b[0m\u001b[1;33m\u001b[0m\u001b[0m\n\u001b[0;32m    916\u001b[0m       \u001b[1;31m# defunned version which is guaranteed to never create variables.\u001b[0m\u001b[1;33m\u001b[0m\u001b[1;33m\u001b[0m\u001b[1;33m\u001b[0m\u001b[0m\n\u001b[1;32m--> 917\u001b[1;33m       \u001b[1;32mreturn\u001b[0m \u001b[0mself\u001b[0m\u001b[1;33m.\u001b[0m\u001b[0m_stateless_fn\u001b[0m\u001b[1;33m(\u001b[0m\u001b[1;33m*\u001b[0m\u001b[0margs\u001b[0m\u001b[1;33m,\u001b[0m \u001b[1;33m**\u001b[0m\u001b[0mkwds\u001b[0m\u001b[1;33m)\u001b[0m  \u001b[1;31m# pylint: disable=not-callable\u001b[0m\u001b[1;33m\u001b[0m\u001b[1;33m\u001b[0m\u001b[0m\n\u001b[0m\u001b[0;32m    918\u001b[0m     \u001b[1;32melif\u001b[0m \u001b[0mself\u001b[0m\u001b[1;33m.\u001b[0m\u001b[0m_stateful_fn\u001b[0m \u001b[1;32mis\u001b[0m \u001b[1;32mnot\u001b[0m \u001b[1;32mNone\u001b[0m\u001b[1;33m:\u001b[0m\u001b[1;33m\u001b[0m\u001b[1;33m\u001b[0m\u001b[0m\n\u001b[0;32m    919\u001b[0m       \u001b[1;31m# Release the lock early so that multiple threads can perform the call\u001b[0m\u001b[1;33m\u001b[0m\u001b[1;33m\u001b[0m\u001b[1;33m\u001b[0m\u001b[0m\n",
      "\u001b[1;32m~\\anaconda3\\lib\\site-packages\\tensorflow\\python\\eager\\function.py\u001b[0m in \u001b[0;36m__call__\u001b[1;34m(self, *args, **kwargs)\u001b[0m\n\u001b[0;32m   3021\u001b[0m       (graph_function,\n\u001b[0;32m   3022\u001b[0m        filtered_flat_args) = self._maybe_define_function(args, kwargs)\n\u001b[1;32m-> 3023\u001b[1;33m     return graph_function._call_flat(\n\u001b[0m\u001b[0;32m   3024\u001b[0m         filtered_flat_args, captured_inputs=graph_function.captured_inputs)  # pylint: disable=protected-access\n\u001b[0;32m   3025\u001b[0m \u001b[1;33m\u001b[0m\u001b[0m\n",
      "\u001b[1;32m~\\anaconda3\\lib\\site-packages\\tensorflow\\python\\eager\\function.py\u001b[0m in \u001b[0;36m_call_flat\u001b[1;34m(self, args, captured_inputs, cancellation_manager)\u001b[0m\n\u001b[0;32m   1958\u001b[0m         and executing_eagerly):\n\u001b[0;32m   1959\u001b[0m       \u001b[1;31m# No tape is watching; skip to running the function.\u001b[0m\u001b[1;33m\u001b[0m\u001b[1;33m\u001b[0m\u001b[1;33m\u001b[0m\u001b[0m\n\u001b[1;32m-> 1960\u001b[1;33m       return self._build_call_outputs(self._inference_function.call(\n\u001b[0m\u001b[0;32m   1961\u001b[0m           ctx, args, cancellation_manager=cancellation_manager))\n\u001b[0;32m   1962\u001b[0m     forward_backward = self._select_forward_and_backward_functions(\n",
      "\u001b[1;32m~\\anaconda3\\lib\\site-packages\\tensorflow\\python\\eager\\function.py\u001b[0m in \u001b[0;36mcall\u001b[1;34m(self, ctx, args, cancellation_manager)\u001b[0m\n\u001b[0;32m    589\u001b[0m       \u001b[1;32mwith\u001b[0m \u001b[0m_InterpolateFunctionError\u001b[0m\u001b[1;33m(\u001b[0m\u001b[0mself\u001b[0m\u001b[1;33m)\u001b[0m\u001b[1;33m:\u001b[0m\u001b[1;33m\u001b[0m\u001b[1;33m\u001b[0m\u001b[0m\n\u001b[0;32m    590\u001b[0m         \u001b[1;32mif\u001b[0m \u001b[0mcancellation_manager\u001b[0m \u001b[1;32mis\u001b[0m \u001b[1;32mNone\u001b[0m\u001b[1;33m:\u001b[0m\u001b[1;33m\u001b[0m\u001b[1;33m\u001b[0m\u001b[0m\n\u001b[1;32m--> 591\u001b[1;33m           outputs = execute.execute(\n\u001b[0m\u001b[0;32m    592\u001b[0m               \u001b[0mstr\u001b[0m\u001b[1;33m(\u001b[0m\u001b[0mself\u001b[0m\u001b[1;33m.\u001b[0m\u001b[0msignature\u001b[0m\u001b[1;33m.\u001b[0m\u001b[0mname\u001b[0m\u001b[1;33m)\u001b[0m\u001b[1;33m,\u001b[0m\u001b[1;33m\u001b[0m\u001b[1;33m\u001b[0m\u001b[0m\n\u001b[0;32m    593\u001b[0m               \u001b[0mnum_outputs\u001b[0m\u001b[1;33m=\u001b[0m\u001b[0mself\u001b[0m\u001b[1;33m.\u001b[0m\u001b[0m_num_outputs\u001b[0m\u001b[1;33m,\u001b[0m\u001b[1;33m\u001b[0m\u001b[1;33m\u001b[0m\u001b[0m\n",
      "\u001b[1;32m~\\anaconda3\\lib\\site-packages\\tensorflow\\python\\eager\\execute.py\u001b[0m in \u001b[0;36mquick_execute\u001b[1;34m(op_name, num_outputs, inputs, attrs, ctx, name)\u001b[0m\n\u001b[0;32m     57\u001b[0m   \u001b[1;32mtry\u001b[0m\u001b[1;33m:\u001b[0m\u001b[1;33m\u001b[0m\u001b[1;33m\u001b[0m\u001b[0m\n\u001b[0;32m     58\u001b[0m     \u001b[0mctx\u001b[0m\u001b[1;33m.\u001b[0m\u001b[0mensure_initialized\u001b[0m\u001b[1;33m(\u001b[0m\u001b[1;33m)\u001b[0m\u001b[1;33m\u001b[0m\u001b[1;33m\u001b[0m\u001b[0m\n\u001b[1;32m---> 59\u001b[1;33m     tensors = pywrap_tfe.TFE_Py_Execute(ctx._handle, device_name, op_name,\n\u001b[0m\u001b[0;32m     60\u001b[0m                                         inputs, attrs, num_outputs)\n\u001b[0;32m     61\u001b[0m   \u001b[1;32mexcept\u001b[0m \u001b[0mcore\u001b[0m\u001b[1;33m.\u001b[0m\u001b[0m_NotOkStatusException\u001b[0m \u001b[1;32mas\u001b[0m \u001b[0me\u001b[0m\u001b[1;33m:\u001b[0m\u001b[1;33m\u001b[0m\u001b[1;33m\u001b[0m\u001b[0m\n",
      "\u001b[1;31mKeyboardInterrupt\u001b[0m: "
     ]
    }
   ],
   "source": [
    "hist=model.fit(X_reTrain, y_scaledTrain, epochs=50,\n",
    "                    validation_split=0.2)"
   ]
  },
  {
   "cell_type": "code",
   "execution_count": 372,
   "id": "85fb8f25",
   "metadata": {},
   "outputs": [
    {
     "data": {
      "image/png": "[encoded data removed]",
      "text/plain": [
       "<Figure size 432x288 with 1 Axes>"
      ]
     },
     "metadata": {
      "needs_background": "light"
     },
     "output_type": "display_data"
    }
   ],
   "source": [
    "plt.plot(hist.history['loss'])\n",
    "plt.plot(hist.history['val_loss'])\n",
    "plt.title('model loss')\n",
    "plt.ylabel('loss')\n",
    "plt.xlabel('epoch')\n",
    "plt.legend(['train', 'validation'], loc='upper left')\n",
    "plt.show()"
   ]
  },
  {
   "cell_type": "code",
   "execution_count": null,
   "id": "5275d574",
   "metadata": {},
   "outputs": [],
   "source": []
  },
  {
   "cell_type": "code",
   "execution_count": null,
   "id": "2d28a620",
   "metadata": {},
   "outputs": [],
   "source": []
  },
  {
   "cell_type": "code",
   "execution_count": 440,
   "id": "00ea8c9a",
   "metadata": {},
   "outputs": [],
   "source": [
    "pca_features = pca.explained_variance_ratio_[:10]\n",
    "x_pcTrain = pca.fit_transform(X_scaledTrain)[:,:10]"
   ]
  },
  {
   "cell_type": "code",
   "execution_count": 441,
   "id": "499b7a65",
   "metadata": {},
   "outputs": [],
   "source": [
    "regr = RandomForestRegressor(max_depth=2, random_state=0)"
   ]
  },
  {
   "cell_type": "code",
   "execution_count": 439,
   "id": "ee357cd6",
   "metadata": {},
   "outputs": [
    {
     "ename": "KeyboardInterrupt",
     "evalue": "",
     "output_type": "error",
     "traceback": [
      "\u001b[1;31m---------------------------------------------------------------------------\u001b[0m",
      "\u001b[1;31mKeyboardInterrupt\u001b[0m                         Traceback (most recent call last)",
      "\u001b[1;32m<ipython-input-439-846115be85fa>\u001b[0m in \u001b[0;36m<module>\u001b[1;34m\u001b[0m\n\u001b[1;32m----> 1\u001b[1;33m \u001b[0mregr\u001b[0m\u001b[1;33m.\u001b[0m\u001b[0mfit\u001b[0m\u001b[1;33m(\u001b[0m\u001b[0mx_pcTrain\u001b[0m\u001b[1;33m,\u001b[0m \u001b[0my_scaledTrain\u001b[0m\u001b[1;33m)\u001b[0m\u001b[1;33m\u001b[0m\u001b[1;33m\u001b[0m\u001b[0m\n\u001b[0m",
      "\u001b[1;32m~\\anaconda3\\lib\\site-packages\\sklearn\\ensemble\\_forest.py\u001b[0m in \u001b[0;36mfit\u001b[1;34m(self, X, y, sample_weight)\u001b[0m\n\u001b[0;32m    448\u001b[0m             \u001b[1;31m# parallel_backend contexts set at a higher level,\u001b[0m\u001b[1;33m\u001b[0m\u001b[1;33m\u001b[0m\u001b[1;33m\u001b[0m\u001b[0m\n\u001b[0;32m    449\u001b[0m             \u001b[1;31m# since correctness does not rely on using threads.\u001b[0m\u001b[1;33m\u001b[0m\u001b[1;33m\u001b[0m\u001b[1;33m\u001b[0m\u001b[0m\n\u001b[1;32m--> 450\u001b[1;33m             trees = Parallel(\n\u001b[0m\u001b[0;32m    451\u001b[0m                 \u001b[0mn_jobs\u001b[0m\u001b[1;33m=\u001b[0m\u001b[0mself\u001b[0m\u001b[1;33m.\u001b[0m\u001b[0mn_jobs\u001b[0m\u001b[1;33m,\u001b[0m\u001b[1;33m\u001b[0m\u001b[1;33m\u001b[0m\u001b[0m\n\u001b[0;32m    452\u001b[0m                 \u001b[0mverbose\u001b[0m\u001b[1;33m=\u001b[0m\u001b[0mself\u001b[0m\u001b[1;33m.\u001b[0m\u001b[0mverbose\u001b[0m\u001b[1;33m,\u001b[0m\u001b[1;33m\u001b[0m\u001b[1;33m\u001b[0m\u001b[0m\n",
      "\u001b[1;32m~\\anaconda3\\lib\\site-packages\\joblib\\parallel.py\u001b[0m in \u001b[0;36m__call__\u001b[1;34m(self, iterable)\u001b[0m\n\u001b[0;32m   1042\u001b[0m                 \u001b[0mself\u001b[0m\u001b[1;33m.\u001b[0m\u001b[0m_iterating\u001b[0m \u001b[1;33m=\u001b[0m \u001b[0mself\u001b[0m\u001b[1;33m.\u001b[0m\u001b[0m_original_iterator\u001b[0m \u001b[1;32mis\u001b[0m \u001b[1;32mnot\u001b[0m \u001b[1;32mNone\u001b[0m\u001b[1;33m\u001b[0m\u001b[1;33m\u001b[0m\u001b[0m\n\u001b[0;32m   1043\u001b[0m \u001b[1;33m\u001b[0m\u001b[0m\n\u001b[1;32m-> 1044\u001b[1;33m             \u001b[1;32mwhile\u001b[0m \u001b[0mself\u001b[0m\u001b[1;33m.\u001b[0m\u001b[0mdispatch_one_batch\u001b[0m\u001b[1;33m(\u001b[0m\u001b[0miterator\u001b[0m\u001b[1;33m)\u001b[0m\u001b[1;33m:\u001b[0m\u001b[1;33m\u001b[0m\u001b[1;33m\u001b[0m\u001b[0m\n\u001b[0m\u001b[0;32m   1045\u001b[0m                 \u001b[1;32mpass\u001b[0m\u001b[1;33m\u001b[0m\u001b[1;33m\u001b[0m\u001b[0m\n\u001b[0;32m   1046\u001b[0m \u001b[1;33m\u001b[0m\u001b[0m\n",
      "\u001b[1;32m~\\anaconda3\\lib\\site-packages\\joblib\\parallel.py\u001b[0m in \u001b[0;36mdispatch_one_batch\u001b[1;34m(self, iterator)\u001b[0m\n\u001b[0;32m    857\u001b[0m                 \u001b[1;32mreturn\u001b[0m \u001b[1;32mFalse\u001b[0m\u001b[1;33m\u001b[0m\u001b[1;33m\u001b[0m\u001b[0m\n\u001b[0;32m    858\u001b[0m             \u001b[1;32melse\u001b[0m\u001b[1;33m:\u001b[0m\u001b[1;33m\u001b[0m\u001b[1;33m\u001b[0m\u001b[0m\n\u001b[1;32m--> 859\u001b[1;33m                 \u001b[0mself\u001b[0m\u001b[1;33m.\u001b[0m\u001b[0m_dispatch\u001b[0m\u001b[1;33m(\u001b[0m\u001b[0mtasks\u001b[0m\u001b[1;33m)\u001b[0m\u001b[1;33m\u001b[0m\u001b[1;33m\u001b[0m\u001b[0m\n\u001b[0m\u001b[0;32m    860\u001b[0m                 \u001b[1;32mreturn\u001b[0m \u001b[1;32mTrue\u001b[0m\u001b[1;33m\u001b[0m\u001b[1;33m\u001b[0m\u001b[0m\n\u001b[0;32m    861\u001b[0m \u001b[1;33m\u001b[0m\u001b[0m\n",
      "\u001b[1;32m~\\anaconda3\\lib\\site-packages\\joblib\\parallel.py\u001b[0m in \u001b[0;36m_dispatch\u001b[1;34m(self, batch)\u001b[0m\n\u001b[0;32m    775\u001b[0m         \u001b[1;32mwith\u001b[0m \u001b[0mself\u001b[0m\u001b[1;33m.\u001b[0m\u001b[0m_lock\u001b[0m\u001b[1;33m:\u001b[0m\u001b[1;33m\u001b[0m\u001b[1;33m\u001b[0m\u001b[0m\n\u001b[0;32m    776\u001b[0m             \u001b[0mjob_idx\u001b[0m \u001b[1;33m=\u001b[0m \u001b[0mlen\u001b[0m\u001b[1;33m(\u001b[0m\u001b[0mself\u001b[0m\u001b[1;33m.\u001b[0m\u001b[0m_jobs\u001b[0m\u001b[1;33m)\u001b[0m\u001b[1;33m\u001b[0m\u001b[1;33m\u001b[0m\u001b[0m\n\u001b[1;32m--> 777\u001b[1;33m             \u001b[0mjob\u001b[0m \u001b[1;33m=\u001b[0m \u001b[0mself\u001b[0m\u001b[1;33m.\u001b[0m\u001b[0m_backend\u001b[0m\u001b[1;33m.\u001b[0m\u001b[0mapply_async\u001b[0m\u001b[1;33m(\u001b[0m\u001b[0mbatch\u001b[0m\u001b[1;33m,\u001b[0m \u001b[0mcallback\u001b[0m\u001b[1;33m=\u001b[0m\u001b[0mcb\u001b[0m\u001b[1;33m)\u001b[0m\u001b[1;33m\u001b[0m\u001b[1;33m\u001b[0m\u001b[0m\n\u001b[0m\u001b[0;32m    778\u001b[0m             \u001b[1;31m# A job can complete so quickly than its callback is\u001b[0m\u001b[1;33m\u001b[0m\u001b[1;33m\u001b[0m\u001b[1;33m\u001b[0m\u001b[0m\n\u001b[0;32m    779\u001b[0m             \u001b[1;31m# called before we get here, causing self._jobs to\u001b[0m\u001b[1;33m\u001b[0m\u001b[1;33m\u001b[0m\u001b[1;33m\u001b[0m\u001b[0m\n",
      "\u001b[1;32m~\\anaconda3\\lib\\site-packages\\joblib\\_parallel_backends.py\u001b[0m in \u001b[0;36mapply_async\u001b[1;34m(self, func, callback)\u001b[0m\n\u001b[0;32m    206\u001b[0m     \u001b[1;32mdef\u001b[0m \u001b[0mapply_async\u001b[0m\u001b[1;33m(\u001b[0m\u001b[0mself\u001b[0m\u001b[1;33m,\u001b[0m \u001b[0mfunc\u001b[0m\u001b[1;33m,\u001b[0m \u001b[0mcallback\u001b[0m\u001b[1;33m=\u001b[0m\u001b[1;32mNone\u001b[0m\u001b[1;33m)\u001b[0m\u001b[1;33m:\u001b[0m\u001b[1;33m\u001b[0m\u001b[1;33m\u001b[0m\u001b[0m\n\u001b[0;32m    207\u001b[0m         \u001b[1;34m\"\"\"Schedule a func to be run\"\"\"\u001b[0m\u001b[1;33m\u001b[0m\u001b[1;33m\u001b[0m\u001b[0m\n\u001b[1;32m--> 208\u001b[1;33m         \u001b[0mresult\u001b[0m \u001b[1;33m=\u001b[0m \u001b[0mImmediateResult\u001b[0m\u001b[1;33m(\u001b[0m\u001b[0mfunc\u001b[0m\u001b[1;33m)\u001b[0m\u001b[1;33m\u001b[0m\u001b[1;33m\u001b[0m\u001b[0m\n\u001b[0m\u001b[0;32m    209\u001b[0m         \u001b[1;32mif\u001b[0m \u001b[0mcallback\u001b[0m\u001b[1;33m:\u001b[0m\u001b[1;33m\u001b[0m\u001b[1;33m\u001b[0m\u001b[0m\n\u001b[0;32m    210\u001b[0m             \u001b[0mcallback\u001b[0m\u001b[1;33m(\u001b[0m\u001b[0mresult\u001b[0m\u001b[1;33m)\u001b[0m\u001b[1;33m\u001b[0m\u001b[1;33m\u001b[0m\u001b[0m\n",
      "\u001b[1;32m~\\anaconda3\\lib\\site-packages\\joblib\\_parallel_backends.py\u001b[0m in \u001b[0;36m__init__\u001b[1;34m(self, batch)\u001b[0m\n\u001b[0;32m    570\u001b[0m         \u001b[1;31m# Don't delay the application, to avoid keeping the input\u001b[0m\u001b[1;33m\u001b[0m\u001b[1;33m\u001b[0m\u001b[1;33m\u001b[0m\u001b[0m\n\u001b[0;32m    571\u001b[0m         \u001b[1;31m# arguments in memory\u001b[0m\u001b[1;33m\u001b[0m\u001b[1;33m\u001b[0m\u001b[1;33m\u001b[0m\u001b[0m\n\u001b[1;32m--> 572\u001b[1;33m         \u001b[0mself\u001b[0m\u001b[1;33m.\u001b[0m\u001b[0mresults\u001b[0m \u001b[1;33m=\u001b[0m \u001b[0mbatch\u001b[0m\u001b[1;33m(\u001b[0m\u001b[1;33m)\u001b[0m\u001b[1;33m\u001b[0m\u001b[1;33m\u001b[0m\u001b[0m\n\u001b[0m\u001b[0;32m    573\u001b[0m \u001b[1;33m\u001b[0m\u001b[0m\n\u001b[0;32m    574\u001b[0m     \u001b[1;32mdef\u001b[0m \u001b[0mget\u001b[0m\u001b[1;33m(\u001b[0m\u001b[0mself\u001b[0m\u001b[1;33m)\u001b[0m\u001b[1;33m:\u001b[0m\u001b[1;33m\u001b[0m\u001b[1;33m\u001b[0m\u001b[0m\n",
      "\u001b[1;32m~\\anaconda3\\lib\\site-packages\\joblib\\parallel.py\u001b[0m in \u001b[0;36m__call__\u001b[1;34m(self)\u001b[0m\n\u001b[0;32m    260\u001b[0m         \u001b[1;31m# change the default number of processes to -1\u001b[0m\u001b[1;33m\u001b[0m\u001b[1;33m\u001b[0m\u001b[1;33m\u001b[0m\u001b[0m\n\u001b[0;32m    261\u001b[0m         \u001b[1;32mwith\u001b[0m \u001b[0mparallel_backend\u001b[0m\u001b[1;33m(\u001b[0m\u001b[0mself\u001b[0m\u001b[1;33m.\u001b[0m\u001b[0m_backend\u001b[0m\u001b[1;33m,\u001b[0m \u001b[0mn_jobs\u001b[0m\u001b[1;33m=\u001b[0m\u001b[0mself\u001b[0m\u001b[1;33m.\u001b[0m\u001b[0m_n_jobs\u001b[0m\u001b[1;33m)\u001b[0m\u001b[1;33m:\u001b[0m\u001b[1;33m\u001b[0m\u001b[1;33m\u001b[0m\u001b[0m\n\u001b[1;32m--> 262\u001b[1;33m             return [func(*args, **kwargs)\n\u001b[0m\u001b[0;32m    263\u001b[0m                     for func, args, kwargs in self.items]\n\u001b[0;32m    264\u001b[0m \u001b[1;33m\u001b[0m\u001b[0m\n",
      "\u001b[1;32m~\\anaconda3\\lib\\site-packages\\joblib\\parallel.py\u001b[0m in \u001b[0;36m<listcomp>\u001b[1;34m(.0)\u001b[0m\n\u001b[0;32m    260\u001b[0m         \u001b[1;31m# change the default number of processes to -1\u001b[0m\u001b[1;33m\u001b[0m\u001b[1;33m\u001b[0m\u001b[1;33m\u001b[0m\u001b[0m\n\u001b[0;32m    261\u001b[0m         \u001b[1;32mwith\u001b[0m \u001b[0mparallel_backend\u001b[0m\u001b[1;33m(\u001b[0m\u001b[0mself\u001b[0m\u001b[1;33m.\u001b[0m\u001b[0m_backend\u001b[0m\u001b[1;33m,\u001b[0m \u001b[0mn_jobs\u001b[0m\u001b[1;33m=\u001b[0m\u001b[0mself\u001b[0m\u001b[1;33m.\u001b[0m\u001b[0m_n_jobs\u001b[0m\u001b[1;33m)\u001b[0m\u001b[1;33m:\u001b[0m\u001b[1;33m\u001b[0m\u001b[1;33m\u001b[0m\u001b[0m\n\u001b[1;32m--> 262\u001b[1;33m             return [func(*args, **kwargs)\n\u001b[0m\u001b[0;32m    263\u001b[0m                     for func, args, kwargs in self.items]\n\u001b[0;32m    264\u001b[0m \u001b[1;33m\u001b[0m\u001b[0m\n",
      "\u001b[1;32m~\\anaconda3\\lib\\site-packages\\sklearn\\utils\\fixes.py\u001b[0m in \u001b[0;36m__call__\u001b[1;34m(self, *args, **kwargs)\u001b[0m\n\u001b[0;32m    214\u001b[0m     \u001b[1;32mdef\u001b[0m \u001b[0m__call__\u001b[0m\u001b[1;33m(\u001b[0m\u001b[0mself\u001b[0m\u001b[1;33m,\u001b[0m \u001b[1;33m*\u001b[0m\u001b[0margs\u001b[0m\u001b[1;33m,\u001b[0m \u001b[1;33m**\u001b[0m\u001b[0mkwargs\u001b[0m\u001b[1;33m)\u001b[0m\u001b[1;33m:\u001b[0m\u001b[1;33m\u001b[0m\u001b[1;33m\u001b[0m\u001b[0m\n\u001b[0;32m    215\u001b[0m         \u001b[1;32mwith\u001b[0m \u001b[0mconfig_context\u001b[0m\u001b[1;33m(\u001b[0m\u001b[1;33m**\u001b[0m\u001b[0mself\u001b[0m\u001b[1;33m.\u001b[0m\u001b[0mconfig\u001b[0m\u001b[1;33m)\u001b[0m\u001b[1;33m:\u001b[0m\u001b[1;33m\u001b[0m\u001b[1;33m\u001b[0m\u001b[0m\n\u001b[1;32m--> 216\u001b[1;33m             \u001b[1;32mreturn\u001b[0m \u001b[0mself\u001b[0m\u001b[1;33m.\u001b[0m\u001b[0mfunction\u001b[0m\u001b[1;33m(\u001b[0m\u001b[1;33m*\u001b[0m\u001b[0margs\u001b[0m\u001b[1;33m,\u001b[0m \u001b[1;33m**\u001b[0m\u001b[0mkwargs\u001b[0m\u001b[1;33m)\u001b[0m\u001b[1;33m\u001b[0m\u001b[1;33m\u001b[0m\u001b[0m\n\u001b[0m\u001b[0;32m    217\u001b[0m \u001b[1;33m\u001b[0m\u001b[0m\n\u001b[0;32m    218\u001b[0m \u001b[1;33m\u001b[0m\u001b[0m\n",
      "\u001b[1;32m~\\anaconda3\\lib\\site-packages\\sklearn\\ensemble\\_forest.py\u001b[0m in \u001b[0;36m_parallel_build_trees\u001b[1;34m(tree, forest, X, y, sample_weight, tree_idx, n_trees, verbose, class_weight, n_samples_bootstrap)\u001b[0m\n\u001b[0;32m    183\u001b[0m             \u001b[0mcurr_sample_weight\u001b[0m \u001b[1;33m*=\u001b[0m \u001b[0mcompute_sample_weight\u001b[0m\u001b[1;33m(\u001b[0m\u001b[1;34m\"balanced\"\u001b[0m\u001b[1;33m,\u001b[0m \u001b[0my\u001b[0m\u001b[1;33m,\u001b[0m \u001b[0mindices\u001b[0m\u001b[1;33m=\u001b[0m\u001b[0mindices\u001b[0m\u001b[1;33m)\u001b[0m\u001b[1;33m\u001b[0m\u001b[1;33m\u001b[0m\u001b[0m\n\u001b[0;32m    184\u001b[0m \u001b[1;33m\u001b[0m\u001b[0m\n\u001b[1;32m--> 185\u001b[1;33m         \u001b[0mtree\u001b[0m\u001b[1;33m.\u001b[0m\u001b[0mfit\u001b[0m\u001b[1;33m(\u001b[0m\u001b[0mX\u001b[0m\u001b[1;33m,\u001b[0m \u001b[0my\u001b[0m\u001b[1;33m,\u001b[0m \u001b[0msample_weight\u001b[0m\u001b[1;33m=\u001b[0m\u001b[0mcurr_sample_weight\u001b[0m\u001b[1;33m,\u001b[0m \u001b[0mcheck_input\u001b[0m\u001b[1;33m=\u001b[0m\u001b[1;32mFalse\u001b[0m\u001b[1;33m)\u001b[0m\u001b[1;33m\u001b[0m\u001b[1;33m\u001b[0m\u001b[0m\n\u001b[0m\u001b[0;32m    186\u001b[0m     \u001b[1;32melse\u001b[0m\u001b[1;33m:\u001b[0m\u001b[1;33m\u001b[0m\u001b[1;33m\u001b[0m\u001b[0m\n\u001b[0;32m    187\u001b[0m         \u001b[0mtree\u001b[0m\u001b[1;33m.\u001b[0m\u001b[0mfit\u001b[0m\u001b[1;33m(\u001b[0m\u001b[0mX\u001b[0m\u001b[1;33m,\u001b[0m \u001b[0my\u001b[0m\u001b[1;33m,\u001b[0m \u001b[0msample_weight\u001b[0m\u001b[1;33m=\u001b[0m\u001b[0msample_weight\u001b[0m\u001b[1;33m,\u001b[0m \u001b[0mcheck_input\u001b[0m\u001b[1;33m=\u001b[0m\u001b[1;32mFalse\u001b[0m\u001b[1;33m)\u001b[0m\u001b[1;33m\u001b[0m\u001b[1;33m\u001b[0m\u001b[0m\n",
      "\u001b[1;32m~\\anaconda3\\lib\\site-packages\\sklearn\\tree\\_classes.py\u001b[0m in \u001b[0;36mfit\u001b[1;34m(self, X, y, sample_weight, check_input, X_idx_sorted)\u001b[0m\n\u001b[0;32m   1313\u001b[0m         \"\"\"\n\u001b[0;32m   1314\u001b[0m \u001b[1;33m\u001b[0m\u001b[0m\n\u001b[1;32m-> 1315\u001b[1;33m         super().fit(\n\u001b[0m\u001b[0;32m   1316\u001b[0m             \u001b[0mX\u001b[0m\u001b[1;33m,\u001b[0m\u001b[1;33m\u001b[0m\u001b[1;33m\u001b[0m\u001b[0m\n\u001b[0;32m   1317\u001b[0m             \u001b[0my\u001b[0m\u001b[1;33m,\u001b[0m\u001b[1;33m\u001b[0m\u001b[1;33m\u001b[0m\u001b[0m\n",
      "\u001b[1;32m~\\anaconda3\\lib\\site-packages\\sklearn\\tree\\_classes.py\u001b[0m in \u001b[0;36mfit\u001b[1;34m(self, X, y, sample_weight, check_input, X_idx_sorted)\u001b[0m\n\u001b[0;32m    418\u001b[0m             )\n\u001b[0;32m    419\u001b[0m \u001b[1;33m\u001b[0m\u001b[0m\n\u001b[1;32m--> 420\u001b[1;33m         \u001b[0mbuilder\u001b[0m\u001b[1;33m.\u001b[0m\u001b[0mbuild\u001b[0m\u001b[1;33m(\u001b[0m\u001b[0mself\u001b[0m\u001b[1;33m.\u001b[0m\u001b[0mtree_\u001b[0m\u001b[1;33m,\u001b[0m \u001b[0mX\u001b[0m\u001b[1;33m,\u001b[0m \u001b[0my\u001b[0m\u001b[1;33m,\u001b[0m \u001b[0msample_weight\u001b[0m\u001b[1;33m)\u001b[0m\u001b[1;33m\u001b[0m\u001b[1;33m\u001b[0m\u001b[0m\n\u001b[0m\u001b[0;32m    421\u001b[0m \u001b[1;33m\u001b[0m\u001b[0m\n\u001b[0;32m    422\u001b[0m         \u001b[1;32mif\u001b[0m \u001b[0mself\u001b[0m\u001b[1;33m.\u001b[0m\u001b[0mn_outputs_\u001b[0m \u001b[1;33m==\u001b[0m \u001b[1;36m1\u001b[0m \u001b[1;32mand\u001b[0m \u001b[0mis_classifier\u001b[0m\u001b[1;33m(\u001b[0m\u001b[0mself\u001b[0m\u001b[1;33m)\u001b[0m\u001b[1;33m:\u001b[0m\u001b[1;33m\u001b[0m\u001b[1;33m\u001b[0m\u001b[0m\n",
      "\u001b[1;31mKeyboardInterrupt\u001b[0m: "
     ]
    }
   ],
   "source": [
    "regr.fit(x_pcTrain, y_scaledTrain)"
   ]
  }
 ],
 "metadata": {
  "kernelspec": {
   "display_name": "Python 3",
   "language": "python",
   "name": "python3"
  },
  "language_info": {
   "codemirror_mode": {
    "name": "ipython",
    "version": 3
   },
   "file_extension": ".py",
   "mimetype": "text/x-python",
   "name": "python",
   "nbconvert_exporter": "python",
   "pygments_lexer": "ipython3",
   "version": "3.8.8"
  }
 },
 "nbformat": 4,
 "nbformat_minor": 5
}
