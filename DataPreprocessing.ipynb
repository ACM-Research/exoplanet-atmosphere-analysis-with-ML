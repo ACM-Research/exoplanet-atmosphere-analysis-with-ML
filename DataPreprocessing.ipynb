{
 "cells": [
  {
   "cell_type": "code",
   "execution_count": 1,
   "id": "40302cd1",
   "metadata": {},
   "outputs": [],
   "source": [
    "import matplotlib\n",
    "matplotlib.use('pdf')\n",
    "font = {'size'   : 22}\n",
    "\n",
    "matplotlib.rc('font', **font)\n",
    "\n",
    "import argparse\n",
    "import sys\n",
    "import copy\n",
    "import os\n",
    "import glob\n",
    "import scipy as sp\n",
    "import numpy as np\n",
    "import pandas as pd\n",
    "from scipy.stats import chisquare\n",
    "import matplotlib.pyplot as plt\n",
    "import matplotlib.patches as mpatches\n",
    "from datetime import datetime\n",
    "import pickle\n",
    "import time\n",
    "#from util import *\n",
    "#from ops import *\n",
    "import multiprocessing\n",
    "from multiprocessing import Pool\n",
    "#from model import DCGAN\n",
    "os.environ['TF_CPP_MIN_LOG_LEVEL'] = '3' \n",
    "#np.set_printoptions(threshold='nan')"
   ]
  },
  {
   "cell_type": "code",
   "execution_count": 2,
   "id": "155a6abb",
   "metadata": {},
   "outputs": [
    {
     "name": "stderr",
     "output_type": "stream",
     "text": [
      "ERROR:root:Internal Python error in the inspect module.\n",
      "Below is the traceback from this internal error.\n",
      "\n",
      "\n",
      "KeyboardInterrupt\n",
      "\n"
     ]
    }
   ],
   "source": [
    "#Setting up the dataset for ML\n",
    "# Text file data converted to integer data type\n",
    "x_data = np.loadtxt(\"dataset/x_dataTrain.txt\", dtype=float)\n",
    "print(x_data)"
   ]
  },
  {
   "cell_type": "code",
   "execution_count": null,
   "id": "16165852",
   "metadata": {},
   "outputs": [],
   "source": [
    "#Setting up the dataset for ML\n",
    "# Text file data converted to integer data type\n",
    "y_data = np.loadtxt(\"dataset/y_dataTrain.txt\", dtype=float)\n",
    "print(y_data)"
   ]
  },
  {
   "cell_type": "code",
   "execution_count": null,
   "id": "23dfdd04",
   "metadata": {},
   "outputs": [],
   "source": [
    "features = pd.DataFrame(x_data)\n",
    "features"
   ]
  },
  {
   "cell_type": "code",
   "execution_count": null,
   "id": "16b0d37c",
   "metadata": {},
   "outputs": [],
   "source": [
    "labels = pd.DataFrame(y_data)\n",
    "labels"
   ]
  }
 ],
 "metadata": {
  "kernelspec": {
   "display_name": "Python 3",
   "language": "python",
   "name": "python3"
  },
  "language_info": {
   "codemirror_mode": {
    "name": "ipython",
    "version": 3
   },
   "file_extension": ".py",
   "mimetype": "text/x-python",
   "name": "python",
   "nbconvert_exporter": "python",
   "pygments_lexer": "ipython3",
   "version": "3.8.8"
  }
 },
 "nbformat": 4,
 "nbformat_minor": 5
}
