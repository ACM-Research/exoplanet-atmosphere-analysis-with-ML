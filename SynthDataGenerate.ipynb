{
 "cells": [
  {
   "cell_type": "code",
   "execution_count": 17,
   "id": "ee971e52",
   "metadata": {},
   "outputs": [
    {
     "name": "stdout",
     "output_type": "stream",
     "text": [
      "Requirement already satisfied: sdv in c:\\users\\abhi\\anaconda3\\lib\\site-packages (0.14.0)\n",
      "Requirement already satisfied: sdmetrics<0.5,>=0.4.1 in c:\\users\\abhi\\anaconda3\\lib\\site-packages (from sdv) (0.4.1)\n",
      "Requirement already satisfied: ctgan<0.6,>=0.5.1 in c:\\users\\abhi\\anaconda3\\lib\\site-packages (from sdv) (0.5.1)\n",
      "Collecting pandas<2,>=1.1.3\n",
      "  Downloading pandas-1.4.2-cp38-cp38-win_amd64.whl (10.6 MB)\n",
      "Requirement already satisfied: graphviz<1,>=0.13.2 in c:\\users\\abhi\\anaconda3\\lib\\site-packages (from sdv) (0.19.1)\n",
      "Requirement already satisfied: deepecho<0.4,>=0.3.0.post1 in c:\\users\\abhi\\anaconda3\\lib\\site-packages (from sdv) (0.3.0.post1)\n",
      "Requirement already satisfied: Faker<10,>=3.0.0 in c:\\users\\abhi\\anaconda3\\lib\\site-packages (from sdv) (9.9.1)\n",
      "Collecting copulas<0.7,>=0.6.1\n",
      "  Using cached copulas-0.6.1-py2.py3-none-any.whl (52 kB)\n",
      "Requirement already satisfied: numpy<2,>=1.20.0 in c:\\users\\abhi\\appdata\\roaming\\python\\python38\\site-packages (from sdv) (1.22.3)\n",
      "Requirement already satisfied: tqdm<5,>=4.15 in c:\\users\\abhi\\anaconda3\\lib\\site-packages (from sdv) (4.56.0)\n",
      "Requirement already satisfied: rdt<0.7,>=0.6.2 in c:\\users\\abhi\\anaconda3\\lib\\site-packages (from sdv) (0.6.4)\n",
      "Requirement already satisfied: scipy<2,>=1.5.4 in c:\\users\\abhi\\anaconda3\\lib\\site-packages (from copulas<0.7,>=0.6.1->sdv) (1.5.4)\n",
      "Requirement already satisfied: matplotlib<4,>=3.4.0 in c:\\users\\abhi\\appdata\\roaming\\python\\python38\\site-packages (from copulas<0.7,>=0.6.1->sdv) (3.5.1)\n",
      "Requirement already satisfied: torchvision<1,>=0.9.0 in c:\\users\\abhi\\anaconda3\\lib\\site-packages (from ctgan<0.6,>=0.5.1->sdv) (0.11.3)\n",
      "Collecting scikit-learn<2,>=0.24\n",
      "  Using cached scikit_learn-1.0.2-cp38-cp38-win_amd64.whl (7.2 MB)Note: you may need to restart the kernel to use updated packages.\n",
      "Requirement already satisfied: packaging<22,>=20 in c:\\users\\abhi\\appdata\\roaming\\python\\python38\\site-packages (from ctgan<0.6,>=0.5.1->sdv) (21.3)\n",
      "Requirement already satisfied: torch<2,>=1.8.0 in c:\\users\\abhi\\anaconda3\\lib\\site-packages (from ctgan<0.6,>=0.5.1->sdv) (1.10.2)\n",
      "Requirement already satisfied: python-dateutil>=2.4 in c:\\users\\abhi\\appdata\\roaming\\python\\python38\\site-packages (from Faker<10,>=3.0.0->sdv) (2.8.2)\n",
      "Requirement already satisfied: text-unidecode==1.3 in c:\\users\\abhi\\anaconda3\\lib\\site-packages (from Faker<10,>=3.0.0->sdv) (1.3)\n",
      "Requirement already satisfied: cycler>=0.10 in c:\\users\\abhi\\appdata\\roaming\\python\\python38\\site-packages (from matplotlib<4,>=3.4.0->copulas<0.7,>=0.6.1->sdv) (0.11.0)\n",
      "Requirement already satisfied: pillow>=6.2.0 in c:\\users\\abhi\\appdata\\roaming\\python\\python38\\site-packages (from matplotlib<4,>=3.4.0->copulas<0.7,>=0.6.1->sdv) (9.1.0)\n",
      "\n",
      "Requirement already satisfied: fonttools>=4.22.0 in c:\\users\\abhi\\appdata\\roaming\\python\\python38\\site-packages (from matplotlib<4,>=3.4.0->copulas<0.7,>=0.6.1->sdv) (4.31.2)\n",
      "Requirement already satisfied: kiwisolver>=1.0.1 in c:\\users\\abhi\\appdata\\roaming\\python\\python38\\site-packages (from matplotlib<4,>=3.4.0->copulas<0.7,>=0.6.1->sdv) (1.4.2)\n",
      "Requirement already satisfied: pyparsing>=2.2.1 in c:\\users\\abhi\\appdata\\roaming\\python\\python38\\site-packages (from matplotlib<4,>=3.4.0->copulas<0.7,>=0.6.1->sdv) (3.0.7)\n"
     ]
    },
    {
     "name": "stderr",
     "output_type": "stream",
     "text": [
      "ERROR: Could not install packages due to an OSError: [WinError 5] Access is denied: 'C:\\\\Users\\\\abhi\\\\anaconda3\\\\Lib\\\\site-packages\\\\~-learn\\\\.libs\\\\vcomp140.dll'\n",
      "Consider using the `--user` option or check the permissions.\n",
      "\n"
     ]
    },
    {
     "name": "stdout",
     "output_type": "stream",
     "text": [
      "Requirement already satisfied: pytz>=2020.1 in c:\\users\\abhi\\anaconda3\\lib\\site-packages (from pandas<2,>=1.1.3->sdv) (2021.1)\n",
      "Requirement already satisfied: six>=1.5 in c:\\users\\abhi\\appdata\\roaming\\python\\python38\\site-packages (from python-dateutil>=2.4->Faker<10,>=3.0.0->sdv) (1.16.0)\n",
      "Requirement already satisfied: psutil<6,>=5.7 in c:\\users\\abhi\\anaconda3\\lib\\site-packages (from rdt<0.7,>=0.6.2->sdv) (5.8.0)\n",
      "Collecting pyyaml<6,>=5.4.1\n",
      "  Downloading PyYAML-5.4.1-cp38-cp38-win_amd64.whl (213 kB)\n",
      "Requirement already satisfied: joblib>=0.11 in c:\\users\\abhi\\anaconda3\\lib\\site-packages (from scikit-learn<2,>=0.24->ctgan<0.6,>=0.5.1->sdv) (1.0.0)\n",
      "Requirement already satisfied: threadpoolctl>=2.0.0 in c:\\users\\abhi\\anaconda3\\lib\\site-packages (from scikit-learn<2,>=0.24->ctgan<0.6,>=0.5.1->sdv) (2.1.0)\n",
      "Requirement already satisfied: pyts<0.13.0,>=0.12.0 in c:\\users\\abhi\\anaconda3\\lib\\site-packages (from sdmetrics<0.5,>=0.4.1->sdv) (0.12.0)\n",
      "Requirement already satisfied: numba>=0.48.0 in c:\\users\\abhi\\anaconda3\\lib\\site-packages (from pyts<0.13.0,>=0.12.0->sdmetrics<0.5,>=0.4.1->sdv) (0.53.1)\n",
      "Requirement already satisfied: llvmlite<0.37,>=0.36.0rc1 in c:\\users\\abhi\\anaconda3\\lib\\site-packages (from numba>=0.48.0->pyts<0.13.0,>=0.12.0->sdmetrics<0.5,>=0.4.1->sdv) (0.36.0)\n",
      "Requirement already satisfied: setuptools in c:\\users\\abhi\\anaconda3\\lib\\site-packages (from numba>=0.48.0->pyts<0.13.0,>=0.12.0->sdmetrics<0.5,>=0.4.1->sdv) (52.0.0.post20210125)\n",
      "Requirement already satisfied: typing-extensions in c:\\users\\abhi\\anaconda3\\lib\\site-packages (from torch<2,>=1.8.0->ctgan<0.6,>=0.5.1->sdv) (3.7.4.3)\n",
      "Installing collected packages: scikit-learn, pyyaml, pandas, copulas\n",
      "  Attempting uninstall: scikit-learn\n",
      "    Found existing installation: scikit-learn 0.23.1\n",
      "    Uninstalling scikit-learn-0.23.1:\n",
      "      Successfully uninstalled scikit-learn-0.23.1\n"
     ]
    }
   ],
   "source": [
    "pip install sdv"
   ]
  },
  {
   "cell_type": "code",
   "execution_count": 1,
   "id": "464e95b7",
   "metadata": {},
   "outputs": [],
   "source": [
    "import os\n",
    "import pandas as pd\n",
    "import matplotlib.pyplot as plt\n",
    "import sklearn.cluster as cluster\n",
    "from numpy import array, random, sum, unique\n",
    "from pandas import DataFrame, read_csv"
   ]
  },
  {
   "cell_type": "code",
   "execution_count": 2,
   "id": "05337731",
   "metadata": {},
   "outputs": [],
   "source": [
    "from sklearn.model_selection import train_test_split\n",
    "import imblearn\n",
    "from sklearn.ensemble import RandomForestClassifier, AdaBoostClassifier\n",
    "from sklearn import preprocessing\n",
    "from imblearn.over_sampling import RandomOverSampler\n",
    "from kneed import KneeLocator\n",
    "from sklearn.datasets import make_blobs\n",
    "from sklearn.mixture import GaussianMixture\n",
    "from sklearn.metrics import silhouette_score\n",
    "from sklearn.preprocessing import StandardScaler\n",
    "from tqdm import tqdm\n",
    "from sklearn import metrics\n",
    "import tensorflow as tf\n",
    "from sklearn.manifold import TSNE"
   ]
  },
  {
   "cell_type": "code",
   "execution_count": 53,
   "id": "2a279fbd",
   "metadata": {},
   "outputs": [],
   "source": [
    "import tensorflow.keras\n",
    "from tensorflow.keras.models import Sequential\n",
    "from tensorflow.keras.layers import Dense\n",
    "from tensorflow.keras.layers import Flatten\n",
    "from tensorflow.keras.layers import Dropout\n",
    "from tensorflow.keras.layers import Conv1D\n",
    "from tensorflow.keras.layers import MaxPooling1D\n",
    "from tensorflow.keras.layers import Input\n",
    "from tensorflow.keras.layers import BatchNormalization\n",
    "from tensorflow.keras.layers import Lambda\n",
    "from tensorflow.keras.utils import to_categorical\n",
    "from tensorflow.keras import backend as K\n",
    "from tensorflow.keras.models import Sequential, Model\n",
    "from tensorflow.keras.metrics import binary_accuracy\n",
    "from tensorflow.keras.layers import Convolution1D, Dense, MaxPooling1D, Flatten\n",
    "from tensorflow.keras.regularizers import l2\n",
    "from tensorflow.keras.optimizers import RMSprop, Adadelta"
   ]
  },
  {
   "cell_type": "code",
   "execution_count": 5,
   "id": "b3811422",
   "metadata": {},
   "outputs": [],
   "source": [
    "#LSTMs\n",
    "from tensorflow.keras import Sequential, layers, callbacks\n",
    "from tensorflow.keras.layers import LSTM, GRU, Bidirectional"
   ]
  },
  {
   "cell_type": "code",
   "execution_count": 4,
   "id": "a4e33d85",
   "metadata": {},
   "outputs": [
    {
     "name": "stdout",
     "output_type": "stream",
     "text": [
      "[[3.27030e-24 3.07616e-24 5.22539e-24 ... 1.32958e-21 1.33228e-21\n",
      "  1.35562e-21]\n",
      " [1.30267e-20 1.30677e-20 1.31157e-20 ... 3.81686e-20 3.81212e-20\n",
      "  3.80739e-20]\n",
      " [6.26322e-21 6.28294e-21 6.30602e-21 ... 1.83835e-20 1.83606e-20\n",
      "  1.83378e-20]\n",
      " ...\n",
      " [2.18046e-21 2.18672e-21 2.19415e-21 ... 4.09628e-21 4.09113e-21\n",
      "  4.08599e-21]\n",
      " [8.45625e-21 8.48075e-21 8.50976e-21 ... 1.65705e-20 1.65496e-20\n",
      "  1.65289e-20]\n",
      " [9.18122e-27 9.43401e-27 1.16085e-26 ... 4.02891e-22 4.05835e-22\n",
      "  4.14389e-22]]\n"
     ]
    }
   ],
   "source": [
    "#Setting up the dataset for ML\n",
    "# Text file data converted to integer data type\n",
    "import numpy as np\n",
    "x_data = np.loadtxt(\"dataset/x_dataTrain.txt\", dtype=float)\n",
    "print(x_data)"
   ]
  },
  {
   "cell_type": "code",
   "execution_count": 6,
   "id": "1bf05294",
   "metadata": {},
   "outputs": [
    {
     "name": "stdout",
     "output_type": "stream",
     "text": [
      "[[5.44779525e-02 3.63563344e-01 3.93226327e-01 ... 3.84039400e-03\n",
      "  1.04632279e-03 8.05759487e-06]\n",
      " [4.16023007e-02 1.98831946e-01 3.19697149e-01 ... 1.58676888e-04\n",
      "  2.70865681e-04 6.98852685e-06]\n",
      " [3.25809662e-02 3.30184164e-01 2.25277622e-01 ... 3.64259914e-04\n",
      "  1.77938880e-05 5.15590766e-06]\n",
      " ...\n",
      " [6.00137545e-03 2.25446819e-01 2.36290974e-01 ... 3.41272939e-03\n",
      "  1.68012889e-04 8.55777941e-06]\n",
      " [9.61424398e-03 2.41019755e-01 4.74460251e-01 ... 2.28148605e-03\n",
      "  1.53862644e-04 3.59720563e-06]\n",
      " [1.48247666e-02 4.65782909e-01 3.00848722e-01 ... 5.70894991e-03\n",
      "  1.74632155e-04 1.76412088e-06]]\n"
     ]
    }
   ],
   "source": [
    "#Setting up the dataset for ML\n",
    "# Text file data converted to integer data type\n",
    "y_data = np.loadtxt(\"dataset/y_dataTrain.txt\", dtype=float)\n",
    "print(y_data)"
   ]
  },
  {
   "cell_type": "code",
   "execution_count": 15,
   "id": "42648274",
   "metadata": {},
   "outputs": [],
   "source": [
    "features = pd.DataFrame(x_data)"
   ]
  },
  {
   "cell_type": "code",
   "execution_count": 14,
   "id": "fbaa9817",
   "metadata": {},
   "outputs": [
    {
     "data": {
      "text/plain": [
       "[<matplotlib.lines.Line2D at 0x25aa64ffac0>]"
      ]
     },
     "execution_count": 14,
     "metadata": {},
     "output_type": "execute_result"
    },
    {
     "data": {
      "image/png": "[encoded data removed]",
      "text/plain": [
       "<Figure size 432x288 with 1 Axes>"
      ]
     },
     "metadata": {
      "needs_background": "light"
     },
     "output_type": "display_data"
    }
   ],
   "source": [
    "plt.plot(features['timestep'], features[6])"
   ]
  },
  {
   "cell_type": "code",
   "execution_count": 16,
   "id": "34cc6161",
   "metadata": {},
   "outputs": [],
   "source": [
    "#Scaling the features\n",
    "scaler = StandardScaler()\n",
    "scaled_features = scaler.fit_transform(features)"
   ]
  },
  {
   "cell_type": "code",
   "execution_count": 17,
   "id": "637024ee",
   "metadata": {},
   "outputs": [],
   "source": [
    "#Applying PCA for random forest regression\n",
    "from sklearn.decomposition import PCA\n",
    "pca = PCA()\n",
    "principalComponents = pca.fit_transform(scaled_features)\n",
    "#principalDf = pd.DataFrame(data = principalComponents)"
   ]
  },
  {
   "cell_type": "code",
   "execution_count": 9,
   "id": "a2b1ff40",
   "metadata": {},
   "outputs": [
    {
     "data": {
      "text/plain": [
       "array([ 1,  2,  3,  4,  5,  6,  7,  8,  9, 10])"
      ]
     },
     "execution_count": 9,
     "metadata": {},
     "output_type": "execute_result"
    }
   ],
   "source": [
    "PC_values = np.arange(10) + 1\n",
    "PC_values"
   ]
  },
  {
   "cell_type": "code",
   "execution_count": 10,
   "id": "6741ef2c",
   "metadata": {},
   "outputs": [
    {
     "data": {
      "image/png": "[encoded data removed]",
      "text/plain": [
       "<Figure size 432x288 with 1 Axes>"
      ]
     },
     "metadata": {
      "needs_background": "light"
     },
     "output_type": "display_data"
    }
   ],
   "source": [
    "#Graphing scree plot\n",
    "PC_values = np.arange(10) + 1\n",
    "plt.plot(PC_values, pca.explained_variance_ratio_[:10], 'o-', linewidth=2, color='blue')\n",
    "plt.title('Scree Plot')\n",
    "plt.xlabel('Principal Component')\n",
    "plt.ylabel('Variance Explained')\n",
    "plt.show()"
   ]
  },
  {
   "cell_type": "code",
   "execution_count": 18,
   "id": "ae43e052",
   "metadata": {},
   "outputs": [],
   "source": [
    "from sklearn.decomposition import PCA\n",
    "pca = PCA(n_components=7)\n",
    "principalComponents = pca.fit_transform(scaled_features)\n",
    "principalDf = pd.DataFrame(data = principalComponents\n",
    "             , columns = ['PC1','PC2','PC3','PC4', 'PC5', 'PC6', 'PC7'])"
   ]
  },
  {
   "cell_type": "code",
   "execution_count": 50,
   "id": "99c568f3",
   "metadata": {},
   "outputs": [
    {
     "data": {
      "image/png": "[encoded data removed]",
      "text/plain": [
       "<Figure size 432x288 with 1 Axes>"
      ]
     },
     "metadata": {
      "needs_background": "light"
     },
     "output_type": "display_data"
    }
   ],
   "source": [
    "plt.plot(principalDf.iloc[78,:])\n",
    "plt.show()"
   ]
  },
  {
   "cell_type": "code",
   "execution_count": 19,
   "id": "b2a76f80",
   "metadata": {},
   "outputs": [],
   "source": [
    "feature_dict = {\n",
    "    0 : 'H2O',\n",
    "    1 : 'CO2',\n",
    "    2 : 'O2',\n",
    "    3 : 'N2',\n",
    "    4 : 'CH4',\n",
    "    5 : 'N2O',\n",
    "    6 : 'CO',\n",
    "    7 : 'O3',\n",
    "    8 : 'SO2',\n",
    "    9 : 'NH3',\n",
    "    10 : 'C2H6',\n",
    "    11 : 'NO2'\n",
    "}"
   ]
  },
  {
   "cell_type": "code",
   "execution_count": 20,
   "id": "ee816458",
   "metadata": {},
   "outputs": [
    {
     "name": "stderr",
     "output_type": "stream",
     "text": [
      "<ipython-input-20-cb945ec1c6d5>:6: SettingWithCopyWarning: \n",
      "A value is trying to be set on a copy of a slice from a DataFrame.\n",
      "Try using .loc[row_indexer,col_indexer] = value instead\n",
      "\n",
      "See the caveats in the documentation: https://pandas.pydata.org/pandas-docs/stable/user_guide/indexing.html#returning-a-view-versus-a-copy\n",
      "  labelsSum['H2O'] = labelsSum['H2O'].apply(lambda x: x*100)\n",
      "<ipython-input-20-cb945ec1c6d5>:7: SettingWithCopyWarning: \n",
      "A value is trying to be set on a copy of a slice from a DataFrame.\n",
      "Try using .loc[row_indexer,col_indexer] = value instead\n",
      "\n",
      "See the caveats in the documentation: https://pandas.pydata.org/pandas-docs/stable/user_guide/indexing.html#returning-a-view-versus-a-copy\n",
      "  labelsSum['CO2'] = labelsSum['CO2'].apply(lambda x: x*100)\n",
      "<ipython-input-20-cb945ec1c6d5>:8: SettingWithCopyWarning: \n",
      "A value is trying to be set on a copy of a slice from a DataFrame.\n",
      "Try using .loc[row_indexer,col_indexer] = value instead\n",
      "\n",
      "See the caveats in the documentation: https://pandas.pydata.org/pandas-docs/stable/user_guide/indexing.html#returning-a-view-versus-a-copy\n",
      "  labelsSum['O2'] = labelsSum['O2'].apply(lambda x: x*100)\n",
      "<ipython-input-20-cb945ec1c6d5>:9: SettingWithCopyWarning: \n",
      "A value is trying to be set on a copy of a slice from a DataFrame.\n",
      "Try using .loc[row_indexer,col_indexer] = value instead\n",
      "\n",
      "See the caveats in the documentation: https://pandas.pydata.org/pandas-docs/stable/user_guide/indexing.html#returning-a-view-versus-a-copy\n",
      "  labelsSum['N2'] = labelsSum['N2'].apply(lambda x: x*100)\n",
      "<ipython-input-20-cb945ec1c6d5>:10: SettingWithCopyWarning: \n",
      "A value is trying to be set on a copy of a slice from a DataFrame.\n",
      "Try using .loc[row_indexer,col_indexer] = value instead\n",
      "\n",
      "See the caveats in the documentation: https://pandas.pydata.org/pandas-docs/stable/user_guide/indexing.html#returning-a-view-versus-a-copy\n",
      "  labelsSum['CH4'] = labelsSum['CH4'].apply(lambda x: x*100)\n"
     ]
    },
    {
     "data": {
      "text/html": [
       "<div>\n",
       "<style scoped>\n",
       "    .dataframe tbody tr th:only-of-type {\n",
       "        vertical-align: middle;\n",
       "    }\n",
       "\n",
       "    .dataframe tbody tr th {\n",
       "        vertical-align: top;\n",
       "    }\n",
       "\n",
       "    .dataframe thead th {\n",
       "        text-align: right;\n",
       "    }\n",
       "</style>\n",
       "<table border=\"1\" class=\"dataframe\">\n",
       "  <thead>\n",
       "    <tr style=\"text-align: right;\">\n",
       "      <th></th>\n",
       "      <th>H2O</th>\n",
       "      <th>CO2</th>\n",
       "      <th>O2</th>\n",
       "      <th>N2</th>\n",
       "      <th>CH4</th>\n",
       "    </tr>\n",
       "  </thead>\n",
       "  <tbody>\n",
       "    <tr>\n",
       "      <th>0</th>\n",
       "      <td>5.447795</td>\n",
       "      <td>36.356334</td>\n",
       "      <td>39.322633</td>\n",
       "      <td>2.347669</td>\n",
       "      <td>12.807289</td>\n",
       "    </tr>\n",
       "    <tr>\n",
       "      <th>1</th>\n",
       "      <td>4.160230</td>\n",
       "      <td>19.883195</td>\n",
       "      <td>31.969715</td>\n",
       "      <td>37.276586</td>\n",
       "      <td>4.568130</td>\n",
       "    </tr>\n",
       "    <tr>\n",
       "      <th>2</th>\n",
       "      <td>3.258097</td>\n",
       "      <td>33.018416</td>\n",
       "      <td>22.527762</td>\n",
       "      <td>36.730550</td>\n",
       "      <td>2.988821</td>\n",
       "    </tr>\n",
       "    <tr>\n",
       "      <th>3</th>\n",
       "      <td>4.756591</td>\n",
       "      <td>22.928300</td>\n",
       "      <td>52.232608</td>\n",
       "      <td>0.433152</td>\n",
       "      <td>14.348949</td>\n",
       "    </tr>\n",
       "    <tr>\n",
       "      <th>4</th>\n",
       "      <td>8.355934</td>\n",
       "      <td>19.788123</td>\n",
       "      <td>39.827563</td>\n",
       "      <td>22.288283</td>\n",
       "      <td>6.370204</td>\n",
       "    </tr>\n",
       "    <tr>\n",
       "      <th>...</th>\n",
       "      <td>...</td>\n",
       "      <td>...</td>\n",
       "      <td>...</td>\n",
       "      <td>...</td>\n",
       "      <td>...</td>\n",
       "    </tr>\n",
       "    <tr>\n",
       "      <th>9998</th>\n",
       "      <td>3.211915</td>\n",
       "      <td>34.743236</td>\n",
       "      <td>35.990073</td>\n",
       "      <td>22.761101</td>\n",
       "      <td>1.522112</td>\n",
       "    </tr>\n",
       "    <tr>\n",
       "      <th>9999</th>\n",
       "      <td>1.049656</td>\n",
       "      <td>18.019818</td>\n",
       "      <td>33.185333</td>\n",
       "      <td>42.389717</td>\n",
       "      <td>3.421742</td>\n",
       "    </tr>\n",
       "    <tr>\n",
       "      <th>10000</th>\n",
       "      <td>0.600138</td>\n",
       "      <td>22.544682</td>\n",
       "      <td>23.629097</td>\n",
       "      <td>46.500135</td>\n",
       "      <td>5.045736</td>\n",
       "    </tr>\n",
       "    <tr>\n",
       "      <th>10001</th>\n",
       "      <td>0.961424</td>\n",
       "      <td>24.101976</td>\n",
       "      <td>47.446025</td>\n",
       "      <td>19.817285</td>\n",
       "      <td>4.904123</td>\n",
       "    </tr>\n",
       "    <tr>\n",
       "      <th>10002</th>\n",
       "      <td>1.482477</td>\n",
       "      <td>46.578291</td>\n",
       "      <td>30.084872</td>\n",
       "      <td>12.549951</td>\n",
       "      <td>6.215847</td>\n",
       "    </tr>\n",
       "  </tbody>\n",
       "</table>\n",
       "<p>10003 rows × 5 columns</p>\n",
       "</div>"
      ],
      "text/plain": [
       "            H2O        CO2         O2         N2        CH4\n",
       "0      5.447795  36.356334  39.322633   2.347669  12.807289\n",
       "1      4.160230  19.883195  31.969715  37.276586   4.568130\n",
       "2      3.258097  33.018416  22.527762  36.730550   2.988821\n",
       "3      4.756591  22.928300  52.232608   0.433152  14.348949\n",
       "4      8.355934  19.788123  39.827563  22.288283   6.370204\n",
       "...         ...        ...        ...        ...        ...\n",
       "9998   3.211915  34.743236  35.990073  22.761101   1.522112\n",
       "9999   1.049656  18.019818  33.185333  42.389717   3.421742\n",
       "10000  0.600138  22.544682  23.629097  46.500135   5.045736\n",
       "10001  0.961424  24.101976  47.446025  19.817285   4.904123\n",
       "10002  1.482477  46.578291  30.084872  12.549951   6.215847\n",
       "\n",
       "[10003 rows x 5 columns]"
      ]
     },
     "execution_count": 20,
     "metadata": {},
     "output_type": "execute_result"
    }
   ],
   "source": [
    "labels = pd.DataFrame(y_data)\n",
    "labels.rename(columns=feature_dict,\n",
    "          inplace=True)\n",
    "labelsSum = labels[['H2O','CO2', 'O2', 'N2', 'CH4']]\n",
    "\n",
    "labelsSum['H2O'] = labelsSum['H2O'].apply(lambda x: x*100)\n",
    "labelsSum['CO2'] = labelsSum['CO2'].apply(lambda x: x*100)\n",
    "labelsSum['O2'] = labelsSum['O2'].apply(lambda x: x*100)\n",
    "labelsSum['N2'] = labelsSum['N2'].apply(lambda x: x*100)\n",
    "labelsSum['CH4'] = labelsSum['CH4'].apply(lambda x: x*100)\n",
    "\n",
    "labelsSum"
   ]
  },
  {
   "cell_type": "code",
   "execution_count": 21,
   "id": "27cee963",
   "metadata": {},
   "outputs": [],
   "source": [
    "#principalDf['H2O'] = labelsSum['H2O']\n",
    "principalDf['CO2'] = labelsSum['CO2']\n",
    "#principalDf['O2'] = labelsSum['O2']\n",
    "#principalDf['N2'] = labelsSum['N2']\n",
    "#principalDf['CH4'] = labelsSum['CH4']"
   ]
  },
  {
   "cell_type": "code",
   "execution_count": 15,
   "id": "4d856ec6",
   "metadata": {},
   "outputs": [
    {
     "data": {
      "text/html": [
       "<div>\n",
       "<style scoped>\n",
       "    .dataframe tbody tr th:only-of-type {\n",
       "        vertical-align: middle;\n",
       "    }\n",
       "\n",
       "    .dataframe tbody tr th {\n",
       "        vertical-align: top;\n",
       "    }\n",
       "\n",
       "    .dataframe thead th {\n",
       "        text-align: right;\n",
       "    }\n",
       "</style>\n",
       "<table border=\"1\" class=\"dataframe\">\n",
       "  <thead>\n",
       "    <tr style=\"text-align: right;\">\n",
       "      <th></th>\n",
       "      <th>PC1</th>\n",
       "      <th>PC2</th>\n",
       "      <th>PC3</th>\n",
       "      <th>PC4</th>\n",
       "      <th>PC5</th>\n",
       "      <th>PC6</th>\n",
       "      <th>PC7</th>\n",
       "      <th>CO2</th>\n",
       "    </tr>\n",
       "  </thead>\n",
       "  <tbody>\n",
       "    <tr>\n",
       "      <th>0</th>\n",
       "      <td>-25.424643</td>\n",
       "      <td>2.816010</td>\n",
       "      <td>-0.932619</td>\n",
       "      <td>-0.942056</td>\n",
       "      <td>0.745698</td>\n",
       "      <td>0.485008</td>\n",
       "      <td>-0.116221</td>\n",
       "      <td>36.356334</td>\n",
       "    </tr>\n",
       "    <tr>\n",
       "      <th>1</th>\n",
       "      <td>39.018136</td>\n",
       "      <td>-29.472460</td>\n",
       "      <td>7.854192</td>\n",
       "      <td>-0.731919</td>\n",
       "      <td>-1.544823</td>\n",
       "      <td>-2.029103</td>\n",
       "      <td>0.584580</td>\n",
       "      <td>19.883195</td>\n",
       "    </tr>\n",
       "    <tr>\n",
       "      <th>2</th>\n",
       "      <td>6.010855</td>\n",
       "      <td>-12.086132</td>\n",
       "      <td>3.994593</td>\n",
       "      <td>1.049289</td>\n",
       "      <td>0.840798</td>\n",
       "      <td>-1.299079</td>\n",
       "      <td>-0.334912</td>\n",
       "      <td>33.018416</td>\n",
       "    </tr>\n",
       "    <tr>\n",
       "      <th>3</th>\n",
       "      <td>30.156434</td>\n",
       "      <td>18.272219</td>\n",
       "      <td>-6.171593</td>\n",
       "      <td>3.593129</td>\n",
       "      <td>-6.599576</td>\n",
       "      <td>-0.526198</td>\n",
       "      <td>0.699163</td>\n",
       "      <td>22.928300</td>\n",
       "    </tr>\n",
       "    <tr>\n",
       "      <th>4</th>\n",
       "      <td>-23.095682</td>\n",
       "      <td>3.422651</td>\n",
       "      <td>-1.141312</td>\n",
       "      <td>-0.788522</td>\n",
       "      <td>0.414359</td>\n",
       "      <td>0.438226</td>\n",
       "      <td>-0.070641</td>\n",
       "      <td>19.788123</td>\n",
       "    </tr>\n",
       "    <tr>\n",
       "      <th>...</th>\n",
       "      <td>...</td>\n",
       "      <td>...</td>\n",
       "      <td>...</td>\n",
       "      <td>...</td>\n",
       "      <td>...</td>\n",
       "      <td>...</td>\n",
       "      <td>...</td>\n",
       "      <td>...</td>\n",
       "    </tr>\n",
       "    <tr>\n",
       "      <th>9998</th>\n",
       "      <td>-25.303770</td>\n",
       "      <td>3.240217</td>\n",
       "      <td>-0.555026</td>\n",
       "      <td>-0.276243</td>\n",
       "      <td>0.978344</td>\n",
       "      <td>0.225030</td>\n",
       "      <td>-0.285261</td>\n",
       "      <td>34.743236</td>\n",
       "    </tr>\n",
       "    <tr>\n",
       "      <th>9999</th>\n",
       "      <td>-8.128290</td>\n",
       "      <td>7.706736</td>\n",
       "      <td>-1.876401</td>\n",
       "      <td>1.225997</td>\n",
       "      <td>-0.965653</td>\n",
       "      <td>-0.001985</td>\n",
       "      <td>0.136725</td>\n",
       "      <td>18.019818</td>\n",
       "    </tr>\n",
       "    <tr>\n",
       "      <th>10000</th>\n",
       "      <td>-18.029311</td>\n",
       "      <td>-3.027248</td>\n",
       "      <td>0.804120</td>\n",
       "      <td>-1.089628</td>\n",
       "      <td>0.583664</td>\n",
       "      <td>-0.095435</td>\n",
       "      <td>0.067898</td>\n",
       "      <td>22.544682</td>\n",
       "    </tr>\n",
       "    <tr>\n",
       "      <th>10001</th>\n",
       "      <td>7.173905</td>\n",
       "      <td>-18.804619</td>\n",
       "      <td>5.598486</td>\n",
       "      <td>-1.138705</td>\n",
       "      <td>-0.311114</td>\n",
       "      <td>-1.824128</td>\n",
       "      <td>0.587837</td>\n",
       "      <td>24.101976</td>\n",
       "    </tr>\n",
       "    <tr>\n",
       "      <th>10002</th>\n",
       "      <td>-26.309488</td>\n",
       "      <td>2.593597</td>\n",
       "      <td>-0.833529</td>\n",
       "      <td>-0.986762</td>\n",
       "      <td>0.838517</td>\n",
       "      <td>0.502824</td>\n",
       "      <td>-0.136655</td>\n",
       "      <td>46.578291</td>\n",
       "    </tr>\n",
       "  </tbody>\n",
       "</table>\n",
       "<p>10003 rows × 8 columns</p>\n",
       "</div>"
      ],
      "text/plain": [
       "             PC1        PC2       PC3       PC4       PC5       PC6       PC7  \\\n",
       "0     -25.424643   2.816010 -0.932619 -0.942056  0.745698  0.485008 -0.116221   \n",
       "1      39.018136 -29.472460  7.854192 -0.731919 -1.544823 -2.029103  0.584580   \n",
       "2       6.010855 -12.086132  3.994593  1.049289  0.840798 -1.299079 -0.334912   \n",
       "3      30.156434  18.272219 -6.171593  3.593129 -6.599576 -0.526198  0.699163   \n",
       "4     -23.095682   3.422651 -1.141312 -0.788522  0.414359  0.438226 -0.070641   \n",
       "...          ...        ...       ...       ...       ...       ...       ...   \n",
       "9998  -25.303770   3.240217 -0.555026 -0.276243  0.978344  0.225030 -0.285261   \n",
       "9999   -8.128290   7.706736 -1.876401  1.225997 -0.965653 -0.001985  0.136725   \n",
       "10000 -18.029311  -3.027248  0.804120 -1.089628  0.583664 -0.095435  0.067898   \n",
       "10001   7.173905 -18.804619  5.598486 -1.138705 -0.311114 -1.824128  0.587837   \n",
       "10002 -26.309488   2.593597 -0.833529 -0.986762  0.838517  0.502824 -0.136655   \n",
       "\n",
       "             CO2  \n",
       "0      36.356334  \n",
       "1      19.883195  \n",
       "2      33.018416  \n",
       "3      22.928300  \n",
       "4      19.788123  \n",
       "...          ...  \n",
       "9998   34.743236  \n",
       "9999   18.019818  \n",
       "10000  22.544682  \n",
       "10001  24.101976  \n",
       "10002  46.578291  \n",
       "\n",
       "[10003 rows x 8 columns]"
      ]
     },
     "execution_count": 15,
     "metadata": {},
     "output_type": "execute_result"
    }
   ],
   "source": [
    "principalDf"
   ]
  },
  {
   "cell_type": "code",
   "execution_count": 22,
   "id": "2fcd63bc",
   "metadata": {},
   "outputs": [
    {
     "name": "stderr",
     "output_type": "stream",
     "text": [
      "C:\\Users\\abhi\\anaconda3\\lib\\site-packages\\scipy\\stats\\_continuous_distns.py:621: RuntimeWarning: invalid value encountered in sqrt\n",
      "  sk = 2*(b-a)*np.sqrt(a + b + 1) / (a + b + 2) / np.sqrt(a*b)\n",
      "C:\\Users\\abhi\\anaconda3\\lib\\site-packages\\scipy\\optimize\\minpack.py:175: RuntimeWarning: The iteration is not making good progress, as measured by the \n",
      "  improvement from the last ten iterations.\n",
      "  warnings.warn(msg, RuntimeWarning)\n",
      "C:\\Users\\abhi\\anaconda3\\lib\\site-packages\\scipy\\stats\\_continuous_distns.py:4965: RuntimeWarning: divide by zero encountered in true_divide\n",
      "  return c**2 / (c**2 - n**2)\n",
      "C:\\Users\\abhi\\anaconda3\\lib\\site-packages\\scipy\\stats\\_distn_infrastructure.py:2429: RuntimeWarning: invalid value encountered in double_scalars\n",
      "  Lhat = muhat - Shat*mu\n",
      "C:\\Users\\abhi\\anaconda3\\lib\\site-packages\\scipy\\stats\\_continuous_distns.py:4956: RuntimeWarning: divide by zero encountered in power\n",
      "  return cd2*x**(c-1)\n",
      "C:\\Users\\abhi\\anaconda3\\lib\\site-packages\\scipy\\optimize\\minpack.py:175: RuntimeWarning: The iteration is not making good progress, as measured by the \n",
      "  improvement from the last five Jacobian evaluations.\n",
      "  warnings.warn(msg, RuntimeWarning)\n"
     ]
    }
   ],
   "source": [
    "#Create synthetic data\n",
    "from sdv.tabular import GaussianCopula\n",
    "model = GaussianCopula()\n",
    "model.fit(principalDf)"
   ]
  },
  {
   "cell_type": "code",
   "execution_count": 100,
   "id": "7ee4fd5e",
   "metadata": {},
   "outputs": [
    {
     "data": {
      "text/html": [
       "<div>\n",
       "<style scoped>\n",
       "    .dataframe tbody tr th:only-of-type {\n",
       "        vertical-align: middle;\n",
       "    }\n",
       "\n",
       "    .dataframe tbody tr th {\n",
       "        vertical-align: top;\n",
       "    }\n",
       "\n",
       "    .dataframe thead th {\n",
       "        text-align: right;\n",
       "    }\n",
       "</style>\n",
       "<table border=\"1\" class=\"dataframe\">\n",
       "  <thead>\n",
       "    <tr style=\"text-align: right;\">\n",
       "      <th></th>\n",
       "      <th>PC1</th>\n",
       "      <th>PC2</th>\n",
       "      <th>PC3</th>\n",
       "      <th>PC4</th>\n",
       "      <th>PC5</th>\n",
       "      <th>PC6</th>\n",
       "      <th>PC7</th>\n",
       "      <th>CO2</th>\n",
       "    </tr>\n",
       "  </thead>\n",
       "  <tbody>\n",
       "    <tr>\n",
       "      <th>0</th>\n",
       "      <td>-3.797451</td>\n",
       "      <td>-127.600841</td>\n",
       "      <td>-0.718956</td>\n",
       "      <td>-0.878745</td>\n",
       "      <td>0.493653</td>\n",
       "      <td>1.170634</td>\n",
       "      <td>-1.003342</td>\n",
       "      <td>42.493750</td>\n",
       "    </tr>\n",
       "    <tr>\n",
       "      <th>1</th>\n",
       "      <td>91.250170</td>\n",
       "      <td>2.646873</td>\n",
       "      <td>-1.510137</td>\n",
       "      <td>-0.451280</td>\n",
       "      <td>0.422461</td>\n",
       "      <td>0.788332</td>\n",
       "      <td>-0.154799</td>\n",
       "      <td>62.864013</td>\n",
       "    </tr>\n",
       "    <tr>\n",
       "      <th>2</th>\n",
       "      <td>36.027133</td>\n",
       "      <td>2.930200</td>\n",
       "      <td>-1.059164</td>\n",
       "      <td>-0.831028</td>\n",
       "      <td>0.320052</td>\n",
       "      <td>0.522106</td>\n",
       "      <td>-0.097722</td>\n",
       "      <td>24.711085</td>\n",
       "    </tr>\n",
       "    <tr>\n",
       "      <th>3</th>\n",
       "      <td>-25.719813</td>\n",
       "      <td>1.257280</td>\n",
       "      <td>-0.783212</td>\n",
       "      <td>-1.363925</td>\n",
       "      <td>44.143442</td>\n",
       "      <td>1.327446</td>\n",
       "      <td>-0.162462</td>\n",
       "      <td>17.883672</td>\n",
       "    </tr>\n",
       "    <tr>\n",
       "      <th>4</th>\n",
       "      <td>17.633589</td>\n",
       "      <td>9.012058</td>\n",
       "      <td>-1.295847</td>\n",
       "      <td>4.208676</td>\n",
       "      <td>-0.547997</td>\n",
       "      <td>0.633592</td>\n",
       "      <td>-0.351628</td>\n",
       "      <td>13.940662</td>\n",
       "    </tr>\n",
       "    <tr>\n",
       "      <th>...</th>\n",
       "      <td>...</td>\n",
       "      <td>...</td>\n",
       "      <td>...</td>\n",
       "      <td>...</td>\n",
       "      <td>...</td>\n",
       "      <td>...</td>\n",
       "      <td>...</td>\n",
       "      <td>...</td>\n",
       "    </tr>\n",
       "    <tr>\n",
       "      <th>9998</th>\n",
       "      <td>-15.492898</td>\n",
       "      <td>173.786799</td>\n",
       "      <td>-1.582737</td>\n",
       "      <td>-1.018890</td>\n",
       "      <td>0.620044</td>\n",
       "      <td>0.366805</td>\n",
       "      <td>-0.013224</td>\n",
       "      <td>4.900113</td>\n",
       "    </tr>\n",
       "    <tr>\n",
       "      <th>9999</th>\n",
       "      <td>-21.608719</td>\n",
       "      <td>-0.625647</td>\n",
       "      <td>-3.314894</td>\n",
       "      <td>-2.080781</td>\n",
       "      <td>0.517506</td>\n",
       "      <td>0.496151</td>\n",
       "      <td>10.561709</td>\n",
       "      <td>64.716900</td>\n",
       "    </tr>\n",
       "    <tr>\n",
       "      <th>10000</th>\n",
       "      <td>46.165926</td>\n",
       "      <td>4.184366</td>\n",
       "      <td>-1.280711</td>\n",
       "      <td>-0.815329</td>\n",
       "      <td>0.542138</td>\n",
       "      <td>0.418796</td>\n",
       "      <td>-0.128706</td>\n",
       "      <td>21.254911</td>\n",
       "    </tr>\n",
       "    <tr>\n",
       "      <th>10001</th>\n",
       "      <td>-12.945488</td>\n",
       "      <td>10.341241</td>\n",
       "      <td>-0.903215</td>\n",
       "      <td>-1.352822</td>\n",
       "      <td>16.253745</td>\n",
       "      <td>0.414608</td>\n",
       "      <td>-0.168432</td>\n",
       "      <td>6.429379</td>\n",
       "    </tr>\n",
       "    <tr>\n",
       "      <th>10002</th>\n",
       "      <td>-22.061778</td>\n",
       "      <td>2.822308</td>\n",
       "      <td>-0.602583</td>\n",
       "      <td>-1.005295</td>\n",
       "      <td>3.689088</td>\n",
       "      <td>0.419335</td>\n",
       "      <td>-0.155081</td>\n",
       "      <td>35.389792</td>\n",
       "    </tr>\n",
       "  </tbody>\n",
       "</table>\n",
       "<p>10003 rows × 8 columns</p>\n",
       "</div>"
      ],
      "text/plain": [
       "             PC1         PC2       PC3       PC4        PC5       PC6  \\\n",
       "0      -3.797451 -127.600841 -0.718956 -0.878745   0.493653  1.170634   \n",
       "1      91.250170    2.646873 -1.510137 -0.451280   0.422461  0.788332   \n",
       "2      36.027133    2.930200 -1.059164 -0.831028   0.320052  0.522106   \n",
       "3     -25.719813    1.257280 -0.783212 -1.363925  44.143442  1.327446   \n",
       "4      17.633589    9.012058 -1.295847  4.208676  -0.547997  0.633592   \n",
       "...          ...         ...       ...       ...        ...       ...   \n",
       "9998  -15.492898  173.786799 -1.582737 -1.018890   0.620044  0.366805   \n",
       "9999  -21.608719   -0.625647 -3.314894 -2.080781   0.517506  0.496151   \n",
       "10000  46.165926    4.184366 -1.280711 -0.815329   0.542138  0.418796   \n",
       "10001 -12.945488   10.341241 -0.903215 -1.352822  16.253745  0.414608   \n",
       "10002 -22.061778    2.822308 -0.602583 -1.005295   3.689088  0.419335   \n",
       "\n",
       "             PC7        CO2  \n",
       "0      -1.003342  42.493750  \n",
       "1      -0.154799  62.864013  \n",
       "2      -0.097722  24.711085  \n",
       "3      -0.162462  17.883672  \n",
       "4      -0.351628  13.940662  \n",
       "...          ...        ...  \n",
       "9998   -0.013224   4.900113  \n",
       "9999   10.561709  64.716900  \n",
       "10000  -0.128706  21.254911  \n",
       "10001  -0.168432   6.429379  \n",
       "10002  -0.155081  35.389792  \n",
       "\n",
       "[10003 rows x 8 columns]"
      ]
     },
     "execution_count": 100,
     "metadata": {},
     "output_type": "execute_result"
    }
   ],
   "source": [
    "sample = model.sample(num_rows=10003)\n",
    "sample"
   ]
  },
  {
   "cell_type": "code",
   "execution_count": 101,
   "id": "95a6f4a3",
   "metadata": {},
   "outputs": [
    {
     "data": {
      "text/plain": [
       "array([[<AxesSubplot:title={'center':'CO2'}>]], dtype=object)"
      ]
     },
     "execution_count": 101,
     "metadata": {},
     "output_type": "execute_result"
    },
    {
     "data": {
      "image/png": "[encoded data removed]",
      "text/plain": [
       "<Figure size 432x288 with 1 Axes>"
      ]
     },
     "metadata": {
      "needs_background": "light"
     },
     "output_type": "display_data"
    }
   ],
   "source": [
    "sample.hist(column='CO2')"
   ]
  },
  {
   "cell_type": "code",
   "execution_count": 102,
   "id": "987648cc",
   "metadata": {},
   "outputs": [
    {
     "data": {
      "text/plain": [
       "array([[<AxesSubplot:title={'center':'CO2'}>]], dtype=object)"
      ]
     },
     "execution_count": 102,
     "metadata": {},
     "output_type": "execute_result"
    },
    {
     "data": {
      "image/png": "[encoded data removed]",
      "text/plain": [
       "<Figure size 432x288 with 1 Axes>"
      ]
     },
     "metadata": {
      "needs_background": "light"
     },
     "output_type": "display_data"
    }
   ],
   "source": [
    "principalDf.hist(column='CO2')"
   ]
  },
  {
   "cell_type": "code",
   "execution_count": 66,
   "id": "580b26fa",
   "metadata": {},
   "outputs": [
    {
     "data": {
      "text/plain": [
       "0.861666500049985"
      ]
     },
     "execution_count": 66,
     "metadata": {},
     "output_type": "execute_result"
    }
   ],
   "source": [
    "from sdv.metrics.tabular import CSTest, KSTest\n",
    "KSTest.compute(principalDf, sample)"
   ]
  },
  {
   "cell_type": "code",
   "execution_count": 74,
   "id": "0ee3a344",
   "metadata": {},
   "outputs": [
    {
     "name": "stdout",
     "output_type": "stream",
     "text": [
      "0.6426807235745555\n"
     ]
    }
   ],
   "source": [
    "from sdv.metrics.tabular import LogisticDetection, SVCDetection\n",
    "print(LogisticDetection.compute(principalDf, sample))"
   ]
  },
  {
   "cell_type": "code",
   "execution_count": 86,
   "id": "15254ec7",
   "metadata": {},
   "outputs": [
    {
     "name": "stderr",
     "output_type": "stream",
     "text": [
      "C:\\Users\\abhi\\anaconda3\\lib\\site-packages\\sklearn\\neural_network\\_multilayer_perceptron.py:582: ConvergenceWarning: Stochastic Optimizer: Maximum iterations (50) reached and the optimization hasn't converged yet.\n",
      "  warnings.warn(\n"
     ]
    },
    {
     "data": {
      "text/plain": [
       "-0.014017071073312515"
      ]
     },
     "execution_count": 86,
     "metadata": {},
     "output_type": "execute_result"
    }
   ],
   "source": [
    "from sdv.metrics.tabular import MLPRegressor\n",
    "MLPRegressor.compute(principalDf, sample, target='CO2')"
   ]
  },
  {
   "cell_type": "code",
   "execution_count": 88,
   "id": "b0324781",
   "metadata": {},
   "outputs": [
    {
     "name": "stderr",
     "output_type": "stream",
     "text": [
      "C:\\Users\\abhi\\anaconda3\\lib\\site-packages\\sklearn\\neural_network\\_multilayer_perceptron.py:582: ConvergenceWarning: Stochastic Optimizer: Maximum iterations (50) reached and the optimization hasn't converged yet.\n",
      "  warnings.warn(\n"
     ]
    },
    {
     "data": {
      "text/plain": [
       "-0.09599276240642096"
      ]
     },
     "execution_count": 88,
     "metadata": {},
     "output_type": "execute_result"
    }
   ],
   "source": [
    "train = principalDf.sample(int(len(principalDf) * 0.75))\n",
    "test = principalDf[~principalDf.index.isin(train.index)]\n",
    "MLPRegressor.compute(train, test, target='CO2')"
   ]
  },
  {
   "cell_type": "code",
   "execution_count": 23,
   "id": "10c27dbe",
   "metadata": {
    "scrolled": true
   },
   "outputs": [
    {
     "name": "stderr",
     "output_type": "stream",
     "text": [
      "C:\\Users\\abhi\\anaconda3\\lib\\site-packages\\sdv\\tabular\\base.py:250: FutureWarning: The frame.append method is deprecated and will be removed from pandas in a future version. Use pandas.concat instead.\n",
      "  sampled = previous_rows.append(sampled, ignore_index=True)\n"
     ]
    },
    {
     "data": {
      "text/html": [
       "<div>\n",
       "<style scoped>\n",
       "    .dataframe tbody tr th:only-of-type {\n",
       "        vertical-align: middle;\n",
       "    }\n",
       "\n",
       "    .dataframe tbody tr th {\n",
       "        vertical-align: top;\n",
       "    }\n",
       "\n",
       "    .dataframe thead th {\n",
       "        text-align: right;\n",
       "    }\n",
       "</style>\n",
       "<table border=\"1\" class=\"dataframe\">\n",
       "  <thead>\n",
       "    <tr style=\"text-align: right;\">\n",
       "      <th></th>\n",
       "      <th>PC1</th>\n",
       "      <th>PC2</th>\n",
       "      <th>PC3</th>\n",
       "      <th>PC4</th>\n",
       "      <th>PC5</th>\n",
       "      <th>PC6</th>\n",
       "      <th>PC7</th>\n",
       "      <th>CO2</th>\n",
       "    </tr>\n",
       "  </thead>\n",
       "  <tbody>\n",
       "    <tr>\n",
       "      <th>0</th>\n",
       "      <td>-13.730129</td>\n",
       "      <td>2.533794</td>\n",
       "      <td>-1.203085</td>\n",
       "      <td>-0.783983</td>\n",
       "      <td>0.740345</td>\n",
       "      <td>0.479106</td>\n",
       "      <td>-0.151173</td>\n",
       "      <td>49.554674</td>\n",
       "    </tr>\n",
       "    <tr>\n",
       "      <th>1</th>\n",
       "      <td>-26.090306</td>\n",
       "      <td>4.882938</td>\n",
       "      <td>-6.250345</td>\n",
       "      <td>-0.875564</td>\n",
       "      <td>0.811322</td>\n",
       "      <td>0.480419</td>\n",
       "      <td>-0.135906</td>\n",
       "      <td>36.682591</td>\n",
       "    </tr>\n",
       "    <tr>\n",
       "      <th>2</th>\n",
       "      <td>-25.167723</td>\n",
       "      <td>-12.111915</td>\n",
       "      <td>9.186947</td>\n",
       "      <td>-6.925086</td>\n",
       "      <td>4.502365</td>\n",
       "      <td>1.687513</td>\n",
       "      <td>-5.055183</td>\n",
       "      <td>30.671628</td>\n",
       "    </tr>\n",
       "    <tr>\n",
       "      <th>3</th>\n",
       "      <td>-9.561024</td>\n",
       "      <td>5.696003</td>\n",
       "      <td>-1.210744</td>\n",
       "      <td>-0.815993</td>\n",
       "      <td>0.626104</td>\n",
       "      <td>0.442287</td>\n",
       "      <td>-0.095116</td>\n",
       "      <td>42.153404</td>\n",
       "    </tr>\n",
       "    <tr>\n",
       "      <th>4</th>\n",
       "      <td>-24.663766</td>\n",
       "      <td>5.779649</td>\n",
       "      <td>-1.447127</td>\n",
       "      <td>-0.829615</td>\n",
       "      <td>0.796890</td>\n",
       "      <td>0.630741</td>\n",
       "      <td>-0.129423</td>\n",
       "      <td>33.442361</td>\n",
       "    </tr>\n",
       "    <tr>\n",
       "      <th>...</th>\n",
       "      <td>...</td>\n",
       "      <td>...</td>\n",
       "      <td>...</td>\n",
       "      <td>...</td>\n",
       "      <td>...</td>\n",
       "      <td>...</td>\n",
       "      <td>...</td>\n",
       "      <td>...</td>\n",
       "    </tr>\n",
       "    <tr>\n",
       "      <th>99998</th>\n",
       "      <td>-26.386243</td>\n",
       "      <td>12.709517</td>\n",
       "      <td>-2.360930</td>\n",
       "      <td>-1.006473</td>\n",
       "      <td>6.430938</td>\n",
       "      <td>1.996447</td>\n",
       "      <td>-0.172620</td>\n",
       "      <td>19.319719</td>\n",
       "    </tr>\n",
       "    <tr>\n",
       "      <th>99999</th>\n",
       "      <td>6.255338</td>\n",
       "      <td>2.440244</td>\n",
       "      <td>-0.713355</td>\n",
       "      <td>-0.919962</td>\n",
       "      <td>4.993556</td>\n",
       "      <td>0.572317</td>\n",
       "      <td>-3.157575</td>\n",
       "      <td>7.643604</td>\n",
       "    </tr>\n",
       "    <tr>\n",
       "      <th>100000</th>\n",
       "      <td>-9.964499</td>\n",
       "      <td>26.026354</td>\n",
       "      <td>-0.911617</td>\n",
       "      <td>0.917230</td>\n",
       "      <td>-23.641809</td>\n",
       "      <td>0.303340</td>\n",
       "      <td>-0.145860</td>\n",
       "      <td>38.212574</td>\n",
       "    </tr>\n",
       "    <tr>\n",
       "      <th>100001</th>\n",
       "      <td>-26.287472</td>\n",
       "      <td>2.602387</td>\n",
       "      <td>-0.829957</td>\n",
       "      <td>-1.494193</td>\n",
       "      <td>3.184527</td>\n",
       "      <td>0.588340</td>\n",
       "      <td>-0.434070</td>\n",
       "      <td>41.089973</td>\n",
       "    </tr>\n",
       "    <tr>\n",
       "      <th>100002</th>\n",
       "      <td>26.759321</td>\n",
       "      <td>8.748864</td>\n",
       "      <td>-1.020029</td>\n",
       "      <td>0.523622</td>\n",
       "      <td>0.631476</td>\n",
       "      <td>0.089309</td>\n",
       "      <td>-0.199583</td>\n",
       "      <td>38.293588</td>\n",
       "    </tr>\n",
       "  </tbody>\n",
       "</table>\n",
       "<p>100003 rows × 8 columns</p>\n",
       "</div>"
      ],
      "text/plain": [
       "              PC1        PC2       PC3       PC4        PC5       PC6  \\\n",
       "0      -13.730129   2.533794 -1.203085 -0.783983   0.740345  0.479106   \n",
       "1      -26.090306   4.882938 -6.250345 -0.875564   0.811322  0.480419   \n",
       "2      -25.167723 -12.111915  9.186947 -6.925086   4.502365  1.687513   \n",
       "3       -9.561024   5.696003 -1.210744 -0.815993   0.626104  0.442287   \n",
       "4      -24.663766   5.779649 -1.447127 -0.829615   0.796890  0.630741   \n",
       "...           ...        ...       ...       ...        ...       ...   \n",
       "99998  -26.386243  12.709517 -2.360930 -1.006473   6.430938  1.996447   \n",
       "99999    6.255338   2.440244 -0.713355 -0.919962   4.993556  0.572317   \n",
       "100000  -9.964499  26.026354 -0.911617  0.917230 -23.641809  0.303340   \n",
       "100001 -26.287472   2.602387 -0.829957 -1.494193   3.184527  0.588340   \n",
       "100002  26.759321   8.748864 -1.020029  0.523622   0.631476  0.089309   \n",
       "\n",
       "             PC7        CO2  \n",
       "0      -0.151173  49.554674  \n",
       "1      -0.135906  36.682591  \n",
       "2      -5.055183  30.671628  \n",
       "3      -0.095116  42.153404  \n",
       "4      -0.129423  33.442361  \n",
       "...          ...        ...  \n",
       "99998  -0.172620  19.319719  \n",
       "99999  -3.157575   7.643604  \n",
       "100000 -0.145860  38.212574  \n",
       "100001 -0.434070  41.089973  \n",
       "100002 -0.199583  38.293588  \n",
       "\n",
       "[100003 rows x 8 columns]"
      ]
     },
     "execution_count": 23,
     "metadata": {},
     "output_type": "execute_result"
    }
   ],
   "source": [
    "synth_xData = model.sample(num_rows=100003)\n",
    "synth_xData"
   ]
  },
  {
   "cell_type": "code",
   "execution_count": 94,
   "id": "9adb6e23",
   "metadata": {},
   "outputs": [
    {
     "data": {
      "text/plain": [
       "array([[<AxesSubplot:title={'center':'CO2'}>]], dtype=object)"
      ]
     },
     "execution_count": 94,
     "metadata": {},
     "output_type": "execute_result"
    },
    {
     "data": {
      "image/png": "[encoded data removed]",
      "text/plain": [
       "<Figure size 432x288 with 1 Axes>"
      ]
     },
     "metadata": {
      "needs_background": "light"
     },
     "output_type": "display_data"
    }
   ],
   "source": [
    "synth_xData.hist(column=\"CO2\")"
   ]
  },
  {
   "cell_type": "code",
   "execution_count": 95,
   "id": "080063cd",
   "metadata": {},
   "outputs": [
    {
     "data": {
      "text/plain": [
       "array([[<AxesSubplot:title={'center':'CO2'}>]], dtype=object)"
      ]
     },
     "execution_count": 95,
     "metadata": {},
     "output_type": "execute_result"
    },
    {
     "data": {
      "image/png": "[encoded data removed]",
      "text/plain": [
       "<Figure size 432x288 with 1 Axes>"
      ]
     },
     "metadata": {
      "needs_background": "light"
     },
     "output_type": "display_data"
    }
   ],
   "source": [
    "principalDf.hist(column=\"CO2\")"
   ]
  },
  {
   "cell_type": "code",
   "execution_count": 25,
   "id": "ec0e9e26",
   "metadata": {},
   "outputs": [],
   "source": [
    "X_features = synth_xData.iloc[:,:-1]\n",
    "y_label =  synth_xData.iloc[:,-1:]\n",
    "y_label = y_data[[1]]"
   ]
  },
  {
   "cell_type": "code",
   "execution_count": 161,
   "id": "a9adf67a",
   "metadata": {},
   "outputs": [
    {
     "data": {
      "text/html": [
       "<div>\n",
       "<style scoped>\n",
       "    .dataframe tbody tr th:only-of-type {\n",
       "        vertical-align: middle;\n",
       "    }\n",
       "\n",
       "    .dataframe tbody tr th {\n",
       "        vertical-align: top;\n",
       "    }\n",
       "\n",
       "    .dataframe thead th {\n",
       "        text-align: right;\n",
       "    }\n",
       "</style>\n",
       "<table border=\"1\" class=\"dataframe\">\n",
       "  <thead>\n",
       "    <tr style=\"text-align: right;\">\n",
       "      <th></th>\n",
       "      <th>CO2</th>\n",
       "    </tr>\n",
       "  </thead>\n",
       "  <tbody>\n",
       "    <tr>\n",
       "      <th>0</th>\n",
       "      <td>49.554674</td>\n",
       "    </tr>\n",
       "    <tr>\n",
       "      <th>1</th>\n",
       "      <td>36.682591</td>\n",
       "    </tr>\n",
       "    <tr>\n",
       "      <th>2</th>\n",
       "      <td>30.671628</td>\n",
       "    </tr>\n",
       "    <tr>\n",
       "      <th>3</th>\n",
       "      <td>42.153404</td>\n",
       "    </tr>\n",
       "    <tr>\n",
       "      <th>4</th>\n",
       "      <td>33.442361</td>\n",
       "    </tr>\n",
       "    <tr>\n",
       "      <th>...</th>\n",
       "      <td>...</td>\n",
       "    </tr>\n",
       "    <tr>\n",
       "      <th>99998</th>\n",
       "      <td>19.319719</td>\n",
       "    </tr>\n",
       "    <tr>\n",
       "      <th>99999</th>\n",
       "      <td>7.643604</td>\n",
       "    </tr>\n",
       "    <tr>\n",
       "      <th>100000</th>\n",
       "      <td>38.212574</td>\n",
       "    </tr>\n",
       "    <tr>\n",
       "      <th>100001</th>\n",
       "      <td>41.089973</td>\n",
       "    </tr>\n",
       "    <tr>\n",
       "      <th>100002</th>\n",
       "      <td>38.293588</td>\n",
       "    </tr>\n",
       "  </tbody>\n",
       "</table>\n",
       "<p>100003 rows × 1 columns</p>\n",
       "</div>"
      ],
      "text/plain": [
       "              CO2\n",
       "0       49.554674\n",
       "1       36.682591\n",
       "2       30.671628\n",
       "3       42.153404\n",
       "4       33.442361\n",
       "...           ...\n",
       "99998   19.319719\n",
       "99999    7.643604\n",
       "100000  38.212574\n",
       "100001  41.089973\n",
       "100002  38.293588\n",
       "\n",
       "[100003 rows x 1 columns]"
      ]
     },
     "execution_count": 161,
     "metadata": {},
     "output_type": "execute_result"
    }
   ],
   "source": [
    "y_label"
   ]
  },
  {
   "cell_type": "code",
   "execution_count": 26,
   "id": "d7daaf8f",
   "metadata": {},
   "outputs": [],
   "source": [
    "synth_x_data = pca.inverse_transform(X_features)"
   ]
  },
  {
   "cell_type": "code",
   "execution_count": 27,
   "id": "3d9bbbda",
   "metadata": {},
   "outputs": [
    {
     "data": {
      "text/html": [
       "<div>\n",
       "<style scoped>\n",
       "    .dataframe tbody tr th:only-of-type {\n",
       "        vertical-align: middle;\n",
       "    }\n",
       "\n",
       "    .dataframe tbody tr th {\n",
       "        vertical-align: top;\n",
       "    }\n",
       "\n",
       "    .dataframe thead th {\n",
       "        text-align: right;\n",
       "    }\n",
       "</style>\n",
       "<table border=\"1\" class=\"dataframe\">\n",
       "  <thead>\n",
       "    <tr style=\"text-align: right;\">\n",
       "      <th></th>\n",
       "      <th>0</th>\n",
       "      <th>1</th>\n",
       "      <th>2</th>\n",
       "      <th>3</th>\n",
       "      <th>4</th>\n",
       "      <th>5</th>\n",
       "      <th>6</th>\n",
       "      <th>7</th>\n",
       "      <th>8</th>\n",
       "      <th>9</th>\n",
       "      <th>...</th>\n",
       "      <th>4368</th>\n",
       "      <th>4369</th>\n",
       "      <th>4370</th>\n",
       "      <th>4371</th>\n",
       "      <th>4372</th>\n",
       "      <th>4373</th>\n",
       "      <th>4374</th>\n",
       "      <th>4375</th>\n",
       "      <th>4376</th>\n",
       "      <th>4377</th>\n",
       "    </tr>\n",
       "  </thead>\n",
       "  <tbody>\n",
       "    <tr>\n",
       "      <th>0</th>\n",
       "      <td>-0.294278</td>\n",
       "      <td>-0.294175</td>\n",
       "      <td>-0.294712</td>\n",
       "      <td>-0.294241</td>\n",
       "      <td>-0.294067</td>\n",
       "      <td>-0.294430</td>\n",
       "      <td>-0.294021</td>\n",
       "      <td>-0.293793</td>\n",
       "      <td>-0.294038</td>\n",
       "      <td>-0.293933</td>\n",
       "      <td>...</td>\n",
       "      <td>-0.209778</td>\n",
       "      <td>-0.209724</td>\n",
       "      <td>-0.209714</td>\n",
       "      <td>-0.207774</td>\n",
       "      <td>-0.207487</td>\n",
       "      <td>-0.209459</td>\n",
       "      <td>-0.209507</td>\n",
       "      <td>-0.207349</td>\n",
       "      <td>-0.207380</td>\n",
       "      <td>-0.208733</td>\n",
       "    </tr>\n",
       "    <tr>\n",
       "      <th>1</th>\n",
       "      <td>-0.684416</td>\n",
       "      <td>-0.684215</td>\n",
       "      <td>-0.684287</td>\n",
       "      <td>-0.683928</td>\n",
       "      <td>-0.683695</td>\n",
       "      <td>-0.683694</td>\n",
       "      <td>-0.683357</td>\n",
       "      <td>-0.683101</td>\n",
       "      <td>-0.683050</td>\n",
       "      <td>-0.682844</td>\n",
       "      <td>...</td>\n",
       "      <td>-0.395689</td>\n",
       "      <td>-0.396393</td>\n",
       "      <td>-0.399679</td>\n",
       "      <td>-0.398123</td>\n",
       "      <td>-0.394124</td>\n",
       "      <td>-0.397776</td>\n",
       "      <td>-0.396994</td>\n",
       "      <td>-0.394368</td>\n",
       "      <td>-0.393526</td>\n",
       "      <td>-0.393841</td>\n",
       "    </tr>\n",
       "    <tr>\n",
       "      <th>2</th>\n",
       "      <td>0.272409</td>\n",
       "      <td>0.273073</td>\n",
       "      <td>0.266334</td>\n",
       "      <td>0.271246</td>\n",
       "      <td>0.272711</td>\n",
       "      <td>0.267991</td>\n",
       "      <td>0.272158</td>\n",
       "      <td>0.274255</td>\n",
       "      <td>0.270901</td>\n",
       "      <td>0.271561</td>\n",
       "      <td>...</td>\n",
       "      <td>-0.668255</td>\n",
       "      <td>-0.668035</td>\n",
       "      <td>-0.647053</td>\n",
       "      <td>-0.628350</td>\n",
       "      <td>-0.644303</td>\n",
       "      <td>-0.655525</td>\n",
       "      <td>-0.659533</td>\n",
       "      <td>-0.641515</td>\n",
       "      <td>-0.646841</td>\n",
       "      <td>-0.664701</td>\n",
       "    </tr>\n",
       "    <tr>\n",
       "      <th>3</th>\n",
       "      <td>-0.337912</td>\n",
       "      <td>-0.337808</td>\n",
       "      <td>-0.338126</td>\n",
       "      <td>-0.337779</td>\n",
       "      <td>-0.337628</td>\n",
       "      <td>-0.337831</td>\n",
       "      <td>-0.337523</td>\n",
       "      <td>-0.337336</td>\n",
       "      <td>-0.337461</td>\n",
       "      <td>-0.337355</td>\n",
       "      <td>...</td>\n",
       "      <td>-0.100308</td>\n",
       "      <td>-0.100192</td>\n",
       "      <td>-0.100796</td>\n",
       "      <td>-0.099291</td>\n",
       "      <td>-0.098641</td>\n",
       "      <td>-0.100194</td>\n",
       "      <td>-0.100133</td>\n",
       "      <td>-0.098526</td>\n",
       "      <td>-0.098439</td>\n",
       "      <td>-0.099326</td>\n",
       "    </tr>\n",
       "    <tr>\n",
       "      <th>4</th>\n",
       "      <td>-0.535487</td>\n",
       "      <td>-0.535383</td>\n",
       "      <td>-0.535974</td>\n",
       "      <td>-0.535470</td>\n",
       "      <td>-0.535289</td>\n",
       "      <td>-0.535691</td>\n",
       "      <td>-0.535254</td>\n",
       "      <td>-0.535013</td>\n",
       "      <td>-0.535287</td>\n",
       "      <td>-0.535180</td>\n",
       "      <td>...</td>\n",
       "      <td>-0.338280</td>\n",
       "      <td>-0.338112</td>\n",
       "      <td>-0.338428</td>\n",
       "      <td>-0.336849</td>\n",
       "      <td>-0.336435</td>\n",
       "      <td>-0.337959</td>\n",
       "      <td>-0.337939</td>\n",
       "      <td>-0.336277</td>\n",
       "      <td>-0.336230</td>\n",
       "      <td>-0.337253</td>\n",
       "    </tr>\n",
       "    <tr>\n",
       "      <th>...</th>\n",
       "      <td>...</td>\n",
       "      <td>...</td>\n",
       "      <td>...</td>\n",
       "      <td>...</td>\n",
       "      <td>...</td>\n",
       "      <td>...</td>\n",
       "      <td>...</td>\n",
       "      <td>...</td>\n",
       "      <td>...</td>\n",
       "      <td>...</td>\n",
       "      <td>...</td>\n",
       "      <td>...</td>\n",
       "      <td>...</td>\n",
       "      <td>...</td>\n",
       "      <td>...</td>\n",
       "      <td>...</td>\n",
       "      <td>...</td>\n",
       "      <td>...</td>\n",
       "      <td>...</td>\n",
       "      <td>...</td>\n",
       "      <td>...</td>\n",
       "    </tr>\n",
       "    <tr>\n",
       "      <th>99998</th>\n",
       "      <td>-0.856308</td>\n",
       "      <td>-0.855744</td>\n",
       "      <td>-0.858640</td>\n",
       "      <td>-0.856085</td>\n",
       "      <td>-0.855143</td>\n",
       "      <td>-0.857096</td>\n",
       "      <td>-0.854882</td>\n",
       "      <td>-0.853643</td>\n",
       "      <td>-0.854958</td>\n",
       "      <td>-0.854387</td>\n",
       "      <td>...</td>\n",
       "      <td>-0.453563</td>\n",
       "      <td>-0.450065</td>\n",
       "      <td>-0.435807</td>\n",
       "      <td>-0.429094</td>\n",
       "      <td>-0.442901</td>\n",
       "      <td>-0.442208</td>\n",
       "      <td>-0.446061</td>\n",
       "      <td>-0.441269</td>\n",
       "      <td>-0.444724</td>\n",
       "      <td>-0.452992</td>\n",
       "    </tr>\n",
       "    <tr>\n",
       "      <th>99999</th>\n",
       "      <td>-0.121835</td>\n",
       "      <td>-0.121127</td>\n",
       "      <td>-0.124098</td>\n",
       "      <td>-0.121277</td>\n",
       "      <td>-0.120170</td>\n",
       "      <td>-0.122137</td>\n",
       "      <td>-0.119684</td>\n",
       "      <td>-0.118261</td>\n",
       "      <td>-0.119548</td>\n",
       "      <td>-0.118839</td>\n",
       "      <td>...</td>\n",
       "      <td>-0.032610</td>\n",
       "      <td>-0.030860</td>\n",
       "      <td>-0.008825</td>\n",
       "      <td>-0.003476</td>\n",
       "      <td>-0.022775</td>\n",
       "      <td>-0.019197</td>\n",
       "      <td>-0.023681</td>\n",
       "      <td>-0.020772</td>\n",
       "      <td>-0.025968</td>\n",
       "      <td>-0.035021</td>\n",
       "    </tr>\n",
       "    <tr>\n",
       "      <th>100000</th>\n",
       "      <td>-0.922065</td>\n",
       "      <td>-0.923169</td>\n",
       "      <td>-0.912140</td>\n",
       "      <td>-0.920219</td>\n",
       "      <td>-0.922640</td>\n",
       "      <td>-0.914916</td>\n",
       "      <td>-0.921784</td>\n",
       "      <td>-0.925240</td>\n",
       "      <td>-0.919754</td>\n",
       "      <td>-0.920864</td>\n",
       "      <td>...</td>\n",
       "      <td>0.912098</td>\n",
       "      <td>0.900344</td>\n",
       "      <td>0.834138</td>\n",
       "      <td>0.812365</td>\n",
       "      <td>0.873603</td>\n",
       "      <td>0.866986</td>\n",
       "      <td>0.884002</td>\n",
       "      <td>0.868295</td>\n",
       "      <td>0.883341</td>\n",
       "      <td>0.915480</td>\n",
       "    </tr>\n",
       "    <tr>\n",
       "      <th>100001</th>\n",
       "      <td>-0.439623</td>\n",
       "      <td>-0.439392</td>\n",
       "      <td>-0.441417</td>\n",
       "      <td>-0.439890</td>\n",
       "      <td>-0.439413</td>\n",
       "      <td>-0.440824</td>\n",
       "      <td>-0.439520</td>\n",
       "      <td>-0.438851</td>\n",
       "      <td>-0.439845</td>\n",
       "      <td>-0.439612</td>\n",
       "      <td>...</td>\n",
       "      <td>-0.477448</td>\n",
       "      <td>-0.476301</td>\n",
       "      <td>-0.469679</td>\n",
       "      <td>-0.464894</td>\n",
       "      <td>-0.470604</td>\n",
       "      <td>-0.472520</td>\n",
       "      <td>-0.474201</td>\n",
       "      <td>-0.469829</td>\n",
       "      <td>-0.471378</td>\n",
       "      <td>-0.476387</td>\n",
       "    </tr>\n",
       "    <tr>\n",
       "      <th>100002</th>\n",
       "      <td>0.000951</td>\n",
       "      <td>0.001124</td>\n",
       "      <td>0.001660</td>\n",
       "      <td>0.001625</td>\n",
       "      <td>0.001758</td>\n",
       "      <td>0.002195</td>\n",
       "      <td>0.002198</td>\n",
       "      <td>0.002302</td>\n",
       "      <td>0.002672</td>\n",
       "      <td>0.002846</td>\n",
       "      <td>...</td>\n",
       "      <td>0.504559</td>\n",
       "      <td>0.505254</td>\n",
       "      <td>0.507987</td>\n",
       "      <td>0.506876</td>\n",
       "      <td>0.503754</td>\n",
       "      <td>0.506697</td>\n",
       "      <td>0.506028</td>\n",
       "      <td>0.504008</td>\n",
       "      <td>0.503285</td>\n",
       "      <td>0.503426</td>\n",
       "    </tr>\n",
       "  </tbody>\n",
       "</table>\n",
       "<p>100003 rows × 4378 columns</p>\n",
       "</div>"
      ],
      "text/plain": [
       "            0         1         2         3         4         5         6     \\\n",
       "0      -0.294278 -0.294175 -0.294712 -0.294241 -0.294067 -0.294430 -0.294021   \n",
       "1      -0.684416 -0.684215 -0.684287 -0.683928 -0.683695 -0.683694 -0.683357   \n",
       "2       0.272409  0.273073  0.266334  0.271246  0.272711  0.267991  0.272158   \n",
       "3      -0.337912 -0.337808 -0.338126 -0.337779 -0.337628 -0.337831 -0.337523   \n",
       "4      -0.535487 -0.535383 -0.535974 -0.535470 -0.535289 -0.535691 -0.535254   \n",
       "...          ...       ...       ...       ...       ...       ...       ...   \n",
       "99998  -0.856308 -0.855744 -0.858640 -0.856085 -0.855143 -0.857096 -0.854882   \n",
       "99999  -0.121835 -0.121127 -0.124098 -0.121277 -0.120170 -0.122137 -0.119684   \n",
       "100000 -0.922065 -0.923169 -0.912140 -0.920219 -0.922640 -0.914916 -0.921784   \n",
       "100001 -0.439623 -0.439392 -0.441417 -0.439890 -0.439413 -0.440824 -0.439520   \n",
       "100002  0.000951  0.001124  0.001660  0.001625  0.001758  0.002195  0.002198   \n",
       "\n",
       "            7         8         9     ...      4368      4369      4370  \\\n",
       "0      -0.293793 -0.294038 -0.293933  ... -0.209778 -0.209724 -0.209714   \n",
       "1      -0.683101 -0.683050 -0.682844  ... -0.395689 -0.396393 -0.399679   \n",
       "2       0.274255  0.270901  0.271561  ... -0.668255 -0.668035 -0.647053   \n",
       "3      -0.337336 -0.337461 -0.337355  ... -0.100308 -0.100192 -0.100796   \n",
       "4      -0.535013 -0.535287 -0.535180  ... -0.338280 -0.338112 -0.338428   \n",
       "...          ...       ...       ...  ...       ...       ...       ...   \n",
       "99998  -0.853643 -0.854958 -0.854387  ... -0.453563 -0.450065 -0.435807   \n",
       "99999  -0.118261 -0.119548 -0.118839  ... -0.032610 -0.030860 -0.008825   \n",
       "100000 -0.925240 -0.919754 -0.920864  ...  0.912098  0.900344  0.834138   \n",
       "100001 -0.438851 -0.439845 -0.439612  ... -0.477448 -0.476301 -0.469679   \n",
       "100002  0.002302  0.002672  0.002846  ...  0.504559  0.505254  0.507987   \n",
       "\n",
       "            4371      4372      4373      4374      4375      4376      4377  \n",
       "0      -0.207774 -0.207487 -0.209459 -0.209507 -0.207349 -0.207380 -0.208733  \n",
       "1      -0.398123 -0.394124 -0.397776 -0.396994 -0.394368 -0.393526 -0.393841  \n",
       "2      -0.628350 -0.644303 -0.655525 -0.659533 -0.641515 -0.646841 -0.664701  \n",
       "3      -0.099291 -0.098641 -0.100194 -0.100133 -0.098526 -0.098439 -0.099326  \n",
       "4      -0.336849 -0.336435 -0.337959 -0.337939 -0.336277 -0.336230 -0.337253  \n",
       "...          ...       ...       ...       ...       ...       ...       ...  \n",
       "99998  -0.429094 -0.442901 -0.442208 -0.446061 -0.441269 -0.444724 -0.452992  \n",
       "99999  -0.003476 -0.022775 -0.019197 -0.023681 -0.020772 -0.025968 -0.035021  \n",
       "100000  0.812365  0.873603  0.866986  0.884002  0.868295  0.883341  0.915480  \n",
       "100001 -0.464894 -0.470604 -0.472520 -0.474201 -0.469829 -0.471378 -0.476387  \n",
       "100002  0.506876  0.503754  0.506697  0.506028  0.504008  0.503285  0.503426  \n",
       "\n",
       "[100003 rows x 4378 columns]"
      ]
     },
     "execution_count": 27,
     "metadata": {},
     "output_type": "execute_result"
    }
   ],
   "source": [
    "fake_xData = pd.DataFrame(synth_x_data)\n",
    "fake_xData"
   ]
  },
  {
   "cell_type": "code",
   "execution_count": 316,
   "id": "fdcfe58b",
   "metadata": {},
   "outputs": [],
   "source": [
    "scaler = StandardScaler()\n",
    "test = scaler.fit_transform(fake_xData)"
   ]
  },
  {
   "cell_type": "code",
   "execution_count": 317,
   "id": "0f71eb1e",
   "metadata": {},
   "outputs": [],
   "source": [
    "testFeatures = pd.DataFrame(test)"
   ]
  },
  {
   "cell_type": "code",
   "execution_count": 330,
   "id": "a7d23fff",
   "metadata": {
    "scrolled": true
   },
   "outputs": [
    {
     "data": {
      "image/png": "[encoded data removed]",
      "text/plain": [
       "<Figure size 432x288 with 1 Axes>"
      ]
     },
     "metadata": {
      "needs_background": "light"
     },
     "output_type": "display_data"
    }
   ],
   "source": [
    "plt.plot(testFeatures.iloc[5,:])\n",
    "plt.show()"
   ]
  },
  {
   "cell_type": "code",
   "execution_count": 319,
   "id": "b3dabb55",
   "metadata": {},
   "outputs": [],
   "source": [
    "test2 = scaler.fit_transform(features)"
   ]
  },
  {
   "cell_type": "code",
   "execution_count": 320,
   "id": "ea03eabd",
   "metadata": {},
   "outputs": [],
   "source": [
    "testFeatures2 = pd.DataFrame(test2)"
   ]
  },
  {
   "cell_type": "code",
   "execution_count": 325,
   "id": "21ffe78e",
   "metadata": {},
   "outputs": [
    {
     "data": {
      "image/png": "[encoded data removed]",
      "text/plain": [
       "<Figure size 432x288 with 1 Axes>"
      ]
     },
     "metadata": {
      "needs_background": "light"
     },
     "output_type": "display_data"
    }
   ],
   "source": [
    "plt.plot(testFeatures2.iloc[1,:])\n",
    "plt.show()"
   ]
  },
  {
   "cell_type": "code",
   "execution_count": 315,
   "id": "190b7831",
   "metadata": {},
   "outputs": [
    {
     "data": {
      "image/png": "[encoded data removed]",
      "text/plain": [
       "<Figure size 432x288 with 1 Axes>"
      ]
     },
     "metadata": {
      "needs_background": "light"
     },
     "output_type": "display_data"
    }
   ],
   "source": [
    "plt.plot(features.iloc[0,:])\n",
    "plt.show()"
   ]
  },
  {
   "cell_type": "code",
   "execution_count": 270,
   "id": "0d5a538a",
   "metadata": {},
   "outputs": [
    {
     "data": {
      "text/plain": [
       "0.39910785908312746"
      ]
     },
     "execution_count": 270,
     "metadata": {},
     "output_type": "execute_result"
    }
   ],
   "source": [
    "y_label.iloc[9,0]"
   ]
  },
  {
   "cell_type": "code",
   "execution_count": 225,
   "id": "10cf0e67",
   "metadata": {},
   "outputs": [
    {
     "data": {
      "text/html": [
       "<div>\n",
       "<style scoped>\n",
       "    .dataframe tbody tr th:only-of-type {\n",
       "        vertical-align: middle;\n",
       "    }\n",
       "\n",
       "    .dataframe tbody tr th {\n",
       "        vertical-align: top;\n",
       "    }\n",
       "\n",
       "    .dataframe thead th {\n",
       "        text-align: right;\n",
       "    }\n",
       "</style>\n",
       "<table border=\"1\" class=\"dataframe\">\n",
       "  <thead>\n",
       "    <tr style=\"text-align: right;\">\n",
       "      <th></th>\n",
       "      <th>CO2</th>\n",
       "    </tr>\n",
       "  </thead>\n",
       "  <tbody>\n",
       "    <tr>\n",
       "      <th>0</th>\n",
       "      <td>0.363563</td>\n",
       "    </tr>\n",
       "    <tr>\n",
       "      <th>1</th>\n",
       "      <td>0.198832</td>\n",
       "    </tr>\n",
       "    <tr>\n",
       "      <th>2</th>\n",
       "      <td>0.330184</td>\n",
       "    </tr>\n",
       "    <tr>\n",
       "      <th>3</th>\n",
       "      <td>0.229283</td>\n",
       "    </tr>\n",
       "    <tr>\n",
       "      <th>4</th>\n",
       "      <td>0.197881</td>\n",
       "    </tr>\n",
       "    <tr>\n",
       "      <th>...</th>\n",
       "      <td>...</td>\n",
       "    </tr>\n",
       "    <tr>\n",
       "      <th>9998</th>\n",
       "      <td>0.347432</td>\n",
       "    </tr>\n",
       "    <tr>\n",
       "      <th>9999</th>\n",
       "      <td>0.180198</td>\n",
       "    </tr>\n",
       "    <tr>\n",
       "      <th>10000</th>\n",
       "      <td>0.225447</td>\n",
       "    </tr>\n",
       "    <tr>\n",
       "      <th>10001</th>\n",
       "      <td>0.241020</td>\n",
       "    </tr>\n",
       "    <tr>\n",
       "      <th>10002</th>\n",
       "      <td>0.465783</td>\n",
       "    </tr>\n",
       "  </tbody>\n",
       "</table>\n",
       "<p>10003 rows × 1 columns</p>\n",
       "</div>"
      ],
      "text/plain": [
       "            CO2\n",
       "0      0.363563\n",
       "1      0.198832\n",
       "2      0.330184\n",
       "3      0.229283\n",
       "4      0.197881\n",
       "...         ...\n",
       "9998   0.347432\n",
       "9999   0.180198\n",
       "10000  0.225447\n",
       "10001  0.241020\n",
       "10002  0.465783\n",
       "\n",
       "[10003 rows x 1 columns]"
      ]
     },
     "execution_count": 225,
     "metadata": {},
     "output_type": "execute_result"
    }
   ],
   "source": [
    "y_label = labels.iloc[:,1:2]\n",
    "y_label"
   ]
  },
  {
   "cell_type": "code",
   "execution_count": 226,
   "id": "9fba5b07",
   "metadata": {},
   "outputs": [],
   "source": [
    "#Splitting dataset into training and testing\n",
    "from sklearn.model_selection import train_test_split\n",
    "X_train, X_test, y_train, y_test = train_test_split(features, y_label, test_size=0.30)"
   ]
  },
  {
   "cell_type": "code",
   "execution_count": 227,
   "id": "2e3d8d20",
   "metadata": {},
   "outputs": [],
   "source": [
    "scaler = StandardScaler()\n",
    "X_scaledTrain = scaler.fit_transform(X_train)\n",
    "X_scaledTest = scaler.fit_transform(X_test)"
   ]
  },
  {
   "cell_type": "code",
   "execution_count": 228,
   "id": "533f9cbd",
   "metadata": {},
   "outputs": [],
   "source": [
    "y_scaler = StandardScaler()\n",
    "y_scaledTrain = y_scaler.fit_transform(y_train)\n",
    "y_scaledTest = y_scaler.fit_transform(y_test)"
   ]
  },
  {
   "cell_type": "code",
   "execution_count": 229,
   "id": "b0782577",
   "metadata": {},
   "outputs": [],
   "source": [
    "X_scaledTrain = np.squeeze(X_scaledTrain)\n",
    "X_scaledTest = np.squeeze(X_scaledTest)"
   ]
  },
  {
   "cell_type": "code",
   "execution_count": 230,
   "id": "1fbe614b",
   "metadata": {},
   "outputs": [],
   "source": [
    "X_scaledTrain = np.expand_dims(X_scaledTrain,2)\n",
    "X_scaledTest = np.expand_dims(X_scaledTest,2)"
   ]
  },
  {
   "cell_type": "code",
   "execution_count": 232,
   "id": "197f3ab8",
   "metadata": {},
   "outputs": [
    {
     "data": {
      "text/plain": [
       "(7002, 4378, 1)"
      ]
     },
     "execution_count": 232,
     "metadata": {},
     "output_type": "execute_result"
    }
   ],
   "source": [
    "X_scaledTrain.shape"
   ]
  },
  {
   "cell_type": "code",
   "execution_count": 133,
   "id": "546aa481",
   "metadata": {},
   "outputs": [],
   "source": [
    "from tensorflow.keras import backend as K"
   ]
  },
  {
   "cell_type": "code",
   "execution_count": 233,
   "id": "56bf8980",
   "metadata": {},
   "outputs": [],
   "source": [
    "def network():\n",
    "    model = Sequential()\n",
    "    model.add(Conv1D(filters=64, kernel_size=2, activation='tanh', input_shape=(X_scaledTrain.shape[1], 1)))\n",
    "    model.add(MaxPooling1D(pool_size=2))\n",
    "    \n",
    "    model.add(Conv1D(filters=64, kernel_size=2, activation='relu'))\n",
    "    model.add(MaxPooling1D(pool_size=2))\n",
    "\n",
    "    model.add(Conv1D(filters=128, kernel_size=2, activation='relu'))\n",
    "    model.add(MaxPooling1D(pool_size=2))\n",
    "\n",
    "    model.add(Conv1D(filters=128, kernel_size=2, activation='relu'))\n",
    "    model.add(MaxPooling1D(pool_size=2))\n",
    "    \n",
    "    model.add(Flatten())\n",
    "    model.add(Dense(256, activation='relu'))\n",
    "    model.add(Lambda(lambda x: K.dropout(x,level=0.05)))\n",
    "    model.add(Dense(y_scaledTrain.shape[-1], activation='relu'))\n",
    "\n",
    "    return model"
   ]
  },
  {
   "cell_type": "code",
   "execution_count": 134,
   "id": "94f21a2a",
   "metadata": {},
   "outputs": [],
   "source": [
    "tau = 10000\n",
    "lengthscale = .01\n",
    "reg = lengthscale**2 * (1 - 0.05) / (2. * 100000 * tau)"
   ]
  },
  {
   "cell_type": "code",
   "execution_count": 136,
   "id": "904dc9f4",
   "metadata": {},
   "outputs": [],
   "source": [
    "from tensorflow.keras import layers\n",
    "from tensorflow.keras import regularizers"
   ]
  },
  {
   "cell_type": "code",
   "execution_count": 102,
   "id": "3fd9ed81",
   "metadata": {},
   "outputs": [],
   "source": [
    "def network():\n",
    "    model = Sequential()\n",
    "    model.add(Conv1D(filters=32, kernel_size=2, activation='tanh', input_shape=(X_scaledTrain.shape[1], 1)))\n",
    "    model.add(MaxPooling1D(pool_size=2))\n",
    "    \n",
    "    model.add(Conv1D(filters=64, kernel_size=2, activation='relu'))\n",
    "    model.add(BatchNormalization())\n",
    "    \n",
    "    model.add(Conv1D(filters=64, kernel_size=2, activation='relu'))\n",
    "    model.add(MaxPooling1D(pool_size=2))\n",
    "    \n",
    "    model.add(Flatten())\n",
    "    model.add(Dense(32, activation='relu', kernel_regularizer = regularizers.l2(reg)))\n",
    "    model.add(Lambda(lambda x: K.dropout(x,level=0.05)))\n",
    "    model.add(Dense(y_scaledTrain.shape[-1], activation='relu'))\n",
    "\n",
    "    return model"
   ]
  },
  {
   "cell_type": "code",
   "execution_count": 179,
   "id": "c3ee8c62",
   "metadata": {},
   "outputs": [],
   "source": [
    "#Creating Neural Network model\n",
    "def network():\n",
    "    exoAtmos = Sequential()\n",
    "\n",
    "    exoAtmos.add(Dense(8, kernel_initializer='normal', activation='relu'))\n",
    "    exoAtmos.add(BatchNormalization())\n",
    "    exoAtmos.add(Dropout(0.05))\n",
    "    \n",
    "    exoAtmos.add(Dense(8, kernel_initializer='normal', activation='relu'))\n",
    "    exoAtmos.add(BatchNormalization())\n",
    "    exoAtmos.add(Dropout(0.05))\n",
    "\n",
    "\n",
    "    # The Output Layer :\n",
    "    exoAtmos.add(Dense(1))\n",
    "\n",
    "    opt = tf.keras.optimizers.SGD(learning_rate=1)\n",
    "    # Compile the network :\n",
    "    exoAtmos.compile(loss='mae', optimizer=opt)\n",
    "    \n",
    "    return exoAtmos"
   ]
  },
  {
   "cell_type": "code",
   "execution_count": 234,
   "id": "a31d6063",
   "metadata": {
    "scrolled": false
   },
   "outputs": [],
   "source": [
    "cnn = network()\n",
    "sgd = tensorflow.keras.optimizers.SGD(lr=0.1)\n",
    "cnn.compile(loss='mean_squared_error')#,optimizer='sgd')"
   ]
  },
  {
   "cell_type": "code",
   "execution_count": null,
   "id": "c4960052",
   "metadata": {},
   "outputs": [],
   "source": []
  },
  {
   "cell_type": "code",
   "execution_count": 236,
   "id": "a51a09f5",
   "metadata": {
    "scrolled": true
   },
   "outputs": [
    {
     "name": "stdout",
     "output_type": "stream",
     "text": [
      "Epoch 1/10\n",
      "219/219 [==============================] - 60s 273ms/step - loss: 1.0000\n",
      "Epoch 2/10\n",
      "219/219 [==============================] - 61s 278ms/step - loss: 1.0000\n",
      "Epoch 3/10\n",
      "219/219 [==============================] - 64s 290ms/step - loss: 1.0000\n",
      "Epoch 4/10\n",
      "219/219 [==============================] - 68s 312ms/step - loss: 1.0000\n",
      "Epoch 5/10\n",
      " 56/219 [======>.......................] - ETA: 54s - loss: 1.0087"
     ]
    },
    {
     "ename": "KeyboardInterrupt",
     "evalue": "",
     "output_type": "error",
     "traceback": [
      "\u001b[1;31m---------------------------------------------------------------------------\u001b[0m",
      "\u001b[1;31mKeyboardInterrupt\u001b[0m                         Traceback (most recent call last)",
      "\u001b[1;32m<ipython-input-236-f78386f4c7d8>\u001b[0m in \u001b[0;36m<module>\u001b[1;34m\u001b[0m\n\u001b[1;32m----> 1\u001b[1;33m history = cnn.fit(X_scaledTrain, y_scaledTrain,\n\u001b[0m\u001b[0;32m      2\u001b[0m                           \u001b[0mepochs\u001b[0m\u001b[1;33m=\u001b[0m\u001b[1;36m10\u001b[0m\u001b[1;33m,\u001b[0m\u001b[1;33m\u001b[0m\u001b[1;33m\u001b[0m\u001b[0m\n\u001b[0;32m      3\u001b[0m                           verbose=1)\n",
      "\u001b[1;32m~\\AppData\\Roaming\\Python\\Python38\\site-packages\\tensorflow\\python\\keras\\engine\\training.py\u001b[0m in \u001b[0;36mfit\u001b[1;34m(self, x, y, batch_size, epochs, verbose, callbacks, validation_split, validation_data, shuffle, class_weight, sample_weight, initial_epoch, steps_per_epoch, validation_steps, validation_batch_size, validation_freq, max_queue_size, workers, use_multiprocessing)\u001b[0m\n\u001b[0;32m   1093\u001b[0m                 _r=1):\n\u001b[0;32m   1094\u001b[0m               \u001b[0mcallbacks\u001b[0m\u001b[1;33m.\u001b[0m\u001b[0mon_train_batch_begin\u001b[0m\u001b[1;33m(\u001b[0m\u001b[0mstep\u001b[0m\u001b[1;33m)\u001b[0m\u001b[1;33m\u001b[0m\u001b[1;33m\u001b[0m\u001b[0m\n\u001b[1;32m-> 1095\u001b[1;33m               \u001b[0mtmp_logs\u001b[0m \u001b[1;33m=\u001b[0m \u001b[0mself\u001b[0m\u001b[1;33m.\u001b[0m\u001b[0mtrain_function\u001b[0m\u001b[1;33m(\u001b[0m\u001b[0miterator\u001b[0m\u001b[1;33m)\u001b[0m\u001b[1;33m\u001b[0m\u001b[1;33m\u001b[0m\u001b[0m\n\u001b[0m\u001b[0;32m   1096\u001b[0m               \u001b[1;32mif\u001b[0m \u001b[0mdata_handler\u001b[0m\u001b[1;33m.\u001b[0m\u001b[0mshould_sync\u001b[0m\u001b[1;33m:\u001b[0m\u001b[1;33m\u001b[0m\u001b[1;33m\u001b[0m\u001b[0m\n\u001b[0;32m   1097\u001b[0m                 \u001b[0mcontext\u001b[0m\u001b[1;33m.\u001b[0m\u001b[0masync_wait\u001b[0m\u001b[1;33m(\u001b[0m\u001b[1;33m)\u001b[0m\u001b[1;33m\u001b[0m\u001b[1;33m\u001b[0m\u001b[0m\n",
      "\u001b[1;32m~\\AppData\\Roaming\\Python\\Python38\\site-packages\\tensorflow\\python\\eager\\def_function.py\u001b[0m in \u001b[0;36m__call__\u001b[1;34m(self, *args, **kwds)\u001b[0m\n\u001b[0;32m    826\u001b[0m     \u001b[0mtracing_count\u001b[0m \u001b[1;33m=\u001b[0m \u001b[0mself\u001b[0m\u001b[1;33m.\u001b[0m\u001b[0mexperimental_get_tracing_count\u001b[0m\u001b[1;33m(\u001b[0m\u001b[1;33m)\u001b[0m\u001b[1;33m\u001b[0m\u001b[1;33m\u001b[0m\u001b[0m\n\u001b[0;32m    827\u001b[0m     \u001b[1;32mwith\u001b[0m \u001b[0mtrace\u001b[0m\u001b[1;33m.\u001b[0m\u001b[0mTrace\u001b[0m\u001b[1;33m(\u001b[0m\u001b[0mself\u001b[0m\u001b[1;33m.\u001b[0m\u001b[0m_name\u001b[0m\u001b[1;33m)\u001b[0m \u001b[1;32mas\u001b[0m \u001b[0mtm\u001b[0m\u001b[1;33m:\u001b[0m\u001b[1;33m\u001b[0m\u001b[1;33m\u001b[0m\u001b[0m\n\u001b[1;32m--> 828\u001b[1;33m       \u001b[0mresult\u001b[0m \u001b[1;33m=\u001b[0m \u001b[0mself\u001b[0m\u001b[1;33m.\u001b[0m\u001b[0m_call\u001b[0m\u001b[1;33m(\u001b[0m\u001b[1;33m*\u001b[0m\u001b[0margs\u001b[0m\u001b[1;33m,\u001b[0m \u001b[1;33m**\u001b[0m\u001b[0mkwds\u001b[0m\u001b[1;33m)\u001b[0m\u001b[1;33m\u001b[0m\u001b[1;33m\u001b[0m\u001b[0m\n\u001b[0m\u001b[0;32m    829\u001b[0m       \u001b[0mcompiler\u001b[0m \u001b[1;33m=\u001b[0m \u001b[1;34m\"xla\"\u001b[0m \u001b[1;32mif\u001b[0m \u001b[0mself\u001b[0m\u001b[1;33m.\u001b[0m\u001b[0m_experimental_compile\u001b[0m \u001b[1;32melse\u001b[0m \u001b[1;34m\"nonXla\"\u001b[0m\u001b[1;33m\u001b[0m\u001b[1;33m\u001b[0m\u001b[0m\n\u001b[0;32m    830\u001b[0m       \u001b[0mnew_tracing_count\u001b[0m \u001b[1;33m=\u001b[0m \u001b[0mself\u001b[0m\u001b[1;33m.\u001b[0m\u001b[0mexperimental_get_tracing_count\u001b[0m\u001b[1;33m(\u001b[0m\u001b[1;33m)\u001b[0m\u001b[1;33m\u001b[0m\u001b[1;33m\u001b[0m\u001b[0m\n",
      "\u001b[1;32m~\\AppData\\Roaming\\Python\\Python38\\site-packages\\tensorflow\\python\\eager\\def_function.py\u001b[0m in \u001b[0;36m_call\u001b[1;34m(self, *args, **kwds)\u001b[0m\n\u001b[0;32m    853\u001b[0m       \u001b[1;31m# In this case we have created variables on the first call, so we run the\u001b[0m\u001b[1;33m\u001b[0m\u001b[1;33m\u001b[0m\u001b[1;33m\u001b[0m\u001b[0m\n\u001b[0;32m    854\u001b[0m       \u001b[1;31m# defunned version which is guaranteed to never create variables.\u001b[0m\u001b[1;33m\u001b[0m\u001b[1;33m\u001b[0m\u001b[1;33m\u001b[0m\u001b[0m\n\u001b[1;32m--> 855\u001b[1;33m       \u001b[1;32mreturn\u001b[0m \u001b[0mself\u001b[0m\u001b[1;33m.\u001b[0m\u001b[0m_stateless_fn\u001b[0m\u001b[1;33m(\u001b[0m\u001b[1;33m*\u001b[0m\u001b[0margs\u001b[0m\u001b[1;33m,\u001b[0m \u001b[1;33m**\u001b[0m\u001b[0mkwds\u001b[0m\u001b[1;33m)\u001b[0m  \u001b[1;31m# pylint: disable=not-callable\u001b[0m\u001b[1;33m\u001b[0m\u001b[1;33m\u001b[0m\u001b[0m\n\u001b[0m\u001b[0;32m    856\u001b[0m     \u001b[1;32melif\u001b[0m \u001b[0mself\u001b[0m\u001b[1;33m.\u001b[0m\u001b[0m_stateful_fn\u001b[0m \u001b[1;32mis\u001b[0m \u001b[1;32mnot\u001b[0m \u001b[1;32mNone\u001b[0m\u001b[1;33m:\u001b[0m\u001b[1;33m\u001b[0m\u001b[1;33m\u001b[0m\u001b[0m\n\u001b[0;32m    857\u001b[0m       \u001b[1;31m# Release the lock early so that multiple threads can perform the call\u001b[0m\u001b[1;33m\u001b[0m\u001b[1;33m\u001b[0m\u001b[1;33m\u001b[0m\u001b[0m\n",
      "\u001b[1;32m~\\AppData\\Roaming\\Python\\Python38\\site-packages\\tensorflow\\python\\eager\\function.py\u001b[0m in \u001b[0;36m__call__\u001b[1;34m(self, *args, **kwargs)\u001b[0m\n\u001b[0;32m   2940\u001b[0m       (graph_function,\n\u001b[0;32m   2941\u001b[0m        filtered_flat_args) = self._maybe_define_function(args, kwargs)\n\u001b[1;32m-> 2942\u001b[1;33m     return graph_function._call_flat(\n\u001b[0m\u001b[0;32m   2943\u001b[0m         filtered_flat_args, captured_inputs=graph_function.captured_inputs)  # pylint: disable=protected-access\n\u001b[0;32m   2944\u001b[0m \u001b[1;33m\u001b[0m\u001b[0m\n",
      "\u001b[1;32m~\\AppData\\Roaming\\Python\\Python38\\site-packages\\tensorflow\\python\\eager\\function.py\u001b[0m in \u001b[0;36m_call_flat\u001b[1;34m(self, args, captured_inputs, cancellation_manager)\u001b[0m\n\u001b[0;32m   1916\u001b[0m         and executing_eagerly):\n\u001b[0;32m   1917\u001b[0m       \u001b[1;31m# No tape is watching; skip to running the function.\u001b[0m\u001b[1;33m\u001b[0m\u001b[1;33m\u001b[0m\u001b[1;33m\u001b[0m\u001b[0m\n\u001b[1;32m-> 1918\u001b[1;33m       return self._build_call_outputs(self._inference_function.call(\n\u001b[0m\u001b[0;32m   1919\u001b[0m           ctx, args, cancellation_manager=cancellation_manager))\n\u001b[0;32m   1920\u001b[0m     forward_backward = self._select_forward_and_backward_functions(\n",
      "\u001b[1;32m~\\AppData\\Roaming\\Python\\Python38\\site-packages\\tensorflow\\python\\eager\\function.py\u001b[0m in \u001b[0;36mcall\u001b[1;34m(self, ctx, args, cancellation_manager)\u001b[0m\n\u001b[0;32m    553\u001b[0m       \u001b[1;32mwith\u001b[0m \u001b[0m_InterpolateFunctionError\u001b[0m\u001b[1;33m(\u001b[0m\u001b[0mself\u001b[0m\u001b[1;33m)\u001b[0m\u001b[1;33m:\u001b[0m\u001b[1;33m\u001b[0m\u001b[1;33m\u001b[0m\u001b[0m\n\u001b[0;32m    554\u001b[0m         \u001b[1;32mif\u001b[0m \u001b[0mcancellation_manager\u001b[0m \u001b[1;32mis\u001b[0m \u001b[1;32mNone\u001b[0m\u001b[1;33m:\u001b[0m\u001b[1;33m\u001b[0m\u001b[1;33m\u001b[0m\u001b[0m\n\u001b[1;32m--> 555\u001b[1;33m           outputs = execute.execute(\n\u001b[0m\u001b[0;32m    556\u001b[0m               \u001b[0mstr\u001b[0m\u001b[1;33m(\u001b[0m\u001b[0mself\u001b[0m\u001b[1;33m.\u001b[0m\u001b[0msignature\u001b[0m\u001b[1;33m.\u001b[0m\u001b[0mname\u001b[0m\u001b[1;33m)\u001b[0m\u001b[1;33m,\u001b[0m\u001b[1;33m\u001b[0m\u001b[1;33m\u001b[0m\u001b[0m\n\u001b[0;32m    557\u001b[0m               \u001b[0mnum_outputs\u001b[0m\u001b[1;33m=\u001b[0m\u001b[0mself\u001b[0m\u001b[1;33m.\u001b[0m\u001b[0m_num_outputs\u001b[0m\u001b[1;33m,\u001b[0m\u001b[1;33m\u001b[0m\u001b[1;33m\u001b[0m\u001b[0m\n",
      "\u001b[1;32m~\\AppData\\Roaming\\Python\\Python38\\site-packages\\tensorflow\\python\\eager\\execute.py\u001b[0m in \u001b[0;36mquick_execute\u001b[1;34m(op_name, num_outputs, inputs, attrs, ctx, name)\u001b[0m\n\u001b[0;32m     57\u001b[0m   \u001b[1;32mtry\u001b[0m\u001b[1;33m:\u001b[0m\u001b[1;33m\u001b[0m\u001b[1;33m\u001b[0m\u001b[0m\n\u001b[0;32m     58\u001b[0m     \u001b[0mctx\u001b[0m\u001b[1;33m.\u001b[0m\u001b[0mensure_initialized\u001b[0m\u001b[1;33m(\u001b[0m\u001b[1;33m)\u001b[0m\u001b[1;33m\u001b[0m\u001b[1;33m\u001b[0m\u001b[0m\n\u001b[1;32m---> 59\u001b[1;33m     tensors = pywrap_tfe.TFE_Py_Execute(ctx._handle, device_name, op_name,\n\u001b[0m\u001b[0;32m     60\u001b[0m                                         inputs, attrs, num_outputs)\n\u001b[0;32m     61\u001b[0m   \u001b[1;32mexcept\u001b[0m \u001b[0mcore\u001b[0m\u001b[1;33m.\u001b[0m\u001b[0m_NotOkStatusException\u001b[0m \u001b[1;32mas\u001b[0m \u001b[0me\u001b[0m\u001b[1;33m:\u001b[0m\u001b[1;33m\u001b[0m\u001b[1;33m\u001b[0m\u001b[0m\n",
      "\u001b[1;31mKeyboardInterrupt\u001b[0m: "
     ]
    }
   ],
   "source": [
    "history = cnn.fit(X_scaledTrain, y_scaledTrain,\n",
    "                          epochs=10,\n",
    "                          verbose=1)"
   ]
  },
  {
   "cell_type": "code",
   "execution_count": 183,
   "id": "db9340a4",
   "metadata": {},
   "outputs": [
    {
     "name": "stdout",
     "output_type": "stream",
     "text": [
      "Model: \"sequential_26\"\n",
      "_________________________________________________________________\n",
      "Layer (type)                 Output Shape              Param #   \n",
      "=================================================================\n",
      "dense_52 (Dense)             (None, 8)                 64        \n",
      "_________________________________________________________________\n",
      "batch_normalization_22 (Batc (None, 8)                 32        \n",
      "_________________________________________________________________\n",
      "dropout_27 (Dropout)         (None, 8)                 0         \n",
      "_________________________________________________________________\n",
      "dense_53 (Dense)             (None, 8)                 72        \n",
      "_________________________________________________________________\n",
      "batch_normalization_23 (Batc (None, 8)                 32        \n",
      "_________________________________________________________________\n",
      "dropout_28 (Dropout)         (None, 8)                 0         \n",
      "_________________________________________________________________\n",
      "dense_54 (Dense)             (None, 1)                 9         \n",
      "=================================================================\n",
      "Total params: 209\n",
      "Trainable params: 177\n",
      "Non-trainable params: 32\n",
      "_________________________________________________________________\n"
     ]
    }
   ],
   "source": [
    "cnn.summary()"
   ]
  },
  {
   "cell_type": "code",
   "execution_count": 184,
   "id": "c93aa54e",
   "metadata": {},
   "outputs": [
    {
     "name": "stdout",
     "output_type": "stream",
     "text": [
      ">0.841\n"
     ]
    }
   ],
   "source": [
    "#Evaluating the model\n",
    "mae = cnn.evaluate(X_scaledTest, y_scaledTest, verbose=0)\n",
    "print('>%.3f' % mae)"
   ]
  },
  {
   "cell_type": "code",
   "execution_count": 185,
   "id": "c34c58ae",
   "metadata": {},
   "outputs": [
    {
     "name": "stdout",
     "output_type": "stream",
     "text": [
      "dict_keys(['loss'])\n"
     ]
    },
    {
     "ename": "KeyError",
     "evalue": "'val_loss'",
     "output_type": "error",
     "traceback": [
      "\u001b[1;31m---------------------------------------------------------------------------\u001b[0m",
      "\u001b[1;31mKeyError\u001b[0m                                  Traceback (most recent call last)",
      "\u001b[1;32m<ipython-input-185-9d2d73f434c7>\u001b[0m in \u001b[0;36m<module>\u001b[1;34m\u001b[0m\n\u001b[0;32m      2\u001b[0m \u001b[1;31m# \"Loss\"\u001b[0m\u001b[1;33m\u001b[0m\u001b[1;33m\u001b[0m\u001b[1;33m\u001b[0m\u001b[0m\n\u001b[0;32m      3\u001b[0m \u001b[0mplt\u001b[0m\u001b[1;33m.\u001b[0m\u001b[0mplot\u001b[0m\u001b[1;33m(\u001b[0m\u001b[0mhistory\u001b[0m\u001b[1;33m.\u001b[0m\u001b[0mhistory\u001b[0m\u001b[1;33m[\u001b[0m\u001b[1;34m'loss'\u001b[0m\u001b[1;33m]\u001b[0m\u001b[1;33m)\u001b[0m\u001b[1;33m\u001b[0m\u001b[1;33m\u001b[0m\u001b[0m\n\u001b[1;32m----> 4\u001b[1;33m \u001b[0mplt\u001b[0m\u001b[1;33m.\u001b[0m\u001b[0mplot\u001b[0m\u001b[1;33m(\u001b[0m\u001b[0mhistory\u001b[0m\u001b[1;33m.\u001b[0m\u001b[0mhistory\u001b[0m\u001b[1;33m[\u001b[0m\u001b[1;34m'val_loss'\u001b[0m\u001b[1;33m]\u001b[0m\u001b[1;33m)\u001b[0m\u001b[1;33m\u001b[0m\u001b[1;33m\u001b[0m\u001b[0m\n\u001b[0m\u001b[0;32m      5\u001b[0m \u001b[0mplt\u001b[0m\u001b[1;33m.\u001b[0m\u001b[0mtitle\u001b[0m\u001b[1;33m(\u001b[0m\u001b[1;34m'model loss'\u001b[0m\u001b[1;33m)\u001b[0m\u001b[1;33m\u001b[0m\u001b[1;33m\u001b[0m\u001b[0m\n\u001b[0;32m      6\u001b[0m \u001b[0mplt\u001b[0m\u001b[1;33m.\u001b[0m\u001b[0mylabel\u001b[0m\u001b[1;33m(\u001b[0m\u001b[1;34m'loss'\u001b[0m\u001b[1;33m)\u001b[0m\u001b[1;33m\u001b[0m\u001b[1;33m\u001b[0m\u001b[0m\n",
      "\u001b[1;31mKeyError\u001b[0m: 'val_loss'"
     ]
    },
    {
     "data": {
      "image/png": "[encoded data removed]",
      "text/plain": [
       "<Figure size 432x288 with 1 Axes>"
      ]
     },
     "metadata": {
      "needs_background": "light"
     },
     "output_type": "display_data"
    }
   ],
   "source": [
    "print(history.history.keys())\n",
    "# \"Loss\"\n",
    "plt.plot(history.history['loss'])\n",
    "plt.plot(history.history['val_loss'])\n",
    "plt.title('model loss')\n",
    "plt.ylabel('loss')\n",
    "plt.xlabel('epoch')\n",
    "plt.legend(['train', 'validation'], loc='upper left')\n",
    "plt.show()"
   ]
  },
  {
   "cell_type": "code",
   "execution_count": 186,
   "id": "ab712f16",
   "metadata": {},
   "outputs": [],
   "source": [
    "exoPredict = cnn.predict(X_scaledTrain)"
   ]
  },
  {
   "cell_type": "code",
   "execution_count": 187,
   "id": "80a1a6fb",
   "metadata": {},
   "outputs": [],
   "source": [
    "exoPred_df = pd.DataFrame(exoPredict, columns = [0])\n",
    "ypred_df = pd.DataFrame(y_scaledTest, columns = [0])"
   ]
  },
  {
   "cell_type": "code",
   "execution_count": 188,
   "id": "e49535c6",
   "metadata": {
    "scrolled": true
   },
   "outputs": [
    {
     "data": {
      "text/plain": [
       "array([[<AxesSubplot:title={'center':'0'}>]], dtype=object)"
      ]
     },
     "execution_count": 188,
     "metadata": {},
     "output_type": "execute_result"
    },
    {
     "data": {
      "image/png": "[encoded data removed]",
      "text/plain": [
       "<Figure size 432x288 with 1 Axes>"
      ]
     },
     "metadata": {
      "needs_background": "light"
     },
     "output_type": "display_data"
    }
   ],
   "source": [
    "exoPred_df.hist(column=0)"
   ]
  },
  {
   "cell_type": "code",
   "execution_count": 189,
   "id": "08b26630",
   "metadata": {
    "scrolled": true
   },
   "outputs": [
    {
     "data": {
      "text/plain": [
       "array([[<AxesSubplot:title={'center':'0'}>]], dtype=object)"
      ]
     },
     "execution_count": 189,
     "metadata": {},
     "output_type": "execute_result"
    },
    {
     "data": {
      "image/png": "[encoded data removed]",
      "text/plain": [
       "<Figure size 432x288 with 1 Axes>"
      ]
     },
     "metadata": {
      "needs_background": "light"
     },
     "output_type": "display_data"
    }
   ],
   "source": [
    "ypred_df.hist(column=0)"
   ]
  }
 ],
 "metadata": {
  "kernelspec": {
   "display_name": "Python 3",
   "language": "python",
   "name": "python3"
  },
  "language_info": {
   "codemirror_mode": {
    "name": "ipython",
    "version": 3
   },
   "file_extension": ".py",
   "mimetype": "text/x-python",
   "name": "python",
   "nbconvert_exporter": "python",
   "pygments_lexer": "ipython3",
   "version": "3.8.8"
  }
 },
 "nbformat": 4,
 "nbformat_minor": 5
}
