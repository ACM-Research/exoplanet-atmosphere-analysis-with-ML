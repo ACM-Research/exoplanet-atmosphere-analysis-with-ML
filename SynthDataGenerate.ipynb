{
 "cells": [
  {
   "cell_type": "code",
   "execution_count": 70,
   "id": "520429e5",
   "metadata": {},
   "outputs": [
    {
     "name": "stdout",
     "output_type": "stream",
     "text": [
      "Collecting pomegranate\n",
      "  Downloading pomegranate-0.14.8-cp38-cp38-win_amd64.whl (6.5 MB)\n",
      "Requirement already satisfied: pyyaml in c:\\users\\abhi\\anaconda3\\lib\\site-packages (from pomegranate) (5.4.1)\n",
      "Requirement already satisfied: scipy>=0.17.0 in c:\\users\\abhi\\anaconda3\\lib\\site-packages (from pomegranate) (1.5.4)Note: you may need to restart the kernel to use updated packages.\n"
     ]
    },
    {
     "name": "stderr",
     "output_type": "stream",
     "text": [
      "ERROR: pip's dependency resolver does not currently take into account all the packages that are installed. This behaviour is the source of the following dependency conflicts.\n",
      "ydata-synthetic 0.6.1 requires matplotlib==3.3.2, but you have matplotlib 3.5.1 which is incompatible.\n",
      "ydata-synthetic 0.6.1 requires numpy==1.19.*, but you have numpy 1.22.3 which is incompatible.\n",
      "ydata-synthetic 0.6.1 requires scikit-learn==1.0.*, but you have scikit-learn 0.23.1 which is incompatible.\n",
      "tensorflow 2.4.4 requires numpy~=1.19.2, but you have numpy 1.22.3 which is incompatible.\n",
      "sdmetrics 0.4.1 requires scikit-learn<2,>=0.24, but you have scikit-learn 0.23.1 which is incompatible.\n",
      "rdt 0.6.4 requires scikit-learn<2,>=0.24, but you have scikit-learn 0.23.1 which is incompatible.\n",
      "imbalanced-learn 0.9.0 requires scikit-learn>=1.0.1, but you have scikit-learn 0.23.1 which is incompatible.\n",
      "ctgan 0.5.1 requires scikit-learn<2,>=0.24, but you have scikit-learn 0.23.1 which is incompatible.\n"
     ]
    },
    {
     "name": "stdout",
     "output_type": "stream",
     "text": [
      "\n",
      "Requirement already satisfied: networkx>=2.4 in c:\\users\\abhi\\anaconda3\\lib\\site-packages (from pomegranate) (2.5)\n",
      "Requirement already satisfied: joblib>=0.9.0b4 in c:\\users\\abhi\\anaconda3\\lib\\site-packages (from pomegranate) (1.0.0)\n",
      "Collecting numpy>=1.20.0\n",
      "  Using cached numpy-1.22.3-cp38-cp38-win_amd64.whl (14.7 MB)\n",
      "Requirement already satisfied: decorator>=4.3.0 in c:\\users\\abhi\\anaconda3\\lib\\site-packages (from networkx>=2.4->pomegranate) (5.0.6)\n",
      "Installing collected packages: numpy, pomegranate\n",
      "  Attempting uninstall: numpy\n",
      "    Found existing installation: numpy 1.19.1\n",
      "    Uninstalling numpy-1.19.1:\n",
      "      Successfully uninstalled numpy-1.19.1\n",
      "Successfully installed numpy-1.22.3 pomegranate-0.14.8\n"
     ]
    }
   ],
   "source": [
    "pip install pomegranate"
   ]
  },
  {
   "cell_type": "code",
   "execution_count": 16,
   "id": "464e95b7",
   "metadata": {},
   "outputs": [],
   "source": [
    "import os\n",
    "import pandas as pd\n",
    "import matplotlib.pyplot as plt\n",
    "import sklearn.cluster as cluster\n",
    "from numpy import array, random, sum, unique\n",
    "from pandas import DataFrame, read_csv"
   ]
  },
  {
   "cell_type": "code",
   "execution_count": 13,
   "id": "05337731",
   "metadata": {},
   "outputs": [],
   "source": [
    "import matplotlib.pyplot as plt\n",
    "from sklearn.model_selection import train_test_split\n",
    "import imblearn\n",
    "from sklearn.ensemble import RandomForestClassifier, AdaBoostClassifier\n",
    "from sklearn import preprocessing\n",
    "from imblearn.over_sampling import RandomOverSampler\n",
    "from kneed import KneeLocator\n",
    "from sklearn.datasets import make_blobs\n",
    "from sklearn.mixture import GaussianMixture\n",
    "from sklearn.metrics import silhouette_score\n",
    "from sklearn.preprocessing import StandardScaler\n",
    "from tqdm import tqdm\n",
    "from sklearn import metrics\n",
    "from sklearn.manifold import TSNE"
   ]
  },
  {
   "cell_type": "code",
   "execution_count": 11,
   "id": "a4e33d85",
   "metadata": {},
   "outputs": [
    {
     "name": "stdout",
     "output_type": "stream",
     "text": [
      "[[3.27030e-24 3.07616e-24 5.22539e-24 ... 1.32958e-21 1.33228e-21\n",
      "  1.35562e-21]\n",
      " [1.30267e-20 1.30677e-20 1.31157e-20 ... 3.81686e-20 3.81212e-20\n",
      "  3.80739e-20]\n",
      " [6.26322e-21 6.28294e-21 6.30602e-21 ... 1.83835e-20 1.83606e-20\n",
      "  1.83378e-20]\n",
      " ...\n",
      " [2.18046e-21 2.18672e-21 2.19415e-21 ... 4.09628e-21 4.09113e-21\n",
      "  4.08599e-21]\n",
      " [8.45625e-21 8.48075e-21 8.50976e-21 ... 1.65705e-20 1.65496e-20\n",
      "  1.65289e-20]\n",
      " [9.18122e-27 9.43401e-27 1.16085e-26 ... 4.02891e-22 4.05835e-22\n",
      "  4.14389e-22]]\n"
     ]
    }
   ],
   "source": [
    "#Setting up the dataset for ML\n",
    "# Text file data converted to integer data type\n",
    "import numpy as np\n",
    "x_data = np.loadtxt(\"dataset/x_dataTrain.txt\", dtype=float)\n",
    "print(x_data)"
   ]
  },
  {
   "cell_type": "code",
   "execution_count": 12,
   "id": "1bf05294",
   "metadata": {},
   "outputs": [
    {
     "name": "stdout",
     "output_type": "stream",
     "text": [
      "[[5.44779525e-02 3.63563344e-01 3.93226327e-01 ... 3.84039400e-03\n",
      "  1.04632279e-03 8.05759487e-06]\n",
      " [4.16023007e-02 1.98831946e-01 3.19697149e-01 ... 1.58676888e-04\n",
      "  2.70865681e-04 6.98852685e-06]\n",
      " [3.25809662e-02 3.30184164e-01 2.25277622e-01 ... 3.64259914e-04\n",
      "  1.77938880e-05 5.15590766e-06]\n",
      " ...\n",
      " [6.00137545e-03 2.25446819e-01 2.36290974e-01 ... 3.41272939e-03\n",
      "  1.68012889e-04 8.55777941e-06]\n",
      " [9.61424398e-03 2.41019755e-01 4.74460251e-01 ... 2.28148605e-03\n",
      "  1.53862644e-04 3.59720563e-06]\n",
      " [1.48247666e-02 4.65782909e-01 3.00848722e-01 ... 5.70894991e-03\n",
      "  1.74632155e-04 1.76412088e-06]]\n"
     ]
    }
   ],
   "source": [
    "#Setting up the dataset for ML\n",
    "# Text file data converted to integer data type\n",
    "y_data = np.loadtxt(\"dataset/y_dataTrain.txt\", dtype=float)\n",
    "print(y_data)"
   ]
  },
  {
   "cell_type": "code",
   "execution_count": 17,
   "id": "6e5e3f7c",
   "metadata": {},
   "outputs": [],
   "source": [
    "features = pd.DataFrame(x_data)"
   ]
  },
  {
   "cell_type": "code",
   "execution_count": 18,
   "id": "b704c8f1",
   "metadata": {},
   "outputs": [],
   "source": [
    "#Scaling the features\n",
    "scaler = StandardScaler()\n",
    "scaled_features = scaler.fit_transform(features)"
   ]
  },
  {
   "cell_type": "code",
   "execution_count": 22,
   "id": "637024ee",
   "metadata": {},
   "outputs": [],
   "source": [
    "#Applying PCA for random forest regression\n",
    "from sklearn.decomposition import PCA\n",
    "pca = PCA()\n",
    "principalComponents = pca.fit_transform(scaled_features)\n",
    "#principalDf = pd.DataFrame(data = principalComponents)"
   ]
  },
  {
   "cell_type": "code",
   "execution_count": 27,
   "id": "88c0e51d",
   "metadata": {},
   "outputs": [
    {
     "data": {
      "text/plain": [
       "array([ 1,  2,  3,  4,  5,  6,  7,  8,  9, 10])"
      ]
     },
     "execution_count": 27,
     "metadata": {},
     "output_type": "execute_result"
    }
   ],
   "source": [
    "PC_values = np.arange(10) + 1\n",
    "PC_values"
   ]
  },
  {
   "cell_type": "code",
   "execution_count": 28,
   "id": "281f51ab",
   "metadata": {},
   "outputs": [
    {
     "data": {
      "image/png": "[encoded data removed]",
      "text/plain": [
       "<Figure size 432x288 with 1 Axes>"
      ]
     },
     "metadata": {
      "needs_background": "light"
     },
     "output_type": "display_data"
    }
   ],
   "source": [
    "#Graphing scree plot\n",
    "PC_values = np.arange(10) + 1\n",
    "plt.plot(PC_values, pca.explained_variance_ratio_[:10], 'o-', linewidth=2, color='blue')\n",
    "plt.title('Scree Plot')\n",
    "plt.xlabel('Principal Component')\n",
    "plt.ylabel('Variance Explained')\n",
    "plt.show()"
   ]
  },
  {
   "cell_type": "code",
   "execution_count": 55,
   "id": "aa40bafb",
   "metadata": {},
   "outputs": [],
   "source": [
    "from sklearn.decomposition import PCA\n",
    "pca = PCA(n_components=7)\n",
    "principalComponents = pca.fit_transform(scaled_features)\n",
    "principalDf = pd.DataFrame(data = principalComponents\n",
    "             , columns = ['PC1','PC2','PC3','PC4', 'PC5', 'PC6', 'PC7'])"
   ]
  },
  {
   "cell_type": "code",
   "execution_count": 50,
   "id": "b0929018",
   "metadata": {},
   "outputs": [
    {
     "data": {
      "image/png": "[encoded data removed]",
      "text/plain": [
       "<Figure size 432x288 with 1 Axes>"
      ]
     },
     "metadata": {
      "needs_background": "light"
     },
     "output_type": "display_data"
    }
   ],
   "source": [
    "plt.plot(principalDf.iloc[78,:])\n",
    "plt.show()"
   ]
  },
  {
   "cell_type": "code",
   "execution_count": 52,
   "id": "d0ab3a3e",
   "metadata": {},
   "outputs": [],
   "source": [
    "feature_dict = {\n",
    "    0 : 'H2O',\n",
    "    1 : 'CO2',\n",
    "    2 : 'O2',\n",
    "    3 : 'N2',\n",
    "    4 : 'CH4',\n",
    "    5 : 'N2O',\n",
    "    6 : 'CO',\n",
    "    7 : 'O3',\n",
    "    8 : 'SO2',\n",
    "    9 : 'NH3',\n",
    "    10 : 'C2H6',\n",
    "    11 : 'NO2'\n",
    "}"
   ]
  },
  {
   "cell_type": "code",
   "execution_count": 53,
   "id": "fe9b077e",
   "metadata": {},
   "outputs": [
    {
     "name": "stderr",
     "output_type": "stream",
     "text": [
      "<ipython-input-53-cb945ec1c6d5>:6: SettingWithCopyWarning: \n",
      "A value is trying to be set on a copy of a slice from a DataFrame.\n",
      "Try using .loc[row_indexer,col_indexer] = value instead\n",
      "\n",
      "See the caveats in the documentation: https://pandas.pydata.org/pandas-docs/stable/user_guide/indexing.html#returning-a-view-versus-a-copy\n",
      "  labelsSum['H2O'] = labelsSum['H2O'].apply(lambda x: x*100)\n",
      "<ipython-input-53-cb945ec1c6d5>:7: SettingWithCopyWarning: \n",
      "A value is trying to be set on a copy of a slice from a DataFrame.\n",
      "Try using .loc[row_indexer,col_indexer] = value instead\n",
      "\n",
      "See the caveats in the documentation: https://pandas.pydata.org/pandas-docs/stable/user_guide/indexing.html#returning-a-view-versus-a-copy\n",
      "  labelsSum['CO2'] = labelsSum['CO2'].apply(lambda x: x*100)\n",
      "<ipython-input-53-cb945ec1c6d5>:8: SettingWithCopyWarning: \n",
      "A value is trying to be set on a copy of a slice from a DataFrame.\n",
      "Try using .loc[row_indexer,col_indexer] = value instead\n",
      "\n",
      "See the caveats in the documentation: https://pandas.pydata.org/pandas-docs/stable/user_guide/indexing.html#returning-a-view-versus-a-copy\n",
      "  labelsSum['O2'] = labelsSum['O2'].apply(lambda x: x*100)\n",
      "<ipython-input-53-cb945ec1c6d5>:9: SettingWithCopyWarning: \n",
      "A value is trying to be set on a copy of a slice from a DataFrame.\n",
      "Try using .loc[row_indexer,col_indexer] = value instead\n",
      "\n",
      "See the caveats in the documentation: https://pandas.pydata.org/pandas-docs/stable/user_guide/indexing.html#returning-a-view-versus-a-copy\n",
      "  labelsSum['N2'] = labelsSum['N2'].apply(lambda x: x*100)\n",
      "<ipython-input-53-cb945ec1c6d5>:10: SettingWithCopyWarning: \n",
      "A value is trying to be set on a copy of a slice from a DataFrame.\n",
      "Try using .loc[row_indexer,col_indexer] = value instead\n",
      "\n",
      "See the caveats in the documentation: https://pandas.pydata.org/pandas-docs/stable/user_guide/indexing.html#returning-a-view-versus-a-copy\n",
      "  labelsSum['CH4'] = labelsSum['CH4'].apply(lambda x: x*100)\n"
     ]
    },
    {
     "data": {
      "text/html": [
       "<div>\n",
       "<style scoped>\n",
       "    .dataframe tbody tr th:only-of-type {\n",
       "        vertical-align: middle;\n",
       "    }\n",
       "\n",
       "    .dataframe tbody tr th {\n",
       "        vertical-align: top;\n",
       "    }\n",
       "\n",
       "    .dataframe thead th {\n",
       "        text-align: right;\n",
       "    }\n",
       "</style>\n",
       "<table border=\"1\" class=\"dataframe\">\n",
       "  <thead>\n",
       "    <tr style=\"text-align: right;\">\n",
       "      <th></th>\n",
       "      <th>H2O</th>\n",
       "      <th>CO2</th>\n",
       "      <th>O2</th>\n",
       "      <th>N2</th>\n",
       "      <th>CH4</th>\n",
       "    </tr>\n",
       "  </thead>\n",
       "  <tbody>\n",
       "    <tr>\n",
       "      <th>0</th>\n",
       "      <td>5.447795</td>\n",
       "      <td>36.356334</td>\n",
       "      <td>39.322633</td>\n",
       "      <td>2.347669</td>\n",
       "      <td>12.807289</td>\n",
       "    </tr>\n",
       "    <tr>\n",
       "      <th>1</th>\n",
       "      <td>4.160230</td>\n",
       "      <td>19.883195</td>\n",
       "      <td>31.969715</td>\n",
       "      <td>37.276586</td>\n",
       "      <td>4.568130</td>\n",
       "    </tr>\n",
       "    <tr>\n",
       "      <th>2</th>\n",
       "      <td>3.258097</td>\n",
       "      <td>33.018416</td>\n",
       "      <td>22.527762</td>\n",
       "      <td>36.730550</td>\n",
       "      <td>2.988821</td>\n",
       "    </tr>\n",
       "    <tr>\n",
       "      <th>3</th>\n",
       "      <td>4.756591</td>\n",
       "      <td>22.928300</td>\n",
       "      <td>52.232608</td>\n",
       "      <td>0.433152</td>\n",
       "      <td>14.348949</td>\n",
       "    </tr>\n",
       "    <tr>\n",
       "      <th>4</th>\n",
       "      <td>8.355934</td>\n",
       "      <td>19.788123</td>\n",
       "      <td>39.827563</td>\n",
       "      <td>22.288283</td>\n",
       "      <td>6.370204</td>\n",
       "    </tr>\n",
       "    <tr>\n",
       "      <th>...</th>\n",
       "      <td>...</td>\n",
       "      <td>...</td>\n",
       "      <td>...</td>\n",
       "      <td>...</td>\n",
       "      <td>...</td>\n",
       "    </tr>\n",
       "    <tr>\n",
       "      <th>9998</th>\n",
       "      <td>3.211915</td>\n",
       "      <td>34.743236</td>\n",
       "      <td>35.990073</td>\n",
       "      <td>22.761101</td>\n",
       "      <td>1.522112</td>\n",
       "    </tr>\n",
       "    <tr>\n",
       "      <th>9999</th>\n",
       "      <td>1.049656</td>\n",
       "      <td>18.019818</td>\n",
       "      <td>33.185333</td>\n",
       "      <td>42.389717</td>\n",
       "      <td>3.421742</td>\n",
       "    </tr>\n",
       "    <tr>\n",
       "      <th>10000</th>\n",
       "      <td>0.600138</td>\n",
       "      <td>22.544682</td>\n",
       "      <td>23.629097</td>\n",
       "      <td>46.500135</td>\n",
       "      <td>5.045736</td>\n",
       "    </tr>\n",
       "    <tr>\n",
       "      <th>10001</th>\n",
       "      <td>0.961424</td>\n",
       "      <td>24.101976</td>\n",
       "      <td>47.446025</td>\n",
       "      <td>19.817285</td>\n",
       "      <td>4.904123</td>\n",
       "    </tr>\n",
       "    <tr>\n",
       "      <th>10002</th>\n",
       "      <td>1.482477</td>\n",
       "      <td>46.578291</td>\n",
       "      <td>30.084872</td>\n",
       "      <td>12.549951</td>\n",
       "      <td>6.215847</td>\n",
       "    </tr>\n",
       "  </tbody>\n",
       "</table>\n",
       "<p>10003 rows × 5 columns</p>\n",
       "</div>"
      ],
      "text/plain": [
       "            H2O        CO2         O2         N2        CH4\n",
       "0      5.447795  36.356334  39.322633   2.347669  12.807289\n",
       "1      4.160230  19.883195  31.969715  37.276586   4.568130\n",
       "2      3.258097  33.018416  22.527762  36.730550   2.988821\n",
       "3      4.756591  22.928300  52.232608   0.433152  14.348949\n",
       "4      8.355934  19.788123  39.827563  22.288283   6.370204\n",
       "...         ...        ...        ...        ...        ...\n",
       "9998   3.211915  34.743236  35.990073  22.761101   1.522112\n",
       "9999   1.049656  18.019818  33.185333  42.389717   3.421742\n",
       "10000  0.600138  22.544682  23.629097  46.500135   5.045736\n",
       "10001  0.961424  24.101976  47.446025  19.817285   4.904123\n",
       "10002  1.482477  46.578291  30.084872  12.549951   6.215847\n",
       "\n",
       "[10003 rows x 5 columns]"
      ]
     },
     "execution_count": 53,
     "metadata": {},
     "output_type": "execute_result"
    }
   ],
   "source": [
    "labels = pd.DataFrame(y_data)\n",
    "labels.rename(columns=feature_dict,\n",
    "          inplace=True)\n",
    "labelsSum = labels[['H2O','CO2', 'O2', 'N2', 'CH4']]\n",
    "\n",
    "labelsSum['H2O'] = labelsSum['H2O'].apply(lambda x: x*100)\n",
    "labelsSum['CO2'] = labelsSum['CO2'].apply(lambda x: x*100)\n",
    "labelsSum['O2'] = labelsSum['O2'].apply(lambda x: x*100)\n",
    "labelsSum['N2'] = labelsSum['N2'].apply(lambda x: x*100)\n",
    "labelsSum['CH4'] = labelsSum['CH4'].apply(lambda x: x*100)\n",
    "\n",
    "labelsSum"
   ]
  },
  {
   "cell_type": "code",
   "execution_count": 56,
   "id": "aefb8723",
   "metadata": {},
   "outputs": [],
   "source": [
    "#principalDf['H2O'] = labelsSum['H2O']\n",
    "principalDf['CO2'] = labelsSum['CO2']\n",
    "#principalDf['O2'] = labelsSum['O2']\n",
    "#principalDf['N2'] = labelsSum['N2']\n",
    "#principalDf['CH4'] = labelsSum['CH4']"
   ]
  },
  {
   "cell_type": "code",
   "execution_count": 57,
   "id": "7df35e95",
   "metadata": {},
   "outputs": [
    {
     "data": {
      "text/html": [
       "<div>\n",
       "<style scoped>\n",
       "    .dataframe tbody tr th:only-of-type {\n",
       "        vertical-align: middle;\n",
       "    }\n",
       "\n",
       "    .dataframe tbody tr th {\n",
       "        vertical-align: top;\n",
       "    }\n",
       "\n",
       "    .dataframe thead th {\n",
       "        text-align: right;\n",
       "    }\n",
       "</style>\n",
       "<table border=\"1\" class=\"dataframe\">\n",
       "  <thead>\n",
       "    <tr style=\"text-align: right;\">\n",
       "      <th></th>\n",
       "      <th>PC1</th>\n",
       "      <th>PC2</th>\n",
       "      <th>PC3</th>\n",
       "      <th>PC4</th>\n",
       "      <th>PC5</th>\n",
       "      <th>PC6</th>\n",
       "      <th>PC7</th>\n",
       "      <th>CO2</th>\n",
       "    </tr>\n",
       "  </thead>\n",
       "  <tbody>\n",
       "    <tr>\n",
       "      <th>0</th>\n",
       "      <td>-25.424643</td>\n",
       "      <td>2.816010</td>\n",
       "      <td>-0.932619</td>\n",
       "      <td>-0.942056</td>\n",
       "      <td>0.745698</td>\n",
       "      <td>0.485008</td>\n",
       "      <td>-0.116221</td>\n",
       "      <td>36.356334</td>\n",
       "    </tr>\n",
       "    <tr>\n",
       "      <th>1</th>\n",
       "      <td>39.018136</td>\n",
       "      <td>-29.472460</td>\n",
       "      <td>7.854192</td>\n",
       "      <td>-0.731919</td>\n",
       "      <td>-1.544823</td>\n",
       "      <td>-2.029103</td>\n",
       "      <td>0.584580</td>\n",
       "      <td>19.883195</td>\n",
       "    </tr>\n",
       "    <tr>\n",
       "      <th>2</th>\n",
       "      <td>6.010855</td>\n",
       "      <td>-12.086132</td>\n",
       "      <td>3.994593</td>\n",
       "      <td>1.049289</td>\n",
       "      <td>0.840798</td>\n",
       "      <td>-1.299079</td>\n",
       "      <td>-0.334912</td>\n",
       "      <td>33.018416</td>\n",
       "    </tr>\n",
       "    <tr>\n",
       "      <th>3</th>\n",
       "      <td>30.156434</td>\n",
       "      <td>18.272219</td>\n",
       "      <td>-6.171593</td>\n",
       "      <td>3.593129</td>\n",
       "      <td>-6.599576</td>\n",
       "      <td>-0.526198</td>\n",
       "      <td>0.699163</td>\n",
       "      <td>22.928300</td>\n",
       "    </tr>\n",
       "    <tr>\n",
       "      <th>4</th>\n",
       "      <td>-23.095682</td>\n",
       "      <td>3.422651</td>\n",
       "      <td>-1.141312</td>\n",
       "      <td>-0.788522</td>\n",
       "      <td>0.414359</td>\n",
       "      <td>0.438226</td>\n",
       "      <td>-0.070641</td>\n",
       "      <td>19.788123</td>\n",
       "    </tr>\n",
       "    <tr>\n",
       "      <th>...</th>\n",
       "      <td>...</td>\n",
       "      <td>...</td>\n",
       "      <td>...</td>\n",
       "      <td>...</td>\n",
       "      <td>...</td>\n",
       "      <td>...</td>\n",
       "      <td>...</td>\n",
       "      <td>...</td>\n",
       "    </tr>\n",
       "    <tr>\n",
       "      <th>9998</th>\n",
       "      <td>-25.303770</td>\n",
       "      <td>3.240217</td>\n",
       "      <td>-0.555026</td>\n",
       "      <td>-0.276243</td>\n",
       "      <td>0.978344</td>\n",
       "      <td>0.225030</td>\n",
       "      <td>-0.285261</td>\n",
       "      <td>34.743236</td>\n",
       "    </tr>\n",
       "    <tr>\n",
       "      <th>9999</th>\n",
       "      <td>-8.128290</td>\n",
       "      <td>7.706736</td>\n",
       "      <td>-1.876401</td>\n",
       "      <td>1.225997</td>\n",
       "      <td>-0.965653</td>\n",
       "      <td>-0.001985</td>\n",
       "      <td>0.136725</td>\n",
       "      <td>18.019818</td>\n",
       "    </tr>\n",
       "    <tr>\n",
       "      <th>10000</th>\n",
       "      <td>-18.029311</td>\n",
       "      <td>-3.027248</td>\n",
       "      <td>0.804120</td>\n",
       "      <td>-1.089628</td>\n",
       "      <td>0.583664</td>\n",
       "      <td>-0.095435</td>\n",
       "      <td>0.067898</td>\n",
       "      <td>22.544682</td>\n",
       "    </tr>\n",
       "    <tr>\n",
       "      <th>10001</th>\n",
       "      <td>7.173905</td>\n",
       "      <td>-18.804619</td>\n",
       "      <td>5.598486</td>\n",
       "      <td>-1.138705</td>\n",
       "      <td>-0.311114</td>\n",
       "      <td>-1.824128</td>\n",
       "      <td>0.587837</td>\n",
       "      <td>24.101976</td>\n",
       "    </tr>\n",
       "    <tr>\n",
       "      <th>10002</th>\n",
       "      <td>-26.309488</td>\n",
       "      <td>2.593597</td>\n",
       "      <td>-0.833529</td>\n",
       "      <td>-0.986762</td>\n",
       "      <td>0.838517</td>\n",
       "      <td>0.502824</td>\n",
       "      <td>-0.136655</td>\n",
       "      <td>46.578291</td>\n",
       "    </tr>\n",
       "  </tbody>\n",
       "</table>\n",
       "<p>10003 rows × 8 columns</p>\n",
       "</div>"
      ],
      "text/plain": [
       "             PC1        PC2       PC3       PC4       PC5       PC6       PC7  \\\n",
       "0     -25.424643   2.816010 -0.932619 -0.942056  0.745698  0.485008 -0.116221   \n",
       "1      39.018136 -29.472460  7.854192 -0.731919 -1.544823 -2.029103  0.584580   \n",
       "2       6.010855 -12.086132  3.994593  1.049289  0.840798 -1.299079 -0.334912   \n",
       "3      30.156434  18.272219 -6.171593  3.593129 -6.599576 -0.526198  0.699163   \n",
       "4     -23.095682   3.422651 -1.141312 -0.788522  0.414359  0.438226 -0.070641   \n",
       "...          ...        ...       ...       ...       ...       ...       ...   \n",
       "9998  -25.303770   3.240217 -0.555026 -0.276243  0.978344  0.225030 -0.285261   \n",
       "9999   -8.128290   7.706736 -1.876401  1.225997 -0.965653 -0.001985  0.136725   \n",
       "10000 -18.029311  -3.027248  0.804120 -1.089628  0.583664 -0.095435  0.067898   \n",
       "10001   7.173905 -18.804619  5.598486 -1.138705 -0.311114 -1.824128  0.587837   \n",
       "10002 -26.309488   2.593597 -0.833529 -0.986762  0.838517  0.502824 -0.136655   \n",
       "\n",
       "             CO2  \n",
       "0      36.356334  \n",
       "1      19.883195  \n",
       "2      33.018416  \n",
       "3      22.928300  \n",
       "4      19.788123  \n",
       "...          ...  \n",
       "9998   34.743236  \n",
       "9999   18.019818  \n",
       "10000  22.544682  \n",
       "10001  24.101976  \n",
       "10002  46.578291  \n",
       "\n",
       "[10003 rows x 8 columns]"
      ]
     },
     "execution_count": 57,
     "metadata": {},
     "output_type": "execute_result"
    }
   ],
   "source": [
    "principalDf"
   ]
  },
  {
   "cell_type": "code",
   "execution_count": 58,
   "id": "2fcd63bc",
   "metadata": {},
   "outputs": [
    {
     "name": "stderr",
     "output_type": "stream",
     "text": [
      "C:\\Users\\abhi\\anaconda3\\lib\\site-packages\\scipy\\stats\\_continuous_distns.py:621: RuntimeWarning: invalid value encountered in sqrt\n",
      "  sk = 2*(b-a)*np.sqrt(a + b + 1) / (a + b + 2) / np.sqrt(a*b)\n",
      "C:\\Users\\abhi\\anaconda3\\lib\\site-packages\\scipy\\optimize\\minpack.py:175: RuntimeWarning: The iteration is not making good progress, as measured by the \n",
      "  improvement from the last ten iterations.\n",
      "  warnings.warn(msg, RuntimeWarning)\n",
      "C:\\Users\\abhi\\anaconda3\\lib\\site-packages\\scipy\\stats\\_continuous_distns.py:5003: RuntimeWarning: divide by zero encountered in true_divide\n",
      "  This parametrization corresponds to setting ``s = sigma`` and ``scale =\n",
      "C:\\Users\\abhi\\anaconda3\\lib\\site-packages\\scipy\\stats\\_distn_infrastructure.py:2494: RuntimeWarning: invalid value encountered in double_scalars\n",
      "  support of the distribution.\n",
      "C:\\Users\\abhi\\anaconda3\\lib\\site-packages\\scipy\\stats\\_continuous_distns.py:4994: RuntimeWarning: divide by zero encountered in power\n",
      "  for :math:`x > 0`, :math:`s > 0`.\n",
      "C:\\Users\\abhi\\anaconda3\\lib\\site-packages\\scipy\\optimize\\minpack.py:175: RuntimeWarning: The iteration is not making good progress, as measured by the \n",
      "  improvement from the last five Jacobian evaluations.\n",
      "  warnings.warn(msg, RuntimeWarning)\n"
     ]
    }
   ],
   "source": [
    "#Create synthetic data\n",
    "from sdv.tabular import GaussianCopula\n",
    "model = GaussianCopula()\n",
    "model.fit(principalDf)"
   ]
  },
  {
   "cell_type": "code",
   "execution_count": 64,
   "id": "7ee4fd5e",
   "metadata": {},
   "outputs": [
    {
     "data": {
      "text/html": [
       "<div>\n",
       "<style scoped>\n",
       "    .dataframe tbody tr th:only-of-type {\n",
       "        vertical-align: middle;\n",
       "    }\n",
       "\n",
       "    .dataframe tbody tr th {\n",
       "        vertical-align: top;\n",
       "    }\n",
       "\n",
       "    .dataframe thead th {\n",
       "        text-align: right;\n",
       "    }\n",
       "</style>\n",
       "<table border=\"1\" class=\"dataframe\">\n",
       "  <thead>\n",
       "    <tr style=\"text-align: right;\">\n",
       "      <th></th>\n",
       "      <th>PC1</th>\n",
       "      <th>PC2</th>\n",
       "      <th>PC3</th>\n",
       "      <th>PC4</th>\n",
       "      <th>PC5</th>\n",
       "      <th>PC6</th>\n",
       "      <th>PC7</th>\n",
       "      <th>CO2</th>\n",
       "    </tr>\n",
       "  </thead>\n",
       "  <tbody>\n",
       "    <tr>\n",
       "      <th>0</th>\n",
       "      <td>32.819895</td>\n",
       "      <td>3.254940</td>\n",
       "      <td>2.294916</td>\n",
       "      <td>-0.841618</td>\n",
       "      <td>0.115154</td>\n",
       "      <td>-0.473377</td>\n",
       "      <td>-1.218560</td>\n",
       "      <td>10.822932</td>\n",
       "    </tr>\n",
       "    <tr>\n",
       "      <th>1</th>\n",
       "      <td>-19.552832</td>\n",
       "      <td>2.328499</td>\n",
       "      <td>4.827649</td>\n",
       "      <td>-1.187805</td>\n",
       "      <td>0.436129</td>\n",
       "      <td>0.355417</td>\n",
       "      <td>-0.115759</td>\n",
       "      <td>21.666435</td>\n",
       "    </tr>\n",
       "    <tr>\n",
       "      <th>2</th>\n",
       "      <td>-19.840057</td>\n",
       "      <td>3.193848</td>\n",
       "      <td>-1.331891</td>\n",
       "      <td>-0.465680</td>\n",
       "      <td>0.362523</td>\n",
       "      <td>0.398412</td>\n",
       "      <td>-0.142668</td>\n",
       "      <td>45.069349</td>\n",
       "    </tr>\n",
       "    <tr>\n",
       "      <th>3</th>\n",
       "      <td>-15.347173</td>\n",
       "      <td>1.892505</td>\n",
       "      <td>1.347932</td>\n",
       "      <td>-0.659646</td>\n",
       "      <td>-23.641809</td>\n",
       "      <td>0.752700</td>\n",
       "      <td>-0.125093</td>\n",
       "      <td>25.597680</td>\n",
       "    </tr>\n",
       "    <tr>\n",
       "      <th>4</th>\n",
       "      <td>-16.329537</td>\n",
       "      <td>2.498837</td>\n",
       "      <td>9.143116</td>\n",
       "      <td>-0.820945</td>\n",
       "      <td>0.385052</td>\n",
       "      <td>0.695602</td>\n",
       "      <td>-0.174950</td>\n",
       "      <td>15.301612</td>\n",
       "    </tr>\n",
       "    <tr>\n",
       "      <th>...</th>\n",
       "      <td>...</td>\n",
       "      <td>...</td>\n",
       "      <td>...</td>\n",
       "      <td>...</td>\n",
       "      <td>...</td>\n",
       "      <td>...</td>\n",
       "      <td>...</td>\n",
       "      <td>...</td>\n",
       "    </tr>\n",
       "    <tr>\n",
       "      <th>9998</th>\n",
       "      <td>-22.954749</td>\n",
       "      <td>3.738996</td>\n",
       "      <td>-0.824070</td>\n",
       "      <td>-0.665124</td>\n",
       "      <td>0.421508</td>\n",
       "      <td>0.448911</td>\n",
       "      <td>-0.124068</td>\n",
       "      <td>9.322314</td>\n",
       "    </tr>\n",
       "    <tr>\n",
       "      <th>9999</th>\n",
       "      <td>43.359667</td>\n",
       "      <td>3.380789</td>\n",
       "      <td>0.050138</td>\n",
       "      <td>-0.858312</td>\n",
       "      <td>0.787185</td>\n",
       "      <td>-27.899383</td>\n",
       "      <td>0.029504</td>\n",
       "      <td>56.460874</td>\n",
       "    </tr>\n",
       "    <tr>\n",
       "      <th>10000</th>\n",
       "      <td>48.505926</td>\n",
       "      <td>22.074452</td>\n",
       "      <td>-1.469326</td>\n",
       "      <td>-0.228345</td>\n",
       "      <td>0.358699</td>\n",
       "      <td>-0.880515</td>\n",
       "      <td>-0.032756</td>\n",
       "      <td>20.282312</td>\n",
       "    </tr>\n",
       "    <tr>\n",
       "      <th>10001</th>\n",
       "      <td>-19.744296</td>\n",
       "      <td>-17.270140</td>\n",
       "      <td>0.019577</td>\n",
       "      <td>-1.156155</td>\n",
       "      <td>1.623362</td>\n",
       "      <td>0.477563</td>\n",
       "      <td>-0.322678</td>\n",
       "      <td>42.892326</td>\n",
       "    </tr>\n",
       "    <tr>\n",
       "      <th>10002</th>\n",
       "      <td>-11.907734</td>\n",
       "      <td>0.830764</td>\n",
       "      <td>-0.919727</td>\n",
       "      <td>-1.151732</td>\n",
       "      <td>1.429330</td>\n",
       "      <td>0.458144</td>\n",
       "      <td>-0.100931</td>\n",
       "      <td>26.406026</td>\n",
       "    </tr>\n",
       "  </tbody>\n",
       "</table>\n",
       "<p>10003 rows × 8 columns</p>\n",
       "</div>"
      ],
      "text/plain": [
       "             PC1        PC2       PC3       PC4        PC5        PC6  \\\n",
       "0      32.819895   3.254940  2.294916 -0.841618   0.115154  -0.473377   \n",
       "1     -19.552832   2.328499  4.827649 -1.187805   0.436129   0.355417   \n",
       "2     -19.840057   3.193848 -1.331891 -0.465680   0.362523   0.398412   \n",
       "3     -15.347173   1.892505  1.347932 -0.659646 -23.641809   0.752700   \n",
       "4     -16.329537   2.498837  9.143116 -0.820945   0.385052   0.695602   \n",
       "...          ...        ...       ...       ...        ...        ...   \n",
       "9998  -22.954749   3.738996 -0.824070 -0.665124   0.421508   0.448911   \n",
       "9999   43.359667   3.380789  0.050138 -0.858312   0.787185 -27.899383   \n",
       "10000  48.505926  22.074452 -1.469326 -0.228345   0.358699  -0.880515   \n",
       "10001 -19.744296 -17.270140  0.019577 -1.156155   1.623362   0.477563   \n",
       "10002 -11.907734   0.830764 -0.919727 -1.151732   1.429330   0.458144   \n",
       "\n",
       "            PC7        CO2  \n",
       "0     -1.218560  10.822932  \n",
       "1     -0.115759  21.666435  \n",
       "2     -0.142668  45.069349  \n",
       "3     -0.125093  25.597680  \n",
       "4     -0.174950  15.301612  \n",
       "...         ...        ...  \n",
       "9998  -0.124068   9.322314  \n",
       "9999   0.029504  56.460874  \n",
       "10000 -0.032756  20.282312  \n",
       "10001 -0.322678  42.892326  \n",
       "10002 -0.100931  26.406026  \n",
       "\n",
       "[10003 rows x 8 columns]"
      ]
     },
     "execution_count": 64,
     "metadata": {},
     "output_type": "execute_result"
    }
   ],
   "source": [
    "sample = model.sample(num_rows=10003)\n",
    "sample"
   ]
  },
  {
   "cell_type": "code",
   "execution_count": 91,
   "id": "95a5ed5d",
   "metadata": {},
   "outputs": [
    {
     "data": {
      "text/plain": [
       "array([[<AxesSubplot:title={'center':'PC5'}>]], dtype=object)"
      ]
     },
     "execution_count": 91,
     "metadata": {},
     "output_type": "execute_result"
    },
    {
     "data": {
      "image/png": "[encoded data removed]",
      "text/plain": [
       "<Figure size 432x288 with 1 Axes>"
      ]
     },
     "metadata": {
      "needs_background": "light"
     },
     "output_type": "display_data"
    }
   ],
   "source": [
    "sample.hist(column='PC5')"
   ]
  },
  {
   "cell_type": "code",
   "execution_count": 92,
   "id": "894fae09",
   "metadata": {},
   "outputs": [
    {
     "data": {
      "text/plain": [
       "array([[<AxesSubplot:title={'center':'PC5'}>]], dtype=object)"
      ]
     },
     "execution_count": 92,
     "metadata": {},
     "output_type": "execute_result"
    },
    {
     "data": {
      "image/png": "[encoded data removed]",
      "text/plain": [
       "<Figure size 432x288 with 1 Axes>"
      ]
     },
     "metadata": {
      "needs_background": "light"
     },
     "output_type": "display_data"
    }
   ],
   "source": [
    "principalDf.hist(column='PC5')"
   ]
  },
  {
   "cell_type": "code",
   "execution_count": 66,
   "id": "0f87cfc0",
   "metadata": {},
   "outputs": [
    {
     "data": {
      "text/plain": [
       "0.861666500049985"
      ]
     },
     "execution_count": 66,
     "metadata": {},
     "output_type": "execute_result"
    }
   ],
   "source": [
    "from sdv.metrics.tabular import CSTest, KSTest\n",
    "KSTest.compute(principalDf, sample)"
   ]
  },
  {
   "cell_type": "code",
   "execution_count": 74,
   "id": "8d80fd37",
   "metadata": {},
   "outputs": [
    {
     "name": "stdout",
     "output_type": "stream",
     "text": [
      "0.6426807235745555\n"
     ]
    }
   ],
   "source": [
    "from sdv.metrics.tabular import LogisticDetection, SVCDetection\n",
    "print(LogisticDetection.compute(principalDf, sample))"
   ]
  },
  {
   "cell_type": "code",
   "execution_count": 86,
   "id": "0cf882ec",
   "metadata": {},
   "outputs": [
    {
     "name": "stderr",
     "output_type": "stream",
     "text": [
      "C:\\Users\\abhi\\anaconda3\\lib\\site-packages\\sklearn\\neural_network\\_multilayer_perceptron.py:582: ConvergenceWarning: Stochastic Optimizer: Maximum iterations (50) reached and the optimization hasn't converged yet.\n",
      "  warnings.warn(\n"
     ]
    },
    {
     "data": {
      "text/plain": [
       "-0.014017071073312515"
      ]
     },
     "execution_count": 86,
     "metadata": {},
     "output_type": "execute_result"
    }
   ],
   "source": [
    "from sdv.metrics.tabular import MLPRegressor\n",
    "MLPRegressor.compute(principalDf, sample, target='CO2')"
   ]
  },
  {
   "cell_type": "code",
   "execution_count": 88,
   "id": "e5cf0d32",
   "metadata": {},
   "outputs": [
    {
     "name": "stderr",
     "output_type": "stream",
     "text": [
      "C:\\Users\\abhi\\anaconda3\\lib\\site-packages\\sklearn\\neural_network\\_multilayer_perceptron.py:582: ConvergenceWarning: Stochastic Optimizer: Maximum iterations (50) reached and the optimization hasn't converged yet.\n",
      "  warnings.warn(\n"
     ]
    },
    {
     "data": {
      "text/plain": [
       "-0.09599276240642096"
      ]
     },
     "execution_count": 88,
     "metadata": {},
     "output_type": "execute_result"
    }
   ],
   "source": [
    "train = principalDf.sample(int(len(principalDf) * 0.75))\n",
    "test = principalDf[~principalDf.index.isin(train.index)]\n",
    "MLPRegressor.compute(train, test, target='CO2')"
   ]
  },
  {
   "cell_type": "code",
   "execution_count": 93,
   "id": "10c27dbe",
   "metadata": {},
   "outputs": [
    {
     "data": {
      "text/html": [
       "<div>\n",
       "<style scoped>\n",
       "    .dataframe tbody tr th:only-of-type {\n",
       "        vertical-align: middle;\n",
       "    }\n",
       "\n",
       "    .dataframe tbody tr th {\n",
       "        vertical-align: top;\n",
       "    }\n",
       "\n",
       "    .dataframe thead th {\n",
       "        text-align: right;\n",
       "    }\n",
       "</style>\n",
       "<table border=\"1\" class=\"dataframe\">\n",
       "  <thead>\n",
       "    <tr style=\"text-align: right;\">\n",
       "      <th></th>\n",
       "      <th>PC1</th>\n",
       "      <th>PC2</th>\n",
       "      <th>PC3</th>\n",
       "      <th>PC4</th>\n",
       "      <th>PC5</th>\n",
       "      <th>PC6</th>\n",
       "      <th>PC7</th>\n",
       "      <th>CO2</th>\n",
       "    </tr>\n",
       "  </thead>\n",
       "  <tbody>\n",
       "    <tr>\n",
       "      <th>0</th>\n",
       "      <td>3.800843</td>\n",
       "      <td>-1.135349</td>\n",
       "      <td>1.667748</td>\n",
       "      <td>-4.903879</td>\n",
       "      <td>0.182558</td>\n",
       "      <td>0.397283</td>\n",
       "      <td>0.282288</td>\n",
       "      <td>34.396179</td>\n",
       "    </tr>\n",
       "    <tr>\n",
       "      <th>1</th>\n",
       "      <td>-26.368221</td>\n",
       "      <td>2.761162</td>\n",
       "      <td>20.479960</td>\n",
       "      <td>-0.957649</td>\n",
       "      <td>0.773667</td>\n",
       "      <td>0.428519</td>\n",
       "      <td>-0.219944</td>\n",
       "      <td>40.220909</td>\n",
       "    </tr>\n",
       "    <tr>\n",
       "      <th>2</th>\n",
       "      <td>-25.555175</td>\n",
       "      <td>108.665855</td>\n",
       "      <td>-1.141170</td>\n",
       "      <td>0.231649</td>\n",
       "      <td>0.417497</td>\n",
       "      <td>0.323643</td>\n",
       "      <td>-0.113123</td>\n",
       "      <td>18.370588</td>\n",
       "    </tr>\n",
       "    <tr>\n",
       "      <th>3</th>\n",
       "      <td>7.330865</td>\n",
       "      <td>3.562408</td>\n",
       "      <td>0.805786</td>\n",
       "      <td>-0.542283</td>\n",
       "      <td>0.879555</td>\n",
       "      <td>0.423315</td>\n",
       "      <td>-0.072300</td>\n",
       "      <td>32.470788</td>\n",
       "    </tr>\n",
       "    <tr>\n",
       "      <th>4</th>\n",
       "      <td>23.245263</td>\n",
       "      <td>4.913978</td>\n",
       "      <td>-0.680322</td>\n",
       "      <td>0.253228</td>\n",
       "      <td>0.390238</td>\n",
       "      <td>1.731827</td>\n",
       "      <td>-0.354092</td>\n",
       "      <td>49.729345</td>\n",
       "    </tr>\n",
       "    <tr>\n",
       "      <th>...</th>\n",
       "      <td>...</td>\n",
       "      <td>...</td>\n",
       "      <td>...</td>\n",
       "      <td>...</td>\n",
       "      <td>...</td>\n",
       "      <td>...</td>\n",
       "      <td>...</td>\n",
       "      <td>...</td>\n",
       "    </tr>\n",
       "    <tr>\n",
       "      <th>99998</th>\n",
       "      <td>-23.308265</td>\n",
       "      <td>2.796422</td>\n",
       "      <td>-29.568854</td>\n",
       "      <td>-0.907400</td>\n",
       "      <td>0.734983</td>\n",
       "      <td>1.123325</td>\n",
       "      <td>-0.124037</td>\n",
       "      <td>5.925028</td>\n",
       "    </tr>\n",
       "    <tr>\n",
       "      <th>99999</th>\n",
       "      <td>-24.562845</td>\n",
       "      <td>3.715813</td>\n",
       "      <td>-0.454195</td>\n",
       "      <td>-0.644481</td>\n",
       "      <td>0.760562</td>\n",
       "      <td>-0.572444</td>\n",
       "      <td>-0.108457</td>\n",
       "      <td>2.570995</td>\n",
       "    </tr>\n",
       "    <tr>\n",
       "      <th>100000</th>\n",
       "      <td>-15.253873</td>\n",
       "      <td>3.870173</td>\n",
       "      <td>-1.737777</td>\n",
       "      <td>-1.740584</td>\n",
       "      <td>1.108741</td>\n",
       "      <td>0.470562</td>\n",
       "      <td>-1.210683</td>\n",
       "      <td>61.114849</td>\n",
       "    </tr>\n",
       "    <tr>\n",
       "      <th>100001</th>\n",
       "      <td>12.051484</td>\n",
       "      <td>4.937017</td>\n",
       "      <td>-0.906756</td>\n",
       "      <td>-0.816431</td>\n",
       "      <td>0.241525</td>\n",
       "      <td>0.382806</td>\n",
       "      <td>0.345216</td>\n",
       "      <td>16.810490</td>\n",
       "    </tr>\n",
       "    <tr>\n",
       "      <th>100002</th>\n",
       "      <td>-23.548376</td>\n",
       "      <td>3.512314</td>\n",
       "      <td>-1.090480</td>\n",
       "      <td>-0.801748</td>\n",
       "      <td>0.542994</td>\n",
       "      <td>0.573447</td>\n",
       "      <td>-3.531120</td>\n",
       "      <td>2.375345</td>\n",
       "    </tr>\n",
       "  </tbody>\n",
       "</table>\n",
       "<p>100003 rows × 8 columns</p>\n",
       "</div>"
      ],
      "text/plain": [
       "              PC1         PC2        PC3       PC4       PC5       PC6  \\\n",
       "0        3.800843   -1.135349   1.667748 -4.903879  0.182558  0.397283   \n",
       "1      -26.368221    2.761162  20.479960 -0.957649  0.773667  0.428519   \n",
       "2      -25.555175  108.665855  -1.141170  0.231649  0.417497  0.323643   \n",
       "3        7.330865    3.562408   0.805786 -0.542283  0.879555  0.423315   \n",
       "4       23.245263    4.913978  -0.680322  0.253228  0.390238  1.731827   \n",
       "...           ...         ...        ...       ...       ...       ...   \n",
       "99998  -23.308265    2.796422 -29.568854 -0.907400  0.734983  1.123325   \n",
       "99999  -24.562845    3.715813  -0.454195 -0.644481  0.760562 -0.572444   \n",
       "100000 -15.253873    3.870173  -1.737777 -1.740584  1.108741  0.470562   \n",
       "100001  12.051484    4.937017  -0.906756 -0.816431  0.241525  0.382806   \n",
       "100002 -23.548376    3.512314  -1.090480 -0.801748  0.542994  0.573447   \n",
       "\n",
       "             PC7        CO2  \n",
       "0       0.282288  34.396179  \n",
       "1      -0.219944  40.220909  \n",
       "2      -0.113123  18.370588  \n",
       "3      -0.072300  32.470788  \n",
       "4      -0.354092  49.729345  \n",
       "...          ...        ...  \n",
       "99998  -0.124037   5.925028  \n",
       "99999  -0.108457   2.570995  \n",
       "100000 -1.210683  61.114849  \n",
       "100001  0.345216  16.810490  \n",
       "100002 -3.531120   2.375345  \n",
       "\n",
       "[100003 rows x 8 columns]"
      ]
     },
     "execution_count": 93,
     "metadata": {},
     "output_type": "execute_result"
    }
   ],
   "source": [
    "synth_xData = model.sample(num_rows=100003)\n",
    "synth_xData"
   ]
  },
  {
   "cell_type": "code",
   "execution_count": 94,
   "id": "6165f713",
   "metadata": {},
   "outputs": [
    {
     "data": {
      "text/plain": [
       "array([[<AxesSubplot:title={'center':'CO2'}>]], dtype=object)"
      ]
     },
     "execution_count": 94,
     "metadata": {},
     "output_type": "execute_result"
    },
    {
     "data": {
      "image/png": "[encoded data removed]",
      "text/plain": [
       "<Figure size 432x288 with 1 Axes>"
      ]
     },
     "metadata": {
      "needs_background": "light"
     },
     "output_type": "display_data"
    }
   ],
   "source": [
    "synth_xData.hist(column=\"CO2\")"
   ]
  },
  {
   "cell_type": "code",
   "execution_count": null,
   "id": "3d9bbbda",
   "metadata": {},
   "outputs": [
    {
     "name": "stderr",
     "output_type": "stream",
     "text": [
      "Emddeding network training: 100%|████████████████████████████████████████████████████████| 5/5 [01:44<00:00, 20.97s/it]\n",
      "Supervised network training: 100%|███████████████████████████████████████████████████████| 5/5 [00:39<00:00,  7.83s/it]\n",
      "Joint networks training:  20%|███████████                                            | 1/5 [17:23<1:09:32, 1043.09s/it]"
     ]
    }
   ],
   "source": [
    "synth = TimeGAN(model_parameters=gan_args, hidden_dim=hidden_dim, seq_len=seq_len, n_seq=n_seq, gamma=1)\n",
    "synth.train(sample_x_data, train_steps=5)"
   ]
  }
 ],
 "metadata": {
  "kernelspec": {
   "display_name": "Python 3",
   "language": "python",
   "name": "python3"
  },
  "language_info": {
   "codemirror_mode": {
    "name": "ipython",
    "version": 3
   },
   "file_extension": ".py",
   "mimetype": "text/x-python",
   "name": "python",
   "nbconvert_exporter": "python",
   "pygments_lexer": "ipython3",
   "version": "3.8.8"
  }
 },
 "nbformat": 4,
 "nbformat_minor": 5
}
