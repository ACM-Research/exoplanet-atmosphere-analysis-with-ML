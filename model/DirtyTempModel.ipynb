{
 "cells": [
  {
   "cell_type": "code",
   "execution_count": 65,
   "id": "29670a54",
   "metadata": {},
   "outputs": [],
   "source": [
    "import json\n",
    "import os\n",
    "import pandas as pd\n",
    "import numpy as np\n",
    "from sklearn.model_selection import train_test_split\n",
    "from sklearn.ensemble import RandomForestRegressor\n",
    "from sklearn import metrics\n"
   ]
  },
  {
   "cell_type": "code",
   "execution_count": 11,
   "id": "98af3660",
   "metadata": {},
   "outputs": [
    {
     "data": {
      "text/plain": [
       "Index(['rowid', 'pl_name', 'hostname', 'pl_letter', 'hd_name', 'hip_name',\n",
       "       'tic_id', 'gaia_id', 'sy_snum', 'sy_pnum',\n",
       "       ...\n",
       "       'sy_kepmag', 'sy_kepmagerr1', 'sy_kepmagerr2', 'sy_kepmag_reflink',\n",
       "       'pl_nnotes', 'st_nphot', 'st_nrvc', 'st_nspec', 'pl_nespec',\n",
       "       'pl_ntranspec'],\n",
       "      dtype='object', length=313)"
      ]
     },
     "execution_count": 11,
     "metadata": {},
     "output_type": "execute_result"
    }
   ],
   "source": [
    "data_dir =  'C:\\\\UTD\\\\Sophomore Year\\\\Projects\\\\exoplanet-atmosphere-analysis-with-ML\\\\' \n",
    "df = pd.read_csv ('ExoplanetDataset.csv', encoding = 'utf-8-sig')\n",
    "df.columns"
   ]
  },
  {
   "cell_type": "code",
   "execution_count": 50,
   "id": "6e154a77",
   "metadata": {},
   "outputs": [],
   "source": [
    "#Removing columns that are really unnecessary\n",
    "clean_df = df[df.columns.drop(list(df.filter(regex='_ref')))]\n",
    "clean_df = clean_df[clean_df['pl_eqt'].notna()]\n",
    "clean_df = clean_df[clean_df['pl_dens'].notna()]\n",
    "clean_df = clean_df[clean_df['pl_bmasse'].notna()]\n",
    "clean_df = clean_df[clean_df['st_lum'].notna()]"
   ]
  },
  {
   "cell_type": "code",
   "execution_count": 51,
   "id": "eceea388",
   "metadata": {},
   "outputs": [],
   "source": [
    "#Extracting features to run a dirty regression model on temperature\n",
    "#Columns/Features used: planet density, core mass, stellar luminosity\n",
    "#Testing feature: Equilibrium Temperature\n",
    "X = clean_df[['pl_dens', 'pl_bmasse','st_lum']]\n",
    "y = clean_df[['pl_eqt']]"
   ]
  },
  {
   "cell_type": "code",
   "execution_count": 52,
   "id": "ec19ca99",
   "metadata": {},
   "outputs": [],
   "source": [
    "X_train, X_test, y_train, y_test = train_test_split(X, y, test_size=0.33, random_state=42)"
   ]
  },
  {
   "cell_type": "code",
   "execution_count": 53,
   "id": "fb22a243",
   "metadata": {},
   "outputs": [
    {
     "data": {
      "text/plain": [
       "False"
      ]
     },
     "execution_count": 53,
     "metadata": {},
     "output_type": "execute_result"
    }
   ],
   "source": [
    "X['st_lum'].isnull().values.any()"
   ]
  },
  {
   "cell_type": "code",
   "execution_count": 59,
   "id": "7a25bd26",
   "metadata": {},
   "outputs": [
    {
     "name": "stderr",
     "output_type": "stream",
     "text": [
      "<ipython-input-59-b2624ec70fae>:3: DataConversionWarning: A column-vector y was passed when a 1d array was expected. Please change the shape of y to (n_samples,), for example using ravel().\n",
      "  tempDetect.fit(X_train, y_train)\n"
     ]
    },
    {
     "data": {
      "text/plain": [
       "RandomForestRegressor(random_state=0)"
      ]
     },
     "execution_count": 59,
     "metadata": {},
     "output_type": "execute_result"
    }
   ],
   "source": [
    "#Attempt One - simple random forest regression using all features\n",
    "tempDetect = RandomForestRegressor(n_estimators = 100, random_state = 0)\n",
    "tempDetect.fit(X_train, y_train)"
   ]
  },
  {
   "cell_type": "code",
   "execution_count": 68,
   "id": "04e9558f",
   "metadata": {},
   "outputs": [
    {
     "name": "stdout",
     "output_type": "stream",
     "text": [
      "Mean Absolute Error (MAE): 252.5976176819855\n",
      "Mean Squared Error (MSE): 112524.58141869027\n",
      "Root Mean Squared Error (RMSE): 335.44683843895484\n",
      "Mean Absolute Percentage Error (MAPE): 0.3612948721667517\n",
      "Explained Variance Score: 0.417372657614989\n",
      "Max Error: 1717.7800000000002\n",
      "Mean Squared Log Error: 0.16419981935391148\n",
      "Median Absolute Error: 190.78999999999996\n",
      "R^2: 0.4165968594259546\n",
      "Mean Poisson Deviance: 121.80785512480452\n",
      "Mean Gamma Deviance: 0.15199068680854366\n"
     ]
    }
   ],
   "source": [
    "y_pred = tempDetect.predict(X_test)\n",
    "y_true = y_test\n",
    "# View accuracy score\n",
    "print('Mean Absolute Error (MAE):', metrics.mean_absolute_error(y_true, y_pred))\n",
    "print('Mean Squared Error (MSE):', metrics.mean_squared_error(y_true, y_pred))\n",
    "print('Root Mean Squared Error (RMSE):', metrics.mean_squared_error(y_true, y_pred, squared=False))\n",
    "print('Mean Absolute Percentage Error (MAPE):', metrics.mean_absolute_percentage_error(y_true, y_pred))\n",
    "print('Explained Variance Score:', metrics.explained_variance_score(y_true, y_pred))\n",
    "print('Max Error:', metrics.max_error(y_true, y_pred))\n",
    "print('Mean Squared Log Error:', metrics.mean_squared_log_error(y_true, y_pred))\n",
    "print('Median Absolute Error:', metrics.median_absolute_error(y_true, y_pred))\n",
    "print('R^2:', metrics.r2_score(y_true, y_pred))\n",
    "print('Mean Poisson Deviance:', metrics.mean_poisson_deviance(y_true, y_pred))\n",
    "print('Mean Gamma Deviance:', metrics.mean_gamma_deviance(y_true, y_pred))"
   ]
  }
 ],
 "metadata": {
  "kernelspec": {
   "display_name": "Python 3",
   "language": "python",
   "name": "python3"
  },
  "language_info": {
   "codemirror_mode": {
    "name": "ipython",
    "version": 3
   },
   "file_extension": ".py",
   "mimetype": "text/x-python",
   "name": "python",
   "nbconvert_exporter": "python",
   "pygments_lexer": "ipython3",
   "version": "3.8.8"
  }
 },
 "nbformat": 4,
 "nbformat_minor": 5
}
