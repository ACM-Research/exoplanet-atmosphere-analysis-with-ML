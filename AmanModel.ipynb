{
 "cells": [
  {
   "cell_type": "markdown",
   "id": "cb0e0750-509e-4b46-856f-7cc76cdaff81",
   "metadata": {},
   "source": [
    "Non-negative least squares regression."
   ]
  },
  {
   "cell_type": "code",
   "execution_count": 25,
   "id": "18801b87-d245-4c6e-995b-86dd8cdae959",
   "metadata": {},
   "outputs": [],
   "source": [
    "import numpy as np\n",
    "import pandas as pd\n",
    "from sklearn.linear_model import LinearRegression\n",
    "from sklearn.metrics import r2_score\n",
    "from sklearn.model_selection import train_test_split"
   ]
  },
  {
   "cell_type": "code",
   "execution_count": 3,
   "id": "537cdafd-60ed-4a14-ad15-bf96c74588b1",
   "metadata": {},
   "outputs": [
    {
     "name": "stdout",
     "output_type": "stream",
     "text": [
      "[[3.27030e-24 3.07616e-24 5.22539e-24 ... 1.32958e-21 1.33228e-21\n",
      "  1.35562e-21]\n",
      " [1.30267e-20 1.30677e-20 1.31157e-20 ... 3.81686e-20 3.81212e-20\n",
      "  3.80739e-20]\n",
      " [6.26322e-21 6.28294e-21 6.30602e-21 ... 1.83835e-20 1.83606e-20\n",
      "  1.83378e-20]\n",
      " ...\n",
      " [2.18046e-21 2.18672e-21 2.19415e-21 ... 4.09628e-21 4.09113e-21\n",
      "  4.08599e-21]\n",
      " [8.45625e-21 8.48075e-21 8.50976e-21 ... 1.65705e-20 1.65496e-20\n",
      "  1.65289e-20]\n",
      " [9.18122e-27 9.43401e-27 1.16085e-26 ... 4.02891e-22 4.05835e-22\n",
      "  4.14389e-22]]\n"
     ]
    }
   ],
   "source": [
    "x_data = np.loadtxt(\"dataset/x_dataTrain.txt\")\n",
    "print(x_data)"
   ]
  },
  {
   "cell_type": "code",
   "execution_count": 10,
   "id": "a90339f6-4b08-42ca-bdf6-16a279180a2c",
   "metadata": {},
   "outputs": [
    {
     "name": "stdout",
     "output_type": "stream",
     "text": [
      "[[5.44779525e-02 3.63563344e-01 3.93226327e-01 ... 3.84039400e-03\n",
      "  1.04632279e-03 8.05759487e-06]\n",
      " [4.16023007e-02 1.98831946e-01 3.19697149e-01 ... 1.58676888e-04\n",
      "  2.70865681e-04 6.98852685e-06]\n",
      " [3.25809662e-02 3.30184164e-01 2.25277622e-01 ... 3.64259914e-04\n",
      "  1.77938880e-05 5.15590766e-06]\n",
      " ...\n",
      " [6.00137545e-03 2.25446819e-01 2.36290974e-01 ... 3.41272939e-03\n",
      "  1.68012889e-04 8.55777941e-06]\n",
      " [9.61424398e-03 2.41019755e-01 4.74460251e-01 ... 2.28148605e-03\n",
      "  1.53862644e-04 3.59720563e-06]\n",
      " [1.48247666e-02 4.65782909e-01 3.00848722e-01 ... 5.70894991e-03\n",
      "  1.74632155e-04 1.76412088e-06]]\n"
     ]
    }
   ],
   "source": [
    "y_data = np.loadtxt(\"dataset/y_dataTrain.txt\")\n",
    "print(y_data)"
   ]
  },
  {
   "cell_type": "code",
   "execution_count": 11,
   "id": "1e23393b-67c0-4f8d-b28d-487aac5f097b",
   "metadata": {},
   "outputs": [
    {
     "name": "stdout",
     "output_type": "stream",
     "text": [
      "(10003, 12)\n",
      "(10003, 4378)\n"
     ]
    }
   ],
   "source": [
    "print(y_data.shape)\n",
    "print(x_data.shape)"
   ]
  },
  {
   "cell_type": "code",
   "execution_count": 8,
   "id": "dbfb7a44-967d-4432-9d91-df442272e25f",
   "metadata": {},
   "outputs": [],
   "source": [
    "feature_dict: {\n",
    "    0 : 'H2O',\n",
    "    1 : 'CO2',\n",
    "    2 : 'O2',\n",
    "    3 : 'N2',\n",
    "    4 : 'CH4',\n",
    "    5 : 'N2O',\n",
    "    6 : 'CO',\n",
    "    7 : 'O3',\n",
    "    8 : 'SO2',\n",
    "    9 : 'NH3',\n",
    "    10 : 'C2H6',\n",
    "    11 : 'NO2'\n",
    "}"
   ]
  },
  {
   "cell_type": "code",
   "execution_count": 15,
   "id": "5ac74933-b079-44bb-bf72-2d39aed6a34a",
   "metadata": {},
   "outputs": [],
   "source": [
    "y_h2o = y_data[:,0]"
   ]
  },
  {
   "cell_type": "code",
   "execution_count": 35,
   "id": "0f7528da-8bc9-4908-b09d-a3fccf83653b",
   "metadata": {},
   "outputs": [],
   "source": [
    "x_train, x_test, y_train, y_test = train_test_split(x_data, y_h2o, test_size=0.2)"
   ]
  },
  {
   "cell_type": "code",
   "execution_count": 36,
   "id": "d3076cef-a53d-47f9-818c-02adcf812c2d",
   "metadata": {},
   "outputs": [],
   "source": [
    "reg_model = LinearRegression(positive=True)"
   ]
  },
  {
   "cell_type": "code",
   "execution_count": 37,
   "id": "c78290b7-59ec-46f7-a2da-2ce0d18b5c97",
   "metadata": {},
   "outputs": [],
   "source": [
    "predictions = reg_model.fit(x_train, y_train).predict(x_test)"
   ]
  },
  {
   "cell_type": "code",
   "execution_count": 38,
   "id": "9f854e01-333d-44fc-9e93-f3051cb8611f",
   "metadata": {},
   "outputs": [
    {
     "name": "stdout",
     "output_type": "stream",
     "text": [
      "[0.03412265 0.03412842 0.03413088 ... 0.03414142 0.03412548 0.03413003]\n"
     ]
    }
   ],
   "source": [
    "print(predictions)"
   ]
  },
  {
   "cell_type": "code",
   "execution_count": 39,
   "id": "297bcd54-4d44-4044-85ca-7474e913d8f7",
   "metadata": {},
   "outputs": [
    {
     "name": "stdout",
     "output_type": "stream",
     "text": [
      "[0.02346561 0.01814441 0.01295963 ... 0.03874257 0.03038869 0.03026773]\n"
     ]
    }
   ],
   "source": [
    "print(y_test)"
   ]
  },
  {
   "cell_type": "code",
   "execution_count": 40,
   "id": "f69cf338-548a-4756-9bd3-e4e9bc829cc5",
   "metadata": {},
   "outputs": [
    {
     "name": "stdout",
     "output_type": "stream",
     "text": [
      "R2 score: 6.936884731878479e-05\n"
     ]
    }
   ],
   "source": [
    "print(\"R2 score:\", r2_score(y_test, predictions))"
   ]
  }
 ],
 "metadata": {
  "kernelspec": {
   "display_name": "Python 3 (ipykernel)",
   "language": "python",
   "name": "python3"
  },
  "language_info": {
   "codemirror_mode": {
    "name": "ipython",
    "version": 3
   },
   "file_extension": ".py",
   "mimetype": "text/x-python",
   "name": "python",
   "nbconvert_exporter": "python",
   "pygments_lexer": "ipython3",
   "version": "3.9.11"
  }
 },
 "nbformat": 4,
 "nbformat_minor": 5
}
