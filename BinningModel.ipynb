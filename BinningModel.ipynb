{
 "cells": [
  {
   "cell_type": "code",
   "execution_count": 17,
   "id": "ee971e52",
   "metadata": {},
   "outputs": [
    {
     "name": "stdout",
     "output_type": "stream",
     "text": [
      "Requirement already satisfied: sdv in c:\\users\\abhi\\anaconda3\\lib\\site-packages (0.14.0)\n",
      "Requirement already satisfied: sdmetrics<0.5,>=0.4.1 in c:\\users\\abhi\\anaconda3\\lib\\site-packages (from sdv) (0.4.1)\n",
      "Requirement already satisfied: ctgan<0.6,>=0.5.1 in c:\\users\\abhi\\anaconda3\\lib\\site-packages (from sdv) (0.5.1)\n",
      "Collecting pandas<2,>=1.1.3\n",
      "  Downloading pandas-1.4.2-cp38-cp38-win_amd64.whl (10.6 MB)\n",
      "Requirement already satisfied: graphviz<1,>=0.13.2 in c:\\users\\abhi\\anaconda3\\lib\\site-packages (from sdv) (0.19.1)\n",
      "Requirement already satisfied: deepecho<0.4,>=0.3.0.post1 in c:\\users\\abhi\\anaconda3\\lib\\site-packages (from sdv) (0.3.0.post1)\n",
      "Requirement already satisfied: Faker<10,>=3.0.0 in c:\\users\\abhi\\anaconda3\\lib\\site-packages (from sdv) (9.9.1)\n",
      "Collecting copulas<0.7,>=0.6.1\n",
      "  Using cached copulas-0.6.1-py2.py3-none-any.whl (52 kB)\n",
      "Requirement already satisfied: numpy<2,>=1.20.0 in c:\\users\\abhi\\appdata\\roaming\\python\\python38\\site-packages (from sdv) (1.22.3)\n",
      "Requirement already satisfied: tqdm<5,>=4.15 in c:\\users\\abhi\\anaconda3\\lib\\site-packages (from sdv) (4.56.0)\n",
      "Requirement already satisfied: rdt<0.7,>=0.6.2 in c:\\users\\abhi\\anaconda3\\lib\\site-packages (from sdv) (0.6.4)\n",
      "Requirement already satisfied: scipy<2,>=1.5.4 in c:\\users\\abhi\\anaconda3\\lib\\site-packages (from copulas<0.7,>=0.6.1->sdv) (1.5.4)\n",
      "Requirement already satisfied: matplotlib<4,>=3.4.0 in c:\\users\\abhi\\appdata\\roaming\\python\\python38\\site-packages (from copulas<0.7,>=0.6.1->sdv) (3.5.1)\n",
      "Requirement already satisfied: torchvision<1,>=0.9.0 in c:\\users\\abhi\\anaconda3\\lib\\site-packages (from ctgan<0.6,>=0.5.1->sdv) (0.11.3)\n",
      "Collecting scikit-learn<2,>=0.24\n",
      "  Using cached scikit_learn-1.0.2-cp38-cp38-win_amd64.whl (7.2 MB)Note: you may need to restart the kernel to use updated packages.\n",
      "Requirement already satisfied: packaging<22,>=20 in c:\\users\\abhi\\appdata\\roaming\\python\\python38\\site-packages (from ctgan<0.6,>=0.5.1->sdv) (21.3)\n",
      "Requirement already satisfied: torch<2,>=1.8.0 in c:\\users\\abhi\\anaconda3\\lib\\site-packages (from ctgan<0.6,>=0.5.1->sdv) (1.10.2)\n",
      "Requirement already satisfied: python-dateutil>=2.4 in c:\\users\\abhi\\appdata\\roaming\\python\\python38\\site-packages (from Faker<10,>=3.0.0->sdv) (2.8.2)\n",
      "Requirement already satisfied: text-unidecode==1.3 in c:\\users\\abhi\\anaconda3\\lib\\site-packages (from Faker<10,>=3.0.0->sdv) (1.3)\n",
      "Requirement already satisfied: cycler>=0.10 in c:\\users\\abhi\\appdata\\roaming\\python\\python38\\site-packages (from matplotlib<4,>=3.4.0->copulas<0.7,>=0.6.1->sdv) (0.11.0)\n",
      "Requirement already satisfied: pillow>=6.2.0 in c:\\users\\abhi\\appdata\\roaming\\python\\python38\\site-packages (from matplotlib<4,>=3.4.0->copulas<0.7,>=0.6.1->sdv) (9.1.0)\n",
      "\n",
      "Requirement already satisfied: fonttools>=4.22.0 in c:\\users\\abhi\\appdata\\roaming\\python\\python38\\site-packages (from matplotlib<4,>=3.4.0->copulas<0.7,>=0.6.1->sdv) (4.31.2)\n",
      "Requirement already satisfied: kiwisolver>=1.0.1 in c:\\users\\abhi\\appdata\\roaming\\python\\python38\\site-packages (from matplotlib<4,>=3.4.0->copulas<0.7,>=0.6.1->sdv) (1.4.2)\n",
      "Requirement already satisfied: pyparsing>=2.2.1 in c:\\users\\abhi\\appdata\\roaming\\python\\python38\\site-packages (from matplotlib<4,>=3.4.0->copulas<0.7,>=0.6.1->sdv) (3.0.7)\n"
     ]
    },
    {
     "name": "stderr",
     "output_type": "stream",
     "text": [
      "ERROR: Could not install packages due to an OSError: [WinError 5] Access is denied: 'C:\\\\Users\\\\abhi\\\\anaconda3\\\\Lib\\\\site-packages\\\\~-learn\\\\.libs\\\\vcomp140.dll'\n",
      "Consider using the `--user` option or check the permissions.\n",
      "\n"
     ]
    },
    {
     "name": "stdout",
     "output_type": "stream",
     "text": [
      "Requirement already satisfied: pytz>=2020.1 in c:\\users\\abhi\\anaconda3\\lib\\site-packages (from pandas<2,>=1.1.3->sdv) (2021.1)\n",
      "Requirement already satisfied: six>=1.5 in c:\\users\\abhi\\appdata\\roaming\\python\\python38\\site-packages (from python-dateutil>=2.4->Faker<10,>=3.0.0->sdv) (1.16.0)\n",
      "Requirement already satisfied: psutil<6,>=5.7 in c:\\users\\abhi\\anaconda3\\lib\\site-packages (from rdt<0.7,>=0.6.2->sdv) (5.8.0)\n",
      "Collecting pyyaml<6,>=5.4.1\n",
      "  Downloading PyYAML-5.4.1-cp38-cp38-win_amd64.whl (213 kB)\n",
      "Requirement already satisfied: joblib>=0.11 in c:\\users\\abhi\\anaconda3\\lib\\site-packages (from scikit-learn<2,>=0.24->ctgan<0.6,>=0.5.1->sdv) (1.0.0)\n",
      "Requirement already satisfied: threadpoolctl>=2.0.0 in c:\\users\\abhi\\anaconda3\\lib\\site-packages (from scikit-learn<2,>=0.24->ctgan<0.6,>=0.5.1->sdv) (2.1.0)\n",
      "Requirement already satisfied: pyts<0.13.0,>=0.12.0 in c:\\users\\abhi\\anaconda3\\lib\\site-packages (from sdmetrics<0.5,>=0.4.1->sdv) (0.12.0)\n",
      "Requirement already satisfied: numba>=0.48.0 in c:\\users\\abhi\\anaconda3\\lib\\site-packages (from pyts<0.13.0,>=0.12.0->sdmetrics<0.5,>=0.4.1->sdv) (0.53.1)\n",
      "Requirement already satisfied: llvmlite<0.37,>=0.36.0rc1 in c:\\users\\abhi\\anaconda3\\lib\\site-packages (from numba>=0.48.0->pyts<0.13.0,>=0.12.0->sdmetrics<0.5,>=0.4.1->sdv) (0.36.0)\n",
      "Requirement already satisfied: setuptools in c:\\users\\abhi\\anaconda3\\lib\\site-packages (from numba>=0.48.0->pyts<0.13.0,>=0.12.0->sdmetrics<0.5,>=0.4.1->sdv) (52.0.0.post20210125)\n",
      "Requirement already satisfied: typing-extensions in c:\\users\\abhi\\anaconda3\\lib\\site-packages (from torch<2,>=1.8.0->ctgan<0.6,>=0.5.1->sdv) (3.7.4.3)\n",
      "Installing collected packages: scikit-learn, pyyaml, pandas, copulas\n",
      "  Attempting uninstall: scikit-learn\n",
      "    Found existing installation: scikit-learn 0.23.1\n",
      "    Uninstalling scikit-learn-0.23.1:\n",
      "      Successfully uninstalled scikit-learn-0.23.1\n"
     ]
    }
   ],
   "source": [
    "pip install sdv"
   ]
  },
  {
   "cell_type": "code",
   "execution_count": 779,
   "id": "464e95b7",
   "metadata": {},
   "outputs": [],
   "source": [
    "import os\n",
    "import pandas as pd\n",
    "import matplotlib.pyplot as plt\n",
    "import sklearn.cluster as cluster\n",
    "from numpy import array, random, sum, unique\n",
    "from pandas import DataFrame, read_csv"
   ]
  },
  {
   "cell_type": "code",
   "execution_count": 807,
   "id": "05337731",
   "metadata": {},
   "outputs": [],
   "source": [
    "from sklearn.model_selection import train_test_split\n",
    "import imblearn\n",
    "from sklearn.ensemble import RandomForestClassifier, AdaBoostClassifier\n",
    "from sklearn import preprocessing\n",
    "from imblearn.over_sampling import RandomOverSampler\n",
    "from kneed import KneeLocator\n",
    "from sklearn.datasets import make_blobs\n",
    "from sklearn.mixture import GaussianMixture\n",
    "from sklearn.metrics import silhouette_score\n",
    "from sklearn.preprocessing import StandardScaler\n",
    "from tqdm import tqdm\n",
    "from sklearn import metrics\n",
    "import tensorflow as tf\n",
    "from sklearn.manifold import TSNE"
   ]
  },
  {
   "cell_type": "code",
   "execution_count": 781,
   "id": "2a279fbd",
   "metadata": {},
   "outputs": [],
   "source": [
    "import tensorflow.keras\n",
    "from tensorflow.keras.models import Sequential\n",
    "from tensorflow.keras.layers import Dense\n",
    "from tensorflow.keras.layers import Flatten\n",
    "from tensorflow.keras.layers import Dropout\n",
    "from tensorflow.keras.layers import Conv1D\n",
    "from tensorflow.keras.layers import MaxPooling1D\n",
    "from tensorflow.keras.layers import Input\n",
    "from tensorflow.keras.layers import BatchNormalization\n",
    "from tensorflow.keras.layers import Lambda\n",
    "from tensorflow.keras.utils import to_categorical\n",
    "from tensorflow.keras import backend as K\n",
    "from tensorflow.keras.models import Sequential, Model\n",
    "from tensorflow.keras.metrics import binary_accuracy\n",
    "from tensorflow.keras.layers import Convolution1D, Dense, MaxPooling1D, Flatten\n",
    "from tensorflow.keras.regularizers import l2\n",
    "from tensorflow.keras.optimizers import RMSprop, Adadelta"
   ]
  },
  {
   "cell_type": "code",
   "execution_count": 782,
   "id": "65a0a8f9",
   "metadata": {},
   "outputs": [],
   "source": [
    "#LSTMs\n",
    "from tensorflow.keras import Sequential, layers, callbacks\n",
    "from tensorflow.keras.layers import LSTM, GRU, Bidirectional"
   ]
  },
  {
   "cell_type": "code",
   "execution_count": 4,
   "id": "a4e33d85",
   "metadata": {},
   "outputs": [
    {
     "name": "stdout",
     "output_type": "stream",
     "text": [
      "[[3.27030e-24 3.07616e-24 5.22539e-24 ... 1.32958e-21 1.33228e-21\n",
      "  1.35562e-21]\n",
      " [1.30267e-20 1.30677e-20 1.31157e-20 ... 3.81686e-20 3.81212e-20\n",
      "  3.80739e-20]\n",
      " [6.26322e-21 6.28294e-21 6.30602e-21 ... 1.83835e-20 1.83606e-20\n",
      "  1.83378e-20]\n",
      " ...\n",
      " [2.18046e-21 2.18672e-21 2.19415e-21 ... 4.09628e-21 4.09113e-21\n",
      "  4.08599e-21]\n",
      " [8.45625e-21 8.48075e-21 8.50976e-21 ... 1.65705e-20 1.65496e-20\n",
      "  1.65289e-20]\n",
      " [9.18122e-27 9.43401e-27 1.16085e-26 ... 4.02891e-22 4.05835e-22\n",
      "  4.14389e-22]]\n"
     ]
    }
   ],
   "source": [
    "#Setting up the dataset for ML\n",
    "# Text file data converted to integer data type\n",
    "import numpy as np\n",
    "x_data = np.loadtxt(\"dataset/x_dataTrain.txt\", dtype=float)\n",
    "print(x_data)"
   ]
  },
  {
   "cell_type": "code",
   "execution_count": 8,
   "id": "1bf05294",
   "metadata": {},
   "outputs": [
    {
     "name": "stdout",
     "output_type": "stream",
     "text": [
      "[[5.44779525e-02 3.63563344e-01 3.93226327e-01 ... 3.84039400e-03\n",
      "  1.04632279e-03 8.05759487e-06]\n",
      " [4.16023007e-02 1.98831946e-01 3.19697149e-01 ... 1.58676888e-04\n",
      "  2.70865681e-04 6.98852685e-06]\n",
      " [3.25809662e-02 3.30184164e-01 2.25277622e-01 ... 3.64259914e-04\n",
      "  1.77938880e-05 5.15590766e-06]\n",
      " ...\n",
      " [6.00137545e-03 2.25446819e-01 2.36290974e-01 ... 3.41272939e-03\n",
      "  1.68012889e-04 8.55777941e-06]\n",
      " [9.61424398e-03 2.41019755e-01 4.74460251e-01 ... 2.28148605e-03\n",
      "  1.53862644e-04 3.59720563e-06]\n",
      " [1.48247666e-02 4.65782909e-01 3.00848722e-01 ... 5.70894991e-03\n",
      "  1.74632155e-04 1.76412088e-06]]\n"
     ]
    }
   ],
   "source": [
    "#Setting up the dataset for ML\n",
    "# Text file data converted to integer data type\n",
    "y_data = np.loadtxt(\"dataset/y_dataTrain.txt\", dtype=float)\n",
    "print(y_data)"
   ]
  },
  {
   "cell_type": "code",
   "execution_count": 783,
   "id": "42648274",
   "metadata": {},
   "outputs": [],
   "source": [
    "features = pd.DataFrame(x_data)"
   ]
  },
  {
   "cell_type": "code",
   "execution_count": 784,
   "id": "b2a76f80",
   "metadata": {},
   "outputs": [],
   "source": [
    "feature_dict = {\n",
    "    0 : 'H2O',\n",
    "    1 : 'CO2',\n",
    "    2 : 'O2',\n",
    "    3 : 'N2',\n",
    "    4 : 'CH4',\n",
    "    5 : 'N2O',\n",
    "    6 : 'CO',\n",
    "    7 : 'O3',\n",
    "    8 : 'SO2',\n",
    "    9 : 'NH3',\n",
    "    10 : 'C2H6',\n",
    "    11 : 'NO2'\n",
    "}"
   ]
  },
  {
   "cell_type": "code",
   "execution_count": 785,
   "id": "ee816458",
   "metadata": {},
   "outputs": [
    {
     "name": "stderr",
     "output_type": "stream",
     "text": [
      "<ipython-input-785-cb945ec1c6d5>:6: SettingWithCopyWarning: \n",
      "A value is trying to be set on a copy of a slice from a DataFrame.\n",
      "Try using .loc[row_indexer,col_indexer] = value instead\n",
      "\n",
      "See the caveats in the documentation: https://pandas.pydata.org/pandas-docs/stable/user_guide/indexing.html#returning-a-view-versus-a-copy\n",
      "  labelsSum['H2O'] = labelsSum['H2O'].apply(lambda x: x*100)\n",
      "<ipython-input-785-cb945ec1c6d5>:7: SettingWithCopyWarning: \n",
      "A value is trying to be set on a copy of a slice from a DataFrame.\n",
      "Try using .loc[row_indexer,col_indexer] = value instead\n",
      "\n",
      "See the caveats in the documentation: https://pandas.pydata.org/pandas-docs/stable/user_guide/indexing.html#returning-a-view-versus-a-copy\n",
      "  labelsSum['CO2'] = labelsSum['CO2'].apply(lambda x: x*100)\n",
      "<ipython-input-785-cb945ec1c6d5>:8: SettingWithCopyWarning: \n",
      "A value is trying to be set on a copy of a slice from a DataFrame.\n",
      "Try using .loc[row_indexer,col_indexer] = value instead\n",
      "\n",
      "See the caveats in the documentation: https://pandas.pydata.org/pandas-docs/stable/user_guide/indexing.html#returning-a-view-versus-a-copy\n",
      "  labelsSum['O2'] = labelsSum['O2'].apply(lambda x: x*100)\n",
      "<ipython-input-785-cb945ec1c6d5>:9: SettingWithCopyWarning: \n",
      "A value is trying to be set on a copy of a slice from a DataFrame.\n",
      "Try using .loc[row_indexer,col_indexer] = value instead\n",
      "\n",
      "See the caveats in the documentation: https://pandas.pydata.org/pandas-docs/stable/user_guide/indexing.html#returning-a-view-versus-a-copy\n",
      "  labelsSum['N2'] = labelsSum['N2'].apply(lambda x: x*100)\n",
      "<ipython-input-785-cb945ec1c6d5>:10: SettingWithCopyWarning: \n",
      "A value is trying to be set on a copy of a slice from a DataFrame.\n",
      "Try using .loc[row_indexer,col_indexer] = value instead\n",
      "\n",
      "See the caveats in the documentation: https://pandas.pydata.org/pandas-docs/stable/user_guide/indexing.html#returning-a-view-versus-a-copy\n",
      "  labelsSum['CH4'] = labelsSum['CH4'].apply(lambda x: x*100)\n"
     ]
    },
    {
     "data": {
      "text/html": [
       "<div>\n",
       "<style scoped>\n",
       "    .dataframe tbody tr th:only-of-type {\n",
       "        vertical-align: middle;\n",
       "    }\n",
       "\n",
       "    .dataframe tbody tr th {\n",
       "        vertical-align: top;\n",
       "    }\n",
       "\n",
       "    .dataframe thead th {\n",
       "        text-align: right;\n",
       "    }\n",
       "</style>\n",
       "<table border=\"1\" class=\"dataframe\">\n",
       "  <thead>\n",
       "    <tr style=\"text-align: right;\">\n",
       "      <th></th>\n",
       "      <th>H2O</th>\n",
       "      <th>CO2</th>\n",
       "      <th>O2</th>\n",
       "      <th>N2</th>\n",
       "      <th>CH4</th>\n",
       "    </tr>\n",
       "  </thead>\n",
       "  <tbody>\n",
       "    <tr>\n",
       "      <th>0</th>\n",
       "      <td>5.447795</td>\n",
       "      <td>36.356334</td>\n",
       "      <td>39.322633</td>\n",
       "      <td>2.347669</td>\n",
       "      <td>12.807289</td>\n",
       "    </tr>\n",
       "    <tr>\n",
       "      <th>1</th>\n",
       "      <td>4.160230</td>\n",
       "      <td>19.883195</td>\n",
       "      <td>31.969715</td>\n",
       "      <td>37.276586</td>\n",
       "      <td>4.568130</td>\n",
       "    </tr>\n",
       "    <tr>\n",
       "      <th>2</th>\n",
       "      <td>3.258097</td>\n",
       "      <td>33.018416</td>\n",
       "      <td>22.527762</td>\n",
       "      <td>36.730550</td>\n",
       "      <td>2.988821</td>\n",
       "    </tr>\n",
       "    <tr>\n",
       "      <th>3</th>\n",
       "      <td>4.756591</td>\n",
       "      <td>22.928300</td>\n",
       "      <td>52.232608</td>\n",
       "      <td>0.433152</td>\n",
       "      <td>14.348949</td>\n",
       "    </tr>\n",
       "    <tr>\n",
       "      <th>4</th>\n",
       "      <td>8.355934</td>\n",
       "      <td>19.788123</td>\n",
       "      <td>39.827563</td>\n",
       "      <td>22.288283</td>\n",
       "      <td>6.370204</td>\n",
       "    </tr>\n",
       "    <tr>\n",
       "      <th>...</th>\n",
       "      <td>...</td>\n",
       "      <td>...</td>\n",
       "      <td>...</td>\n",
       "      <td>...</td>\n",
       "      <td>...</td>\n",
       "    </tr>\n",
       "    <tr>\n",
       "      <th>9998</th>\n",
       "      <td>3.211915</td>\n",
       "      <td>34.743236</td>\n",
       "      <td>35.990073</td>\n",
       "      <td>22.761101</td>\n",
       "      <td>1.522112</td>\n",
       "    </tr>\n",
       "    <tr>\n",
       "      <th>9999</th>\n",
       "      <td>1.049656</td>\n",
       "      <td>18.019818</td>\n",
       "      <td>33.185333</td>\n",
       "      <td>42.389717</td>\n",
       "      <td>3.421742</td>\n",
       "    </tr>\n",
       "    <tr>\n",
       "      <th>10000</th>\n",
       "      <td>0.600138</td>\n",
       "      <td>22.544682</td>\n",
       "      <td>23.629097</td>\n",
       "      <td>46.500135</td>\n",
       "      <td>5.045736</td>\n",
       "    </tr>\n",
       "    <tr>\n",
       "      <th>10001</th>\n",
       "      <td>0.961424</td>\n",
       "      <td>24.101976</td>\n",
       "      <td>47.446025</td>\n",
       "      <td>19.817285</td>\n",
       "      <td>4.904123</td>\n",
       "    </tr>\n",
       "    <tr>\n",
       "      <th>10002</th>\n",
       "      <td>1.482477</td>\n",
       "      <td>46.578291</td>\n",
       "      <td>30.084872</td>\n",
       "      <td>12.549951</td>\n",
       "      <td>6.215847</td>\n",
       "    </tr>\n",
       "  </tbody>\n",
       "</table>\n",
       "<p>10003 rows × 5 columns</p>\n",
       "</div>"
      ],
      "text/plain": [
       "            H2O        CO2         O2         N2        CH4\n",
       "0      5.447795  36.356334  39.322633   2.347669  12.807289\n",
       "1      4.160230  19.883195  31.969715  37.276586   4.568130\n",
       "2      3.258097  33.018416  22.527762  36.730550   2.988821\n",
       "3      4.756591  22.928300  52.232608   0.433152  14.348949\n",
       "4      8.355934  19.788123  39.827563  22.288283   6.370204\n",
       "...         ...        ...        ...        ...        ...\n",
       "9998   3.211915  34.743236  35.990073  22.761101   1.522112\n",
       "9999   1.049656  18.019818  33.185333  42.389717   3.421742\n",
       "10000  0.600138  22.544682  23.629097  46.500135   5.045736\n",
       "10001  0.961424  24.101976  47.446025  19.817285   4.904123\n",
       "10002  1.482477  46.578291  30.084872  12.549951   6.215847\n",
       "\n",
       "[10003 rows x 5 columns]"
      ]
     },
     "execution_count": 785,
     "metadata": {},
     "output_type": "execute_result"
    }
   ],
   "source": [
    "labels = pd.DataFrame(y_data)\n",
    "labels.rename(columns=feature_dict,\n",
    "          inplace=True)\n",
    "labelsSum = labels[['H2O','CO2', 'O2', 'N2', 'CH4']]\n",
    "\n",
    "labelsSum['H2O'] = labelsSum['H2O'].apply(lambda x: x*100)\n",
    "labelsSum['CO2'] = labelsSum['CO2'].apply(lambda x: x*100)\n",
    "labelsSum['O2'] = labelsSum['O2'].apply(lambda x: x*100)\n",
    "labelsSum['N2'] = labelsSum['N2'].apply(lambda x: x*100)\n",
    "labelsSum['CH4'] = labelsSum['CH4'].apply(lambda x: x*100)\n",
    "\n",
    "labelsSum"
   ]
  },
  {
   "cell_type": "code",
   "execution_count": 789,
   "id": "86dd312f",
   "metadata": {},
   "outputs": [
    {
     "data": {
      "image/png": "[encoded data removed]",
      "text/plain": [
       "<Figure size 432x288 with 1 Axes>"
      ]
     },
     "metadata": {},
     "output_type": "display_data"
    }
   ],
   "source": [
    "plt.plot(features.iloc[52,:])\n",
    "plt.show()"
   ]
  },
  {
   "cell_type": "code",
   "execution_count": null,
   "id": "87f04ddf",
   "metadata": {},
   "outputs": [],
   "source": []
  },
  {
   "cell_type": "code",
   "execution_count": 797,
   "id": "38ce157e",
   "metadata": {},
   "outputs": [
    {
     "data": {
      "text/plain": [
       "Index(['0', '100', '200', '300', '400', '500', '600', '700', '800', '900',\n",
       "       '1000', '1100', '1200', '1300', '1400', '1500', '1600', '1700', '1800',\n",
       "       '1900', '2000', '2100', '2200', '2300', '2400', '2500', '2600', '2700',\n",
       "       '2800', '2900', '3000', '3100', '3200', '3300', '3400', '3500', '3600',\n",
       "       '3700', '3800', '3900', '4000', '4100', '4200', '4300'],\n",
       "      dtype='object')"
      ]
     },
     "execution_count": 797,
     "metadata": {},
     "output_type": "execute_result"
    }
   ],
   "source": [
    "#Converting columns to vectors\n",
    "testFeatures = features[features.columns[::100]]\n",
    "testFeatures.columns = testFeatures.columns.astype(str)\n",
    "#test['combined'] = features.values.tolist()\n",
    "#test['combined'] = test['combined'].to_numpy()"
   ]
  },
  {
   "cell_type": "code",
   "execution_count": 798,
   "id": "285cbef5",
   "metadata": {},
   "outputs": [
    {
     "name": "stderr",
     "output_type": "stream",
     "text": [
      "<ipython-input-798-d98903234857>:1: SettingWithCopyWarning: \n",
      "A value is trying to be set on a copy of a slice from a DataFrame.\n",
      "Try using .loc[row_indexer,col_indexer] = value instead\n",
      "\n",
      "See the caveats in the documentation: https://pandas.pydata.org/pandas-docs/stable/user_guide/indexing.html#returning-a-view-versus-a-copy\n",
      "  testFeatures['CO2'] = labelsSum['CO2']\n"
     ]
    }
   ],
   "source": [
    "testFeatures['CO2'] = labelsSum['CO2']\n"
   ]
  },
  {
   "cell_type": "code",
   "execution_count": 792,
   "id": "116c7012",
   "metadata": {},
   "outputs": [
    {
     "data": {
      "image/png": "[encoded data removed]",
      "text/plain": [
       "<Figure size 432x288 with 1 Axes>"
      ]
     },
     "metadata": {},
     "output_type": "display_data"
    }
   ],
   "source": [
    "plt.plot(testFeatures.iloc[52,:])\n",
    "plt.show()"
   ]
  },
  {
   "cell_type": "code",
   "execution_count": 205,
   "id": "d8b3e3ca",
   "metadata": {},
   "outputs": [
    {
     "name": "stderr",
     "output_type": "stream",
     "text": [
      "<ipython-input-205-320c2094b4d7>:2: SettingWithCopyWarning: \n",
      "A value is trying to be set on a copy of a slice from a DataFrame.\n",
      "Try using .loc[row_indexer,col_indexer] = value instead\n",
      "\n",
      "See the caveats in the documentation: https://pandas.pydata.org/pandas-docs/stable/user_guide/indexing.html#returning-a-view-versus-a-copy\n",
      "  testFeatures['CO2'] = labelsSum['CO2']\n",
      "C:\\Users\\abhi\\anaconda3\\lib\\site-packages\\scipy\\stats\\_continuous_distns.py:621: RuntimeWarning: invalid value encountered in sqrt\n",
      "  sk = 2*(b-a)*np.sqrt(a + b + 1) / (a + b + 2) / np.sqrt(a*b)\n",
      "C:\\Users\\abhi\\anaconda3\\lib\\site-packages\\scipy\\optimize\\minpack.py:175: RuntimeWarning: The iteration is not making good progress, as measured by the \n",
      "  improvement from the last ten iterations.\n",
      "  warnings.warn(msg, RuntimeWarning)\n",
      "C:\\Users\\abhi\\anaconda3\\lib\\site-packages\\scipy\\stats\\_continuous_distns.py:4965: RuntimeWarning: divide by zero encountered in true_divide\n",
      "  return c**2 / (c**2 - n**2)\n",
      "C:\\Users\\abhi\\anaconda3\\lib\\site-packages\\scipy\\stats\\_distn_infrastructure.py:2429: RuntimeWarning: invalid value encountered in double_scalars\n",
      "  Lhat = muhat - Shat*mu\n"
     ]
    }
   ],
   "source": [
    "#Make synthetic data\n",
    "#Create synthetic data\n",
    "from sdv.tabular import GaussianCopula\n",
    "model = GaussianCopula()\n",
    "model.fit(testFeatures)"
   ]
  },
  {
   "cell_type": "code",
   "execution_count": 224,
   "id": "29192e7f",
   "metadata": {},
   "outputs": [
    {
     "data": {
      "application/javascript": [
       "\n",
       "        if (window._pyforest_update_imports_cell) { window._pyforest_update_imports_cell('from sklearn.preprocessing import MinMaxScaler\\nimport pickle'); }\n",
       "    "
      ],
      "text/plain": [
       "<IPython.core.display.Javascript object>"
      ]
     },
     "metadata": {},
     "output_type": "display_data"
    }
   ],
   "source": [
    "pickle.dump(model, open('dataGen.pkl', 'wb'))"
   ]
  },
  {
   "cell_type": "code",
   "execution_count": 206,
   "id": "12265784",
   "metadata": {},
   "outputs": [
    {
     "name": "stderr",
     "output_type": "stream",
     "text": [
      "C:\\Users\\abhi\\anaconda3\\lib\\site-packages\\sdv\\tabular\\base.py:250: FutureWarning: The frame.append method is deprecated and will be removed from pandas in a future version. Use pandas.concat instead.\n",
      "  sampled = previous_rows.append(sampled, ignore_index=True)\n"
     ]
    },
    {
     "data": {
      "text/html": [
       "<div>\n",
       "<style scoped>\n",
       "    .dataframe tbody tr th:only-of-type {\n",
       "        vertical-align: middle;\n",
       "    }\n",
       "\n",
       "    .dataframe tbody tr th {\n",
       "        vertical-align: top;\n",
       "    }\n",
       "\n",
       "    .dataframe thead th {\n",
       "        text-align: right;\n",
       "    }\n",
       "</style>\n",
       "<table border=\"1\" class=\"dataframe\">\n",
       "  <thead>\n",
       "    <tr style=\"text-align: right;\">\n",
       "      <th></th>\n",
       "      <th>0</th>\n",
       "      <th>100</th>\n",
       "      <th>200</th>\n",
       "      <th>300</th>\n",
       "      <th>400</th>\n",
       "      <th>500</th>\n",
       "      <th>600</th>\n",
       "      <th>700</th>\n",
       "      <th>800</th>\n",
       "      <th>900</th>\n",
       "      <th>...</th>\n",
       "      <th>3500</th>\n",
       "      <th>3600</th>\n",
       "      <th>3700</th>\n",
       "      <th>3800</th>\n",
       "      <th>3900</th>\n",
       "      <th>4000</th>\n",
       "      <th>4100</th>\n",
       "      <th>4200</th>\n",
       "      <th>4300</th>\n",
       "      <th>CO2</th>\n",
       "    </tr>\n",
       "  </thead>\n",
       "  <tbody>\n",
       "    <tr>\n",
       "      <th>0</th>\n",
       "      <td>1.280331e-23</td>\n",
       "      <td>3.351845e-23</td>\n",
       "      <td>3.878593e-23</td>\n",
       "      <td>6.208160e-23</td>\n",
       "      <td>1.323413e-22</td>\n",
       "      <td>6.202630e-23</td>\n",
       "      <td>1.424408e-22</td>\n",
       "      <td>4.392069e-22</td>\n",
       "      <td>7.838104e-22</td>\n",
       "      <td>4.648465e-22</td>\n",
       "      <td>...</td>\n",
       "      <td>2.230032e-21</td>\n",
       "      <td>2.745373e-21</td>\n",
       "      <td>2.089737e-21</td>\n",
       "      <td>2.187686e-21</td>\n",
       "      <td>3.166508e-21</td>\n",
       "      <td>2.008839e-21</td>\n",
       "      <td>1.773028e-21</td>\n",
       "      <td>1.714982e-21</td>\n",
       "      <td>1.487080e-21</td>\n",
       "      <td>28.422652</td>\n",
       "    </tr>\n",
       "    <tr>\n",
       "      <th>1</th>\n",
       "      <td>1.639843e-27</td>\n",
       "      <td>2.400524e-26</td>\n",
       "      <td>2.778264e-26</td>\n",
       "      <td>1.074290e-25</td>\n",
       "      <td>1.667017e-25</td>\n",
       "      <td>4.858880e-25</td>\n",
       "      <td>1.446302e-24</td>\n",
       "      <td>2.300269e-23</td>\n",
       "      <td>1.273715e-22</td>\n",
       "      <td>4.259232e-23</td>\n",
       "      <td>...</td>\n",
       "      <td>1.060548e-20</td>\n",
       "      <td>4.403261e-21</td>\n",
       "      <td>4.420276e-21</td>\n",
       "      <td>6.008014e-21</td>\n",
       "      <td>1.464120e-20</td>\n",
       "      <td>3.727693e-21</td>\n",
       "      <td>3.479833e-21</td>\n",
       "      <td>8.127537e-21</td>\n",
       "      <td>6.106898e-21</td>\n",
       "      <td>39.604915</td>\n",
       "    </tr>\n",
       "    <tr>\n",
       "      <th>2</th>\n",
       "      <td>2.504421e-23</td>\n",
       "      <td>4.652491e-23</td>\n",
       "      <td>6.598360e-24</td>\n",
       "      <td>8.573928e-23</td>\n",
       "      <td>1.951099e-23</td>\n",
       "      <td>4.507078e-23</td>\n",
       "      <td>5.952917e-23</td>\n",
       "      <td>1.072535e-22</td>\n",
       "      <td>1.126457e-22</td>\n",
       "      <td>6.875831e-23</td>\n",
       "      <td>...</td>\n",
       "      <td>4.719437e-22</td>\n",
       "      <td>4.123284e-22</td>\n",
       "      <td>3.896226e-22</td>\n",
       "      <td>3.893532e-22</td>\n",
       "      <td>4.175798e-22</td>\n",
       "      <td>3.729013e-22</td>\n",
       "      <td>3.376260e-22</td>\n",
       "      <td>3.128840e-22</td>\n",
       "      <td>2.655601e-22</td>\n",
       "      <td>53.776791</td>\n",
       "    </tr>\n",
       "    <tr>\n",
       "      <th>3</th>\n",
       "      <td>1.825815e-25</td>\n",
       "      <td>1.362723e-24</td>\n",
       "      <td>6.630477e-24</td>\n",
       "      <td>6.411387e-24</td>\n",
       "      <td>3.858683e-23</td>\n",
       "      <td>1.830944e-23</td>\n",
       "      <td>4.282930e-23</td>\n",
       "      <td>3.447307e-22</td>\n",
       "      <td>1.402433e-21</td>\n",
       "      <td>6.616231e-22</td>\n",
       "      <td>...</td>\n",
       "      <td>2.144084e-20</td>\n",
       "      <td>1.536376e-20</td>\n",
       "      <td>1.404799e-20</td>\n",
       "      <td>1.514053e-20</td>\n",
       "      <td>2.194906e-20</td>\n",
       "      <td>1.358677e-20</td>\n",
       "      <td>1.166824e-20</td>\n",
       "      <td>1.428151e-20</td>\n",
       "      <td>1.123334e-20</td>\n",
       "      <td>28.996846</td>\n",
       "    </tr>\n",
       "    <tr>\n",
       "      <th>4</th>\n",
       "      <td>9.656734e-23</td>\n",
       "      <td>3.961729e-22</td>\n",
       "      <td>4.529098e-22</td>\n",
       "      <td>9.460302e-22</td>\n",
       "      <td>1.234931e-21</td>\n",
       "      <td>1.081268e-21</td>\n",
       "      <td>2.459194e-21</td>\n",
       "      <td>9.109879e-21</td>\n",
       "      <td>1.698673e-20</td>\n",
       "      <td>7.903394e-21</td>\n",
       "      <td>...</td>\n",
       "      <td>6.364191e-20</td>\n",
       "      <td>3.141029e-20</td>\n",
       "      <td>2.685864e-20</td>\n",
       "      <td>3.424060e-20</td>\n",
       "      <td>8.041300e-20</td>\n",
       "      <td>2.294335e-20</td>\n",
       "      <td>1.843988e-20</td>\n",
       "      <td>3.740529e-20</td>\n",
       "      <td>2.801756e-20</td>\n",
       "      <td>30.297269</td>\n",
       "    </tr>\n",
       "    <tr>\n",
       "      <th>...</th>\n",
       "      <td>...</td>\n",
       "      <td>...</td>\n",
       "      <td>...</td>\n",
       "      <td>...</td>\n",
       "      <td>...</td>\n",
       "      <td>...</td>\n",
       "      <td>...</td>\n",
       "      <td>...</td>\n",
       "      <td>...</td>\n",
       "      <td>...</td>\n",
       "      <td>...</td>\n",
       "      <td>...</td>\n",
       "      <td>...</td>\n",
       "      <td>...</td>\n",
       "      <td>...</td>\n",
       "      <td>...</td>\n",
       "      <td>...</td>\n",
       "      <td>...</td>\n",
       "      <td>...</td>\n",
       "      <td>...</td>\n",
       "      <td>...</td>\n",
       "    </tr>\n",
       "    <tr>\n",
       "      <th>9998</th>\n",
       "      <td>1.354968e-22</td>\n",
       "      <td>3.504686e-22</td>\n",
       "      <td>1.750252e-21</td>\n",
       "      <td>6.469148e-22</td>\n",
       "      <td>3.758006e-21</td>\n",
       "      <td>6.051494e-22</td>\n",
       "      <td>1.501610e-21</td>\n",
       "      <td>7.866620e-21</td>\n",
       "      <td>1.379598e-20</td>\n",
       "      <td>5.275817e-21</td>\n",
       "      <td>...</td>\n",
       "      <td>1.301872e-20</td>\n",
       "      <td>1.087865e-20</td>\n",
       "      <td>9.961073e-21</td>\n",
       "      <td>1.026736e-20</td>\n",
       "      <td>1.693213e-20</td>\n",
       "      <td>7.552794e-21</td>\n",
       "      <td>6.007290e-21</td>\n",
       "      <td>9.931501e-21</td>\n",
       "      <td>7.697545e-21</td>\n",
       "      <td>36.479349</td>\n",
       "    </tr>\n",
       "    <tr>\n",
       "      <th>9999</th>\n",
       "      <td>3.424010e-22</td>\n",
       "      <td>9.021145e-22</td>\n",
       "      <td>1.736465e-21</td>\n",
       "      <td>1.286841e-21</td>\n",
       "      <td>4.462927e-21</td>\n",
       "      <td>1.282326e-21</td>\n",
       "      <td>2.565907e-21</td>\n",
       "      <td>9.952009e-21</td>\n",
       "      <td>1.929658e-20</td>\n",
       "      <td>1.051550e-20</td>\n",
       "      <td>...</td>\n",
       "      <td>4.050492e-20</td>\n",
       "      <td>4.680238e-20</td>\n",
       "      <td>4.344077e-20</td>\n",
       "      <td>5.036503e-20</td>\n",
       "      <td>6.663762e-20</td>\n",
       "      <td>3.765013e-20</td>\n",
       "      <td>2.981218e-20</td>\n",
       "      <td>5.382619e-20</td>\n",
       "      <td>4.103048e-20</td>\n",
       "      <td>26.895736</td>\n",
       "    </tr>\n",
       "    <tr>\n",
       "      <th>10000</th>\n",
       "      <td>1.883229e-22</td>\n",
       "      <td>2.814283e-22</td>\n",
       "      <td>6.976517e-22</td>\n",
       "      <td>5.209597e-22</td>\n",
       "      <td>1.799381e-21</td>\n",
       "      <td>3.922649e-22</td>\n",
       "      <td>8.534721e-22</td>\n",
       "      <td>3.361846e-21</td>\n",
       "      <td>5.643814e-21</td>\n",
       "      <td>2.546183e-21</td>\n",
       "      <td>...</td>\n",
       "      <td>6.722254e-21</td>\n",
       "      <td>6.282485e-21</td>\n",
       "      <td>5.967196e-21</td>\n",
       "      <td>6.610721e-21</td>\n",
       "      <td>7.818404e-21</td>\n",
       "      <td>4.973309e-21</td>\n",
       "      <td>4.525038e-21</td>\n",
       "      <td>6.224263e-21</td>\n",
       "      <td>5.159538e-21</td>\n",
       "      <td>28.602914</td>\n",
       "    </tr>\n",
       "    <tr>\n",
       "      <th>10001</th>\n",
       "      <td>6.236726e-21</td>\n",
       "      <td>8.918084e-21</td>\n",
       "      <td>3.345793e-20</td>\n",
       "      <td>1.406100e-20</td>\n",
       "      <td>6.733415e-20</td>\n",
       "      <td>9.788716e-21</td>\n",
       "      <td>1.740064e-20</td>\n",
       "      <td>4.904374e-20</td>\n",
       "      <td>6.899026e-20</td>\n",
       "      <td>3.816713e-20</td>\n",
       "      <td>...</td>\n",
       "      <td>4.810805e-20</td>\n",
       "      <td>4.872292e-20</td>\n",
       "      <td>4.941188e-20</td>\n",
       "      <td>5.222571e-20</td>\n",
       "      <td>4.661871e-20</td>\n",
       "      <td>3.482209e-20</td>\n",
       "      <td>3.151865e-20</td>\n",
       "      <td>4.746985e-20</td>\n",
       "      <td>3.660227e-20</td>\n",
       "      <td>76.427996</td>\n",
       "    </tr>\n",
       "    <tr>\n",
       "      <th>10002</th>\n",
       "      <td>2.325665e-21</td>\n",
       "      <td>4.294504e-21</td>\n",
       "      <td>1.377225e-20</td>\n",
       "      <td>4.640490e-21</td>\n",
       "      <td>1.923926e-20</td>\n",
       "      <td>3.760938e-21</td>\n",
       "      <td>6.366790e-21</td>\n",
       "      <td>1.452218e-20</td>\n",
       "      <td>2.034645e-20</td>\n",
       "      <td>1.145596e-20</td>\n",
       "      <td>...</td>\n",
       "      <td>9.615363e-21</td>\n",
       "      <td>1.069528e-20</td>\n",
       "      <td>1.053348e-20</td>\n",
       "      <td>9.741914e-21</td>\n",
       "      <td>1.207732e-20</td>\n",
       "      <td>6.714420e-21</td>\n",
       "      <td>6.396317e-21</td>\n",
       "      <td>9.896176e-21</td>\n",
       "      <td>7.893364e-21</td>\n",
       "      <td>40.352607</td>\n",
       "    </tr>\n",
       "  </tbody>\n",
       "</table>\n",
       "<p>10003 rows × 45 columns</p>\n",
       "</div>"
      ],
      "text/plain": [
       "                  0           100           200           300           400  \\\n",
       "0      1.280331e-23  3.351845e-23  3.878593e-23  6.208160e-23  1.323413e-22   \n",
       "1      1.639843e-27  2.400524e-26  2.778264e-26  1.074290e-25  1.667017e-25   \n",
       "2      2.504421e-23  4.652491e-23  6.598360e-24  8.573928e-23  1.951099e-23   \n",
       "3      1.825815e-25  1.362723e-24  6.630477e-24  6.411387e-24  3.858683e-23   \n",
       "4      9.656734e-23  3.961729e-22  4.529098e-22  9.460302e-22  1.234931e-21   \n",
       "...             ...           ...           ...           ...           ...   \n",
       "9998   1.354968e-22  3.504686e-22  1.750252e-21  6.469148e-22  3.758006e-21   \n",
       "9999   3.424010e-22  9.021145e-22  1.736465e-21  1.286841e-21  4.462927e-21   \n",
       "10000  1.883229e-22  2.814283e-22  6.976517e-22  5.209597e-22  1.799381e-21   \n",
       "10001  6.236726e-21  8.918084e-21  3.345793e-20  1.406100e-20  6.733415e-20   \n",
       "10002  2.325665e-21  4.294504e-21  1.377225e-20  4.640490e-21  1.923926e-20   \n",
       "\n",
       "                500           600           700           800           900  \\\n",
       "0      6.202630e-23  1.424408e-22  4.392069e-22  7.838104e-22  4.648465e-22   \n",
       "1      4.858880e-25  1.446302e-24  2.300269e-23  1.273715e-22  4.259232e-23   \n",
       "2      4.507078e-23  5.952917e-23  1.072535e-22  1.126457e-22  6.875831e-23   \n",
       "3      1.830944e-23  4.282930e-23  3.447307e-22  1.402433e-21  6.616231e-22   \n",
       "4      1.081268e-21  2.459194e-21  9.109879e-21  1.698673e-20  7.903394e-21   \n",
       "...             ...           ...           ...           ...           ...   \n",
       "9998   6.051494e-22  1.501610e-21  7.866620e-21  1.379598e-20  5.275817e-21   \n",
       "9999   1.282326e-21  2.565907e-21  9.952009e-21  1.929658e-20  1.051550e-20   \n",
       "10000  3.922649e-22  8.534721e-22  3.361846e-21  5.643814e-21  2.546183e-21   \n",
       "10001  9.788716e-21  1.740064e-20  4.904374e-20  6.899026e-20  3.816713e-20   \n",
       "10002  3.760938e-21  6.366790e-21  1.452218e-20  2.034645e-20  1.145596e-20   \n",
       "\n",
       "       ...          3500          3600          3700          3800  \\\n",
       "0      ...  2.230032e-21  2.745373e-21  2.089737e-21  2.187686e-21   \n",
       "1      ...  1.060548e-20  4.403261e-21  4.420276e-21  6.008014e-21   \n",
       "2      ...  4.719437e-22  4.123284e-22  3.896226e-22  3.893532e-22   \n",
       "3      ...  2.144084e-20  1.536376e-20  1.404799e-20  1.514053e-20   \n",
       "4      ...  6.364191e-20  3.141029e-20  2.685864e-20  3.424060e-20   \n",
       "...    ...           ...           ...           ...           ...   \n",
       "9998   ...  1.301872e-20  1.087865e-20  9.961073e-21  1.026736e-20   \n",
       "9999   ...  4.050492e-20  4.680238e-20  4.344077e-20  5.036503e-20   \n",
       "10000  ...  6.722254e-21  6.282485e-21  5.967196e-21  6.610721e-21   \n",
       "10001  ...  4.810805e-20  4.872292e-20  4.941188e-20  5.222571e-20   \n",
       "10002  ...  9.615363e-21  1.069528e-20  1.053348e-20  9.741914e-21   \n",
       "\n",
       "               3900          4000          4100          4200          4300  \\\n",
       "0      3.166508e-21  2.008839e-21  1.773028e-21  1.714982e-21  1.487080e-21   \n",
       "1      1.464120e-20  3.727693e-21  3.479833e-21  8.127537e-21  6.106898e-21   \n",
       "2      4.175798e-22  3.729013e-22  3.376260e-22  3.128840e-22  2.655601e-22   \n",
       "3      2.194906e-20  1.358677e-20  1.166824e-20  1.428151e-20  1.123334e-20   \n",
       "4      8.041300e-20  2.294335e-20  1.843988e-20  3.740529e-20  2.801756e-20   \n",
       "...             ...           ...           ...           ...           ...   \n",
       "9998   1.693213e-20  7.552794e-21  6.007290e-21  9.931501e-21  7.697545e-21   \n",
       "9999   6.663762e-20  3.765013e-20  2.981218e-20  5.382619e-20  4.103048e-20   \n",
       "10000  7.818404e-21  4.973309e-21  4.525038e-21  6.224263e-21  5.159538e-21   \n",
       "10001  4.661871e-20  3.482209e-20  3.151865e-20  4.746985e-20  3.660227e-20   \n",
       "10002  1.207732e-20  6.714420e-21  6.396317e-21  9.896176e-21  7.893364e-21   \n",
       "\n",
       "             CO2  \n",
       "0      28.422652  \n",
       "1      39.604915  \n",
       "2      53.776791  \n",
       "3      28.996846  \n",
       "4      30.297269  \n",
       "...          ...  \n",
       "9998   36.479349  \n",
       "9999   26.895736  \n",
       "10000  28.602914  \n",
       "10001  76.427996  \n",
       "10002  40.352607  \n",
       "\n",
       "[10003 rows x 45 columns]"
      ]
     },
     "execution_count": 206,
     "metadata": {},
     "output_type": "execute_result"
    }
   ],
   "source": [
    "sample = model.sample(num_rows=10003)\n",
    "sample"
   ]
  },
  {
   "cell_type": "code",
   "execution_count": null,
   "id": "6b7e652a",
   "metadata": {},
   "outputs": [],
   "source": []
  },
  {
   "cell_type": "code",
   "execution_count": 802,
   "id": "318a15ec",
   "metadata": {},
   "outputs": [
    {
     "data": {
      "image/png": "[encoded data removed]",
      "text/plain": [
       "<Figure size 432x288 with 1 Axes>"
      ]
     },
     "metadata": {},
     "output_type": "display_data"
    }
   ],
   "source": [
    "plt.plot(sample.iloc[52,:-1])\n",
    "plt.show()"
   ]
  },
  {
   "cell_type": "code",
   "execution_count": 210,
   "id": "56ce49da",
   "metadata": {},
   "outputs": [
    {
     "data": {
      "image/png": "[encoded data removed]",
      "text/plain": [
       "<Figure size 432x288 with 1 Axes>"
      ]
     },
     "metadata": {},
     "output_type": "display_data"
    }
   ],
   "source": [
    "plt.plot(testFeatures.iloc[2,:-1])\n",
    "plt.show()"
   ]
  },
  {
   "cell_type": "code",
   "execution_count": 800,
   "id": "54a63aac",
   "metadata": {},
   "outputs": [
    {
     "data": {
      "text/plain": [
       "array([[<AxesSubplot:title={'center':'CO2'}>]], dtype=object)"
      ]
     },
     "execution_count": 800,
     "metadata": {},
     "output_type": "execute_result"
    },
    {
     "data": {
      "image/png": "[encoded data removed]",
      "text/plain": [
       "<Figure size 432x288 with 1 Axes>"
      ]
     },
     "metadata": {},
     "output_type": "display_data"
    }
   ],
   "source": [
    "sample.hist(column='CO2')"
   ]
  },
  {
   "cell_type": "code",
   "execution_count": 799,
   "id": "cf88c521",
   "metadata": {},
   "outputs": [
    {
     "data": {
      "text/plain": [
       "array([[<AxesSubplot:title={'center':'CO2'}>]], dtype=object)"
      ]
     },
     "execution_count": 799,
     "metadata": {},
     "output_type": "execute_result"
    },
    {
     "data": {
      "image/png": "[encoded data removed]",
      "text/plain": [
       "<Figure size 432x288 with 1 Axes>"
      ]
     },
     "metadata": {},
     "output_type": "display_data"
    }
   ],
   "source": [
    "testFeatures.hist(column='CO2')"
   ]
  },
  {
   "cell_type": "code",
   "execution_count": null,
   "id": "e06dc73f",
   "metadata": {},
   "outputs": [],
   "source": []
  },
  {
   "cell_type": "code",
   "execution_count": 218,
   "id": "6ee223c4",
   "metadata": {},
   "outputs": [
    {
     "data": {
      "text/plain": [
       "0.8855187888078019"
      ]
     },
     "execution_count": 218,
     "metadata": {},
     "output_type": "execute_result"
    }
   ],
   "source": [
    "from sdv.metrics.tabular import CSTest, KSTest\n",
    "KSTest.compute(testFeatures, sample)"
   ]
  },
  {
   "cell_type": "code",
   "execution_count": 219,
   "id": "7967a5b4",
   "metadata": {},
   "outputs": [
    {
     "name": "stdout",
     "output_type": "stream",
     "text": [
      "1.0\n"
     ]
    }
   ],
   "source": [
    "from sdv.metrics.tabular import LogisticDetection, SVCDetection\n",
    "print(LogisticDetection.compute(testFeatures, sample))"
   ]
  },
  {
   "cell_type": "code",
   "execution_count": 220,
   "id": "f26c76be",
   "metadata": {},
   "outputs": [
    {
     "data": {
      "text/plain": [
       "-3.7581172181111455e-05"
      ]
     },
     "execution_count": 220,
     "metadata": {},
     "output_type": "execute_result"
    }
   ],
   "source": [
    "from sdv.metrics.tabular import MLPRegressor\n",
    "MLPRegressor.compute(testFeatures, sample, target='CO2')"
   ]
  },
  {
   "cell_type": "code",
   "execution_count": 222,
   "id": "b0bc1634",
   "metadata": {},
   "outputs": [
    {
     "name": "stderr",
     "output_type": "stream",
     "text": [
      "C:\\Users\\abhi\\anaconda3\\lib\\site-packages\\sklearn\\neural_network\\_multilayer_perceptron.py:692: ConvergenceWarning: Stochastic Optimizer: Maximum iterations (50) reached and the optimization hasn't converged yet.\n",
      "  warnings.warn(\n"
     ]
    },
    {
     "data": {
      "text/plain": [
       "-0.07658601306774049"
      ]
     },
     "execution_count": 222,
     "metadata": {},
     "output_type": "execute_result"
    }
   ],
   "source": [
    "train = testFeatures.sample(int(len(testFeatures) * 0.75))\n",
    "test = testFeatures[~testFeatures.index.isin(train.index)]\n",
    "MLPRegressor.compute(train, test, target='CO2')"
   ]
  },
  {
   "cell_type": "code",
   "execution_count": 223,
   "id": "baf03e71",
   "metadata": {},
   "outputs": [
    {
     "name": "stderr",
     "output_type": "stream",
     "text": [
      "C:\\Users\\abhi\\anaconda3\\lib\\site-packages\\sdv\\tabular\\base.py:250: FutureWarning: The frame.append method is deprecated and will be removed from pandas in a future version. Use pandas.concat instead.\n",
      "  sampled = previous_rows.append(sampled, ignore_index=True)\n"
     ]
    },
    {
     "data": {
      "text/html": [
       "<div>\n",
       "<style scoped>\n",
       "    .dataframe tbody tr th:only-of-type {\n",
       "        vertical-align: middle;\n",
       "    }\n",
       "\n",
       "    .dataframe tbody tr th {\n",
       "        vertical-align: top;\n",
       "    }\n",
       "\n",
       "    .dataframe thead th {\n",
       "        text-align: right;\n",
       "    }\n",
       "</style>\n",
       "<table border=\"1\" class=\"dataframe\">\n",
       "  <thead>\n",
       "    <tr style=\"text-align: right;\">\n",
       "      <th></th>\n",
       "      <th>0</th>\n",
       "      <th>100</th>\n",
       "      <th>200</th>\n",
       "      <th>300</th>\n",
       "      <th>400</th>\n",
       "      <th>500</th>\n",
       "      <th>600</th>\n",
       "      <th>700</th>\n",
       "      <th>800</th>\n",
       "      <th>900</th>\n",
       "      <th>...</th>\n",
       "      <th>3500</th>\n",
       "      <th>3600</th>\n",
       "      <th>3700</th>\n",
       "      <th>3800</th>\n",
       "      <th>3900</th>\n",
       "      <th>4000</th>\n",
       "      <th>4100</th>\n",
       "      <th>4200</th>\n",
       "      <th>4300</th>\n",
       "      <th>CO2</th>\n",
       "    </tr>\n",
       "  </thead>\n",
       "  <tbody>\n",
       "    <tr>\n",
       "      <th>0</th>\n",
       "      <td>3.234447e-23</td>\n",
       "      <td>9.344309e-23</td>\n",
       "      <td>2.039141e-23</td>\n",
       "      <td>4.374577e-22</td>\n",
       "      <td>2.525142e-22</td>\n",
       "      <td>8.389659e-22</td>\n",
       "      <td>1.136206e-21</td>\n",
       "      <td>3.007250e-21</td>\n",
       "      <td>6.260953e-21</td>\n",
       "      <td>4.128431e-21</td>\n",
       "      <td>...</td>\n",
       "      <td>5.289213e-20</td>\n",
       "      <td>3.519313e-20</td>\n",
       "      <td>3.901144e-20</td>\n",
       "      <td>4.421039e-20</td>\n",
       "      <td>7.069930e-20</td>\n",
       "      <td>3.084653e-20</td>\n",
       "      <td>2.907623e-20</td>\n",
       "      <td>4.641658e-20</td>\n",
       "      <td>3.647877e-20</td>\n",
       "      <td>3.829950</td>\n",
       "    </tr>\n",
       "    <tr>\n",
       "      <th>1</th>\n",
       "      <td>5.398366e-24</td>\n",
       "      <td>2.578276e-23</td>\n",
       "      <td>9.944777e-23</td>\n",
       "      <td>1.843354e-23</td>\n",
       "      <td>9.192171e-23</td>\n",
       "      <td>1.418472e-23</td>\n",
       "      <td>3.756762e-23</td>\n",
       "      <td>1.622753e-22</td>\n",
       "      <td>3.250662e-22</td>\n",
       "      <td>9.406020e-23</td>\n",
       "      <td>...</td>\n",
       "      <td>5.834063e-22</td>\n",
       "      <td>5.854095e-22</td>\n",
       "      <td>6.258613e-22</td>\n",
       "      <td>6.417266e-22</td>\n",
       "      <td>5.673957e-22</td>\n",
       "      <td>5.316761e-22</td>\n",
       "      <td>5.464606e-22</td>\n",
       "      <td>5.051136e-22</td>\n",
       "      <td>4.353710e-22</td>\n",
       "      <td>29.395608</td>\n",
       "    </tr>\n",
       "    <tr>\n",
       "      <th>2</th>\n",
       "      <td>7.368103e-21</td>\n",
       "      <td>1.160734e-20</td>\n",
       "      <td>3.241290e-20</td>\n",
       "      <td>2.085529e-20</td>\n",
       "      <td>7.228997e-20</td>\n",
       "      <td>1.535410e-20</td>\n",
       "      <td>2.806817e-20</td>\n",
       "      <td>9.153608e-20</td>\n",
       "      <td>1.400514e-19</td>\n",
       "      <td>6.919630e-20</td>\n",
       "      <td>...</td>\n",
       "      <td>1.183181e-19</td>\n",
       "      <td>1.171662e-19</td>\n",
       "      <td>1.202267e-19</td>\n",
       "      <td>1.363276e-19</td>\n",
       "      <td>1.758309e-19</td>\n",
       "      <td>8.870787e-20</td>\n",
       "      <td>7.606130e-20</td>\n",
       "      <td>1.435135e-19</td>\n",
       "      <td>1.084588e-19</td>\n",
       "      <td>24.336615</td>\n",
       "    </tr>\n",
       "    <tr>\n",
       "      <th>3</th>\n",
       "      <td>6.392227e-23</td>\n",
       "      <td>1.533849e-22</td>\n",
       "      <td>1.047939e-21</td>\n",
       "      <td>3.170580e-22</td>\n",
       "      <td>2.200146e-21</td>\n",
       "      <td>7.003060e-22</td>\n",
       "      <td>1.635432e-21</td>\n",
       "      <td>5.109056e-21</td>\n",
       "      <td>9.210809e-21</td>\n",
       "      <td>6.047983e-21</td>\n",
       "      <td>...</td>\n",
       "      <td>2.752921e-20</td>\n",
       "      <td>2.159511e-20</td>\n",
       "      <td>1.885313e-20</td>\n",
       "      <td>2.259516e-20</td>\n",
       "      <td>3.492449e-20</td>\n",
       "      <td>1.439645e-20</td>\n",
       "      <td>1.313097e-20</td>\n",
       "      <td>2.399826e-20</td>\n",
       "      <td>1.819526e-20</td>\n",
       "      <td>64.743890</td>\n",
       "    </tr>\n",
       "    <tr>\n",
       "      <th>4</th>\n",
       "      <td>4.609674e-22</td>\n",
       "      <td>8.494359e-22</td>\n",
       "      <td>2.260218e-21</td>\n",
       "      <td>1.244703e-21</td>\n",
       "      <td>4.515076e-21</td>\n",
       "      <td>1.194311e-21</td>\n",
       "      <td>2.195928e-21</td>\n",
       "      <td>5.716450e-21</td>\n",
       "      <td>9.777372e-21</td>\n",
       "      <td>5.797275e-21</td>\n",
       "      <td>...</td>\n",
       "      <td>3.989319e-20</td>\n",
       "      <td>2.071411e-20</td>\n",
       "      <td>1.845195e-20</td>\n",
       "      <td>2.010754e-20</td>\n",
       "      <td>5.284257e-20</td>\n",
       "      <td>1.702168e-20</td>\n",
       "      <td>1.390239e-20</td>\n",
       "      <td>2.230916e-20</td>\n",
       "      <td>1.655362e-20</td>\n",
       "      <td>11.066575</td>\n",
       "    </tr>\n",
       "    <tr>\n",
       "      <th>...</th>\n",
       "      <td>...</td>\n",
       "      <td>...</td>\n",
       "      <td>...</td>\n",
       "      <td>...</td>\n",
       "      <td>...</td>\n",
       "      <td>...</td>\n",
       "      <td>...</td>\n",
       "      <td>...</td>\n",
       "      <td>...</td>\n",
       "      <td>...</td>\n",
       "      <td>...</td>\n",
       "      <td>...</td>\n",
       "      <td>...</td>\n",
       "      <td>...</td>\n",
       "      <td>...</td>\n",
       "      <td>...</td>\n",
       "      <td>...</td>\n",
       "      <td>...</td>\n",
       "      <td>...</td>\n",
       "      <td>...</td>\n",
       "      <td>...</td>\n",
       "    </tr>\n",
       "    <tr>\n",
       "      <th>99998</th>\n",
       "      <td>7.173333e-23</td>\n",
       "      <td>1.791590e-22</td>\n",
       "      <td>1.094644e-21</td>\n",
       "      <td>1.227039e-22</td>\n",
       "      <td>1.356700e-21</td>\n",
       "      <td>1.023370e-22</td>\n",
       "      <td>2.883756e-22</td>\n",
       "      <td>7.337528e-22</td>\n",
       "      <td>1.414170e-21</td>\n",
       "      <td>1.124751e-21</td>\n",
       "      <td>...</td>\n",
       "      <td>6.757854e-22</td>\n",
       "      <td>1.702608e-21</td>\n",
       "      <td>2.170170e-21</td>\n",
       "      <td>1.866976e-21</td>\n",
       "      <td>6.766148e-22</td>\n",
       "      <td>1.360240e-21</td>\n",
       "      <td>1.644230e-21</td>\n",
       "      <td>1.390310e-21</td>\n",
       "      <td>1.227877e-21</td>\n",
       "      <td>27.159556</td>\n",
       "    </tr>\n",
       "    <tr>\n",
       "      <th>99999</th>\n",
       "      <td>2.070971e-25</td>\n",
       "      <td>9.106323e-25</td>\n",
       "      <td>4.664272e-25</td>\n",
       "      <td>9.612130e-25</td>\n",
       "      <td>8.232354e-25</td>\n",
       "      <td>8.944150e-25</td>\n",
       "      <td>1.537117e-24</td>\n",
       "      <td>4.982829e-24</td>\n",
       "      <td>1.123794e-23</td>\n",
       "      <td>7.987409e-24</td>\n",
       "      <td>...</td>\n",
       "      <td>4.289519e-22</td>\n",
       "      <td>3.868217e-22</td>\n",
       "      <td>3.774067e-22</td>\n",
       "      <td>3.729556e-22</td>\n",
       "      <td>3.787024e-22</td>\n",
       "      <td>3.576375e-22</td>\n",
       "      <td>3.250068e-22</td>\n",
       "      <td>2.917156e-22</td>\n",
       "      <td>2.530957e-22</td>\n",
       "      <td>45.172894</td>\n",
       "    </tr>\n",
       "    <tr>\n",
       "      <th>100000</th>\n",
       "      <td>2.134450e-21</td>\n",
       "      <td>2.096087e-21</td>\n",
       "      <td>4.271091e-21</td>\n",
       "      <td>3.446715e-21</td>\n",
       "      <td>1.208735e-20</td>\n",
       "      <td>2.720232e-21</td>\n",
       "      <td>4.369081e-21</td>\n",
       "      <td>1.197169e-20</td>\n",
       "      <td>1.451711e-20</td>\n",
       "      <td>7.218019e-21</td>\n",
       "      <td>...</td>\n",
       "      <td>1.738414e-20</td>\n",
       "      <td>1.630408e-20</td>\n",
       "      <td>1.433612e-20</td>\n",
       "      <td>1.788842e-20</td>\n",
       "      <td>3.245529e-20</td>\n",
       "      <td>1.158407e-20</td>\n",
       "      <td>9.376690e-21</td>\n",
       "      <td>2.136091e-20</td>\n",
       "      <td>1.557630e-20</td>\n",
       "      <td>60.482909</td>\n",
       "    </tr>\n",
       "    <tr>\n",
       "      <th>100001</th>\n",
       "      <td>5.135071e-25</td>\n",
       "      <td>1.253387e-24</td>\n",
       "      <td>3.180921e-24</td>\n",
       "      <td>5.595554e-24</td>\n",
       "      <td>1.236004e-23</td>\n",
       "      <td>1.169745e-23</td>\n",
       "      <td>2.174969e-23</td>\n",
       "      <td>5.304666e-23</td>\n",
       "      <td>1.042680e-22</td>\n",
       "      <td>5.899857e-23</td>\n",
       "      <td>...</td>\n",
       "      <td>2.013862e-21</td>\n",
       "      <td>7.800075e-22</td>\n",
       "      <td>7.219789e-22</td>\n",
       "      <td>8.984704e-22</td>\n",
       "      <td>2.303254e-21</td>\n",
       "      <td>6.962000e-22</td>\n",
       "      <td>6.403339e-22</td>\n",
       "      <td>1.253225e-21</td>\n",
       "      <td>8.893744e-22</td>\n",
       "      <td>47.939317</td>\n",
       "    </tr>\n",
       "    <tr>\n",
       "      <th>100002</th>\n",
       "      <td>1.146476e-21</td>\n",
       "      <td>1.809719e-21</td>\n",
       "      <td>3.458173e-21</td>\n",
       "      <td>4.271079e-21</td>\n",
       "      <td>1.033040e-20</td>\n",
       "      <td>4.141689e-21</td>\n",
       "      <td>7.205852e-21</td>\n",
       "      <td>1.870062e-20</td>\n",
       "      <td>2.834086e-20</td>\n",
       "      <td>1.899944e-20</td>\n",
       "      <td>...</td>\n",
       "      <td>9.962198e-20</td>\n",
       "      <td>5.727686e-20</td>\n",
       "      <td>5.218505e-20</td>\n",
       "      <td>6.291446e-20</td>\n",
       "      <td>1.221365e-19</td>\n",
       "      <td>4.444530e-20</td>\n",
       "      <td>3.381887e-20</td>\n",
       "      <td>6.896017e-20</td>\n",
       "      <td>5.280473e-20</td>\n",
       "      <td>59.365018</td>\n",
       "    </tr>\n",
       "  </tbody>\n",
       "</table>\n",
       "<p>100003 rows × 45 columns</p>\n",
       "</div>"
      ],
      "text/plain": [
       "                   0           100           200           300           400  \\\n",
       "0       3.234447e-23  9.344309e-23  2.039141e-23  4.374577e-22  2.525142e-22   \n",
       "1       5.398366e-24  2.578276e-23  9.944777e-23  1.843354e-23  9.192171e-23   \n",
       "2       7.368103e-21  1.160734e-20  3.241290e-20  2.085529e-20  7.228997e-20   \n",
       "3       6.392227e-23  1.533849e-22  1.047939e-21  3.170580e-22  2.200146e-21   \n",
       "4       4.609674e-22  8.494359e-22  2.260218e-21  1.244703e-21  4.515076e-21   \n",
       "...              ...           ...           ...           ...           ...   \n",
       "99998   7.173333e-23  1.791590e-22  1.094644e-21  1.227039e-22  1.356700e-21   \n",
       "99999   2.070971e-25  9.106323e-25  4.664272e-25  9.612130e-25  8.232354e-25   \n",
       "100000  2.134450e-21  2.096087e-21  4.271091e-21  3.446715e-21  1.208735e-20   \n",
       "100001  5.135071e-25  1.253387e-24  3.180921e-24  5.595554e-24  1.236004e-23   \n",
       "100002  1.146476e-21  1.809719e-21  3.458173e-21  4.271079e-21  1.033040e-20   \n",
       "\n",
       "                 500           600           700           800           900  \\\n",
       "0       8.389659e-22  1.136206e-21  3.007250e-21  6.260953e-21  4.128431e-21   \n",
       "1       1.418472e-23  3.756762e-23  1.622753e-22  3.250662e-22  9.406020e-23   \n",
       "2       1.535410e-20  2.806817e-20  9.153608e-20  1.400514e-19  6.919630e-20   \n",
       "3       7.003060e-22  1.635432e-21  5.109056e-21  9.210809e-21  6.047983e-21   \n",
       "4       1.194311e-21  2.195928e-21  5.716450e-21  9.777372e-21  5.797275e-21   \n",
       "...              ...           ...           ...           ...           ...   \n",
       "99998   1.023370e-22  2.883756e-22  7.337528e-22  1.414170e-21  1.124751e-21   \n",
       "99999   8.944150e-25  1.537117e-24  4.982829e-24  1.123794e-23  7.987409e-24   \n",
       "100000  2.720232e-21  4.369081e-21  1.197169e-20  1.451711e-20  7.218019e-21   \n",
       "100001  1.169745e-23  2.174969e-23  5.304666e-23  1.042680e-22  5.899857e-23   \n",
       "100002  4.141689e-21  7.205852e-21  1.870062e-20  2.834086e-20  1.899944e-20   \n",
       "\n",
       "        ...          3500          3600          3700          3800  \\\n",
       "0       ...  5.289213e-20  3.519313e-20  3.901144e-20  4.421039e-20   \n",
       "1       ...  5.834063e-22  5.854095e-22  6.258613e-22  6.417266e-22   \n",
       "2       ...  1.183181e-19  1.171662e-19  1.202267e-19  1.363276e-19   \n",
       "3       ...  2.752921e-20  2.159511e-20  1.885313e-20  2.259516e-20   \n",
       "4       ...  3.989319e-20  2.071411e-20  1.845195e-20  2.010754e-20   \n",
       "...     ...           ...           ...           ...           ...   \n",
       "99998   ...  6.757854e-22  1.702608e-21  2.170170e-21  1.866976e-21   \n",
       "99999   ...  4.289519e-22  3.868217e-22  3.774067e-22  3.729556e-22   \n",
       "100000  ...  1.738414e-20  1.630408e-20  1.433612e-20  1.788842e-20   \n",
       "100001  ...  2.013862e-21  7.800075e-22  7.219789e-22  8.984704e-22   \n",
       "100002  ...  9.962198e-20  5.727686e-20  5.218505e-20  6.291446e-20   \n",
       "\n",
       "                3900          4000          4100          4200          4300  \\\n",
       "0       7.069930e-20  3.084653e-20  2.907623e-20  4.641658e-20  3.647877e-20   \n",
       "1       5.673957e-22  5.316761e-22  5.464606e-22  5.051136e-22  4.353710e-22   \n",
       "2       1.758309e-19  8.870787e-20  7.606130e-20  1.435135e-19  1.084588e-19   \n",
       "3       3.492449e-20  1.439645e-20  1.313097e-20  2.399826e-20  1.819526e-20   \n",
       "4       5.284257e-20  1.702168e-20  1.390239e-20  2.230916e-20  1.655362e-20   \n",
       "...              ...           ...           ...           ...           ...   \n",
       "99998   6.766148e-22  1.360240e-21  1.644230e-21  1.390310e-21  1.227877e-21   \n",
       "99999   3.787024e-22  3.576375e-22  3.250068e-22  2.917156e-22  2.530957e-22   \n",
       "100000  3.245529e-20  1.158407e-20  9.376690e-21  2.136091e-20  1.557630e-20   \n",
       "100001  2.303254e-21  6.962000e-22  6.403339e-22  1.253225e-21  8.893744e-22   \n",
       "100002  1.221365e-19  4.444530e-20  3.381887e-20  6.896017e-20  5.280473e-20   \n",
       "\n",
       "              CO2  \n",
       "0        3.829950  \n",
       "1       29.395608  \n",
       "2       24.336615  \n",
       "3       64.743890  \n",
       "4       11.066575  \n",
       "...           ...  \n",
       "99998   27.159556  \n",
       "99999   45.172894  \n",
       "100000  60.482909  \n",
       "100001  47.939317  \n",
       "100002  59.365018  \n",
       "\n",
       "[100003 rows x 45 columns]"
      ]
     },
     "execution_count": 223,
     "metadata": {},
     "output_type": "execute_result"
    }
   ],
   "source": [
    "synth_xData = model.sample(num_rows=100003)\n",
    "synth_xData"
   ]
  },
  {
   "cell_type": "code",
   "execution_count": 716,
   "id": "57ae4283",
   "metadata": {},
   "outputs": [],
   "source": [
    "X_features = synth_xData.iloc[:,:-2]\n",
    "y_label =  synth_xData.iloc[:,-2:-1]"
   ]
  },
  {
   "cell_type": "code",
   "execution_count": 717,
   "id": "6aeae4dc",
   "metadata": {},
   "outputs": [
    {
     "data": {
      "text/html": [
       "<div>\n",
       "<style scoped>\n",
       "    .dataframe tbody tr th:only-of-type {\n",
       "        vertical-align: middle;\n",
       "    }\n",
       "\n",
       "    .dataframe tbody tr th {\n",
       "        vertical-align: top;\n",
       "    }\n",
       "\n",
       "    .dataframe thead th {\n",
       "        text-align: right;\n",
       "    }\n",
       "</style>\n",
       "<table border=\"1\" class=\"dataframe\">\n",
       "  <thead>\n",
       "    <tr style=\"text-align: right;\">\n",
       "      <th></th>\n",
       "      <th>CO2</th>\n",
       "    </tr>\n",
       "  </thead>\n",
       "  <tbody>\n",
       "    <tr>\n",
       "      <th>0</th>\n",
       "      <td>3.829950</td>\n",
       "    </tr>\n",
       "    <tr>\n",
       "      <th>1</th>\n",
       "      <td>29.395608</td>\n",
       "    </tr>\n",
       "    <tr>\n",
       "      <th>2</th>\n",
       "      <td>24.336615</td>\n",
       "    </tr>\n",
       "    <tr>\n",
       "      <th>3</th>\n",
       "      <td>64.743890</td>\n",
       "    </tr>\n",
       "    <tr>\n",
       "      <th>4</th>\n",
       "      <td>11.066575</td>\n",
       "    </tr>\n",
       "    <tr>\n",
       "      <th>...</th>\n",
       "      <td>...</td>\n",
       "    </tr>\n",
       "    <tr>\n",
       "      <th>99998</th>\n",
       "      <td>27.159556</td>\n",
       "    </tr>\n",
       "    <tr>\n",
       "      <th>99999</th>\n",
       "      <td>45.172894</td>\n",
       "    </tr>\n",
       "    <tr>\n",
       "      <th>100000</th>\n",
       "      <td>60.482909</td>\n",
       "    </tr>\n",
       "    <tr>\n",
       "      <th>100001</th>\n",
       "      <td>47.939317</td>\n",
       "    </tr>\n",
       "    <tr>\n",
       "      <th>100002</th>\n",
       "      <td>59.365018</td>\n",
       "    </tr>\n",
       "  </tbody>\n",
       "</table>\n",
       "<p>100003 rows × 1 columns</p>\n",
       "</div>"
      ],
      "text/plain": [
       "              CO2\n",
       "0        3.829950\n",
       "1       29.395608\n",
       "2       24.336615\n",
       "3       64.743890\n",
       "4       11.066575\n",
       "...           ...\n",
       "99998   27.159556\n",
       "99999   45.172894\n",
       "100000  60.482909\n",
       "100001  47.939317\n",
       "100002  59.365018\n",
       "\n",
       "[100003 rows x 1 columns]"
      ]
     },
     "execution_count": 717,
     "metadata": {},
     "output_type": "execute_result"
    }
   ],
   "source": [
    "y_label"
   ]
  },
  {
   "cell_type": "code",
   "execution_count": 711,
   "id": "0235f2f8",
   "metadata": {},
   "outputs": [
    {
     "data": {
      "text/plain": [
       "array([[<AxesSubplot:title={'center':'CO2'}>]], dtype=object)"
      ]
     },
     "execution_count": 711,
     "metadata": {},
     "output_type": "execute_result"
    },
    {
     "data": {
      "image/png": "[encoded data removed]",
      "text/plain": [
       "<Figure size 432x288 with 1 Axes>"
      ]
     },
     "metadata": {},
     "output_type": "display_data"
    }
   ],
   "source": [
    "synth_xData.hist(column='CO2')"
   ]
  },
  {
   "cell_type": "code",
   "execution_count": 634,
   "id": "7c8d4cae",
   "metadata": {},
   "outputs": [],
   "source": [
    "cols = ['CO2'] # one or more\n",
    "\n",
    "Q1 = synth_xData[cols].quantile(0.25)\n",
    "Q3 = synth_xData[cols].quantile(0.75)\n",
    "\n",
    "df = synth_xData[((synth_xData[cols] < (Q1)) | (synth_xData[cols] > (Q3))).any(axis=1)]"
   ]
  },
  {
   "cell_type": "code",
   "execution_count": 635,
   "id": "6751e48c",
   "metadata": {},
   "outputs": [
    {
     "data": {
      "text/plain": [
       "array([[<AxesSubplot:title={'center':'CO2'}>]], dtype=object)"
      ]
     },
     "execution_count": 635,
     "metadata": {},
     "output_type": "execute_result"
    },
    {
     "data": {
      "image/png": "[encoded data removed]",
      "text/plain": [
       "<Figure size 432x288 with 1 Axes>"
      ]
     },
     "metadata": {},
     "output_type": "display_data"
    }
   ],
   "source": [
    "df.hist(column='CO2')"
   ]
  },
  {
   "cell_type": "code",
   "execution_count": 636,
   "id": "0a001c6e",
   "metadata": {},
   "outputs": [],
   "source": [
    "X_features = df.iloc[:,:-2]\n",
    "y_label =  df.iloc[:,-2:-1]"
   ]
  },
  {
   "cell_type": "code",
   "execution_count": 661,
   "id": "5c0b7ada",
   "metadata": {},
   "outputs": [
    {
     "data": {
      "image/png": "[encoded data removed]",
      "text/plain": [
       "<Figure size 432x288 with 1 Axes>"
      ]
     },
     "metadata": {},
     "output_type": "display_data"
    }
   ],
   "source": [
    "plt.plot(X_features.iloc[1000,:])\n",
    "plt.show()"
   ]
  },
  {
   "cell_type": "code",
   "execution_count": 662,
   "id": "c2e11700",
   "metadata": {},
   "outputs": [
    {
     "data": {
      "text/html": [
       "<div>\n",
       "<style scoped>\n",
       "    .dataframe tbody tr th:only-of-type {\n",
       "        vertical-align: middle;\n",
       "    }\n",
       "\n",
       "    .dataframe tbody tr th {\n",
       "        vertical-align: top;\n",
       "    }\n",
       "\n",
       "    .dataframe thead th {\n",
       "        text-align: right;\n",
       "    }\n",
       "</style>\n",
       "<table border=\"1\" class=\"dataframe\">\n",
       "  <thead>\n",
       "    <tr style=\"text-align: right;\">\n",
       "      <th></th>\n",
       "      <th>CO2</th>\n",
       "    </tr>\n",
       "  </thead>\n",
       "  <tbody>\n",
       "    <tr>\n",
       "      <th>0</th>\n",
       "      <td>3.829950</td>\n",
       "    </tr>\n",
       "    <tr>\n",
       "      <th>3</th>\n",
       "      <td>64.743890</td>\n",
       "    </tr>\n",
       "    <tr>\n",
       "      <th>4</th>\n",
       "      <td>11.066575</td>\n",
       "    </tr>\n",
       "    <tr>\n",
       "      <th>7</th>\n",
       "      <td>69.942815</td>\n",
       "    </tr>\n",
       "    <tr>\n",
       "      <th>8</th>\n",
       "      <td>11.357628</td>\n",
       "    </tr>\n",
       "    <tr>\n",
       "      <th>...</th>\n",
       "      <td>...</td>\n",
       "    </tr>\n",
       "    <tr>\n",
       "      <th>99995</th>\n",
       "      <td>41.012537</td>\n",
       "    </tr>\n",
       "    <tr>\n",
       "      <th>99999</th>\n",
       "      <td>45.172894</td>\n",
       "    </tr>\n",
       "    <tr>\n",
       "      <th>100000</th>\n",
       "      <td>60.482909</td>\n",
       "    </tr>\n",
       "    <tr>\n",
       "      <th>100001</th>\n",
       "      <td>47.939317</td>\n",
       "    </tr>\n",
       "    <tr>\n",
       "      <th>100002</th>\n",
       "      <td>59.365018</td>\n",
       "    </tr>\n",
       "  </tbody>\n",
       "</table>\n",
       "<p>50002 rows × 1 columns</p>\n",
       "</div>"
      ],
      "text/plain": [
       "              CO2\n",
       "0        3.829950\n",
       "3       64.743890\n",
       "4       11.066575\n",
       "7       69.942815\n",
       "8       11.357628\n",
       "...           ...\n",
       "99995   41.012537\n",
       "99999   45.172894\n",
       "100000  60.482909\n",
       "100001  47.939317\n",
       "100002  59.365018\n",
       "\n",
       "[50002 rows x 1 columns]"
      ]
     },
     "execution_count": 662,
     "metadata": {},
     "output_type": "execute_result"
    }
   ],
   "source": [
    "y_label"
   ]
  },
  {
   "cell_type": "code",
   "execution_count": 732,
   "id": "fcb86bc5",
   "metadata": {},
   "outputs": [],
   "source": [
    "#Splitting dataset into training and testing\n",
    "from sklearn.model_selection import train_test_split\n",
    "X_train, X_test, y_train, y_test = train_test_split(X_features, y_label, test_size=0.20, random_state=42)"
   ]
  },
  {
   "cell_type": "code",
   "execution_count": 733,
   "id": "9041b6e2",
   "metadata": {},
   "outputs": [],
   "source": [
    "X_scaledTrain = X_train\n",
    "X_scaledTest = X_test\n",
    "y_scaledTrain = y_train\n",
    "y_scaledTest = y_test"
   ]
  },
  {
   "cell_type": "code",
   "execution_count": 734,
   "id": "b76d33ba",
   "metadata": {},
   "outputs": [],
   "source": [
    "scaler = StandardScaler()\n",
    "X_scaledTrain = scaler.fit_transform(X_train)\n",
    "X_scaledTest = scaler.fit_transform(X_test)"
   ]
  },
  {
   "cell_type": "code",
   "execution_count": 735,
   "id": "803baaee",
   "metadata": {},
   "outputs": [],
   "source": [
    "y_scaler = StandardScaler()\n",
    "y_scaledTrain = y_scaler.fit_transform(y_train)\n",
    "y_scaledTest = y_scaler.fit_transform(y_test)"
   ]
  },
  {
   "cell_type": "code",
   "execution_count": 736,
   "id": "c29a8422",
   "metadata": {},
   "outputs": [
    {
     "data": {
      "text/plain": [
       "LinearRegression()"
      ]
     },
     "execution_count": 736,
     "metadata": {},
     "output_type": "execute_result"
    }
   ],
   "source": [
    "#Baseline model\n",
    "from sklearn.linear_model import LinearRegression\n",
    "# define model\n",
    "model = LinearRegression()\n",
    "# fit model\n",
    "model.fit(X_scaledTrain, y_scaledTrain)"
   ]
  },
  {
   "cell_type": "code",
   "execution_count": 737,
   "id": "eea9597b",
   "metadata": {},
   "outputs": [
    {
     "data": {
      "text/plain": [
       "0.8086829601696729"
      ]
     },
     "execution_count": 737,
     "metadata": {},
     "output_type": "execute_result"
    }
   ],
   "source": [
    "#Calculating MAE for linear regression\n",
    "from sklearn.metrics import mean_absolute_error\n",
    "y_pred = model.predict(X_scaledTest)\n",
    "mean_absolute_error(y_scaledTest, y_pred)"
   ]
  },
  {
   "cell_type": "code",
   "execution_count": 738,
   "id": "0d830662",
   "metadata": {},
   "outputs": [],
   "source": [
    "testY = pd.DataFrame(y_scaledTest)"
   ]
  },
  {
   "cell_type": "code",
   "execution_count": 740,
   "id": "68d56beb",
   "metadata": {},
   "outputs": [
    {
     "name": "stderr",
     "output_type": "stream",
     "text": [
      "C:\\Users\\abhi\\anaconda3\\lib\\site-packages\\seaborn\\distributions.py:1657: FutureWarning: The `bw` parameter is deprecated in favor of `bw_method` and `bw_adjust`. Using 0.1 for `bw_method`, but please see the docs for the new parameters and update your code.\n",
      "  warnings.warn(msg, FutureWarning)\n"
     ]
    },
    {
     "data": {
      "text/plain": [
       "<AxesSubplot:ylabel='Density'>"
      ]
     },
     "execution_count": 740,
     "metadata": {},
     "output_type": "execute_result"
    },
    {
     "data": {
      "image/png": "[encoded data removed]",
      "text/plain": [
       "<Figure size 432x288 with 1 Axes>"
      ]
     },
     "metadata": {},
     "output_type": "display_data"
    }
   ],
   "source": [
    "sns.set_style('whitegrid')\n",
    "sns.kdeplot(np.array(testY[0]), bw=0.1)"
   ]
  },
  {
   "cell_type": "code",
   "execution_count": 741,
   "id": "c67e0cca",
   "metadata": {},
   "outputs": [],
   "source": [
    "y_pred = pd.DataFrame(y_pred)"
   ]
  },
  {
   "cell_type": "code",
   "execution_count": 743,
   "id": "3ead1f5a",
   "metadata": {},
   "outputs": [
    {
     "name": "stderr",
     "output_type": "stream",
     "text": [
      "C:\\Users\\abhi\\anaconda3\\lib\\site-packages\\seaborn\\distributions.py:1657: FutureWarning: The `bw` parameter is deprecated in favor of `bw_method` and `bw_adjust`. Using 0.1 for `bw_method`, but please see the docs for the new parameters and update your code.\n",
      "  warnings.warn(msg, FutureWarning)\n"
     ]
    },
    {
     "data": {
      "text/plain": [
       "<AxesSubplot:ylabel='Density'>"
      ]
     },
     "execution_count": 743,
     "metadata": {},
     "output_type": "execute_result"
    },
    {
     "data": {
      "image/png": "[encoded data removed]",
      "text/plain": [
       "<Figure size 432x288 with 1 Axes>"
      ]
     },
     "metadata": {},
     "output_type": "display_data"
    }
   ],
   "source": [
    "sns.set_style('whitegrid')\n",
    "sns.kdeplot(np.array(y_pred[0]), bw=0.1)"
   ]
  },
  {
   "cell_type": "code",
   "execution_count": 673,
   "id": "5f20b071",
   "metadata": {},
   "outputs": [
    {
     "data": {
      "text/html": [
       "<div>\n",
       "<style scoped>\n",
       "    .dataframe tbody tr th:only-of-type {\n",
       "        vertical-align: middle;\n",
       "    }\n",
       "\n",
       "    .dataframe tbody tr th {\n",
       "        vertical-align: top;\n",
       "    }\n",
       "\n",
       "    .dataframe thead th {\n",
       "        text-align: right;\n",
       "    }\n",
       "</style>\n",
       "<table border=\"1\" class=\"dataframe\">\n",
       "  <thead>\n",
       "    <tr style=\"text-align: right;\">\n",
       "      <th></th>\n",
       "      <th>0</th>\n",
       "    </tr>\n",
       "  </thead>\n",
       "  <tbody>\n",
       "    <tr>\n",
       "      <th>0</th>\n",
       "      <td>0.980034</td>\n",
       "    </tr>\n",
       "    <tr>\n",
       "      <th>1</th>\n",
       "      <td>-0.743460</td>\n",
       "    </tr>\n",
       "    <tr>\n",
       "      <th>2</th>\n",
       "      <td>-0.944084</td>\n",
       "    </tr>\n",
       "    <tr>\n",
       "      <th>3</th>\n",
       "      <td>0.720651</td>\n",
       "    </tr>\n",
       "    <tr>\n",
       "      <th>4</th>\n",
       "      <td>-0.928360</td>\n",
       "    </tr>\n",
       "    <tr>\n",
       "      <th>...</th>\n",
       "      <td>...</td>\n",
       "    </tr>\n",
       "    <tr>\n",
       "      <th>9996</th>\n",
       "      <td>-0.784241</td>\n",
       "    </tr>\n",
       "    <tr>\n",
       "      <th>9997</th>\n",
       "      <td>-0.849394</td>\n",
       "    </tr>\n",
       "    <tr>\n",
       "      <th>9998</th>\n",
       "      <td>0.935536</td>\n",
       "    </tr>\n",
       "    <tr>\n",
       "      <th>9999</th>\n",
       "      <td>-1.051315</td>\n",
       "    </tr>\n",
       "    <tr>\n",
       "      <th>10000</th>\n",
       "      <td>-0.705415</td>\n",
       "    </tr>\n",
       "  </tbody>\n",
       "</table>\n",
       "<p>10001 rows × 1 columns</p>\n",
       "</div>"
      ],
      "text/plain": [
       "              0\n",
       "0      0.980034\n",
       "1     -0.743460\n",
       "2     -0.944084\n",
       "3      0.720651\n",
       "4     -0.928360\n",
       "...         ...\n",
       "9996  -0.784241\n",
       "9997  -0.849394\n",
       "9998   0.935536\n",
       "9999  -1.051315\n",
       "10000 -0.705415\n",
       "\n",
       "[10001 rows x 1 columns]"
      ]
     },
     "execution_count": 673,
     "metadata": {},
     "output_type": "execute_result"
    }
   ],
   "source": [
    "testY"
   ]
  },
  {
   "cell_type": "code",
   "execution_count": 674,
   "id": "e4d7b011",
   "metadata": {},
   "outputs": [
    {
     "data": {
      "text/html": [
       "<div>\n",
       "<style scoped>\n",
       "    .dataframe tbody tr th:only-of-type {\n",
       "        vertical-align: middle;\n",
       "    }\n",
       "\n",
       "    .dataframe tbody tr th {\n",
       "        vertical-align: top;\n",
       "    }\n",
       "\n",
       "    .dataframe thead th {\n",
       "        text-align: right;\n",
       "    }\n",
       "</style>\n",
       "<table border=\"1\" class=\"dataframe\">\n",
       "  <thead>\n",
       "    <tr style=\"text-align: right;\">\n",
       "      <th></th>\n",
       "      <th>0</th>\n",
       "    </tr>\n",
       "  </thead>\n",
       "  <tbody>\n",
       "    <tr>\n",
       "      <th>0</th>\n",
       "      <td>-0.025008</td>\n",
       "    </tr>\n",
       "    <tr>\n",
       "      <th>1</th>\n",
       "      <td>0.106247</td>\n",
       "    </tr>\n",
       "    <tr>\n",
       "      <th>2</th>\n",
       "      <td>-0.037714</td>\n",
       "    </tr>\n",
       "    <tr>\n",
       "      <th>3</th>\n",
       "      <td>-0.010212</td>\n",
       "    </tr>\n",
       "    <tr>\n",
       "      <th>4</th>\n",
       "      <td>0.081618</td>\n",
       "    </tr>\n",
       "    <tr>\n",
       "      <th>...</th>\n",
       "      <td>...</td>\n",
       "    </tr>\n",
       "    <tr>\n",
       "      <th>9996</th>\n",
       "      <td>-0.010924</td>\n",
       "    </tr>\n",
       "    <tr>\n",
       "      <th>9997</th>\n",
       "      <td>-0.031224</td>\n",
       "    </tr>\n",
       "    <tr>\n",
       "      <th>9998</th>\n",
       "      <td>0.069438</td>\n",
       "    </tr>\n",
       "    <tr>\n",
       "      <th>9999</th>\n",
       "      <td>-0.017858</td>\n",
       "    </tr>\n",
       "    <tr>\n",
       "      <th>10000</th>\n",
       "      <td>-0.038366</td>\n",
       "    </tr>\n",
       "  </tbody>\n",
       "</table>\n",
       "<p>10001 rows × 1 columns</p>\n",
       "</div>"
      ],
      "text/plain": [
       "              0\n",
       "0     -0.025008\n",
       "1      0.106247\n",
       "2     -0.037714\n",
       "3     -0.010212\n",
       "4      0.081618\n",
       "...         ...\n",
       "9996  -0.010924\n",
       "9997  -0.031224\n",
       "9998   0.069438\n",
       "9999  -0.017858\n",
       "10000 -0.038366\n",
       "\n",
       "[10001 rows x 1 columns]"
      ]
     },
     "execution_count": 674,
     "metadata": {},
     "output_type": "execute_result"
    }
   ],
   "source": [
    "y_pred"
   ]
  },
  {
   "cell_type": "code",
   "execution_count": 744,
   "id": "1aed3d33",
   "metadata": {},
   "outputs": [],
   "source": [
    "X_scaledTrain = np.squeeze(X_scaledTrain)\n",
    "X_scaledTest = np.squeeze(X_scaledTest)"
   ]
  },
  {
   "cell_type": "code",
   "execution_count": 745,
   "id": "4b1b7f72",
   "metadata": {},
   "outputs": [],
   "source": [
    "X_scaledTrain = np.expand_dims(X_scaledTrain,2)\n",
    "X_scaledTest = np.expand_dims(X_scaledTest,2)"
   ]
  },
  {
   "cell_type": "code",
   "execution_count": 746,
   "id": "16ba28e5",
   "metadata": {},
   "outputs": [
    {
     "data": {
      "text/plain": [
       "(80002, 44, 1)"
      ]
     },
     "execution_count": 746,
     "metadata": {},
     "output_type": "execute_result"
    }
   ],
   "source": [
    "X_scaledTrain.shape"
   ]
  },
  {
   "cell_type": "code",
   "execution_count": 678,
   "id": "19c612f0",
   "metadata": {},
   "outputs": [
    {
     "data": {
      "text/plain": [
       "(44, 1)"
      ]
     },
     "execution_count": 678,
     "metadata": {},
     "output_type": "execute_result"
    }
   ],
   "source": [
    "(X_scaledTrain.shape[1], 1)"
   ]
  },
  {
   "cell_type": "code",
   "execution_count": 747,
   "id": "da6c69f4",
   "metadata": {},
   "outputs": [],
   "source": [
    "from tensorflow.keras import backend as K"
   ]
  },
  {
   "cell_type": "code",
   "execution_count": 755,
   "id": "56bf8980",
   "metadata": {},
   "outputs": [],
   "source": [
    "def network():\n",
    "    model = Sequential()\n",
    "    model.add(Conv1D(filters=64, kernel_size=2, activation='tanh', input_shape=(X_scaledTrain.shape[1], 1)))\n",
    "    model.add(MaxPooling1D(pool_size=2, padding='same'))\n",
    "    \n",
    "    model.add(Conv1D(filters=128, kernel_size=2, activation='relu', kernel_regularizer=regularizers.l1(reg)))\n",
    "    model.add(MaxPooling1D(pool_size=2, padding='same'))\n",
    "    model.add(BatchNormalization())\n",
    "    model.add(Dropout(0.25))\n",
    "\n",
    "\n",
    "    model.add(Conv1D(filters=256, kernel_size=2, activation='relu', kernel_regularizer=regularizers.l1(reg)))\n",
    "    model.add(MaxPooling1D(pool_size=2,padding='same'))\n",
    "    model.add(BatchNormalization())\n",
    "    model.add(Dropout(0.25))\n",
    "\n",
    "\n",
    "    model.add(Conv1D(filters=512, kernel_size=2, activation='relu', kernel_regularizer=regularizers.l1(reg)))\n",
    "    model.add(MaxPooling1D(pool_size=2, padding='same'))\n",
    "    model.add(BatchNormalization())    \n",
    "    \n",
    "    model.add(Conv1D(filters=256, kernel_size=2, activation='relu', kernel_regularizer=regularizers.l1(reg)))\n",
    "    model.add(MaxPooling1D(pool_size=2, padding='same'))\n",
    "    model.add(BatchNormalization())\n",
    "\n",
    "    #FC1   \n",
    "    model.add(Flatten())\n",
    "    \n",
    "    model.add(Dense(256, activation='relu', kernel_regularizer = regularizers.l2(reg)))\n",
    "    model.add(Lambda(lambda x: K.dropout(x,level=0.05)))\n",
    "    \n",
    "    model.add(Dense(y_scaledTrain.shape[-1], activation='softsign'))\n",
    "\n",
    "    return model"
   ]
  },
  {
   "cell_type": "code",
   "execution_count": 853,
   "id": "49360a01",
   "metadata": {},
   "outputs": [],
   "source": [
    "testModel = Sequential()\n",
    "testModel.add(Conv1D(filters=64, kernel_size=2, activation='tanh', input_shape=(X_scaledTrain.shape[1], 1)))\n",
    "testModel.add(MaxPooling1D(pool_size=2, padding='same'))\n",
    "    \n",
    "testModel.add(Conv1D(filters=128, kernel_size=2, activation='relu', kernel_regularizer=regularizers.l1(reg)))\n",
    "testModel.add(MaxPooling1D(pool_size=2, padding='same'))\n",
    "testModel.add(BatchNormalization())\n",
    "testModel.add(Dropout(0.25))\n",
    "\n",
    "\n",
    "testModel.add(Conv1D(filters=256, kernel_size=2, activation='relu', kernel_regularizer=regularizers.l1(reg)))\n",
    "testModel.add(MaxPooling1D(pool_size=2,padding='same'))\n",
    "testModel.add(BatchNormalization())\n",
    "testModel.add(Dropout(0.25))\n",
    "\n",
    "\n",
    "testModel.add(Conv1D(filters=512, kernel_size=2, activation='relu', kernel_regularizer=regularizers.l1(reg)))\n",
    "testModel.add(MaxPooling1D(pool_size=2, padding='same'))\n",
    "testModel.add(BatchNormalization())    \n",
    "    \n",
    "testModel.add(Conv1D(filters=256, kernel_size=2, activation='relu', kernel_regularizer=regularizers.l1(reg)))\n",
    "testModel.add(MaxPooling1D(pool_size=2, padding='same'))\n",
    "testModel.add(BatchNormalization())\n",
    "\n",
    "    #FC1   \n",
    "testModel.add(Flatten())\n",
    "    \n",
    "testModel.add(Dense(256, activation='relu', kernel_regularizer = regularizers.l2(reg)))\n",
    "    \n",
    "testModel.add(Dense(y_scaledTrain.shape[-1], activation='softsign'))"
   ]
  },
  {
   "cell_type": "code",
   "execution_count": 322,
   "id": "95c52408",
   "metadata": {},
   "outputs": [],
   "source": [
    "def network():\n",
    "    model = Sequential()\n",
    "    model.add(LSTM(64,return_sequences=False, input_shape=(X_scaledTrain.shape[1], 1)))\n",
    "    model.add(Dropout(0.5))\n",
    "    model.add(LSTM(20,return_sequences=False))\n",
    "    model.add(Dropout(0.5))\n",
    "    model.add(Dense(1))\n",
    "    model.compile(loss='mse', optimizer='rmsprop')\n",
    "    return model"
   ]
  },
  {
   "cell_type": "code",
   "execution_count": 301,
   "id": "1f8c7032",
   "metadata": {},
   "outputs": [],
   "source": [
    "tau = 10000\n",
    "lengthscale = .01\n",
    "reg = lengthscale**2 * (1 - 0.05) / (2. * 100000 * tau)"
   ]
  },
  {
   "cell_type": "code",
   "execution_count": 144,
   "id": "f24ac98d",
   "metadata": {},
   "outputs": [],
   "source": [
    "from tensorflow.keras import layers\n",
    "from tensorflow.keras import regularizers"
   ]
  },
  {
   "cell_type": "code",
   "execution_count": 324,
   "id": "13168cf0",
   "metadata": {},
   "outputs": [],
   "source": [
    "def network():\n",
    "    model = Sequential()\n",
    "    model.add(Conv1D(filters=128, kernel_size=2, activation='tanh', input_shape=(X_scaledTrain.shape[1], X_scaledTrain.shape[-1])))\n",
    "    model.add(MaxPooling1D(pool_size=2, padding='same'))\n",
    "    \n",
    "    model.add(Conv1D(filters=256, kernel_size=2, activation='relu'))\n",
    "    model.add(BatchNormalization())\n",
    "    \n",
    "    model.add(Conv1D(filters=128, kernel_size=2, activation='relu'))\n",
    "    model.add(MaxPooling1D(pool_size=2, padding='same'))\n",
    "    \n",
    "    model.add(Flatten())\n",
    "    model.add(Dense(64, activation='relu', kernel_regularizer = regularizers.l2(reg)))\n",
    "    model.add(Lambda(lambda x: K.dropout(x,level=0.05)))\n",
    "    model.add(Dense(y_scaledTrain.shape[-1], activation='relu'))\n",
    "\n",
    "    return model"
   ]
  },
  {
   "cell_type": "code",
   "execution_count": 93,
   "id": "37004eae",
   "metadata": {},
   "outputs": [],
   "source": [
    "#Creating Neural Network model\n",
    "def network():\n",
    "    exoAtmos = Sequential()\n",
    "\n",
    "    exoAtmos.add(Dense(8, kernel_initializer='normal', activation='relu'))\n",
    "    exoAtmos.add(BatchNormalization())\n",
    "    exoAtmos.add(Dropout(0.05))\n",
    "    \n",
    "    exoAtmos.add(Dense(8, kernel_initializer='normal', activation='relu'))\n",
    "    exoAtmos.add(BatchNormalization())\n",
    "    exoAtmos.add(Dropout(0.05))\n",
    "\n",
    "\n",
    "    # The Output Layer :\n",
    "    exoAtmos.add(Dense(1))\n",
    "\n",
    "    opt = tf.keras.optimizers.SGD(learning_rate=1)\n",
    "    # Compile the network :\n",
    "    exoAtmos.compile(loss='mae', optimizer=opt)\n",
    "    \n",
    "    return exoAtmos"
   ]
  },
  {
   "cell_type": "code",
   "execution_count": 756,
   "id": "a31d6063",
   "metadata": {
    "scrolled": true
   },
   "outputs": [],
   "source": [
    "cnn = network()\n",
    "sgd = tensorflow.keras.optimizers.SGD(lr=0.001)\n",
    "cnn.compile(loss='mean_squared_error',optimizer='sgd')"
   ]
  },
  {
   "cell_type": "code",
   "execution_count": 850,
   "id": "b54facde",
   "metadata": {},
   "outputs": [
    {
     "name": "stdout",
     "output_type": "stream",
     "text": [
      "Note: you may need to restart the kernel to use updated packages.\n"
     ]
    },
    {
     "name": "stderr",
     "output_type": "stream",
     "text": [
      "ERROR: Could not find a version that satisfies the requirement sklearn.externals\n",
      "ERROR: No matching distribution found for sklearn.externals\n"
     ]
    }
   ],
   "source": [
    "pip install sklearn.externals"
   ]
  },
  {
   "cell_type": "code",
   "execution_count": 854,
   "id": "1889654e",
   "metadata": {},
   "outputs": [
    {
     "data": {
      "application/javascript": [
       "\n",
       "        if (window._pyforest_update_imports_cell) { window._pyforest_update_imports_cell('from sklearn.preprocessing import MinMaxScaler\\nimport pickle'); }\n",
       "    "
      ],
      "text/plain": [
       "<IPython.core.display.Javascript object>"
      ]
     },
     "metadata": {},
     "output_type": "display_data"
    },
    {
     "ename": "AttributeError",
     "evalue": "Can't pickle local object 'Layer.add_loss.<locals>._tag_callable'",
     "output_type": "error",
     "traceback": [
      "\u001b[1;31m---------------------------------------------------------------------------\u001b[0m",
      "\u001b[1;31mAttributeError\u001b[0m                            Traceback (most recent call last)",
      "\u001b[1;32m<ipython-input-854-ee5a876d2c67>\u001b[0m in \u001b[0;36m<module>\u001b[1;34m\u001b[0m\n\u001b[0;32m      1\u001b[0m \u001b[1;32mwith\u001b[0m \u001b[0mopen\u001b[0m\u001b[1;33m(\u001b[0m\u001b[1;34m'model_pkl'\u001b[0m\u001b[1;33m,\u001b[0m \u001b[1;34m'wb'\u001b[0m\u001b[1;33m)\u001b[0m \u001b[1;32mas\u001b[0m \u001b[0mfiles\u001b[0m\u001b[1;33m:\u001b[0m\u001b[1;33m\u001b[0m\u001b[1;33m\u001b[0m\u001b[0m\n\u001b[1;32m----> 2\u001b[1;33m     \u001b[0mpickle\u001b[0m\u001b[1;33m.\u001b[0m\u001b[0mdump\u001b[0m\u001b[1;33m(\u001b[0m\u001b[0mtestModel\u001b[0m\u001b[1;33m,\u001b[0m \u001b[0mfiles\u001b[0m\u001b[1;33m)\u001b[0m\u001b[1;33m\u001b[0m\u001b[1;33m\u001b[0m\u001b[0m\n\u001b[0m",
      "\u001b[1;31mAttributeError\u001b[0m: Can't pickle local object 'Layer.add_loss.<locals>._tag_callable'"
     ]
    }
   ],
   "source": [
    "with open('model_pkl', 'wb') as files:\n",
    "    pickle.dump(testModel, files)"
   ]
  },
  {
   "cell_type": "code",
   "execution_count": 829,
   "id": "33b64891",
   "metadata": {},
   "outputs": [],
   "source": [
    "import graphviz\n",
    "import pydot"
   ]
  },
  {
   "cell_type": "code",
   "execution_count": 840,
   "id": "4c8f3be2",
   "metadata": {},
   "outputs": [
    {
     "name": "stdout",
     "output_type": "stream",
     "text": [
      "('Failed to import pydot. You must `pip install pydot` and install graphviz (https://graphviz.gitlab.io/download/), ', 'for `pydotprint` to work.')\n"
     ]
    }
   ],
   "source": [
    "from tensorflow.keras.utils import plot_model\n",
    "plot_model(cnn, to_file='model.png')"
   ]
  },
  {
   "cell_type": "code",
   "execution_count": 757,
   "id": "2fe376e2",
   "metadata": {
    "scrolled": true
   },
   "outputs": [
    {
     "name": "stdout",
     "output_type": "stream",
     "text": [
      "Epoch 1/10\n",
      "626/626 [==============================] - 58s 88ms/step - loss: 1.1023\n",
      "Epoch 2/10\n",
      "626/626 [==============================] - 57s 91ms/step - loss: 1.0346\n",
      "Epoch 3/10\n",
      "626/626 [==============================] - 56s 90ms/step - loss: 1.0217\n",
      "Epoch 4/10\n",
      "626/626 [==============================] - 57s 92ms/step - loss: 1.0215\n",
      "Epoch 5/10\n",
      "626/626 [==============================] - 57s 90ms/step - loss: 1.0043\n",
      "Epoch 6/10\n",
      "626/626 [==============================] - 57s 91ms/step - loss: 1.0145\n",
      "Epoch 7/10\n",
      "626/626 [==============================] - 57s 91ms/step - loss: 1.0027\n",
      "Epoch 8/10\n",
      "626/626 [==============================] - 56s 89ms/step - loss: 1.0096\n",
      "Epoch 9/10\n",
      "626/626 [==============================] - 57s 91ms/step - loss: 1.0051\n",
      "Epoch 10/10\n",
      "626/626 [==============================] - 58s 93ms/step - loss: 0.9998\n"
     ]
    }
   ],
   "source": [
    "history = cnn.fit(X_scaledTrain, y_scaledTrain,\n",
    "                          batch_size = 128,\n",
    "                          epochs=10,\n",
    "                          verbose=1)"
   ]
  },
  {
   "cell_type": "code",
   "execution_count": 758,
   "id": "a95230b1",
   "metadata": {},
   "outputs": [
    {
     "name": "stdout",
     "output_type": "stream",
     "text": [
      "Model: \"sequential_30\"\n",
      "_________________________________________________________________\n",
      "Layer (type)                 Output Shape              Param #   \n",
      "=================================================================\n",
      "conv1d_112 (Conv1D)          (None, 43, 64)            192       \n",
      "_________________________________________________________________\n",
      "max_pooling1d_104 (MaxPoolin (None, 22, 64)            0         \n",
      "_________________________________________________________________\n",
      "conv1d_113 (Conv1D)          (None, 21, 128)           16512     \n",
      "_________________________________________________________________\n",
      "max_pooling1d_105 (MaxPoolin (None, 11, 128)           0         \n",
      "_________________________________________________________________\n",
      "batch_normalization_49 (Batc (None, 11, 128)           512       \n",
      "_________________________________________________________________\n",
      "dropout_51 (Dropout)         (None, 11, 128)           0         \n",
      "_________________________________________________________________\n",
      "conv1d_114 (Conv1D)          (None, 10, 256)           65792     \n",
      "_________________________________________________________________\n",
      "max_pooling1d_106 (MaxPoolin (None, 5, 256)            0         \n",
      "_________________________________________________________________\n",
      "batch_normalization_50 (Batc (None, 5, 256)            1024      \n",
      "_________________________________________________________________\n",
      "dropout_52 (Dropout)         (None, 5, 256)            0         \n",
      "_________________________________________________________________\n",
      "conv1d_115 (Conv1D)          (None, 4, 512)            262656    \n",
      "_________________________________________________________________\n",
      "max_pooling1d_107 (MaxPoolin (None, 2, 512)            0         \n",
      "_________________________________________________________________\n",
      "batch_normalization_51 (Batc (None, 2, 512)            2048      \n",
      "_________________________________________________________________\n",
      "conv1d_116 (Conv1D)          (None, 1, 256)            262400    \n",
      "_________________________________________________________________\n",
      "max_pooling1d_108 (MaxPoolin (None, 1, 256)            0         \n",
      "_________________________________________________________________\n",
      "batch_normalization_52 (Batc (None, 1, 256)            1024      \n",
      "_________________________________________________________________\n",
      "flatten_19 (Flatten)         (None, 256)               0         \n",
      "_________________________________________________________________\n",
      "dense_39 (Dense)             (None, 256)               65792     \n",
      "_________________________________________________________________\n",
      "lambda_18 (Lambda)           (None, 256)               0         \n",
      "_________________________________________________________________\n",
      "dense_40 (Dense)             (None, 1)                 257       \n",
      "=================================================================\n",
      "Total params: 678,209\n",
      "Trainable params: 675,905\n",
      "Non-trainable params: 2,304\n",
      "_________________________________________________________________\n"
     ]
    }
   ],
   "source": [
    "cnn.summary()"
   ]
  },
  {
   "cell_type": "code",
   "execution_count": 759,
   "id": "c93aa54e",
   "metadata": {},
   "outputs": [
    {
     "name": "stdout",
     "output_type": "stream",
     "text": [
      ">1.014\n"
     ]
    }
   ],
   "source": [
    "#Evaluating the model\n",
    "mae = cnn.evaluate(X_scaledTest, y_scaledTest, verbose=0)\n",
    "print('>%.3f' % mae)"
   ]
  },
  {
   "cell_type": "code",
   "execution_count": 760,
   "id": "c34c58ae",
   "metadata": {},
   "outputs": [
    {
     "name": "stdout",
     "output_type": "stream",
     "text": [
      "dict_keys(['loss'])\n"
     ]
    },
    {
     "ename": "KeyError",
     "evalue": "'val_loss'",
     "output_type": "error",
     "traceback": [
      "\u001b[1;31m---------------------------------------------------------------------------\u001b[0m",
      "\u001b[1;31mKeyError\u001b[0m                                  Traceback (most recent call last)",
      "\u001b[1;32m<ipython-input-760-9d2d73f434c7>\u001b[0m in \u001b[0;36m<module>\u001b[1;34m\u001b[0m\n\u001b[0;32m      2\u001b[0m \u001b[1;31m# \"Loss\"\u001b[0m\u001b[1;33m\u001b[0m\u001b[1;33m\u001b[0m\u001b[1;33m\u001b[0m\u001b[0m\n\u001b[0;32m      3\u001b[0m \u001b[0mplt\u001b[0m\u001b[1;33m.\u001b[0m\u001b[0mplot\u001b[0m\u001b[1;33m(\u001b[0m\u001b[0mhistory\u001b[0m\u001b[1;33m.\u001b[0m\u001b[0mhistory\u001b[0m\u001b[1;33m[\u001b[0m\u001b[1;34m'loss'\u001b[0m\u001b[1;33m]\u001b[0m\u001b[1;33m)\u001b[0m\u001b[1;33m\u001b[0m\u001b[1;33m\u001b[0m\u001b[0m\n\u001b[1;32m----> 4\u001b[1;33m \u001b[0mplt\u001b[0m\u001b[1;33m.\u001b[0m\u001b[0mplot\u001b[0m\u001b[1;33m(\u001b[0m\u001b[0mhistory\u001b[0m\u001b[1;33m.\u001b[0m\u001b[0mhistory\u001b[0m\u001b[1;33m[\u001b[0m\u001b[1;34m'val_loss'\u001b[0m\u001b[1;33m]\u001b[0m\u001b[1;33m)\u001b[0m\u001b[1;33m\u001b[0m\u001b[1;33m\u001b[0m\u001b[0m\n\u001b[0m\u001b[0;32m      5\u001b[0m \u001b[0mplt\u001b[0m\u001b[1;33m.\u001b[0m\u001b[0mtitle\u001b[0m\u001b[1;33m(\u001b[0m\u001b[1;34m'model loss'\u001b[0m\u001b[1;33m)\u001b[0m\u001b[1;33m\u001b[0m\u001b[1;33m\u001b[0m\u001b[0m\n\u001b[0;32m      6\u001b[0m \u001b[0mplt\u001b[0m\u001b[1;33m.\u001b[0m\u001b[0mylabel\u001b[0m\u001b[1;33m(\u001b[0m\u001b[1;34m'loss'\u001b[0m\u001b[1;33m)\u001b[0m\u001b[1;33m\u001b[0m\u001b[1;33m\u001b[0m\u001b[0m\n",
      "\u001b[1;31mKeyError\u001b[0m: 'val_loss'"
     ]
    },
    {
     "data": {
      "image/png": "[encoded data removed]",
      "text/plain": [
       "<Figure size 432x288 with 1 Axes>"
      ]
     },
     "metadata": {},
     "output_type": "display_data"
    }
   ],
   "source": [
    "print(history.history.keys())\n",
    "# \"Loss\"\n",
    "plt.plot(history.history['loss'])\n",
    "plt.plot(history.history['val_loss'])\n",
    "plt.title('model loss')\n",
    "plt.ylabel('loss')\n",
    "plt.xlabel('epoch')\n",
    "plt.legend(['train', 'validation'], loc='upper left')\n",
    "plt.show()"
   ]
  },
  {
   "cell_type": "code",
   "execution_count": 761,
   "id": "ab712f16",
   "metadata": {},
   "outputs": [],
   "source": [
    "exoPredict = cnn.predict(X_scaledTest)\n",
    "#exoPredict = y_scaler.inverse_transform(exoPredict)\n",
    "#y_scaledTest = y_scaler.inverse_transform(y_scaledTest)"
   ]
  },
  {
   "cell_type": "code",
   "execution_count": 762,
   "id": "80a1a6fb",
   "metadata": {},
   "outputs": [],
   "source": [
    "exoPred_df = pd.DataFrame(exoPredict, columns = [0])\n",
    "ypred_df = pd.DataFrame(y_scaledTest, columns = [0])"
   ]
  },
  {
   "cell_type": "code",
   "execution_count": 763,
   "id": "5d1123cb",
   "metadata": {},
   "outputs": [
    {
     "name": "stderr",
     "output_type": "stream",
     "text": [
      "C:\\Users\\abhi\\anaconda3\\lib\\site-packages\\seaborn\\distributions.py:1657: FutureWarning: The `bw` parameter is deprecated in favor of `bw_method` and `bw_adjust`. Using 0.1 for `bw_method`, but please see the docs for the new parameters and update your code.\n",
      "  warnings.warn(msg, FutureWarning)\n"
     ]
    },
    {
     "data": {
      "text/plain": [
       "<AxesSubplot:ylabel='Density'>"
      ]
     },
     "execution_count": 763,
     "metadata": {},
     "output_type": "execute_result"
    },
    {
     "data": {
      "image/png": "[encoded data removed]",
      "text/plain": [
       "<Figure size 432x288 with 1 Axes>"
      ]
     },
     "metadata": {},
     "output_type": "display_data"
    }
   ],
   "source": [
    "import numpy as np\n",
    "import seaborn as sns\n",
    "sns.set_style('whitegrid')\n",
    "sns.kdeplot(np.array(exoPred_df[0]), bw=0.1)"
   ]
  },
  {
   "cell_type": "code",
   "execution_count": 764,
   "id": "08b26630",
   "metadata": {
    "scrolled": true
   },
   "outputs": [
    {
     "name": "stderr",
     "output_type": "stream",
     "text": [
      "C:\\Users\\abhi\\anaconda3\\lib\\site-packages\\seaborn\\distributions.py:1657: FutureWarning: The `bw` parameter is deprecated in favor of `bw_method` and `bw_adjust`. Using 0.1 for `bw_method`, but please see the docs for the new parameters and update your code.\n",
      "  warnings.warn(msg, FutureWarning)\n"
     ]
    },
    {
     "data": {
      "text/plain": [
       "<AxesSubplot:ylabel='Density'>"
      ]
     },
     "execution_count": 764,
     "metadata": {},
     "output_type": "execute_result"
    },
    {
     "data": {
      "image/png": "[encoded data removed]",
      "text/plain": [
       "<Figure size 432x288 with 1 Axes>"
      ]
     },
     "metadata": {},
     "output_type": "display_data"
    }
   ],
   "source": [
    "import numpy as np\n",
    "import seaborn as sns\n",
    "sns.set_style('whitegrid')\n",
    "sns.kdeplot(np.array(ypred_df[0]), bw=0.1)"
   ]
  },
  {
   "cell_type": "code",
   "execution_count": 765,
   "id": "97028d65",
   "metadata": {},
   "outputs": [
    {
     "data": {
      "text/plain": [
       "[<matplotlib.lines.Line2D at 0x1ecbc95f730>]"
      ]
     },
     "execution_count": 765,
     "metadata": {},
     "output_type": "execute_result"
    },
    {
     "data": {
      "image/png": "[encoded data removed]",
      "text/plain": [
       "<Figure size 432x288 with 1 Axes>"
      ]
     },
     "metadata": {},
     "output_type": "display_data"
    }
   ],
   "source": [
    "yyy = [-20,20] # This is just defining y = x\n",
    "plt.title('CO2')\n",
    "plt.ylabel('Predictions')\n",
    "plt.xlabel('True')\n",
    "plt.xlim([-2.2,2.2])\n",
    "plt.ylim([-2.2,2.2])\n",
    "plt.scatter(ypred_df.iloc[:,:],exoPred_df.iloc[:,:])\n",
    "plt.plot(yyy,yyy,'r')"
   ]
  },
  {
   "cell_type": "code",
   "execution_count": 767,
   "id": "74ce3b7b",
   "metadata": {},
   "outputs": [
    {
     "data": {
      "text/html": [
       "<div>\n",
       "<style scoped>\n",
       "    .dataframe tbody tr th:only-of-type {\n",
       "        vertical-align: middle;\n",
       "    }\n",
       "\n",
       "    .dataframe tbody tr th {\n",
       "        vertical-align: top;\n",
       "    }\n",
       "\n",
       "    .dataframe thead th {\n",
       "        text-align: right;\n",
       "    }\n",
       "</style>\n",
       "<table border=\"1\" class=\"dataframe\">\n",
       "  <thead>\n",
       "    <tr style=\"text-align: right;\">\n",
       "      <th></th>\n",
       "      <th>0</th>\n",
       "      <th>100</th>\n",
       "      <th>200</th>\n",
       "      <th>300</th>\n",
       "      <th>400</th>\n",
       "      <th>500</th>\n",
       "      <th>600</th>\n",
       "      <th>700</th>\n",
       "      <th>800</th>\n",
       "      <th>900</th>\n",
       "      <th>...</th>\n",
       "      <th>3500</th>\n",
       "      <th>3600</th>\n",
       "      <th>3700</th>\n",
       "      <th>3800</th>\n",
       "      <th>3900</th>\n",
       "      <th>4000</th>\n",
       "      <th>4100</th>\n",
       "      <th>4200</th>\n",
       "      <th>4300</th>\n",
       "      <th>CO2</th>\n",
       "    </tr>\n",
       "  </thead>\n",
       "  <tbody>\n",
       "    <tr>\n",
       "      <th>0</th>\n",
       "      <td>3.270300e-24</td>\n",
       "      <td>2.797980e-23</td>\n",
       "      <td>5.788000e-23</td>\n",
       "      <td>4.152850e-23</td>\n",
       "      <td>6.428990e-23</td>\n",
       "      <td>6.925630e-23</td>\n",
       "      <td>1.641320e-22</td>\n",
       "      <td>4.511330e-22</td>\n",
       "      <td>1.007220e-21</td>\n",
       "      <td>6.963450e-22</td>\n",
       "      <td>...</td>\n",
       "      <td>3.130560e-21</td>\n",
       "      <td>2.913060e-21</td>\n",
       "      <td>2.663360e-21</td>\n",
       "      <td>2.502410e-21</td>\n",
       "      <td>2.393560e-21</td>\n",
       "      <td>2.121450e-21</td>\n",
       "      <td>1.888420e-21</td>\n",
       "      <td>1.644270e-21</td>\n",
       "      <td>1.438280e-21</td>\n",
       "      <td>36.356334</td>\n",
       "    </tr>\n",
       "    <tr>\n",
       "      <th>1</th>\n",
       "      <td>1.302670e-20</td>\n",
       "      <td>1.851370e-20</td>\n",
       "      <td>2.557760e-20</td>\n",
       "      <td>3.438380e-20</td>\n",
       "      <td>4.503860e-20</td>\n",
       "      <td>5.756180e-20</td>\n",
       "      <td>7.187130e-20</td>\n",
       "      <td>8.777570e-20</td>\n",
       "      <td>1.049030e-19</td>\n",
       "      <td>1.230050e-19</td>\n",
       "      <td>...</td>\n",
       "      <td>1.026340e-19</td>\n",
       "      <td>9.251980e-20</td>\n",
       "      <td>8.331830e-20</td>\n",
       "      <td>7.480780e-20</td>\n",
       "      <td>6.725440e-20</td>\n",
       "      <td>5.976220e-20</td>\n",
       "      <td>5.319970e-20</td>\n",
       "      <td>4.724270e-20</td>\n",
       "      <td>4.185580e-20</td>\n",
       "      <td>19.883195</td>\n",
       "    </tr>\n",
       "    <tr>\n",
       "      <th>2</th>\n",
       "      <td>6.263220e-21</td>\n",
       "      <td>8.902270e-21</td>\n",
       "      <td>1.230020e-20</td>\n",
       "      <td>1.653650e-20</td>\n",
       "      <td>2.166280e-20</td>\n",
       "      <td>2.768860e-20</td>\n",
       "      <td>3.457460e-20</td>\n",
       "      <td>4.222890e-20</td>\n",
       "      <td>5.047290e-20</td>\n",
       "      <td>5.919030e-20</td>\n",
       "      <td>...</td>\n",
       "      <td>7.685140e-20</td>\n",
       "      <td>4.637270e-20</td>\n",
       "      <td>4.012720e-20</td>\n",
       "      <td>3.648990e-20</td>\n",
       "      <td>4.757080e-20</td>\n",
       "      <td>2.885350e-20</td>\n",
       "      <td>2.562270e-20</td>\n",
       "      <td>2.275380e-20</td>\n",
       "      <td>2.015930e-20</td>\n",
       "      <td>33.018416</td>\n",
       "    </tr>\n",
       "    <tr>\n",
       "      <th>3</th>\n",
       "      <td>1.304900e-22</td>\n",
       "      <td>1.211800e-21</td>\n",
       "      <td>2.724130e-21</td>\n",
       "      <td>2.126440e-21</td>\n",
       "      <td>3.585310e-21</td>\n",
       "      <td>4.210770e-21</td>\n",
       "      <td>1.051910e-20</td>\n",
       "      <td>2.842650e-20</td>\n",
       "      <td>6.245780e-20</td>\n",
       "      <td>4.252430e-20</td>\n",
       "      <td>...</td>\n",
       "      <td>1.577820e-19</td>\n",
       "      <td>1.451620e-19</td>\n",
       "      <td>1.324000e-19</td>\n",
       "      <td>1.240660e-19</td>\n",
       "      <td>1.183000e-19</td>\n",
       "      <td>1.047000e-19</td>\n",
       "      <td>9.301080e-20</td>\n",
       "      <td>8.082490e-20</td>\n",
       "      <td>7.057140e-20</td>\n",
       "      <td>22.928300</td>\n",
       "    </tr>\n",
       "    <tr>\n",
       "      <th>4</th>\n",
       "      <td>1.306080e-23</td>\n",
       "      <td>1.098660e-22</td>\n",
       "      <td>2.236460e-22</td>\n",
       "      <td>1.580330e-22</td>\n",
       "      <td>2.411370e-22</td>\n",
       "      <td>2.562230e-22</td>\n",
       "      <td>5.993740e-22</td>\n",
       "      <td>1.627210e-21</td>\n",
       "      <td>3.590830e-21</td>\n",
       "      <td>2.454990e-21</td>\n",
       "      <td>...</td>\n",
       "      <td>9.528960e-21</td>\n",
       "      <td>8.854150e-21</td>\n",
       "      <td>8.081850e-21</td>\n",
       "      <td>7.578690e-21</td>\n",
       "      <td>7.232840e-21</td>\n",
       "      <td>6.403730e-21</td>\n",
       "      <td>5.691880e-21</td>\n",
       "      <td>4.948660e-21</td>\n",
       "      <td>4.323090e-21</td>\n",
       "      <td>19.788123</td>\n",
       "    </tr>\n",
       "    <tr>\n",
       "      <th>...</th>\n",
       "      <td>...</td>\n",
       "      <td>...</td>\n",
       "      <td>...</td>\n",
       "      <td>...</td>\n",
       "      <td>...</td>\n",
       "      <td>...</td>\n",
       "      <td>...</td>\n",
       "      <td>...</td>\n",
       "      <td>...</td>\n",
       "      <td>...</td>\n",
       "      <td>...</td>\n",
       "      <td>...</td>\n",
       "      <td>...</td>\n",
       "      <td>...</td>\n",
       "      <td>...</td>\n",
       "      <td>...</td>\n",
       "      <td>...</td>\n",
       "      <td>...</td>\n",
       "      <td>...</td>\n",
       "      <td>...</td>\n",
       "      <td>...</td>\n",
       "    </tr>\n",
       "    <tr>\n",
       "      <th>9998</th>\n",
       "      <td>1.265260e-25</td>\n",
       "      <td>7.181660e-25</td>\n",
       "      <td>1.288790e-24</td>\n",
       "      <td>3.850990e-24</td>\n",
       "      <td>5.100750e-24</td>\n",
       "      <td>1.392340e-23</td>\n",
       "      <td>1.967200e-23</td>\n",
       "      <td>6.624040e-23</td>\n",
       "      <td>2.000040e-22</td>\n",
       "      <td>1.834480e-22</td>\n",
       "      <td>...</td>\n",
       "      <td>1.091270e-20</td>\n",
       "      <td>3.566290e-21</td>\n",
       "      <td>3.330540e-21</td>\n",
       "      <td>3.235400e-21</td>\n",
       "      <td>4.180540e-21</td>\n",
       "      <td>3.031140e-21</td>\n",
       "      <td>2.682230e-21</td>\n",
       "      <td>2.344640e-21</td>\n",
       "      <td>2.020180e-21</td>\n",
       "      <td>34.743236</td>\n",
       "    </tr>\n",
       "    <tr>\n",
       "      <th>9999</th>\n",
       "      <td>7.476030e-23</td>\n",
       "      <td>6.237630e-22</td>\n",
       "      <td>1.259950e-21</td>\n",
       "      <td>8.837990e-22</td>\n",
       "      <td>1.339180e-21</td>\n",
       "      <td>1.413580e-21</td>\n",
       "      <td>3.286060e-21</td>\n",
       "      <td>8.868260e-21</td>\n",
       "      <td>1.946030e-20</td>\n",
       "      <td>1.323400e-20</td>\n",
       "      <td>...</td>\n",
       "      <td>6.284650e-20</td>\n",
       "      <td>4.930320e-20</td>\n",
       "      <td>4.053810e-20</td>\n",
       "      <td>4.116620e-20</td>\n",
       "      <td>4.633390e-20</td>\n",
       "      <td>3.314400e-20</td>\n",
       "      <td>2.846350e-20</td>\n",
       "      <td>2.485570e-20</td>\n",
       "      <td>2.167810e-20</td>\n",
       "      <td>18.019818</td>\n",
       "    </tr>\n",
       "    <tr>\n",
       "      <th>10000</th>\n",
       "      <td>2.180460e-21</td>\n",
       "      <td>3.016750e-21</td>\n",
       "      <td>4.062940e-21</td>\n",
       "      <td>5.331340e-21</td>\n",
       "      <td>6.825140e-21</td>\n",
       "      <td>8.535340e-21</td>\n",
       "      <td>1.043980e-20</td>\n",
       "      <td>1.250340e-20</td>\n",
       "      <td>1.467030e-20</td>\n",
       "      <td>1.690270e-20</td>\n",
       "      <td>...</td>\n",
       "      <td>1.123200e-20</td>\n",
       "      <td>1.011710e-20</td>\n",
       "      <td>9.084100e-21</td>\n",
       "      <td>8.132810e-21</td>\n",
       "      <td>7.260940e-21</td>\n",
       "      <td>6.464500e-21</td>\n",
       "      <td>5.741490e-21</td>\n",
       "      <td>5.087660e-21</td>\n",
       "      <td>4.498460e-21</td>\n",
       "      <td>22.544682</td>\n",
       "    </tr>\n",
       "    <tr>\n",
       "      <th>10001</th>\n",
       "      <td>8.456250e-21</td>\n",
       "      <td>1.172940e-20</td>\n",
       "      <td>1.583550e-20</td>\n",
       "      <td>2.082690e-20</td>\n",
       "      <td>2.672060e-20</td>\n",
       "      <td>3.348530e-20</td>\n",
       "      <td>4.103700e-20</td>\n",
       "      <td>4.924010e-20</td>\n",
       "      <td>5.787470e-20</td>\n",
       "      <td>6.679270e-20</td>\n",
       "      <td>...</td>\n",
       "      <td>4.715680e-20</td>\n",
       "      <td>4.090920e-20</td>\n",
       "      <td>3.669250e-20</td>\n",
       "      <td>3.285890e-20</td>\n",
       "      <td>2.978800e-20</td>\n",
       "      <td>2.613140e-20</td>\n",
       "      <td>2.321340e-20</td>\n",
       "      <td>2.057410e-20</td>\n",
       "      <td>1.819490e-20</td>\n",
       "      <td>24.101976</td>\n",
       "    </tr>\n",
       "    <tr>\n",
       "      <th>10002</th>\n",
       "      <td>9.181220e-27</td>\n",
       "      <td>5.551350e-26</td>\n",
       "      <td>1.057870e-25</td>\n",
       "      <td>3.346030e-25</td>\n",
       "      <td>4.677530e-25</td>\n",
       "      <td>1.343880e-24</td>\n",
       "      <td>1.993240e-24</td>\n",
       "      <td>7.028270e-24</td>\n",
       "      <td>2.216480e-23</td>\n",
       "      <td>2.119000e-23</td>\n",
       "      <td>...</td>\n",
       "      <td>7.416790e-22</td>\n",
       "      <td>7.119830e-22</td>\n",
       "      <td>6.814410e-22</td>\n",
       "      <td>6.657160e-22</td>\n",
       "      <td>6.751200e-22</td>\n",
       "      <td>6.319180e-22</td>\n",
       "      <td>5.637010e-22</td>\n",
       "      <td>4.956810e-22</td>\n",
       "      <td>4.294490e-22</td>\n",
       "      <td>46.578291</td>\n",
       "    </tr>\n",
       "  </tbody>\n",
       "</table>\n",
       "<p>10003 rows × 45 columns</p>\n",
       "</div>"
      ],
      "text/plain": [
       "                  0           100           200           300           400  \\\n",
       "0      3.270300e-24  2.797980e-23  5.788000e-23  4.152850e-23  6.428990e-23   \n",
       "1      1.302670e-20  1.851370e-20  2.557760e-20  3.438380e-20  4.503860e-20   \n",
       "2      6.263220e-21  8.902270e-21  1.230020e-20  1.653650e-20  2.166280e-20   \n",
       "3      1.304900e-22  1.211800e-21  2.724130e-21  2.126440e-21  3.585310e-21   \n",
       "4      1.306080e-23  1.098660e-22  2.236460e-22  1.580330e-22  2.411370e-22   \n",
       "...             ...           ...           ...           ...           ...   \n",
       "9998   1.265260e-25  7.181660e-25  1.288790e-24  3.850990e-24  5.100750e-24   \n",
       "9999   7.476030e-23  6.237630e-22  1.259950e-21  8.837990e-22  1.339180e-21   \n",
       "10000  2.180460e-21  3.016750e-21  4.062940e-21  5.331340e-21  6.825140e-21   \n",
       "10001  8.456250e-21  1.172940e-20  1.583550e-20  2.082690e-20  2.672060e-20   \n",
       "10002  9.181220e-27  5.551350e-26  1.057870e-25  3.346030e-25  4.677530e-25   \n",
       "\n",
       "                500           600           700           800           900  \\\n",
       "0      6.925630e-23  1.641320e-22  4.511330e-22  1.007220e-21  6.963450e-22   \n",
       "1      5.756180e-20  7.187130e-20  8.777570e-20  1.049030e-19  1.230050e-19   \n",
       "2      2.768860e-20  3.457460e-20  4.222890e-20  5.047290e-20  5.919030e-20   \n",
       "3      4.210770e-21  1.051910e-20  2.842650e-20  6.245780e-20  4.252430e-20   \n",
       "4      2.562230e-22  5.993740e-22  1.627210e-21  3.590830e-21  2.454990e-21   \n",
       "...             ...           ...           ...           ...           ...   \n",
       "9998   1.392340e-23  1.967200e-23  6.624040e-23  2.000040e-22  1.834480e-22   \n",
       "9999   1.413580e-21  3.286060e-21  8.868260e-21  1.946030e-20  1.323400e-20   \n",
       "10000  8.535340e-21  1.043980e-20  1.250340e-20  1.467030e-20  1.690270e-20   \n",
       "10001  3.348530e-20  4.103700e-20  4.924010e-20  5.787470e-20  6.679270e-20   \n",
       "10002  1.343880e-24  1.993240e-24  7.028270e-24  2.216480e-23  2.119000e-23   \n",
       "\n",
       "       ...          3500          3600          3700          3800  \\\n",
       "0      ...  3.130560e-21  2.913060e-21  2.663360e-21  2.502410e-21   \n",
       "1      ...  1.026340e-19  9.251980e-20  8.331830e-20  7.480780e-20   \n",
       "2      ...  7.685140e-20  4.637270e-20  4.012720e-20  3.648990e-20   \n",
       "3      ...  1.577820e-19  1.451620e-19  1.324000e-19  1.240660e-19   \n",
       "4      ...  9.528960e-21  8.854150e-21  8.081850e-21  7.578690e-21   \n",
       "...    ...           ...           ...           ...           ...   \n",
       "9998   ...  1.091270e-20  3.566290e-21  3.330540e-21  3.235400e-21   \n",
       "9999   ...  6.284650e-20  4.930320e-20  4.053810e-20  4.116620e-20   \n",
       "10000  ...  1.123200e-20  1.011710e-20  9.084100e-21  8.132810e-21   \n",
       "10001  ...  4.715680e-20  4.090920e-20  3.669250e-20  3.285890e-20   \n",
       "10002  ...  7.416790e-22  7.119830e-22  6.814410e-22  6.657160e-22   \n",
       "\n",
       "               3900          4000          4100          4200          4300  \\\n",
       "0      2.393560e-21  2.121450e-21  1.888420e-21  1.644270e-21  1.438280e-21   \n",
       "1      6.725440e-20  5.976220e-20  5.319970e-20  4.724270e-20  4.185580e-20   \n",
       "2      4.757080e-20  2.885350e-20  2.562270e-20  2.275380e-20  2.015930e-20   \n",
       "3      1.183000e-19  1.047000e-19  9.301080e-20  8.082490e-20  7.057140e-20   \n",
       "4      7.232840e-21  6.403730e-21  5.691880e-21  4.948660e-21  4.323090e-21   \n",
       "...             ...           ...           ...           ...           ...   \n",
       "9998   4.180540e-21  3.031140e-21  2.682230e-21  2.344640e-21  2.020180e-21   \n",
       "9999   4.633390e-20  3.314400e-20  2.846350e-20  2.485570e-20  2.167810e-20   \n",
       "10000  7.260940e-21  6.464500e-21  5.741490e-21  5.087660e-21  4.498460e-21   \n",
       "10001  2.978800e-20  2.613140e-20  2.321340e-20  2.057410e-20  1.819490e-20   \n",
       "10002  6.751200e-22  6.319180e-22  5.637010e-22  4.956810e-22  4.294490e-22   \n",
       "\n",
       "             CO2  \n",
       "0      36.356334  \n",
       "1      19.883195  \n",
       "2      33.018416  \n",
       "3      22.928300  \n",
       "4      19.788123  \n",
       "...          ...  \n",
       "9998   34.743236  \n",
       "9999   18.019818  \n",
       "10000  22.544682  \n",
       "10001  24.101976  \n",
       "10002  46.578291  \n",
       "\n",
       "[10003 rows x 45 columns]"
      ]
     },
     "execution_count": 767,
     "metadata": {},
     "output_type": "execute_result"
    }
   ],
   "source": [
    "testFeatures"
   ]
  },
  {
   "cell_type": "code",
   "execution_count": 769,
   "id": "231a7edc",
   "metadata": {},
   "outputs": [],
   "source": [
    "x_final = testFeatures.iloc[:,:-1]\n",
    "y_final = testFeatures.iloc[:,-1:]"
   ]
  },
  {
   "cell_type": "code",
   "execution_count": 772,
   "id": "48df3552",
   "metadata": {},
   "outputs": [],
   "source": [
    "x_scaled = scaler.transform(x_final)\n",
    "y_scaled = y_scaler.transform(y_final)"
   ]
  },
  {
   "cell_type": "code",
   "execution_count": 774,
   "id": "d2fab6d9",
   "metadata": {},
   "outputs": [],
   "source": [
    "x_scaled = np.expand_dims(x_scaled,2)"
   ]
  },
  {
   "cell_type": "code",
   "execution_count": 775,
   "id": "a49ca4f5",
   "metadata": {},
   "outputs": [],
   "source": [
    "y_predict = cnn.predict(x_scaled)"
   ]
  },
  {
   "cell_type": "code",
   "execution_count": 777,
   "id": "006faef3",
   "metadata": {},
   "outputs": [],
   "source": [
    "exoPred_df = pd.DataFrame(y_predict, columns = [0])\n",
    "ypred_df = pd.DataFrame(y_scaled, columns = [0])"
   ]
  },
  {
   "cell_type": "code",
   "execution_count": 778,
   "id": "551c72c1",
   "metadata": {},
   "outputs": [
    {
     "data": {
      "text/plain": [
       "[<matplotlib.lines.Line2D at 0x1ecb1a08f10>]"
      ]
     },
     "execution_count": 778,
     "metadata": {},
     "output_type": "execute_result"
    },
    {
     "data": {
      "image/png": "[encoded data removed]",
      "text/plain": [
       "<Figure size 432x288 with 1 Axes>"
      ]
     },
     "metadata": {},
     "output_type": "display_data"
    }
   ],
   "source": [
    "yyy = [-20,20] # This is just defining y = x\n",
    "plt.title('CO2')\n",
    "plt.ylabel('Predictions')\n",
    "plt.xlabel('True')\n",
    "plt.xlim([-2.2,2.2])\n",
    "plt.ylim([-2.2,2.2])\n",
    "plt.scatter(ypred_df.iloc[:,:],exoPred_df.iloc[:,:])\n",
    "plt.plot(yyy,yyy,'r')"
   ]
  },
  {
   "cell_type": "code",
   "execution_count": null,
   "id": "58eed8d9",
   "metadata": {},
   "outputs": [],
   "source": []
  },
  {
   "cell_type": "code",
   "execution_count": null,
   "id": "fa7903f3",
   "metadata": {},
   "outputs": [],
   "source": []
  },
  {
   "cell_type": "code",
   "execution_count": null,
   "id": "d62636d5",
   "metadata": {},
   "outputs": [],
   "source": [
    "#GMM Modelling to add ranges"
   ]
  },
  {
   "cell_type": "code",
   "execution_count": null,
   "id": "e99004c5",
   "metadata": {},
   "outputs": [],
   "source": []
  },
  {
   "cell_type": "code",
   "execution_count": 701,
   "id": "a3854923",
   "metadata": {},
   "outputs": [],
   "source": [
    "from sklearn import mixture\n",
    "gmm = mixture.GaussianMixture(n_components=5, covariance_type='full')\n",
    "gmm.fit(df)\n",
    "labels = gmm.predict(df)"
   ]
  },
  {
   "cell_type": "code",
   "execution_count": 702,
   "id": "ac8612d0",
   "metadata": {},
   "outputs": [
    {
     "name": "stderr",
     "output_type": "stream",
     "text": [
      "<ipython-input-702-155048fe00fe>:1: SettingWithCopyWarning: \n",
      "A value is trying to be set on a copy of a slice from a DataFrame.\n",
      "Try using .loc[row_indexer,col_indexer] = value instead\n",
      "\n",
      "See the caveats in the documentation: https://pandas.pydata.org/pandas-docs/stable/user_guide/indexing.html#returning-a-view-versus-a-copy\n",
      "  df['cluster'] = labels\n"
     ]
    }
   ],
   "source": [
    "df['cluster'] = labels"
   ]
  },
  {
   "cell_type": "code",
   "execution_count": 703,
   "id": "939e009d",
   "metadata": {},
   "outputs": [],
   "source": [
    "summary = df.groupby(['cluster']).mean().reset_index().sort_values(by='CO2',ascending=False)"
   ]
  },
  {
   "cell_type": "code",
   "execution_count": 704,
   "id": "9bde7595",
   "metadata": {},
   "outputs": [
    {
     "data": {
      "text/html": [
       "<div>\n",
       "<style scoped>\n",
       "    .dataframe tbody tr th:only-of-type {\n",
       "        vertical-align: middle;\n",
       "    }\n",
       "\n",
       "    .dataframe tbody tr th {\n",
       "        vertical-align: top;\n",
       "    }\n",
       "\n",
       "    .dataframe thead th {\n",
       "        text-align: right;\n",
       "    }\n",
       "</style>\n",
       "<table border=\"1\" class=\"dataframe\">\n",
       "  <thead>\n",
       "    <tr style=\"text-align: right;\">\n",
       "      <th></th>\n",
       "      <th>cluster</th>\n",
       "      <th>0</th>\n",
       "      <th>100</th>\n",
       "      <th>200</th>\n",
       "      <th>300</th>\n",
       "      <th>400</th>\n",
       "      <th>500</th>\n",
       "      <th>600</th>\n",
       "      <th>700</th>\n",
       "      <th>800</th>\n",
       "      <th>...</th>\n",
       "      <th>3500</th>\n",
       "      <th>3600</th>\n",
       "      <th>3700</th>\n",
       "      <th>3800</th>\n",
       "      <th>3900</th>\n",
       "      <th>4000</th>\n",
       "      <th>4100</th>\n",
       "      <th>4200</th>\n",
       "      <th>4300</th>\n",
       "      <th>CO2</th>\n",
       "    </tr>\n",
       "  </thead>\n",
       "  <tbody>\n",
       "    <tr>\n",
       "      <th>2</th>\n",
       "      <td>2</td>\n",
       "      <td>2.023206e-21</td>\n",
       "      <td>2.512024e-21</td>\n",
       "      <td>8.355780e-21</td>\n",
       "      <td>3.659486e-21</td>\n",
       "      <td>1.673239e-20</td>\n",
       "      <td>2.915355e-21</td>\n",
       "      <td>4.900624e-21</td>\n",
       "      <td>1.285171e-20</td>\n",
       "      <td>1.864552e-20</td>\n",
       "      <td>...</td>\n",
       "      <td>2.672641e-20</td>\n",
       "      <td>2.046823e-20</td>\n",
       "      <td>1.923029e-20</td>\n",
       "      <td>2.168602e-20</td>\n",
       "      <td>3.388706e-20</td>\n",
       "      <td>1.502495e-20</td>\n",
       "      <td>1.286769e-20</td>\n",
       "      <td>2.254106e-20</td>\n",
       "      <td>1.725936e-20</td>\n",
       "      <td>62.577221</td>\n",
       "    </tr>\n",
       "    <tr>\n",
       "      <th>0</th>\n",
       "      <td>0</td>\n",
       "      <td>2.029345e-21</td>\n",
       "      <td>2.521789e-21</td>\n",
       "      <td>8.381618e-21</td>\n",
       "      <td>3.660581e-21</td>\n",
       "      <td>1.675506e-20</td>\n",
       "      <td>2.912323e-21</td>\n",
       "      <td>4.898911e-21</td>\n",
       "      <td>1.279665e-20</td>\n",
       "      <td>1.852922e-20</td>\n",
       "      <td>...</td>\n",
       "      <td>2.621676e-20</td>\n",
       "      <td>2.022446e-20</td>\n",
       "      <td>1.902625e-20</td>\n",
       "      <td>2.147379e-20</td>\n",
       "      <td>3.339600e-20</td>\n",
       "      <td>1.487402e-20</td>\n",
       "      <td>1.272203e-20</td>\n",
       "      <td>2.230963e-20</td>\n",
       "      <td>1.709417e-20</td>\n",
       "      <td>46.883741</td>\n",
       "    </tr>\n",
       "    <tr>\n",
       "      <th>3</th>\n",
       "      <td>3</td>\n",
       "      <td>2.085716e-21</td>\n",
       "      <td>2.582880e-21</td>\n",
       "      <td>8.641456e-21</td>\n",
       "      <td>3.736768e-21</td>\n",
       "      <td>1.720218e-20</td>\n",
       "      <td>2.943064e-21</td>\n",
       "      <td>4.949748e-21</td>\n",
       "      <td>1.298901e-20</td>\n",
       "      <td>1.877641e-20</td>\n",
       "      <td>...</td>\n",
       "      <td>2.514434e-20</td>\n",
       "      <td>1.981749e-20</td>\n",
       "      <td>1.866706e-20</td>\n",
       "      <td>2.103209e-20</td>\n",
       "      <td>3.251731e-20</td>\n",
       "      <td>1.456732e-20</td>\n",
       "      <td>1.244218e-20</td>\n",
       "      <td>2.184561e-20</td>\n",
       "      <td>1.672939e-20</td>\n",
       "      <td>16.214671</td>\n",
       "    </tr>\n",
       "    <tr>\n",
       "      <th>1</th>\n",
       "      <td>1</td>\n",
       "      <td>1.999427e-21</td>\n",
       "      <td>2.475130e-21</td>\n",
       "      <td>8.285795e-21</td>\n",
       "      <td>3.571236e-21</td>\n",
       "      <td>1.648958e-20</td>\n",
       "      <td>2.814749e-21</td>\n",
       "      <td>4.729399e-21</td>\n",
       "      <td>1.240633e-20</td>\n",
       "      <td>1.795770e-20</td>\n",
       "      <td>...</td>\n",
       "      <td>2.422216e-20</td>\n",
       "      <td>1.914029e-20</td>\n",
       "      <td>1.812362e-20</td>\n",
       "      <td>2.039923e-20</td>\n",
       "      <td>3.129451e-20</td>\n",
       "      <td>1.413298e-20</td>\n",
       "      <td>1.210331e-20</td>\n",
       "      <td>2.124853e-20</td>\n",
       "      <td>1.627319e-20</td>\n",
       "      <td>8.245392</td>\n",
       "    </tr>\n",
       "  </tbody>\n",
       "</table>\n",
       "<p>4 rows × 46 columns</p>\n",
       "</div>"
      ],
      "text/plain": [
       "   cluster             0           100           200           300  \\\n",
       "2        2  2.023206e-21  2.512024e-21  8.355780e-21  3.659486e-21   \n",
       "0        0  2.029345e-21  2.521789e-21  8.381618e-21  3.660581e-21   \n",
       "3        3  2.085716e-21  2.582880e-21  8.641456e-21  3.736768e-21   \n",
       "1        1  1.999427e-21  2.475130e-21  8.285795e-21  3.571236e-21   \n",
       "\n",
       "            400           500           600           700           800  ...  \\\n",
       "2  1.673239e-20  2.915355e-21  4.900624e-21  1.285171e-20  1.864552e-20  ...   \n",
       "0  1.675506e-20  2.912323e-21  4.898911e-21  1.279665e-20  1.852922e-20  ...   \n",
       "3  1.720218e-20  2.943064e-21  4.949748e-21  1.298901e-20  1.877641e-20  ...   \n",
       "1  1.648958e-20  2.814749e-21  4.729399e-21  1.240633e-20  1.795770e-20  ...   \n",
       "\n",
       "           3500          3600          3700          3800          3900  \\\n",
       "2  2.672641e-20  2.046823e-20  1.923029e-20  2.168602e-20  3.388706e-20   \n",
       "0  2.621676e-20  2.022446e-20  1.902625e-20  2.147379e-20  3.339600e-20   \n",
       "3  2.514434e-20  1.981749e-20  1.866706e-20  2.103209e-20  3.251731e-20   \n",
       "1  2.422216e-20  1.914029e-20  1.812362e-20  2.039923e-20  3.129451e-20   \n",
       "\n",
       "           4000          4100          4200          4300        CO2  \n",
       "2  1.502495e-20  1.286769e-20  2.254106e-20  1.725936e-20  62.577221  \n",
       "0  1.487402e-20  1.272203e-20  2.230963e-20  1.709417e-20  46.883741  \n",
       "3  1.456732e-20  1.244218e-20  2.184561e-20  1.672939e-20  16.214671  \n",
       "1  1.413298e-20  1.210331e-20  2.124853e-20  1.627319e-20   8.245392  \n",
       "\n",
       "[4 rows x 46 columns]"
      ]
     },
     "execution_count": 704,
     "metadata": {},
     "output_type": "execute_result"
    }
   ],
   "source": [
    "summary"
   ]
  },
  {
   "cell_type": "code",
   "execution_count": 707,
   "id": "161190ee",
   "metadata": {},
   "outputs": [
    {
     "data": {
      "image/png": "[encoded data removed]",
      "text/plain": [
       "<Figure size 432x288 with 1 Axes>"
      ]
     },
     "metadata": {},
     "output_type": "display_data"
    }
   ],
   "source": [
    "plt.plot(summary.iloc[3,1:-1])\n",
    "plt.show()"
   ]
  }
 ],
 "metadata": {
  "kernelspec": {
   "display_name": "Python 3",
   "language": "python",
   "name": "python3"
  },
  "language_info": {
   "codemirror_mode": {
    "name": "ipython",
    "version": 3
   },
   "file_extension": ".py",
   "mimetype": "text/x-python",
   "name": "python",
   "nbconvert_exporter": "python",
   "pygments_lexer": "ipython3",
   "version": "3.8.8"
  }
 },
 "nbformat": 4,
 "nbformat_minor": 5
}
